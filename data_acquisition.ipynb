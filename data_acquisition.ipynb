{
 "cells": [
  {
   "cell_type": "code",
   "execution_count": 1,
   "id": "9c8e651b",
   "metadata": {},
   "outputs": [],
   "source": [
    "import pandas as pd\n",
    "import geopandas as gpd\n",
    "import shapely\n",
    "import ee, geemap\n",
    "import json"
   ]
  },
  {
   "cell_type": "code",
   "execution_count": 2,
   "id": "1e1357df",
   "metadata": {},
   "outputs": [
    {
     "data": {
      "text/html": [
       "\n",
       "            <style>\n",
       "                .geemap-dark {\n",
       "                    --jp-widgets-color: white;\n",
       "                    --jp-widgets-label-color: white;\n",
       "                    --jp-ui-font-color1: white;\n",
       "                    --jp-layout-color2: #454545;\n",
       "                    background-color: #383838;\n",
       "                }\n",
       "\n",
       "                .geemap-dark .jupyter-button {\n",
       "                    --jp-layout-color3: #383838;\n",
       "                }\n",
       "\n",
       "                .geemap-colab {\n",
       "                    background-color: var(--colab-primary-surface-color, white);\n",
       "                }\n",
       "\n",
       "                .geemap-colab .jupyter-button {\n",
       "                    --jp-layout-color3: var(--colab-primary-surface-color, white);\n",
       "                }\n",
       "            </style>\n",
       "            "
      ],
      "text/plain": [
       "<IPython.core.display.HTML object>"
      ]
     },
     "metadata": {},
     "output_type": "display_data"
    }
   ],
   "source": [
    "ee.Authenticate()\n",
    "ee.Initialize()"
   ]
  },
  {
   "cell_type": "code",
   "execution_count": 3,
   "id": "9af015c5",
   "metadata": {},
   "outputs": [
    {
     "data": {
      "text/html": [
       "\n",
       "            <style>\n",
       "                .geemap-dark {\n",
       "                    --jp-widgets-color: white;\n",
       "                    --jp-widgets-label-color: white;\n",
       "                    --jp-ui-font-color1: white;\n",
       "                    --jp-layout-color2: #454545;\n",
       "                    background-color: #383838;\n",
       "                }\n",
       "\n",
       "                .geemap-dark .jupyter-button {\n",
       "                    --jp-layout-color3: #383838;\n",
       "                }\n",
       "\n",
       "                .geemap-colab {\n",
       "                    background-color: var(--colab-primary-surface-color, white);\n",
       "                }\n",
       "\n",
       "                .geemap-colab .jupyter-button {\n",
       "                    --jp-layout-color3: var(--colab-primary-surface-color, white);\n",
       "                }\n",
       "            </style>\n",
       "            "
      ],
      "text/plain": [
       "<IPython.core.display.HTML object>"
      ]
     },
     "metadata": {},
     "output_type": "display_data"
    }
   ],
   "source": [
    "# Parameters for data acquisition\n",
    "CLOUD_THRESHOLD = 20\n",
    "PRE_FIRE_DAYS = 60  # Days before fire to include\n",
    "POST_FIRE_DAYS = 30  # Days after containment to include\n",
    "\n",
    "\n",
    "# Parameters for export\n",
    "TARGET_PIXELS = 224\n",
    "SCALE = 20  # Meters per pixel\n",
    "# Approximate meters per degree at equator\n",
    "# We prefer to large image for cropping\n",
    "METERS_PER_DEGREE = 111320 "
   ]
  },
  {
   "cell_type": "code",
   "execution_count": 4,
   "id": "461dbce2",
   "metadata": {},
   "outputs": [
    {
     "data": {
      "text/html": [
       "\n",
       "            <style>\n",
       "                .geemap-dark {\n",
       "                    --jp-widgets-color: white;\n",
       "                    --jp-widgets-label-color: white;\n",
       "                    --jp-ui-font-color1: white;\n",
       "                    --jp-layout-color2: #454545;\n",
       "                    background-color: #383838;\n",
       "                }\n",
       "\n",
       "                .geemap-dark .jupyter-button {\n",
       "                    --jp-layout-color3: #383838;\n",
       "                }\n",
       "\n",
       "                .geemap-colab {\n",
       "                    background-color: var(--colab-primary-surface-color, white);\n",
       "                }\n",
       "\n",
       "                .geemap-colab .jupyter-button {\n",
       "                    --jp-layout-color3: var(--colab-primary-surface-color, white);\n",
       "                }\n",
       "            </style>\n",
       "            "
      ],
      "text/plain": [
       "<IPython.core.display.HTML object>"
      ]
     },
     "metadata": {},
     "output_type": "display_data"
    }
   ],
   "source": [
    "in_file = f\"../data/California_Historic_Fire_Perimeters.geojson\""
   ]
  },
  {
   "cell_type": "code",
   "execution_count": 5,
   "id": "3413f545",
   "metadata": {},
   "outputs": [
    {
     "data": {
      "text/html": [
       "\n",
       "            <style>\n",
       "                .geemap-dark {\n",
       "                    --jp-widgets-color: white;\n",
       "                    --jp-widgets-label-color: white;\n",
       "                    --jp-ui-font-color1: white;\n",
       "                    --jp-layout-color2: #454545;\n",
       "                    background-color: #383838;\n",
       "                }\n",
       "\n",
       "                .geemap-dark .jupyter-button {\n",
       "                    --jp-layout-color3: #383838;\n",
       "                }\n",
       "\n",
       "                .geemap-colab {\n",
       "                    background-color: var(--colab-primary-surface-color, white);\n",
       "                }\n",
       "\n",
       "                .geemap-colab .jupyter-button {\n",
       "                    --jp-layout-color3: var(--colab-primary-surface-color, white);\n",
       "                }\n",
       "            </style>\n",
       "            "
      ],
      "text/plain": [
       "<IPython.core.display.HTML object>"
      ]
     },
     "metadata": {},
     "output_type": "display_data"
    }
   ],
   "source": [
    "fire_gdf = gpd.read_file(in_file)"
   ]
  },
  {
   "cell_type": "code",
   "execution_count": 6,
   "id": "4fc0c085",
   "metadata": {},
   "outputs": [
    {
     "data": {
      "text/html": [
       "\n",
       "            <style>\n",
       "                .geemap-dark {\n",
       "                    --jp-widgets-color: white;\n",
       "                    --jp-widgets-label-color: white;\n",
       "                    --jp-ui-font-color1: white;\n",
       "                    --jp-layout-color2: #454545;\n",
       "                    background-color: #383838;\n",
       "                }\n",
       "\n",
       "                .geemap-dark .jupyter-button {\n",
       "                    --jp-layout-color3: #383838;\n",
       "                }\n",
       "\n",
       "                .geemap-colab {\n",
       "                    background-color: var(--colab-primary-surface-color, white);\n",
       "                }\n",
       "\n",
       "                .geemap-colab .jupyter-button {\n",
       "                    --jp-layout-color3: var(--colab-primary-surface-color, white);\n",
       "                }\n",
       "            </style>\n",
       "            "
      ],
      "text/plain": [
       "<IPython.core.display.HTML object>"
      ]
     },
     "metadata": {},
     "output_type": "display_data"
    }
   ],
   "source": [
    "fire_df = pd.DataFrame(fire_gdf)\n",
    "fire_df[\"ALARM_DATE_ISO\"] = pd.to_datetime(fire_df.ALARM_DATE, format='%a, %d %b %Y %H:%M:%S %Z').dt.tz_convert('UTC').dt.strftime('%Y-%m-%dT%H:%M:%SZ')\n",
    "fire_df[\"CONT_DATE_ISO\"]  = pd.to_datetime(fire_df.CONT_DATE, format='%a, %d %b %Y %H:%M:%S %Z').dt.tz_convert('UTC').dt.strftime('%Y-%m-%dT%H:%M:%SZ')"
   ]
  },
  {
   "cell_type": "code",
   "execution_count": null,
   "id": "0cbb7d08",
   "metadata": {},
   "outputs": [
    {
     "data": {
      "text/html": [
       "\n",
       "            <style>\n",
       "                .geemap-dark {\n",
       "                    --jp-widgets-color: white;\n",
       "                    --jp-widgets-label-color: white;\n",
       "                    --jp-ui-font-color1: white;\n",
       "                    --jp-layout-color2: #454545;\n",
       "                    background-color: #383838;\n",
       "                }\n",
       "\n",
       "                .geemap-dark .jupyter-button {\n",
       "                    --jp-layout-color3: #383838;\n",
       "                }\n",
       "\n",
       "                .geemap-colab {\n",
       "                    background-color: var(--colab-primary-surface-color, white);\n",
       "                }\n",
       "\n",
       "                .geemap-colab .jupyter-button {\n",
       "                    --jp-layout-color3: var(--colab-primary-surface-color, white);\n",
       "                }\n",
       "            </style>\n",
       "            "
      ],
      "text/plain": [
       "<IPython.core.display.HTML object>"
      ]
     },
     "metadata": {},
     "output_type": "display_data"
    }
   ],
   "source": [
    "major_fires = fire_df[\n",
    "    (fire_df.GIS_ACRES < 10000) &\n",
    "    (fire_df.DECADES == \"2020-January 2025\") &\n",
    "    (fire_df.YEAR_ > 2020.0)\n",
    "    ].sort_values('GIS_ACRES', ascending=False)"
   ]
  },
  {
   "cell_type": "code",
   "execution_count": 10,
   "id": "29a48caa",
   "metadata": {},
   "outputs": [
    {
     "data": {
      "text/html": [
       "\n",
       "            <style>\n",
       "                .geemap-dark {\n",
       "                    --jp-widgets-color: white;\n",
       "                    --jp-widgets-label-color: white;\n",
       "                    --jp-ui-font-color1: white;\n",
       "                    --jp-layout-color2: #454545;\n",
       "                    background-color: #383838;\n",
       "                }\n",
       "\n",
       "                .geemap-dark .jupyter-button {\n",
       "                    --jp-layout-color3: #383838;\n",
       "                }\n",
       "\n",
       "                .geemap-colab {\n",
       "                    background-color: var(--colab-primary-surface-color, white);\n",
       "                }\n",
       "\n",
       "                .geemap-colab .jupyter-button {\n",
       "                    --jp-layout-color3: var(--colab-primary-surface-color, white);\n",
       "                }\n",
       "            </style>\n",
       "            "
      ],
      "text/plain": [
       "<IPython.core.display.HTML object>"
      ]
     },
     "metadata": {},
     "output_type": "display_data"
    }
   ],
   "source": [
    "medium_fires = fire_df[\n",
    "    (fire_df.GIS_ACRES < 10000) & \n",
    "    (fire_df.GIS_ACRES > 1000) & \n",
    "    (fire_df.DECADES == \"2020-January 2025\") &\n",
    "    (fire_df.ALARM_DATE_ISO.notna()) &\n",
    "    (fire_df.CONT_DATE_ISO.notna()) ]"
   ]
  },
  {
   "cell_type": "code",
   "execution_count": 7,
   "id": "d5484c34",
   "metadata": {},
   "outputs": [
    {
     "data": {
      "text/html": [
       "\n",
       "            <style>\n",
       "                .geemap-dark {\n",
       "                    --jp-widgets-color: white;\n",
       "                    --jp-widgets-label-color: white;\n",
       "                    --jp-ui-font-color1: white;\n",
       "                    --jp-layout-color2: #454545;\n",
       "                    background-color: #383838;\n",
       "                }\n",
       "\n",
       "                .geemap-dark .jupyter-button {\n",
       "                    --jp-layout-color3: #383838;\n",
       "                }\n",
       "\n",
       "                .geemap-colab {\n",
       "                    background-color: var(--colab-primary-surface-color, white);\n",
       "                }\n",
       "\n",
       "                .geemap-colab .jupyter-button {\n",
       "                    --jp-layout-color3: var(--colab-primary-surface-color, white);\n",
       "                }\n",
       "            </style>\n",
       "            "
      ],
      "text/plain": [
       "<IPython.core.display.HTML object>"
      ]
     },
     "metadata": {},
     "output_type": "display_data"
    }
   ],
   "source": [
    "small_fires = fire_df[\n",
    "    (fire_df.GIS_ACRES < 1000) & \n",
    "    (fire_df.GIS_ACRES > 100) & \n",
    "    (fire_df.DECADES == \"2020-January 2025\") &\n",
    "    (fire_df.ALARM_DATE_ISO.notna()) &\n",
    "    (fire_df.CONT_DATE_ISO.notna()) ]"
   ]
  },
  {
   "cell_type": "code",
   "execution_count": 9,
   "id": "3e035330",
   "metadata": {},
   "outputs": [
    {
     "data": {
      "text/html": [
       "\n",
       "            <style>\n",
       "                .geemap-dark {\n",
       "                    --jp-widgets-color: white;\n",
       "                    --jp-widgets-label-color: white;\n",
       "                    --jp-ui-font-color1: white;\n",
       "                    --jp-layout-color2: #454545;\n",
       "                    background-color: #383838;\n",
       "                }\n",
       "\n",
       "                .geemap-dark .jupyter-button {\n",
       "                    --jp-layout-color3: #383838;\n",
       "                }\n",
       "\n",
       "                .geemap-colab {\n",
       "                    background-color: var(--colab-primary-surface-color, white);\n",
       "                }\n",
       "\n",
       "                .geemap-colab .jupyter-button {\n",
       "                    --jp-layout-color3: var(--colab-primary-surface-color, white);\n",
       "                }\n",
       "            </style>\n",
       "            "
      ],
      "text/plain": [
       "<IPython.core.display.HTML object>"
      ]
     },
     "metadata": {},
     "output_type": "display_data"
    }
   ],
   "source": [
    "very_small_fires = fire_df[\n",
    "    (fire_df.GIS_ACRES < 100) & \n",
    "    (fire_df.GIS_ACRES > 0) & \n",
    "    (fire_df.DECADES == \"2020-January 2025\") &\n",
    "    (fire_df.ALARM_DATE_ISO.notna()) &\n",
    "    (fire_df.CONT_DATE_ISO.notna()) ]"
   ]
  },
  {
   "cell_type": "code",
   "execution_count": 12,
   "id": "f4479b09",
   "metadata": {},
   "outputs": [
    {
     "data": {
      "text/html": [
       "\n",
       "            <style>\n",
       "                .geemap-dark {\n",
       "                    --jp-widgets-color: white;\n",
       "                    --jp-widgets-label-color: white;\n",
       "                    --jp-ui-font-color1: white;\n",
       "                    --jp-layout-color2: #454545;\n",
       "                    background-color: #383838;\n",
       "                }\n",
       "\n",
       "                .geemap-dark .jupyter-button {\n",
       "                    --jp-layout-color3: #383838;\n",
       "                }\n",
       "\n",
       "                .geemap-colab {\n",
       "                    background-color: var(--colab-primary-surface-color, white);\n",
       "                }\n",
       "\n",
       "                .geemap-colab .jupyter-button {\n",
       "                    --jp-layout-color3: var(--colab-primary-surface-color, white);\n",
       "                }\n",
       "            </style>\n",
       "            "
      ],
      "text/plain": [
       "<IPython.core.display.HTML object>"
      ]
     },
     "metadata": {},
     "output_type": "display_data"
    },
    {
     "name": "stdout",
     "output_type": "stream",
     "text": [
      "<class 'pandas.core.frame.DataFrame'>\n",
      "Index: 361 entries, 3 to 1703\n",
      "Data columns (total 22 columns):\n",
      " #   Column          Non-Null Count  Dtype   \n",
      "---  ------          --------------  -----   \n",
      " 0   OBJECTID        361 non-null    int32   \n",
      " 1   YEAR_           361 non-null    float64 \n",
      " 2   STATE           361 non-null    object  \n",
      " 3   AGENCY          361 non-null    object  \n",
      " 4   UNIT_ID         361 non-null    object  \n",
      " 5   FIRE_NAME       361 non-null    object  \n",
      " 6   INC_NUM         361 non-null    object  \n",
      " 7   ALARM_DATE      361 non-null    object  \n",
      " 8   CONT_DATE       361 non-null    object  \n",
      " 9   CAUSE           361 non-null    int32   \n",
      " 10  C_METHOD        361 non-null    float64 \n",
      " 11  OBJECTIVE       356 non-null    float64 \n",
      " 12  GIS_ACRES       361 non-null    float64 \n",
      " 13  COMMENTS        69 non-null     object  \n",
      " 14  COMPLEX_NAME    13 non-null     object  \n",
      " 15  IRWINID         345 non-null    object  \n",
      " 16  FIRE_NUM        0 non-null      object  \n",
      " 17  COMPLEX_ID      13 non-null     object  \n",
      " 18  DECADES         361 non-null    object  \n",
      " 19  geometry        361 non-null    geometry\n",
      " 20  ALARM_DATE_ISO  361 non-null    object  \n",
      " 21  CONT_DATE_ISO   361 non-null    object  \n",
      "dtypes: float64(4), geometry(1), int32(2), object(15)\n",
      "memory usage: 62.0+ KB\n"
     ]
    }
   ],
   "source": [
    "small_fires.info()"
   ]
  },
  {
   "cell_type": "code",
   "execution_count": 8,
   "id": "e4bad822",
   "metadata": {},
   "outputs": [
    {
     "data": {
      "text/html": [
       "\n",
       "            <style>\n",
       "                .geemap-dark {\n",
       "                    --jp-widgets-color: white;\n",
       "                    --jp-widgets-label-color: white;\n",
       "                    --jp-ui-font-color1: white;\n",
       "                    --jp-layout-color2: #454545;\n",
       "                    background-color: #383838;\n",
       "                }\n",
       "\n",
       "                .geemap-dark .jupyter-button {\n",
       "                    --jp-layout-color3: #383838;\n",
       "                }\n",
       "\n",
       "                .geemap-colab {\n",
       "                    background-color: var(--colab-primary-surface-color, white);\n",
       "                }\n",
       "\n",
       "                .geemap-colab .jupyter-button {\n",
       "                    --jp-layout-color3: var(--colab-primary-surface-color, white);\n",
       "                }\n",
       "            </style>\n",
       "            "
      ],
      "text/plain": [
       "<IPython.core.display.HTML object>"
      ]
     },
     "metadata": {},
     "output_type": "display_data"
    },
    {
     "name": "stdout",
     "output_type": "stream",
     "text": [
      "<class 'pandas.core.frame.DataFrame'>\n",
      "Index: 133 entries, 25 to 1606\n",
      "Data columns (total 22 columns):\n",
      " #   Column          Non-Null Count  Dtype   \n",
      "---  ------          --------------  -----   \n",
      " 0   OBJECTID        133 non-null    int32   \n",
      " 1   YEAR_           133 non-null    float64 \n",
      " 2   STATE           133 non-null    object  \n",
      " 3   AGENCY          133 non-null    object  \n",
      " 4   UNIT_ID         133 non-null    object  \n",
      " 5   FIRE_NAME       133 non-null    object  \n",
      " 6   INC_NUM         133 non-null    object  \n",
      " 7   ALARM_DATE      133 non-null    object  \n",
      " 8   CONT_DATE       133 non-null    object  \n",
      " 9   CAUSE           133 non-null    int32   \n",
      " 10  C_METHOD        133 non-null    float64 \n",
      " 11  OBJECTIVE       131 non-null    float64 \n",
      " 12  GIS_ACRES       133 non-null    float64 \n",
      " 13  COMMENTS        28 non-null     object  \n",
      " 14  COMPLEX_NAME    12 non-null     object  \n",
      " 15  IRWINID         131 non-null    object  \n",
      " 16  FIRE_NUM        0 non-null      object  \n",
      " 17  COMPLEX_ID      11 non-null     object  \n",
      " 18  DECADES         133 non-null    object  \n",
      " 19  geometry        133 non-null    geometry\n",
      " 20  ALARM_DATE_ISO  133 non-null    object  \n",
      " 21  CONT_DATE_ISO   133 non-null    object  \n",
      "dtypes: float64(4), geometry(1), int32(2), object(15)\n",
      "memory usage: 22.9+ KB\n"
     ]
    }
   ],
   "source": [
    "medium_fires.info()"
   ]
  },
  {
   "cell_type": "code",
   "execution_count": 21,
   "id": "bdf103f9",
   "metadata": {},
   "outputs": [
    {
     "data": {
      "text/html": [
       "\n",
       "            <style>\n",
       "                .geemap-dark {\n",
       "                    --jp-widgets-color: white;\n",
       "                    --jp-widgets-label-color: white;\n",
       "                    --jp-ui-font-color1: white;\n",
       "                    --jp-layout-color2: #454545;\n",
       "                    background-color: #383838;\n",
       "                }\n",
       "\n",
       "                .geemap-dark .jupyter-button {\n",
       "                    --jp-layout-color3: #383838;\n",
       "                }\n",
       "\n",
       "                .geemap-colab {\n",
       "                    background-color: var(--colab-primary-surface-color, white);\n",
       "                }\n",
       "\n",
       "                .geemap-colab .jupyter-button {\n",
       "                    --jp-layout-color3: var(--colab-primary-surface-color, white);\n",
       "                }\n",
       "            </style>\n",
       "            "
      ],
      "text/plain": [
       "<IPython.core.display.HTML object>"
      ]
     },
     "metadata": {},
     "output_type": "display_data"
    }
   ],
   "source": [
    "analysis_regions = []\n",
    "for idx, fire in small_fires .iterrows():\n",
    "    fire_geom = fire.geometry\n",
    "    analysis_regions.append({\n",
    "        'name': fire.FIRE_NAME,\n",
    "        'geometry': fire_geom,\n",
    "        'alarm_date': fire.ALARM_DATE_ISO,\n",
    "        'containment_date': fire.CONT_DATE_ISO,\n",
    "        'acres_burned': fire.GIS_ACRES\n",
    "    })"
   ]
  },
  {
   "cell_type": "code",
   "execution_count": 15,
   "id": "ae1d2fe4",
   "metadata": {},
   "outputs": [
    {
     "data": {
      "text/html": [
       "\n",
       "            <style>\n",
       "                .geemap-dark {\n",
       "                    --jp-widgets-color: white;\n",
       "                    --jp-widgets-label-color: white;\n",
       "                    --jp-ui-font-color1: white;\n",
       "                    --jp-layout-color2: #454545;\n",
       "                    background-color: #383838;\n",
       "                }\n",
       "\n",
       "                .geemap-dark .jupyter-button {\n",
       "                    --jp-layout-color3: #383838;\n",
       "                }\n",
       "\n",
       "                .geemap-colab {\n",
       "                    background-color: var(--colab-primary-surface-color, white);\n",
       "                }\n",
       "\n",
       "                .geemap-colab .jupyter-button {\n",
       "                    --jp-layout-color3: var(--colab-primary-surface-color, white);\n",
       "                }\n",
       "            </style>\n",
       "            "
      ],
      "text/plain": [
       "<IPython.core.display.HTML object>"
      ]
     },
     "metadata": {},
     "output_type": "display_data"
    }
   ],
   "source": [
    "region = analysis_regions[0]\n",
    "region_gdf = gpd.GeoDataFrame([region], geometry='geometry', crs='EPSG:4326')\n",
    "region_ee = geemap.geopandas_to_ee(region_gdf)\n",
    "region_geom = region_ee.geometry()"
   ]
  },
  {
   "cell_type": "code",
   "execution_count": 16,
   "id": "3205f4a0",
   "metadata": {},
   "outputs": [
    {
     "data": {
      "text/html": [
       "\n",
       "            <style>\n",
       "                .geemap-dark {\n",
       "                    --jp-widgets-color: white;\n",
       "                    --jp-widgets-label-color: white;\n",
       "                    --jp-ui-font-color1: white;\n",
       "                    --jp-layout-color2: #454545;\n",
       "                    background-color: #383838;\n",
       "                }\n",
       "\n",
       "                .geemap-dark .jupyter-button {\n",
       "                    --jp-layout-color3: #383838;\n",
       "                }\n",
       "\n",
       "                .geemap-colab {\n",
       "                    background-color: var(--colab-primary-surface-color, white);\n",
       "                }\n",
       "\n",
       "                .geemap-colab .jupyter-button {\n",
       "                    --jp-layout-color3: var(--colab-primary-surface-color, white);\n",
       "                }\n",
       "            </style>\n",
       "            "
      ],
      "text/plain": [
       "<IPython.core.display.HTML object>"
      ]
     },
     "metadata": {},
     "output_type": "display_data"
    },
    {
     "data": {
      "text/plain": [
       "[[-118.70728067382313, 34.156009687292254],\n",
       " [-118.66448187491483, 34.156009687292254],\n",
       " [-118.66448187491483, 34.19275500162451],\n",
       " [-118.70728067382313, 34.19275500162451],\n",
       " [-118.70728067382313, 34.156009687292254]]"
      ]
     },
     "execution_count": 16,
     "metadata": {},
     "output_type": "execute_result"
    }
   ],
   "source": [
    "bounds = region_geom.bounds()\n",
    "coord = bounds.coordinates().getInfo()[0]\n",
    "coord"
   ]
  },
  {
   "cell_type": "code",
   "execution_count": 22,
   "id": "83bd881f",
   "metadata": {},
   "outputs": [
    {
     "data": {
      "text/html": [
       "\n",
       "            <style>\n",
       "                .geemap-dark {\n",
       "                    --jp-widgets-color: white;\n",
       "                    --jp-widgets-label-color: white;\n",
       "                    --jp-ui-font-color1: white;\n",
       "                    --jp-layout-color2: #454545;\n",
       "                    background-color: #383838;\n",
       "                }\n",
       "\n",
       "                .geemap-dark .jupyter-button {\n",
       "                    --jp-layout-color3: #383838;\n",
       "                }\n",
       "\n",
       "                .geemap-colab {\n",
       "                    background-color: var(--colab-primary-surface-color, white);\n",
       "                }\n",
       "\n",
       "                .geemap-colab .jupyter-button {\n",
       "                    --jp-layout-color3: var(--colab-primary-surface-color, white);\n",
       "                }\n",
       "            </style>\n",
       "            "
      ],
      "text/plain": [
       "<IPython.core.display.HTML object>"
      ]
     },
     "metadata": {},
     "output_type": "display_data"
    }
   ],
   "source": [
    "def expand_region(region_geom):\n",
    "    \"\"\"Expand region bounds if smaller than target crop size in meters.\"\"\"\n",
    "    # Extract the coordinates and bounds\n",
    "    bounds = region_geom.bounds()\n",
    "    coord = bounds.coordinates().getInfo()[0]\n",
    "    xmin, ymin = coord[0]\n",
    "    xmax, ymax = coord[2]\n",
    "\n",
    "    # Compute the image size\n",
    "    width_m = (xmax - xmin) * METERS_PER_DEGREE\n",
    "    height_m = (ymax - ymin) * METERS_PER_DEGREE\n",
    "    min_size_m = SCALE * TARGET_PIXELS\n",
    "\n",
    "    # Compute padding if the export image will smaller than target\n",
    "    pad_x = max(0, (min_size_m - width_m) / METERS_PER_DEGREE / 2)\n",
    "    pad_y = max(0, (min_size_m - height_m) / METERS_PER_DEGREE / 2)\n",
    "\n",
    "    # Expand the bounds\n",
    "    new_bounds = ee.Geometry.Rectangle([xmin - pad_x, ymin - pad_y, xmax + pad_x, ymax + pad_y])\n",
    "    return new_bounds\n",
    "    "
   ]
  },
  {
   "cell_type": "code",
   "execution_count": 28,
   "id": "d2508d8a",
   "metadata": {},
   "outputs": [
    {
     "data": {
      "text/html": [
       "\n",
       "            <style>\n",
       "                .geemap-dark {\n",
       "                    --jp-widgets-color: white;\n",
       "                    --jp-widgets-label-color: white;\n",
       "                    --jp-ui-font-color1: white;\n",
       "                    --jp-layout-color2: #454545;\n",
       "                    background-color: #383838;\n",
       "                }\n",
       "\n",
       "                .geemap-dark .jupyter-button {\n",
       "                    --jp-layout-color3: #383838;\n",
       "                }\n",
       "\n",
       "                .geemap-colab {\n",
       "                    background-color: var(--colab-primary-surface-color, white);\n",
       "                }\n",
       "\n",
       "                .geemap-colab .jupyter-button {\n",
       "                    --jp-layout-color3: var(--colab-primary-surface-color, white);\n",
       "                }\n",
       "            </style>\n",
       "            "
      ],
      "text/plain": [
       "<IPython.core.display.HTML object>"
      ]
     },
     "metadata": {},
     "output_type": "display_data"
    },
    {
     "name": "stdout",
     "output_type": "stream",
     "text": [
      "Processing region: KENNETH\n",
      "Processing region: HURST\n",
      "Processing region: LIDIA\n",
      "Processing region: DOVE\n",
      "Processing region: CLEAR\n",
      "Processing region: FRENCH\n",
      "Processing region: CANAL\n",
      "Processing region: CODY\n",
      "Processing region: LISA\n",
      "Processing region: GROVE 2\n"
     ]
    }
   ],
   "source": [
    "for region in analysis_regions[:10]:\n",
    "    region_gdf = gpd.GeoDataFrame([region], geometry='geometry', crs='EPSG:4326')\n",
    "    region_ee = geemap.geopandas_to_ee(region_gdf)\n",
    "    region_geom = region_ee.geometry()\n",
    "    print(f\"Processing region: {region['name']}\")\n",
    "\n",
    "    # Calculate time window for imagery using ISO\n",
    "    pre_fire_start = ee.Date(region['alarm_date']).advance(-PRE_FIRE_DAYS, 'day')\n",
    "    post_fire_end = ee.Date(region['containment_date']).advance(POST_FIRE_DAYS, 'day')\n",
    "\n",
    "    # Get Sentinel-2 collection for this region and time period\n",
    "    expand_regions = expand_region(region_geom=region_geom)\n",
    "    collection = (\n",
    "        ee.ImageCollection('COPERNICUS/S2_SR_HARMONIZED')\n",
    "        .filterBounds(expand_regions)\n",
    "        .filterDate(pre_fire_start, post_fire_end)\n",
    "        .filter(ee.Filter.lt('CLOUDY_PIXEL_PERCENTAGE', CLOUD_THRESHOLD))\n",
    "        .select(['B2', 'B3', 'B4', 'B8', 'B11', 'B12'])\n",
    "    )\n",
    "    # Create pre-fire and post-fire composites\n",
    "    # Clip to expand regions to ensure the minimum crop size\n",
    "    pre_fire_img = collection.filterDate(pre_fire_start, ee.Date(region['alarm_date'])).median().clip(expand_regions)\n",
    "    post_fire_img = collection.filterDate(ee.Date(region['containment_date']), post_fire_end).median().clip(expand_regions)\n",
    "\n",
    "    # Calculate NBR\n",
    "    pre_fire_nbr = pre_fire_img.normalizedDifference(['B8', 'B12']).rename('NBR')\n",
    "    post_fire_nbr = post_fire_img.normalizedDifference(['B8', 'B12']).rename('NBR')\n",
    "    dnbr = pre_fire_nbr.subtract(post_fire_nbr).rename('dNBR')\n",
    "\n",
    "    # Create fire mask\n",
    "    fire_mask = ee.Image(0).byte().paint(region_geom, 1).rename(\"mask\").clip(expand_regions)\n",
    "\n",
    "    # Combine all bands into separate images for smaller exports\n",
    "    clean_name = region['name'].replace(' ', '_').replace('/', '_')\n",
    "    alarm_date_short = region['alarm_date'][:10].replace('-', '')\n",
    "\n",
    "    # Export Pre-fire image \n",
    "    pre_fire_visual = pre_fire_img.select(['B2', 'B3', 'B4', 'B8', 'B12'])  \n",
    "    task1 = ee.batch.Export.image.toDrive(\n",
    "        image=pre_fire_visual,\n",
    "        description=f'{clean_name}_{alarm_date_short}',\n",
    "        folder='pre_fire',\n",
    "        scale=20,\n",
    "        region=expand_regions,\n",
    "        maxPixels=1e10,\n",
    "        fileFormat='GeoTIFF'\n",
    "    )\n",
    "    task1.start()\n",
    "\n",
    "    # Export Post-fire image \n",
    "    post_fire_visual = post_fire_img.select(['B2', 'B3', 'B4', 'B8', 'B12'])  \n",
    "    task2 = ee.batch.Export.image.toDrive(\n",
    "        image=post_fire_visual,\n",
    "        description=f'{clean_name}_{alarm_date_short}',\n",
    "        folder='post_fire',\n",
    "        scale=20,\n",
    "        region=expand_regions,\n",
    "        maxPixels=1e10,\n",
    "        fileFormat='GeoTIFF'\n",
    "    )\n",
    "    task2.start()\n",
    "\n",
    "    # Export Fire mask\n",
    "    task3 = ee.batch.Export.image.toDrive(\n",
    "        image=fire_mask,\n",
    "        description=f'{clean_name}_{alarm_date_short}',\n",
    "        folder='masks',\n",
    "        scale=20,\n",
    "        region=expand_regions,\n",
    "        maxPixels=1e10,\n",
    "        fileFormat='GeoTIFF'\n",
    "    )\n",
    "    task3.start()\n",
    "\n",
    "    # Export 4: \n",
    "    task4 = ee.batch.Export.image.toDrive(\n",
    "        image=dnbr,\n",
    "        description=f'{clean_name}_{alarm_date_short}',\n",
    "        folder='dnbr',\n",
    "        scale=20,\n",
    "        region=expand_regions,\n",
    "        maxPixels=1e10,\n",
    "        fileFormat='GeoTIFF'\n",
    "    )\n",
    "    task4.start()"
   ]
  }
 ],
 "metadata": {
  "kernelspec": {
   "display_name": "helios_env",
   "language": "python",
   "name": "python3"
  },
  "language_info": {
   "codemirror_mode": {
    "name": "ipython",
    "version": 3
   },
   "file_extension": ".py",
   "mimetype": "text/x-python",
   "name": "python",
   "nbconvert_exporter": "python",
   "pygments_lexer": "ipython3",
   "version": "3.11.11"
  }
 },
 "nbformat": 4,
 "nbformat_minor": 5
}
