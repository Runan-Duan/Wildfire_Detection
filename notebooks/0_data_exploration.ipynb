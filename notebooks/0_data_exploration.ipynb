{
 "cells": [
  {
   "cell_type": "markdown",
   "id": "QwQOwilviy9a",
   "metadata": {
    "id": "QwQOwilviy9a"
   },
   "source": [
    "## Part 1: Datasets Exploration\n",
    "\n",
    "\n",
    "In this notebook, we will explore two types of data format for historic fire events in California: the fire perimeter from a GeoJSON file and satellite imagery from Google Earth.\n",
    "\n",
    "The main purpose of exploring the datasets is to identify important features for the fire area detection. \n",
    "We will therefore examine the data and consider how to design the dataset, select the most relevant features and choose suitable data formats for training a model to detect burned areas.\n",
    "\n",
    "The overall aim is to utilise the GeoJSON geometry as the ground truth and leverage high-resolution, multi-spectral satellite imagery as training data for our machine learning task.\n",
    "\n",
    "#### 0. Import Libraries and Packages"
   ]
  },
  {
   "cell_type": "code",
   "execution_count": null,
   "id": "fe316d16",
   "metadata": {
    "executionInfo": {
     "elapsed": 3408,
     "status": "ok",
     "timestamp": 1756909646246,
     "user": {
      "displayName": "Runan",
      "userId": "04913747045734941455"
     },
     "user_tz": -120
    },
    "id": "fe316d16"
   },
   "outputs": [],
   "source": [
    "import pandas as pd\n",
    "import geopandas as gpd\n",
    "import rasterio as rio\n",
    "import ee, geemap"
   ]
  },
  {
   "cell_type": "markdown",
   "id": "94b4835b",
   "metadata": {
    "id": "94b4835b"
   },
   "source": [
    "#### 1. Load California Fire Perimeter\n",
    "\n",
    "Our **California Fire Perimeter** dataset is provided by the California Department of Forestry and Fire Protection and covers fire events from 1950 to 2025. \n",
    "\n",
    "Each fire event is recorded in detail, including \n",
    "* Fire's name, \n",
    "* Year and state in which it occurred, \n",
    "* Date the alarm was raised,\n",
    "* Date the fire was contained,\n",
    "* Number of acres burned calculated by GIS,\n",
    "* Geometry of the burned area,\n",
    "* Cause of the fire and other attributes.\n",
    "\n",
    "\n",
    "Data Source: https://gis.data.ca.gov/datasets/CALFIRE-Forestry::california-fire-perimeters-all/explore?location=37.187645%2C-120.227660%2C5.95\n",
    "\n",
    "##### 1.1 Dataset Summary"
   ]
  },
  {
   "cell_type": "code",
   "execution_count": null,
   "id": "7a2148a7",
   "metadata": {
    "colab": {
     "base_uri": "https://localhost:8080/",
     "height": 17
    },
    "executionInfo": {
     "elapsed": 27,
     "status": "ok",
     "timestamp": 1756909651724,
     "user": {
      "displayName": "Runan",
      "userId": "04913747045734941455"
     },
     "user_tz": -120
    },
    "id": "7a2148a7",
    "outputId": "2ad6657d-043d-468d-8024-3482c914087c"
   },
   "outputs": [
    {
     "data": {
      "text/html": [
       "\n",
       "            <style>\n",
       "                .geemap-dark {\n",
       "                    --jp-widgets-color: white;\n",
       "                    --jp-widgets-label-color: white;\n",
       "                    --jp-ui-font-color1: white;\n",
       "                    --jp-layout-color2: #454545;\n",
       "                    background-color: #383838;\n",
       "                }\n",
       "\n",
       "                .geemap-dark .jupyter-button {\n",
       "                    --jp-layout-color3: #383838;\n",
       "                }\n",
       "\n",
       "                .geemap-colab {\n",
       "                    background-color: var(--colab-primary-surface-color, white);\n",
       "                }\n",
       "\n",
       "                .geemap-colab .jupyter-button {\n",
       "                    --jp-layout-color3: var(--colab-primary-surface-color, white);\n",
       "                }\n",
       "            </style>\n",
       "            "
      ],
      "text/plain": [
       "<IPython.core.display.HTML object>"
      ]
     },
     "metadata": {},
     "output_type": "display_data"
    },
    {
     "name": "stdout",
     "output_type": "stream",
     "text": [
      "<class 'geopandas.geodataframe.GeoDataFrame'>\n",
      "RangeIndex: 22810 entries, 0 to 22809\n",
      "Data columns (total 20 columns):\n",
      " #   Column        Non-Null Count  Dtype   \n",
      "---  ------        --------------  -----   \n",
      " 0   OBJECTID      22810 non-null  int32   \n",
      " 1   YEAR_         22733 non-null  float64 \n",
      " 2   STATE         22810 non-null  object  \n",
      " 3   AGENCY        22761 non-null  object  \n",
      " 4   UNIT_ID       22749 non-null  object  \n",
      " 5   FIRE_NAME     22748 non-null  object  \n",
      " 6   INC_NUM       21839 non-null  object  \n",
      " 7   ALARM_DATE    17414 non-null  object  \n",
      " 8   CONT_DATE     10180 non-null  object  \n",
      " 9   CAUSE         22810 non-null  int32   \n",
      " 10  C_METHOD      10708 non-null  float64 \n",
      " 11  OBJECTIVE     22539 non-null  float64 \n",
      " 12  GIS_ACRES     22810 non-null  float64 \n",
      " 13  COMMENTS      2835 non-null   object  \n",
      " 14  COMPLEX_NAME  611 non-null    object  \n",
      " 15  IRWINID       3736 non-null   object  \n",
      " 16  FIRE_NUM      17642 non-null  object  \n",
      " 17  COMPLEX_ID    567 non-null    object  \n",
      " 18  DECADES       22733 non-null  object  \n",
      " 19  geometry      22810 non-null  geometry\n",
      "dtypes: float64(4), geometry(1), int32(2), object(13)\n",
      "memory usage: 3.3+ MB\n"
     ]
    }
   ],
   "source": [
    "# Read GeoJSON file\n",
    "in_file = f\"../../data/California_Historic_Fire_Perimeters.geojson\"\n",
    "fire_gdf = gpd.read_file(in_file)\n",
    "fire_gdf.info()"
   ]
  },
  {
   "cell_type": "code",
   "execution_count": null,
   "id": "566e0e4c",
   "metadata": {
    "colab": {
     "base_uri": "https://localhost:8080/",
     "height": 293
    },
    "executionInfo": {
     "elapsed": 52,
     "status": "ok",
     "timestamp": 1756907995314,
     "user": {
      "displayName": "Runan",
      "userId": "04913747045734941455"
     },
     "user_tz": -120
    },
    "id": "566e0e4c",
    "outputId": "f1eb6cfe-0605-4801-f0fd-dcb8a1619b13"
   },
   "outputs": [
    {
     "data": {
      "text/html": [
       "\n",
       "            <style>\n",
       "                .geemap-dark {\n",
       "                    --jp-widgets-color: white;\n",
       "                    --jp-widgets-label-color: white;\n",
       "                    --jp-ui-font-color1: white;\n",
       "                    --jp-layout-color2: #454545;\n",
       "                    background-color: #383838;\n",
       "                }\n",
       "\n",
       "                .geemap-dark .jupyter-button {\n",
       "                    --jp-layout-color3: #383838;\n",
       "                }\n",
       "\n",
       "                .geemap-colab {\n",
       "                    background-color: var(--colab-primary-surface-color, white);\n",
       "                }\n",
       "\n",
       "                .geemap-colab .jupyter-button {\n",
       "                    --jp-layout-color3: var(--colab-primary-surface-color, white);\n",
       "                }\n",
       "            </style>\n",
       "            "
      ],
      "text/plain": [
       "<IPython.core.display.HTML object>"
      ]
     },
     "metadata": {},
     "output_type": "display_data"
    },
    {
     "data": {
      "text/html": [
       "<div>\n",
       "<style scoped>\n",
       "    .dataframe tbody tr th:only-of-type {\n",
       "        vertical-align: middle;\n",
       "    }\n",
       "\n",
       "    .dataframe tbody tr th {\n",
       "        vertical-align: top;\n",
       "    }\n",
       "\n",
       "    .dataframe thead th {\n",
       "        text-align: right;\n",
       "    }\n",
       "</style>\n",
       "<table border=\"1\" class=\"dataframe\">\n",
       "  <thead>\n",
       "    <tr style=\"text-align: right;\">\n",
       "      <th></th>\n",
       "      <th>OBJECTID</th>\n",
       "      <th>YEAR_</th>\n",
       "      <th>STATE</th>\n",
       "      <th>AGENCY</th>\n",
       "      <th>UNIT_ID</th>\n",
       "      <th>FIRE_NAME</th>\n",
       "      <th>INC_NUM</th>\n",
       "      <th>ALARM_DATE</th>\n",
       "      <th>CONT_DATE</th>\n",
       "      <th>CAUSE</th>\n",
       "      <th>C_METHOD</th>\n",
       "      <th>OBJECTIVE</th>\n",
       "      <th>GIS_ACRES</th>\n",
       "      <th>COMMENTS</th>\n",
       "      <th>COMPLEX_NAME</th>\n",
       "      <th>IRWINID</th>\n",
       "      <th>FIRE_NUM</th>\n",
       "      <th>COMPLEX_ID</th>\n",
       "      <th>DECADES</th>\n",
       "      <th>geometry</th>\n",
       "    </tr>\n",
       "  </thead>\n",
       "  <tbody>\n",
       "    <tr>\n",
       "      <th>0</th>\n",
       "      <td>1</td>\n",
       "      <td>2025.0</td>\n",
       "      <td>CA</td>\n",
       "      <td>CDF</td>\n",
       "      <td>LDF</td>\n",
       "      <td>PALISADES</td>\n",
       "      <td>00000738</td>\n",
       "      <td>Tue, 07 Jan 2025 08:00:00 GMT</td>\n",
       "      <td>Fri, 31 Jan 2025 08:00:00 GMT</td>\n",
       "      <td>14</td>\n",
       "      <td>7.0</td>\n",
       "      <td>1.0</td>\n",
       "      <td>23448.8800</td>\n",
       "      <td>None</td>\n",
       "      <td>None</td>\n",
       "      <td>{A7EA5D21-F882-44B8-BF64-44AB11059DC1}</td>\n",
       "      <td>None</td>\n",
       "      <td>None</td>\n",
       "      <td>2020-January 2025</td>\n",
       "      <td>MULTIPOLYGON (((-118.51975 34.02997, -118.5198...</td>\n",
       "    </tr>\n",
       "    <tr>\n",
       "      <th>1</th>\n",
       "      <td>2</td>\n",
       "      <td>2025.0</td>\n",
       "      <td>CA</td>\n",
       "      <td>CDF</td>\n",
       "      <td>LAC</td>\n",
       "      <td>EATON</td>\n",
       "      <td>00009087</td>\n",
       "      <td>Wed, 08 Jan 2025 08:00:00 GMT</td>\n",
       "      <td>Fri, 31 Jan 2025 08:00:00 GMT</td>\n",
       "      <td>14</td>\n",
       "      <td>7.0</td>\n",
       "      <td>1.0</td>\n",
       "      <td>14056.2600</td>\n",
       "      <td>None</td>\n",
       "      <td>None</td>\n",
       "      <td>{72660ADC-B5EF-4D96-A33F-B4EA3740A4E3}</td>\n",
       "      <td>None</td>\n",
       "      <td>None</td>\n",
       "      <td>2020-January 2025</td>\n",
       "      <td>MULTIPOLYGON (((-118.10094 34.16681, -118.1009...</td>\n",
       "    </tr>\n",
       "    <tr>\n",
       "      <th>2</th>\n",
       "      <td>3</td>\n",
       "      <td>2025.0</td>\n",
       "      <td>CA</td>\n",
       "      <td>CDF</td>\n",
       "      <td>ANF</td>\n",
       "      <td>HUGHES</td>\n",
       "      <td>00250270</td>\n",
       "      <td>Wed, 22 Jan 2025 08:00:00 GMT</td>\n",
       "      <td>Tue, 28 Jan 2025 08:00:00 GMT</td>\n",
       "      <td>14</td>\n",
       "      <td>7.0</td>\n",
       "      <td>1.0</td>\n",
       "      <td>10396.8000</td>\n",
       "      <td>None</td>\n",
       "      <td>None</td>\n",
       "      <td>{994072D2-E154-434A-BB95-6F6C94C40829}</td>\n",
       "      <td>None</td>\n",
       "      <td>None</td>\n",
       "      <td>2020-January 2025</td>\n",
       "      <td>MULTIPOLYGON (((-118.55862 34.58099, -118.5585...</td>\n",
       "    </tr>\n",
       "    <tr>\n",
       "      <th>3</th>\n",
       "      <td>4</td>\n",
       "      <td>2025.0</td>\n",
       "      <td>CA</td>\n",
       "      <td>CCO</td>\n",
       "      <td>VNC</td>\n",
       "      <td>KENNETH</td>\n",
       "      <td>00003155</td>\n",
       "      <td>Thu, 09 Jan 2025 08:00:00 GMT</td>\n",
       "      <td>Tue, 04 Feb 2025 08:00:00 GMT</td>\n",
       "      <td>14</td>\n",
       "      <td>2.0</td>\n",
       "      <td>1.0</td>\n",
       "      <td>998.7378</td>\n",
       "      <td>from OES Intel 24</td>\n",
       "      <td>None</td>\n",
       "      <td>{842FB37B-7AC8-4700-BB9C-028BF753D149}</td>\n",
       "      <td>None</td>\n",
       "      <td>None</td>\n",
       "      <td>2020-January 2025</td>\n",
       "      <td>POLYGON ((-118.67692 34.16894, -118.6769 34.16...</td>\n",
       "    </tr>\n",
       "    <tr>\n",
       "      <th>4</th>\n",
       "      <td>5</td>\n",
       "      <td>2025.0</td>\n",
       "      <td>CA</td>\n",
       "      <td>CDF</td>\n",
       "      <td>LDF</td>\n",
       "      <td>HURST</td>\n",
       "      <td>00003294</td>\n",
       "      <td>Tue, 07 Jan 2025 08:00:00 GMT</td>\n",
       "      <td>Thu, 09 Jan 2025 08:00:00 GMT</td>\n",
       "      <td>14</td>\n",
       "      <td>7.0</td>\n",
       "      <td>1.0</td>\n",
       "      <td>831.3855</td>\n",
       "      <td>None</td>\n",
       "      <td>None</td>\n",
       "      <td>{F4E810AD-CDF3-4ED4-B63F-03D43785BA7B}</td>\n",
       "      <td>None</td>\n",
       "      <td>None</td>\n",
       "      <td>2020-January 2025</td>\n",
       "      <td>POLYGON ((-118.46974 34.33079, -118.46964 34.3...</td>\n",
       "    </tr>\n",
       "  </tbody>\n",
       "</table>\n",
       "</div>"
      ],
      "text/plain": [
       "   OBJECTID   YEAR_ STATE AGENCY UNIT_ID  FIRE_NAME   INC_NUM  \\\n",
       "0         1  2025.0    CA    CDF     LDF  PALISADES  00000738   \n",
       "1         2  2025.0    CA    CDF     LAC      EATON  00009087   \n",
       "2         3  2025.0    CA    CDF     ANF     HUGHES  00250270   \n",
       "3         4  2025.0    CA    CCO     VNC    KENNETH  00003155   \n",
       "4         5  2025.0    CA    CDF     LDF      HURST  00003294   \n",
       "\n",
       "                      ALARM_DATE                      CONT_DATE  CAUSE  \\\n",
       "0  Tue, 07 Jan 2025 08:00:00 GMT  Fri, 31 Jan 2025 08:00:00 GMT     14   \n",
       "1  Wed, 08 Jan 2025 08:00:00 GMT  Fri, 31 Jan 2025 08:00:00 GMT     14   \n",
       "2  Wed, 22 Jan 2025 08:00:00 GMT  Tue, 28 Jan 2025 08:00:00 GMT     14   \n",
       "3  Thu, 09 Jan 2025 08:00:00 GMT  Tue, 04 Feb 2025 08:00:00 GMT     14   \n",
       "4  Tue, 07 Jan 2025 08:00:00 GMT  Thu, 09 Jan 2025 08:00:00 GMT     14   \n",
       "\n",
       "   C_METHOD  OBJECTIVE   GIS_ACRES           COMMENTS COMPLEX_NAME  \\\n",
       "0       7.0        1.0  23448.8800               None         None   \n",
       "1       7.0        1.0  14056.2600               None         None   \n",
       "2       7.0        1.0  10396.8000               None         None   \n",
       "3       2.0        1.0    998.7378  from OES Intel 24         None   \n",
       "4       7.0        1.0    831.3855               None         None   \n",
       "\n",
       "                                  IRWINID FIRE_NUM COMPLEX_ID  \\\n",
       "0  {A7EA5D21-F882-44B8-BF64-44AB11059DC1}     None       None   \n",
       "1  {72660ADC-B5EF-4D96-A33F-B4EA3740A4E3}     None       None   \n",
       "2  {994072D2-E154-434A-BB95-6F6C94C40829}     None       None   \n",
       "3  {842FB37B-7AC8-4700-BB9C-028BF753D149}     None       None   \n",
       "4  {F4E810AD-CDF3-4ED4-B63F-03D43785BA7B}     None       None   \n",
       "\n",
       "             DECADES                                           geometry  \n",
       "0  2020-January 2025  MULTIPOLYGON (((-118.51975 34.02997, -118.5198...  \n",
       "1  2020-January 2025  MULTIPOLYGON (((-118.10094 34.16681, -118.1009...  \n",
       "2  2020-January 2025  MULTIPOLYGON (((-118.55862 34.58099, -118.5585...  \n",
       "3  2020-January 2025  POLYGON ((-118.67692 34.16894, -118.6769 34.16...  \n",
       "4  2020-January 2025  POLYGON ((-118.46974 34.33079, -118.46964 34.3...  "
      ]
     },
     "execution_count": 6,
     "metadata": {},
     "output_type": "execute_result"
    }
   ],
   "source": [
    "fire_gdf.head(5)"
   ]
  },
  {
   "cell_type": "code",
   "execution_count": 5,
   "id": "634c4256",
   "metadata": {},
   "outputs": [
    {
     "data": {
      "text/html": [
       "\n",
       "            <style>\n",
       "                .geemap-dark {\n",
       "                    --jp-widgets-color: white;\n",
       "                    --jp-widgets-label-color: white;\n",
       "                    --jp-ui-font-color1: white;\n",
       "                    --jp-layout-color2: #454545;\n",
       "                    background-color: #383838;\n",
       "                }\n",
       "\n",
       "                .geemap-dark .jupyter-button {\n",
       "                    --jp-layout-color3: #383838;\n",
       "                }\n",
       "\n",
       "                .geemap-colab {\n",
       "                    background-color: var(--colab-primary-surface-color, white);\n",
       "                }\n",
       "\n",
       "                .geemap-colab .jupyter-button {\n",
       "                    --jp-layout-color3: var(--colab-primary-surface-color, white);\n",
       "                }\n",
       "            </style>\n",
       "            "
      ],
      "text/plain": [
       "<IPython.core.display.HTML object>"
      ]
     },
     "metadata": {},
     "output_type": "display_data"
    },
    {
     "data": {
      "text/plain": [
       "array(['2020-January 2025', '2010-2019', '2000-2009', '1990-1999',\n",
       "       '1980-1989', '1970-1979', '1960-1969', '1950-1959', None],\n",
       "      dtype=object)"
      ]
     },
     "execution_count": 5,
     "metadata": {},
     "output_type": "execute_result"
    }
   ],
   "source": [
    "fire_gdf.DECADES.unique()"
   ]
  },
  {
   "cell_type": "markdown",
   "id": "cfb8bd4f",
   "metadata": {},
   "source": [
    "After checking the dataset summary and the fist five entries, we noticed that \n",
    "* 22,810 entries are too many to process, so we need to narrow down the area of interest.\n",
    "* The fire events are already divided into few decades, making it possible to focus on fires that occurred in the last five years.\n",
    "* The time format of the alarm and containment dates is inconvenient for processing, e.g. extracting the year and month. Therefore, we are going to convert them into ISO formats."
   ]
  },
  {
   "cell_type": "code",
   "execution_count": 9,
   "id": "p9F1OwbP3bTS",
   "metadata": {
    "colab": {
     "base_uri": "https://localhost:8080/",
     "height": 17
    },
    "executionInfo": {
     "elapsed": 1158,
     "status": "ok",
     "timestamp": 1756909672133,
     "user": {
      "displayName": "Runan",
      "userId": "04913747045734941455"
     },
     "user_tz": -120
    },
    "id": "p9F1OwbP3bTS",
    "outputId": "9e6a73b6-d92c-44d0-d75e-090bfc240b06"
   },
   "outputs": [
    {
     "data": {
      "text/html": [
       "\n",
       "            <style>\n",
       "                .geemap-dark {\n",
       "                    --jp-widgets-color: white;\n",
       "                    --jp-widgets-label-color: white;\n",
       "                    --jp-ui-font-color1: white;\n",
       "                    --jp-layout-color2: #454545;\n",
       "                    background-color: #383838;\n",
       "                }\n",
       "\n",
       "                .geemap-dark .jupyter-button {\n",
       "                    --jp-layout-color3: #383838;\n",
       "                }\n",
       "\n",
       "                .geemap-colab {\n",
       "                    background-color: var(--colab-primary-surface-color, white);\n",
       "                }\n",
       "\n",
       "                .geemap-colab .jupyter-button {\n",
       "                    --jp-layout-color3: var(--colab-primary-surface-color, white);\n",
       "                }\n",
       "            </style>\n",
       "            "
      ],
      "text/plain": [
       "<IPython.core.display.HTML object>"
      ]
     },
     "metadata": {},
     "output_type": "display_data"
    }
   ],
   "source": [
    "fire_df = pd.DataFrame(fire_gdf)\n",
    "fire_df[\"ALARM_DATE_ISO\"] = pd.to_datetime(fire_df.ALARM_DATE, format='%a, %d %b %Y %H:%M:%S %Z').dt.tz_convert('UTC').dt.strftime('%Y-%m-%dT%H:%M:%SZ')\n",
    "fire_df[\"CONT_DATE_ISO\"]  = pd.to_datetime(fire_df.CONT_DATE, format='%a, %d %b %Y %H:%M:%S %Z').dt.tz_convert('UTC').dt.strftime('%Y-%m-%dT%H:%M:%SZ')"
   ]
  },
  {
   "cell_type": "code",
   "execution_count": 7,
   "id": "L5iy6tVdC6Pl",
   "metadata": {
    "colab": {
     "base_uri": "https://localhost:8080/",
     "height": 409
    },
    "executionInfo": {
     "elapsed": 83,
     "status": "ok",
     "timestamp": 1756909675610,
     "user": {
      "displayName": "Runan",
      "userId": "04913747045734941455"
     },
     "user_tz": -120
    },
    "id": "L5iy6tVdC6Pl",
    "outputId": "c00f9414-6d25-4f37-f49e-5386b5659c8a"
   },
   "outputs": [
    {
     "data": {
      "text/html": [
       "\n",
       "            <style>\n",
       "                .geemap-dark {\n",
       "                    --jp-widgets-color: white;\n",
       "                    --jp-widgets-label-color: white;\n",
       "                    --jp-ui-font-color1: white;\n",
       "                    --jp-layout-color2: #454545;\n",
       "                    background-color: #383838;\n",
       "                }\n",
       "\n",
       "                .geemap-dark .jupyter-button {\n",
       "                    --jp-layout-color3: #383838;\n",
       "                }\n",
       "\n",
       "                .geemap-colab {\n",
       "                    background-color: var(--colab-primary-surface-color, white);\n",
       "                }\n",
       "\n",
       "                .geemap-colab .jupyter-button {\n",
       "                    --jp-layout-color3: var(--colab-primary-surface-color, white);\n",
       "                }\n",
       "            </style>\n",
       "            "
      ],
      "text/plain": [
       "<IPython.core.display.HTML object>"
      ]
     },
     "metadata": {},
     "output_type": "display_data"
    },
    {
     "data": {
      "text/html": [
       "<div>\n",
       "<style scoped>\n",
       "    .dataframe tbody tr th:only-of-type {\n",
       "        vertical-align: middle;\n",
       "    }\n",
       "\n",
       "    .dataframe tbody tr th {\n",
       "        vertical-align: top;\n",
       "    }\n",
       "\n",
       "    .dataframe thead th {\n",
       "        text-align: right;\n",
       "    }\n",
       "</style>\n",
       "<table border=\"1\" class=\"dataframe\">\n",
       "  <thead>\n",
       "    <tr style=\"text-align: right;\">\n",
       "      <th></th>\n",
       "      <th>OBJECTID</th>\n",
       "      <th>YEAR_</th>\n",
       "      <th>STATE</th>\n",
       "      <th>AGENCY</th>\n",
       "      <th>UNIT_ID</th>\n",
       "      <th>FIRE_NAME</th>\n",
       "      <th>INC_NUM</th>\n",
       "      <th>ALARM_DATE</th>\n",
       "      <th>CONT_DATE</th>\n",
       "      <th>CAUSE</th>\n",
       "      <th>...</th>\n",
       "      <th>GIS_ACRES</th>\n",
       "      <th>COMMENTS</th>\n",
       "      <th>COMPLEX_NAME</th>\n",
       "      <th>IRWINID</th>\n",
       "      <th>FIRE_NUM</th>\n",
       "      <th>COMPLEX_ID</th>\n",
       "      <th>DECADES</th>\n",
       "      <th>geometry</th>\n",
       "      <th>ALARM_DATE_ISO</th>\n",
       "      <th>CONT_DATE_ISO</th>\n",
       "    </tr>\n",
       "  </thead>\n",
       "  <tbody>\n",
       "    <tr>\n",
       "      <th>0</th>\n",
       "      <td>1</td>\n",
       "      <td>2025.0</td>\n",
       "      <td>CA</td>\n",
       "      <td>CDF</td>\n",
       "      <td>LDF</td>\n",
       "      <td>PALISADES</td>\n",
       "      <td>00000738</td>\n",
       "      <td>Tue, 07 Jan 2025 08:00:00 GMT</td>\n",
       "      <td>Fri, 31 Jan 2025 08:00:00 GMT</td>\n",
       "      <td>14</td>\n",
       "      <td>...</td>\n",
       "      <td>23448.8800</td>\n",
       "      <td>None</td>\n",
       "      <td>None</td>\n",
       "      <td>{A7EA5D21-F882-44B8-BF64-44AB11059DC1}</td>\n",
       "      <td>None</td>\n",
       "      <td>None</td>\n",
       "      <td>2020-January 2025</td>\n",
       "      <td>MULTIPOLYGON (((-118.51975 34.02997, -118.5198...</td>\n",
       "      <td>2025-01-07T08:00:00Z</td>\n",
       "      <td>2025-01-31T08:00:00Z</td>\n",
       "    </tr>\n",
       "    <tr>\n",
       "      <th>1</th>\n",
       "      <td>2</td>\n",
       "      <td>2025.0</td>\n",
       "      <td>CA</td>\n",
       "      <td>CDF</td>\n",
       "      <td>LAC</td>\n",
       "      <td>EATON</td>\n",
       "      <td>00009087</td>\n",
       "      <td>Wed, 08 Jan 2025 08:00:00 GMT</td>\n",
       "      <td>Fri, 31 Jan 2025 08:00:00 GMT</td>\n",
       "      <td>14</td>\n",
       "      <td>...</td>\n",
       "      <td>14056.2600</td>\n",
       "      <td>None</td>\n",
       "      <td>None</td>\n",
       "      <td>{72660ADC-B5EF-4D96-A33F-B4EA3740A4E3}</td>\n",
       "      <td>None</td>\n",
       "      <td>None</td>\n",
       "      <td>2020-January 2025</td>\n",
       "      <td>MULTIPOLYGON (((-118.10094 34.16681, -118.1009...</td>\n",
       "      <td>2025-01-08T08:00:00Z</td>\n",
       "      <td>2025-01-31T08:00:00Z</td>\n",
       "    </tr>\n",
       "    <tr>\n",
       "      <th>2</th>\n",
       "      <td>3</td>\n",
       "      <td>2025.0</td>\n",
       "      <td>CA</td>\n",
       "      <td>CDF</td>\n",
       "      <td>ANF</td>\n",
       "      <td>HUGHES</td>\n",
       "      <td>00250270</td>\n",
       "      <td>Wed, 22 Jan 2025 08:00:00 GMT</td>\n",
       "      <td>Tue, 28 Jan 2025 08:00:00 GMT</td>\n",
       "      <td>14</td>\n",
       "      <td>...</td>\n",
       "      <td>10396.8000</td>\n",
       "      <td>None</td>\n",
       "      <td>None</td>\n",
       "      <td>{994072D2-E154-434A-BB95-6F6C94C40829}</td>\n",
       "      <td>None</td>\n",
       "      <td>None</td>\n",
       "      <td>2020-January 2025</td>\n",
       "      <td>MULTIPOLYGON (((-118.55862 34.58099, -118.5585...</td>\n",
       "      <td>2025-01-22T08:00:00Z</td>\n",
       "      <td>2025-01-28T08:00:00Z</td>\n",
       "    </tr>\n",
       "    <tr>\n",
       "      <th>3</th>\n",
       "      <td>4</td>\n",
       "      <td>2025.0</td>\n",
       "      <td>CA</td>\n",
       "      <td>CCO</td>\n",
       "      <td>VNC</td>\n",
       "      <td>KENNETH</td>\n",
       "      <td>00003155</td>\n",
       "      <td>Thu, 09 Jan 2025 08:00:00 GMT</td>\n",
       "      <td>Tue, 04 Feb 2025 08:00:00 GMT</td>\n",
       "      <td>14</td>\n",
       "      <td>...</td>\n",
       "      <td>998.7378</td>\n",
       "      <td>from OES Intel 24</td>\n",
       "      <td>None</td>\n",
       "      <td>{842FB37B-7AC8-4700-BB9C-028BF753D149}</td>\n",
       "      <td>None</td>\n",
       "      <td>None</td>\n",
       "      <td>2020-January 2025</td>\n",
       "      <td>POLYGON ((-118.67692 34.16894, -118.6769 34.16...</td>\n",
       "      <td>2025-01-09T08:00:00Z</td>\n",
       "      <td>2025-02-04T08:00:00Z</td>\n",
       "    </tr>\n",
       "    <tr>\n",
       "      <th>4</th>\n",
       "      <td>5</td>\n",
       "      <td>2025.0</td>\n",
       "      <td>CA</td>\n",
       "      <td>CDF</td>\n",
       "      <td>LDF</td>\n",
       "      <td>HURST</td>\n",
       "      <td>00003294</td>\n",
       "      <td>Tue, 07 Jan 2025 08:00:00 GMT</td>\n",
       "      <td>Thu, 09 Jan 2025 08:00:00 GMT</td>\n",
       "      <td>14</td>\n",
       "      <td>...</td>\n",
       "      <td>831.3855</td>\n",
       "      <td>None</td>\n",
       "      <td>None</td>\n",
       "      <td>{F4E810AD-CDF3-4ED4-B63F-03D43785BA7B}</td>\n",
       "      <td>None</td>\n",
       "      <td>None</td>\n",
       "      <td>2020-January 2025</td>\n",
       "      <td>POLYGON ((-118.46974 34.33079, -118.46964 34.3...</td>\n",
       "      <td>2025-01-07T08:00:00Z</td>\n",
       "      <td>2025-01-09T08:00:00Z</td>\n",
       "    </tr>\n",
       "  </tbody>\n",
       "</table>\n",
       "<p>5 rows × 22 columns</p>\n",
       "</div>"
      ],
      "text/plain": [
       "   OBJECTID   YEAR_ STATE AGENCY UNIT_ID  FIRE_NAME   INC_NUM  \\\n",
       "0         1  2025.0    CA    CDF     LDF  PALISADES  00000738   \n",
       "1         2  2025.0    CA    CDF     LAC      EATON  00009087   \n",
       "2         3  2025.0    CA    CDF     ANF     HUGHES  00250270   \n",
       "3         4  2025.0    CA    CCO     VNC    KENNETH  00003155   \n",
       "4         5  2025.0    CA    CDF     LDF      HURST  00003294   \n",
       "\n",
       "                      ALARM_DATE                      CONT_DATE  CAUSE  ...  \\\n",
       "0  Tue, 07 Jan 2025 08:00:00 GMT  Fri, 31 Jan 2025 08:00:00 GMT     14  ...   \n",
       "1  Wed, 08 Jan 2025 08:00:00 GMT  Fri, 31 Jan 2025 08:00:00 GMT     14  ...   \n",
       "2  Wed, 22 Jan 2025 08:00:00 GMT  Tue, 28 Jan 2025 08:00:00 GMT     14  ...   \n",
       "3  Thu, 09 Jan 2025 08:00:00 GMT  Tue, 04 Feb 2025 08:00:00 GMT     14  ...   \n",
       "4  Tue, 07 Jan 2025 08:00:00 GMT  Thu, 09 Jan 2025 08:00:00 GMT     14  ...   \n",
       "\n",
       "    GIS_ACRES           COMMENTS  COMPLEX_NAME  \\\n",
       "0  23448.8800               None          None   \n",
       "1  14056.2600               None          None   \n",
       "2  10396.8000               None          None   \n",
       "3    998.7378  from OES Intel 24          None   \n",
       "4    831.3855               None          None   \n",
       "\n",
       "                                  IRWINID FIRE_NUM COMPLEX_ID  \\\n",
       "0  {A7EA5D21-F882-44B8-BF64-44AB11059DC1}     None       None   \n",
       "1  {72660ADC-B5EF-4D96-A33F-B4EA3740A4E3}     None       None   \n",
       "2  {994072D2-E154-434A-BB95-6F6C94C40829}     None       None   \n",
       "3  {842FB37B-7AC8-4700-BB9C-028BF753D149}     None       None   \n",
       "4  {F4E810AD-CDF3-4ED4-B63F-03D43785BA7B}     None       None   \n",
       "\n",
       "             DECADES                                           geometry  \\\n",
       "0  2020-January 2025  MULTIPOLYGON (((-118.51975 34.02997, -118.5198...   \n",
       "1  2020-January 2025  MULTIPOLYGON (((-118.10094 34.16681, -118.1009...   \n",
       "2  2020-January 2025  MULTIPOLYGON (((-118.55862 34.58099, -118.5585...   \n",
       "3  2020-January 2025  POLYGON ((-118.67692 34.16894, -118.6769 34.16...   \n",
       "4  2020-January 2025  POLYGON ((-118.46974 34.33079, -118.46964 34.3...   \n",
       "\n",
       "         ALARM_DATE_ISO         CONT_DATE_ISO  \n",
       "0  2025-01-07T08:00:00Z  2025-01-31T08:00:00Z  \n",
       "1  2025-01-08T08:00:00Z  2025-01-31T08:00:00Z  \n",
       "2  2025-01-22T08:00:00Z  2025-01-28T08:00:00Z  \n",
       "3  2025-01-09T08:00:00Z  2025-02-04T08:00:00Z  \n",
       "4  2025-01-07T08:00:00Z  2025-01-09T08:00:00Z  \n",
       "\n",
       "[5 rows x 22 columns]"
      ]
     },
     "execution_count": 7,
     "metadata": {},
     "output_type": "execute_result"
    }
   ],
   "source": [
    "fire_df.head(5)"
   ]
  },
  {
   "cell_type": "markdown",
   "id": "zDlPULoH4zTQ",
   "metadata": {
    "id": "zDlPULoH4zTQ"
   },
   "source": [
    "##### 1.2 Analysis of Fire Events in The Last Five Years\n",
    "\n",
    "We focused on fire events in the last five years and visualised the distribution of fire areas. It's worth noting that the scale of fire events are varies and this visualisation showed us that the size of satellite images depends on how many acres were burned in the fire events. From this perspective, we need to strike a balance between image size and the amount of training data we can create from this metadata to generate an appropiate dataset for our model."
   ]
  },
  {
   "cell_type": "code",
   "execution_count": 6,
   "id": "QJM5QQbj4oVX",
   "metadata": {
    "colab": {
     "base_uri": "https://localhost:8080/",
     "height": 17
    },
    "executionInfo": {
     "elapsed": 35,
     "status": "ok",
     "timestamp": 1756909682318,
     "user": {
      "displayName": "Runan",
      "userId": "04913747045734941455"
     },
     "user_tz": -120
    },
    "id": "QJM5QQbj4oVX",
    "outputId": "30152c9c-daa9-4840-b810-8bdea1c8a455"
   },
   "outputs": [
    {
     "data": {
      "text/html": [
       "\n",
       "            <style>\n",
       "                .geemap-dark {\n",
       "                    --jp-widgets-color: white;\n",
       "                    --jp-widgets-label-color: white;\n",
       "                    --jp-ui-font-color1: white;\n",
       "                    --jp-layout-color2: #454545;\n",
       "                    background-color: #383838;\n",
       "                }\n",
       "\n",
       "                .geemap-dark .jupyter-button {\n",
       "                    --jp-layout-color3: #383838;\n",
       "                }\n",
       "\n",
       "                .geemap-colab {\n",
       "                    background-color: var(--colab-primary-surface-color, white);\n",
       "                }\n",
       "\n",
       "                .geemap-colab .jupyter-button {\n",
       "                    --jp-layout-color3: var(--colab-primary-surface-color, white);\n",
       "                }\n",
       "            </style>\n",
       "            "
      ],
      "text/plain": [
       "<IPython.core.display.HTML object>"
      ]
     },
     "metadata": {},
     "output_type": "display_data"
    }
   ],
   "source": [
    "aoi = fire_gdf[fire_gdf.DECADES == \"2020-January 2025\"]"
   ]
  },
  {
   "cell_type": "code",
   "execution_count": 7,
   "id": "jdFD0cIDKHqq",
   "metadata": {
    "colab": {
     "base_uri": "https://localhost:8080/",
     "height": 17
    },
    "executionInfo": {
     "elapsed": 16,
     "status": "ok",
     "timestamp": 1756909684608,
     "user": {
      "displayName": "Runan",
      "userId": "04913747045734941455"
     },
     "user_tz": -120
    },
    "id": "jdFD0cIDKHqq",
    "outputId": "4157a824-91bf-4975-e97d-562cc8f1e247"
   },
   "outputs": [
    {
     "data": {
      "text/html": [
       "\n",
       "            <style>\n",
       "                .geemap-dark {\n",
       "                    --jp-widgets-color: white;\n",
       "                    --jp-widgets-label-color: white;\n",
       "                    --jp-ui-font-color1: white;\n",
       "                    --jp-layout-color2: #454545;\n",
       "                    background-color: #383838;\n",
       "                }\n",
       "\n",
       "                .geemap-dark .jupyter-button {\n",
       "                    --jp-layout-color3: #383838;\n",
       "                }\n",
       "\n",
       "                .geemap-colab {\n",
       "                    background-color: var(--colab-primary-surface-color, white);\n",
       "                }\n",
       "\n",
       "                .geemap-colab .jupyter-button {\n",
       "                    --jp-layout-color3: var(--colab-primary-surface-color, white);\n",
       "                }\n",
       "            </style>\n",
       "            "
      ],
      "text/plain": [
       "<IPython.core.display.HTML object>"
      ]
     },
     "metadata": {},
     "output_type": "display_data"
    }
   ],
   "source": [
    "aoi = gpd.GeoDataFrame(aoi)"
   ]
  },
  {
   "cell_type": "code",
   "execution_count": 11,
   "id": "8WbPbC3J3ApH",
   "metadata": {
    "colab": {
     "base_uri": "https://localhost:8080/",
     "height": 447
    },
    "executionInfo": {
     "elapsed": 2669,
     "status": "ok",
     "timestamp": 1756909775274,
     "user": {
      "displayName": "Runan",
      "userId": "04913747045734941455"
     },
     "user_tz": -120
    },
    "id": "8WbPbC3J3ApH",
    "outputId": "520b77bf-1b96-44d5-e5fa-ec5edd3d806e"
   },
   "outputs": [
    {
     "data": {
      "text/html": [
       "\n",
       "            <style>\n",
       "                .geemap-dark {\n",
       "                    --jp-widgets-color: white;\n",
       "                    --jp-widgets-label-color: white;\n",
       "                    --jp-ui-font-color1: white;\n",
       "                    --jp-layout-color2: #454545;\n",
       "                    background-color: #383838;\n",
       "                }\n",
       "\n",
       "                .geemap-dark .jupyter-button {\n",
       "                    --jp-layout-color3: #383838;\n",
       "                }\n",
       "\n",
       "                .geemap-colab {\n",
       "                    background-color: var(--colab-primary-surface-color, white);\n",
       "                }\n",
       "\n",
       "                .geemap-colab .jupyter-button {\n",
       "                    --jp-layout-color3: var(--colab-primary-surface-color, white);\n",
       "                }\n",
       "            </style>\n",
       "            "
      ],
      "text/plain": [
       "<IPython.core.display.HTML object>"
      ]
     },
     "metadata": {},
     "output_type": "display_data"
    },
    {
     "data": {
      "text/plain": [
       "<Axes: >"
      ]
     },
     "execution_count": 11,
     "metadata": {},
     "output_type": "execute_result"
    },
    {
     "data": {
      "image/png": "[encoded data removed]",
      "text/plain": [
       "<Figure size 640x480 with 1 Axes>"
      ]
     },
     "metadata": {},
     "output_type": "display_data"
    }
   ],
   "source": [
    "aoi.geometry.plot()   ## 2020-2025"
   ]
  },
  {
   "cell_type": "markdown",
   "id": "c8638270",
   "metadata": {},
   "source": [
    "#### Analysis Based on The Sacle of Fire Events\n",
    "\n",
    "We've chosen 100, 1000 and 10000 as the thresholds for magnifying the fire events.\n",
    "\n",
    "In order to generate an image sized 224 * 224 pixels from satellite imagery with a resolution of 10 metres, we need to capture at least 100 acres of events. \n",
    "Thus we adopt fire events covering between 100 and 10,000 acres to acquire the corresponding satellite imagery."
   ]
  },
  {
   "cell_type": "code",
   "execution_count": null,
   "id": "948aabf7",
   "metadata": {},
   "outputs": [
    {
     "data": {
      "text/html": [
       "\n",
       "            <style>\n",
       "                .geemap-dark {\n",
       "                    --jp-widgets-color: white;\n",
       "                    --jp-widgets-label-color: white;\n",
       "                    --jp-ui-font-color1: white;\n",
       "                    --jp-layout-color2: #454545;\n",
       "                    background-color: #383838;\n",
       "                }\n",
       "\n",
       "                .geemap-dark .jupyter-button {\n",
       "                    --jp-layout-color3: #383838;\n",
       "                }\n",
       "\n",
       "                .geemap-colab {\n",
       "                    background-color: var(--colab-primary-surface-color, white);\n",
       "                }\n",
       "\n",
       "                .geemap-colab .jupyter-button {\n",
       "                    --jp-layout-color3: var(--colab-primary-surface-color, white);\n",
       "                }\n",
       "            </style>\n",
       "            "
      ],
      "text/plain": [
       "<IPython.core.display.HTML object>"
      ]
     },
     "metadata": {},
     "output_type": "display_data"
    }
   ],
   "source": [
    "major_fires = fire_df[\n",
    "    (fire_df.GIS_ACRES > 10000) &\n",
    "    (fire_df.DECADES == \"2020-January 2025\") &\n",
    "    (fire_df.ALARM_DATE_ISO.notna()) &\n",
    "    (fire_df.CONT_DATE_ISO.notna()) \n",
    "    ]"
   ]
  },
  {
   "cell_type": "code",
   "execution_count": 14,
   "id": "afebc29e",
   "metadata": {},
   "outputs": [
    {
     "data": {
      "text/html": [
       "\n",
       "            <style>\n",
       "                .geemap-dark {\n",
       "                    --jp-widgets-color: white;\n",
       "                    --jp-widgets-label-color: white;\n",
       "                    --jp-ui-font-color1: white;\n",
       "                    --jp-layout-color2: #454545;\n",
       "                    background-color: #383838;\n",
       "                }\n",
       "\n",
       "                .geemap-dark .jupyter-button {\n",
       "                    --jp-layout-color3: #383838;\n",
       "                }\n",
       "\n",
       "                .geemap-colab {\n",
       "                    background-color: var(--colab-primary-surface-color, white);\n",
       "                }\n",
       "\n",
       "                .geemap-colab .jupyter-button {\n",
       "                    --jp-layout-color3: var(--colab-primary-surface-color, white);\n",
       "                }\n",
       "            </style>\n",
       "            "
      ],
      "text/plain": [
       "<IPython.core.display.HTML object>"
      ]
     },
     "metadata": {},
     "output_type": "display_data"
    },
    {
     "name": "stdout",
     "output_type": "stream",
     "text": [
      "Fire events with over 10,000 acres are 81\n"
     ]
    }
   ],
   "source": [
    "print(f\"Fire events with over 10,000 acres are {len(major_fires)}\")"
   ]
  },
  {
   "cell_type": "code",
   "execution_count": 11,
   "id": "69afe6b7",
   "metadata": {},
   "outputs": [
    {
     "data": {
      "text/html": [
       "\n",
       "            <style>\n",
       "                .geemap-dark {\n",
       "                    --jp-widgets-color: white;\n",
       "                    --jp-widgets-label-color: white;\n",
       "                    --jp-ui-font-color1: white;\n",
       "                    --jp-layout-color2: #454545;\n",
       "                    background-color: #383838;\n",
       "                }\n",
       "\n",
       "                .geemap-dark .jupyter-button {\n",
       "                    --jp-layout-color3: #383838;\n",
       "                }\n",
       "\n",
       "                .geemap-colab {\n",
       "                    background-color: var(--colab-primary-surface-color, white);\n",
       "                }\n",
       "\n",
       "                .geemap-colab .jupyter-button {\n",
       "                    --jp-layout-color3: var(--colab-primary-surface-color, white);\n",
       "                }\n",
       "            </style>\n",
       "            "
      ],
      "text/plain": [
       "<IPython.core.display.HTML object>"
      ]
     },
     "metadata": {},
     "output_type": "display_data"
    }
   ],
   "source": [
    "medium_fires = fire_df[\n",
    "    (fire_df.GIS_ACRES < 10000) & \n",
    "    (fire_df.GIS_ACRES > 1000) & \n",
    "    (fire_df.DECADES == \"2020-January 2025\") &\n",
    "    (fire_df.ALARM_DATE_ISO.notna()) &\n",
    "    (fire_df.CONT_DATE_ISO.notna()) ]"
   ]
  },
  {
   "cell_type": "code",
   "execution_count": 16,
   "id": "0216d78f",
   "metadata": {},
   "outputs": [
    {
     "data": {
      "text/html": [
       "\n",
       "            <style>\n",
       "                .geemap-dark {\n",
       "                    --jp-widgets-color: white;\n",
       "                    --jp-widgets-label-color: white;\n",
       "                    --jp-ui-font-color1: white;\n",
       "                    --jp-layout-color2: #454545;\n",
       "                    background-color: #383838;\n",
       "                }\n",
       "\n",
       "                .geemap-dark .jupyter-button {\n",
       "                    --jp-layout-color3: #383838;\n",
       "                }\n",
       "\n",
       "                .geemap-colab {\n",
       "                    background-color: var(--colab-primary-surface-color, white);\n",
       "                }\n",
       "\n",
       "                .geemap-colab .jupyter-button {\n",
       "                    --jp-layout-color3: var(--colab-primary-surface-color, white);\n",
       "                }\n",
       "            </style>\n",
       "            "
      ],
      "text/plain": [
       "<IPython.core.display.HTML object>"
      ]
     },
     "metadata": {},
     "output_type": "display_data"
    },
    {
     "name": "stdout",
     "output_type": "stream",
     "text": [
      "The number of fire events with 1,000 ~ 10,000 acres: 133\n"
     ]
    }
   ],
   "source": [
    "print(f\"The number of fire events with 1,000 ~ 10,000 acres: {len(medium_fires)}\")"
   ]
  },
  {
   "cell_type": "code",
   "execution_count": 12,
   "id": "7bf62894",
   "metadata": {},
   "outputs": [
    {
     "data": {
      "text/html": [
       "\n",
       "            <style>\n",
       "                .geemap-dark {\n",
       "                    --jp-widgets-color: white;\n",
       "                    --jp-widgets-label-color: white;\n",
       "                    --jp-ui-font-color1: white;\n",
       "                    --jp-layout-color2: #454545;\n",
       "                    background-color: #383838;\n",
       "                }\n",
       "\n",
       "                .geemap-dark .jupyter-button {\n",
       "                    --jp-layout-color3: #383838;\n",
       "                }\n",
       "\n",
       "                .geemap-colab {\n",
       "                    background-color: var(--colab-primary-surface-color, white);\n",
       "                }\n",
       "\n",
       "                .geemap-colab .jupyter-button {\n",
       "                    --jp-layout-color3: var(--colab-primary-surface-color, white);\n",
       "                }\n",
       "            </style>\n",
       "            "
      ],
      "text/plain": [
       "<IPython.core.display.HTML object>"
      ]
     },
     "metadata": {},
     "output_type": "display_data"
    }
   ],
   "source": [
    "small_fires = fire_df[\n",
    "    (fire_df.GIS_ACRES < 1000) & \n",
    "    (fire_df.GIS_ACRES > 100) & \n",
    "    (fire_df.DECADES == \"2020-January 2025\") &\n",
    "    (fire_df.ALARM_DATE_ISO.notna()) &\n",
    "    (fire_df.CONT_DATE_ISO.notna()) ]"
   ]
  },
  {
   "cell_type": "code",
   "execution_count": 17,
   "id": "e21fcb7b",
   "metadata": {},
   "outputs": [
    {
     "data": {
      "text/html": [
       "\n",
       "            <style>\n",
       "                .geemap-dark {\n",
       "                    --jp-widgets-color: white;\n",
       "                    --jp-widgets-label-color: white;\n",
       "                    --jp-ui-font-color1: white;\n",
       "                    --jp-layout-color2: #454545;\n",
       "                    background-color: #383838;\n",
       "                }\n",
       "\n",
       "                .geemap-dark .jupyter-button {\n",
       "                    --jp-layout-color3: #383838;\n",
       "                }\n",
       "\n",
       "                .geemap-colab {\n",
       "                    background-color: var(--colab-primary-surface-color, white);\n",
       "                }\n",
       "\n",
       "                .geemap-colab .jupyter-button {\n",
       "                    --jp-layout-color3: var(--colab-primary-surface-color, white);\n",
       "                }\n",
       "            </style>\n",
       "            "
      ],
      "text/plain": [
       "<IPython.core.display.HTML object>"
      ]
     },
     "metadata": {},
     "output_type": "display_data"
    },
    {
     "name": "stdout",
     "output_type": "stream",
     "text": [
      "The number of fire events with 100 ~ 1,000 acres: 361\n"
     ]
    }
   ],
   "source": [
    "print(f\"The number of fire events with 100 ~ 1,000 acres: {len(small_fires)}\")"
   ]
  },
  {
   "cell_type": "code",
   "execution_count": 13,
   "id": "b1d96495",
   "metadata": {},
   "outputs": [
    {
     "data": {
      "text/html": [
       "\n",
       "            <style>\n",
       "                .geemap-dark {\n",
       "                    --jp-widgets-color: white;\n",
       "                    --jp-widgets-label-color: white;\n",
       "                    --jp-ui-font-color1: white;\n",
       "                    --jp-layout-color2: #454545;\n",
       "                    background-color: #383838;\n",
       "                }\n",
       "\n",
       "                .geemap-dark .jupyter-button {\n",
       "                    --jp-layout-color3: #383838;\n",
       "                }\n",
       "\n",
       "                .geemap-colab {\n",
       "                    background-color: var(--colab-primary-surface-color, white);\n",
       "                }\n",
       "\n",
       "                .geemap-colab .jupyter-button {\n",
       "                    --jp-layout-color3: var(--colab-primary-surface-color, white);\n",
       "                }\n",
       "            </style>\n",
       "            "
      ],
      "text/plain": [
       "<IPython.core.display.HTML object>"
      ]
     },
     "metadata": {},
     "output_type": "display_data"
    }
   ],
   "source": [
    "very_small_fires = fire_df[\n",
    "    (fire_df.GIS_ACRES < 100) & \n",
    "    (fire_df.GIS_ACRES > 0) & \n",
    "    (fire_df.DECADES == \"2020-January 2025\") &\n",
    "    (fire_df.ALARM_DATE_ISO.notna()) &\n",
    "    (fire_df.CONT_DATE_ISO.notna()) ]"
   ]
  },
  {
   "cell_type": "code",
   "execution_count": 18,
   "id": "d4ecf64b",
   "metadata": {},
   "outputs": [
    {
     "data": {
      "text/html": [
       "\n",
       "            <style>\n",
       "                .geemap-dark {\n",
       "                    --jp-widgets-color: white;\n",
       "                    --jp-widgets-label-color: white;\n",
       "                    --jp-ui-font-color1: white;\n",
       "                    --jp-layout-color2: #454545;\n",
       "                    background-color: #383838;\n",
       "                }\n",
       "\n",
       "                .geemap-dark .jupyter-button {\n",
       "                    --jp-layout-color3: #383838;\n",
       "                }\n",
       "\n",
       "                .geemap-colab {\n",
       "                    background-color: var(--colab-primary-surface-color, white);\n",
       "                }\n",
       "\n",
       "                .geemap-colab .jupyter-button {\n",
       "                    --jp-layout-color3: var(--colab-primary-surface-color, white);\n",
       "                }\n",
       "            </style>\n",
       "            "
      ],
      "text/plain": [
       "<IPython.core.display.HTML object>"
      ]
     },
     "metadata": {},
     "output_type": "display_data"
    },
    {
     "name": "stdout",
     "output_type": "stream",
     "text": [
      "The number of fire events with less than 100 acres: 1447\n"
     ]
    }
   ],
   "source": [
    "print(f\"The number of fire events with less than 100 acres: {len(very_small_fires)}\")"
   ]
  },
  {
   "cell_type": "markdown",
   "id": "b9296bf1",
   "metadata": {},
   "source": [
    "#### 2. Copernicus Sentinel-2\n",
    "\n",
    "Copernicus Sentinel-2 (COPERNICUS/S2_SR_HARMONIZED) data involves using the surface reflectance information in the data to calculate spectral indices like the Normalized Burn Ratio (NBR), or employing machine learning algorithms with spectral and textural features to distinguish burned areas from other land cover changes.\n",
    "\n",
    "\n",
    "In order to access Google Earth, we need to create a Google Cloud account and register a cloud project for commercial or non-commercial purposes. In our case, we can register for non-commercial use by answering questions about the projects (e.g., organisation, academic institution, research question and geographic scope).\n",
    "\n",
    "\n",
    "We then need to authenticate and initialise the project by runing the following code.\n",
    "\n",
    "\n",
    "tutorials: https://www.un-spider.org/advisory-support/recommended-practices/recommended-practice-burn-severity/burn-severity-earth-engine"
   ]
  },
  {
   "cell_type": "code",
   "execution_count": 35,
   "id": "ecd14813",
   "metadata": {},
   "outputs": [
    {
     "data": {
      "text/html": [
       "\n",
       "            <style>\n",
       "                .geemap-dark {\n",
       "                    --jp-widgets-color: white;\n",
       "                    --jp-widgets-label-color: white;\n",
       "                    --jp-ui-font-color1: white;\n",
       "                    --jp-layout-color2: #454545;\n",
       "                    background-color: #383838;\n",
       "                }\n",
       "\n",
       "                .geemap-dark .jupyter-button {\n",
       "                    --jp-layout-color3: #383838;\n",
       "                }\n",
       "\n",
       "                .geemap-colab {\n",
       "                    background-color: var(--colab-primary-surface-color, white);\n",
       "                }\n",
       "\n",
       "                .geemap-colab .jupyter-button {\n",
       "                    --jp-layout-color3: var(--colab-primary-surface-color, white);\n",
       "                }\n",
       "            </style>\n",
       "            "
      ],
      "text/plain": [
       "<IPython.core.display.HTML object>"
      ]
     },
     "metadata": {},
     "output_type": "display_data"
    }
   ],
   "source": [
    "ee.Authenticate()\n",
    "ee.Initialize()"
   ]
  },
  {
   "cell_type": "code",
   "execution_count": null,
   "id": "14069dde",
   "metadata": {},
   "outputs": [
    {
     "data": {
      "text/html": [
       "\n",
       "            <style>\n",
       "                .geemap-dark {\n",
       "                    --jp-widgets-color: white;\n",
       "                    --jp-widgets-label-color: white;\n",
       "                    --jp-ui-font-color1: white;\n",
       "                    --jp-layout-color2: #454545;\n",
       "                    background-color: #383838;\n",
       "                }\n",
       "\n",
       "                .geemap-dark .jupyter-button {\n",
       "                    --jp-layout-color3: #383838;\n",
       "                }\n",
       "\n",
       "                .geemap-colab {\n",
       "                    background-color: var(--colab-primary-surface-color, white);\n",
       "                }\n",
       "\n",
       "                .geemap-colab .jupyter-button {\n",
       "                    --jp-layout-color3: var(--colab-primary-surface-color, white);\n",
       "                }\n",
       "            </style>\n",
       "            "
      ],
      "text/plain": [
       "<IPython.core.display.HTML object>"
      ]
     },
     "metadata": {},
     "output_type": "display_data"
    }
   ],
   "source": [
    "# Create a region list and collect the critical attributs to analyse\n",
    "analysis_regions = []\n",
    "for idx, fire in small_fires.iterrows():\n",
    "    fire_geom = fire.geometry\n",
    "    analysis_regions.append({\n",
    "        'name': fire.FIRE_NAME,\n",
    "        'geometry': fire_geom,\n",
    "        'alarm_date': fire.ALARM_DATE_ISO,\n",
    "        'containment_date': fire.CONT_DATE_ISO,\n",
    "        'acres_burned': fire.GIS_ACRES\n",
    "    })"
   ]
  },
  {
   "cell_type": "code",
   "execution_count": 37,
   "id": "d0cd12c0",
   "metadata": {},
   "outputs": [
    {
     "data": {
      "text/html": [
       "\n",
       "            <style>\n",
       "                .geemap-dark {\n",
       "                    --jp-widgets-color: white;\n",
       "                    --jp-widgets-label-color: white;\n",
       "                    --jp-ui-font-color1: white;\n",
       "                    --jp-layout-color2: #454545;\n",
       "                    background-color: #383838;\n",
       "                }\n",
       "\n",
       "                .geemap-dark .jupyter-button {\n",
       "                    --jp-layout-color3: #383838;\n",
       "                }\n",
       "\n",
       "                .geemap-colab {\n",
       "                    background-color: var(--colab-primary-surface-color, white);\n",
       "                }\n",
       "\n",
       "                .geemap-colab .jupyter-button {\n",
       "                    --jp-layout-color3: var(--colab-primary-surface-color, white);\n",
       "                }\n",
       "            </style>\n",
       "            "
      ],
      "text/plain": [
       "<IPython.core.display.HTML object>"
      ]
     },
     "metadata": {},
     "output_type": "display_data"
    },
    {
     "data": {
      "text/plain": [
       "{'name': 'KENNETH',\n",
       " 'geometry': <POLYGON ((-118.677 34.169, -118.677 34.169, -118.677 34.169, -118.677 34.16...>,\n",
       " 'alarm_date': '2025-01-09T08:00:00Z',\n",
       " 'containment_date': '2025-02-04T08:00:00Z',\n",
       " 'acres_burned': 998.7378}"
      ]
     },
     "execution_count": 37,
     "metadata": {},
     "output_type": "execute_result"
    }
   ],
   "source": [
    "region = analysis_regions[0]\n",
    "region"
   ]
  },
  {
   "cell_type": "code",
   "execution_count": null,
   "id": "93289c07",
   "metadata": {},
   "outputs": [
    {
     "data": {
      "text/html": [
       "\n",
       "            <style>\n",
       "                .geemap-dark {\n",
       "                    --jp-widgets-color: white;\n",
       "                    --jp-widgets-label-color: white;\n",
       "                    --jp-ui-font-color1: white;\n",
       "                    --jp-layout-color2: #454545;\n",
       "                    background-color: #383838;\n",
       "                }\n",
       "\n",
       "                .geemap-dark .jupyter-button {\n",
       "                    --jp-layout-color3: #383838;\n",
       "                }\n",
       "\n",
       "                .geemap-colab {\n",
       "                    background-color: var(--colab-primary-surface-color, white);\n",
       "                }\n",
       "\n",
       "                .geemap-colab .jupyter-button {\n",
       "                    --jp-layout-color3: var(--colab-primary-surface-color, white);\n",
       "                }\n",
       "            </style>\n",
       "            "
      ],
      "text/plain": [
       "<IPython.core.display.HTML object>"
      ]
     },
     "metadata": {},
     "output_type": "display_data"
    },
    {
     "name": "stdout",
     "output_type": "stream",
     "text": [
      "Processing region: KENNETH\n"
     ]
    }
   ],
   "source": [
    "# Convert GeoDataFrame to Googel Earth Geometry object\n",
    "region_gdf = gpd.GeoDataFrame([region], geometry='geometry', crs='EPSG:4326')\n",
    "region_ee = geemap.geopandas_to_ee(region_gdf)\n",
    "region_geom = region_ee.geometry()\n",
    "print(f\"Processing region: {region['name']}\")"
   ]
  },
  {
   "cell_type": "code",
   "execution_count": null,
   "id": "40efd012",
   "metadata": {},
   "outputs": [
    {
     "data": {
      "text/html": [
       "\n",
       "            <style>\n",
       "                .geemap-dark {\n",
       "                    --jp-widgets-color: white;\n",
       "                    --jp-widgets-label-color: white;\n",
       "                    --jp-ui-font-color1: white;\n",
       "                    --jp-layout-color2: #454545;\n",
       "                    background-color: #383838;\n",
       "                }\n",
       "\n",
       "                .geemap-dark .jupyter-button {\n",
       "                    --jp-layout-color3: #383838;\n",
       "                }\n",
       "\n",
       "                .geemap-colab {\n",
       "                    background-color: var(--colab-primary-surface-color, white);\n",
       "                }\n",
       "\n",
       "                .geemap-colab .jupyter-button {\n",
       "                    --jp-layout-color3: var(--colab-primary-surface-color, white);\n",
       "                }\n",
       "            </style>\n",
       "            "
      ],
      "text/plain": [
       "<IPython.core.display.HTML object>"
      ]
     },
     "metadata": {},
     "output_type": "display_data"
    },
    {
     "data": {
      "text/plain": [
       "[[-118.70228197179703, 34.161008712197976],\n",
       " [-118.669481673538, 34.161008712197976],\n",
       " [-118.669481673538, 34.18776087259832],\n",
       " [-118.70228197179703, 34.18776087259832],\n",
       " [-118.70228197179703, 34.161008712197976]]"
      ]
     },
     "execution_count": 39,
     "metadata": {},
     "output_type": "execute_result"
    }
   ],
   "source": [
    "# Check the coordniates of the region bounds\n",
    "bounds = region_geom.bounds()\n",
    "coord = bounds.coordinates().getInfo()[0]\n",
    "coord"
   ]
  },
  {
   "cell_type": "code",
   "execution_count": null,
   "id": "ef1e1ffc",
   "metadata": {},
   "outputs": [
    {
     "data": {
      "text/html": [
       "\n",
       "            <style>\n",
       "                .geemap-dark {\n",
       "                    --jp-widgets-color: white;\n",
       "                    --jp-widgets-label-color: white;\n",
       "                    --jp-ui-font-color1: white;\n",
       "                    --jp-layout-color2: #454545;\n",
       "                    background-color: #383838;\n",
       "                }\n",
       "\n",
       "                .geemap-dark .jupyter-button {\n",
       "                    --jp-layout-color3: #383838;\n",
       "                }\n",
       "\n",
       "                .geemap-colab {\n",
       "                    background-color: var(--colab-primary-surface-color, white);\n",
       "                }\n",
       "\n",
       "                .geemap-colab .jupyter-button {\n",
       "                    --jp-layout-color3: var(--colab-primary-surface-color, white);\n",
       "                }\n",
       "            </style>\n",
       "            "
      ],
      "text/plain": [
       "<IPython.core.display.HTML object>"
      ]
     },
     "metadata": {},
     "output_type": "display_data"
    }
   ],
   "source": [
    "# Parameters for data acquisition\n",
    "TARGET_PIXELS = 224\n",
    "SCALE = 20  # Meters per pixel\n",
    "# Approximate meters per degree at equator\n",
    "# We prefer to large image for cropping\n",
    "METERS_PER_DEGREE = 111320 "
   ]
  },
  {
   "cell_type": "code",
   "execution_count": 41,
   "id": "7b946519",
   "metadata": {},
   "outputs": [
    {
     "data": {
      "text/html": [
       "\n",
       "            <style>\n",
       "                .geemap-dark {\n",
       "                    --jp-widgets-color: white;\n",
       "                    --jp-widgets-label-color: white;\n",
       "                    --jp-ui-font-color1: white;\n",
       "                    --jp-layout-color2: #454545;\n",
       "                    background-color: #383838;\n",
       "                }\n",
       "\n",
       "                .geemap-dark .jupyter-button {\n",
       "                    --jp-layout-color3: #383838;\n",
       "                }\n",
       "\n",
       "                .geemap-colab {\n",
       "                    background-color: var(--colab-primary-surface-color, white);\n",
       "                }\n",
       "\n",
       "                .geemap-colab .jupyter-button {\n",
       "                    --jp-layout-color3: var(--colab-primary-surface-color, white);\n",
       "                }\n",
       "            </style>\n",
       "            "
      ],
      "text/plain": [
       "<IPython.core.display.HTML object>"
      ]
     },
     "metadata": {},
     "output_type": "display_data"
    }
   ],
   "source": [
    "def expand_region(region_geom):\n",
    "    \"\"\"Expand region bounds if smaller than target crop size in meters.\"\"\"\n",
    "    # Extract the coordinates and bounds\n",
    "    bounds = region_geom.bounds()\n",
    "    coord = bounds.coordinates().getInfo()[0]\n",
    "    xmin, ymin = coord[0]\n",
    "    xmax, ymax = coord[2]\n",
    "\n",
    "    # Compute the image size\n",
    "    width_m = (xmax - xmin) * METERS_PER_DEGREE\n",
    "    height_m = (ymax - ymin) * METERS_PER_DEGREE\n",
    "    min_size_m = SCALE * TARGET_PIXELS\n",
    "\n",
    "    # Compute padding if the export image will smaller than target\n",
    "    pad_x = max(0, (min_size_m - width_m) / METERS_PER_DEGREE / 2)\n",
    "    pad_y = max(0, (min_size_m - height_m) / METERS_PER_DEGREE / 2)\n",
    "\n",
    "    # Expand the bounds\n",
    "    new_bounds = ee.Geometry.Rectangle([xmin - pad_x, ymin - pad_y, xmax + pad_x, ymax + pad_y])\n",
    "    return new_bounds"
   ]
  },
  {
   "cell_type": "code",
   "execution_count": 44,
   "id": "2f606af5",
   "metadata": {},
   "outputs": [
    {
     "data": {
      "text/html": [
       "\n",
       "            <style>\n",
       "                .geemap-dark {\n",
       "                    --jp-widgets-color: white;\n",
       "                    --jp-widgets-label-color: white;\n",
       "                    --jp-ui-font-color1: white;\n",
       "                    --jp-layout-color2: #454545;\n",
       "                    background-color: #383838;\n",
       "                }\n",
       "\n",
       "                .geemap-dark .jupyter-button {\n",
       "                    --jp-layout-color3: #383838;\n",
       "                }\n",
       "\n",
       "                .geemap-colab {\n",
       "                    background-color: var(--colab-primary-surface-color, white);\n",
       "                }\n",
       "\n",
       "                .geemap-colab .jupyter-button {\n",
       "                    --jp-layout-color3: var(--colab-primary-surface-color, white);\n",
       "                }\n",
       "            </style>\n",
       "            "
      ],
      "text/plain": [
       "<IPython.core.display.HTML object>"
      ]
     },
     "metadata": {},
     "output_type": "display_data"
    }
   ],
   "source": [
    "# Expand fire event regions, making sure the exported images are larger than 224 * 224\n",
    "expand_regions = expand_region(region_geom=region_geom)"
   ]
  },
  {
   "cell_type": "code",
   "execution_count": 45,
   "id": "d1b2b62b",
   "metadata": {},
   "outputs": [
    {
     "data": {
      "text/html": [
       "\n",
       "            <style>\n",
       "                .geemap-dark {\n",
       "                    --jp-widgets-color: white;\n",
       "                    --jp-widgets-label-color: white;\n",
       "                    --jp-ui-font-color1: white;\n",
       "                    --jp-layout-color2: #454545;\n",
       "                    background-color: #383838;\n",
       "                }\n",
       "\n",
       "                .geemap-dark .jupyter-button {\n",
       "                    --jp-layout-color3: #383838;\n",
       "                }\n",
       "\n",
       "                .geemap-colab {\n",
       "                    background-color: var(--colab-primary-surface-color, white);\n",
       "                }\n",
       "\n",
       "                .geemap-colab .jupyter-button {\n",
       "                    --jp-layout-color3: var(--colab-primary-surface-color, white);\n",
       "                }\n",
       "            </style>\n",
       "            "
      ],
      "text/plain": [
       "<IPython.core.display.HTML object>"
      ]
     },
     "metadata": {},
     "output_type": "display_data"
    }
   ],
   "source": [
    "# Parameters for data acquisition\n",
    "CLOUD_THRESHOLD = 20\n",
    "PRE_FIRE_DAYS = 60  # Days before fire to include\n",
    "POST_FIRE_DAYS = 30  # Days after containment to include"
   ]
  },
  {
   "cell_type": "code",
   "execution_count": 43,
   "id": "4f6634ea",
   "metadata": {},
   "outputs": [
    {
     "data": {
      "text/html": [
       "\n",
       "            <style>\n",
       "                .geemap-dark {\n",
       "                    --jp-widgets-color: white;\n",
       "                    --jp-widgets-label-color: white;\n",
       "                    --jp-ui-font-color1: white;\n",
       "                    --jp-layout-color2: #454545;\n",
       "                    background-color: #383838;\n",
       "                }\n",
       "\n",
       "                .geemap-dark .jupyter-button {\n",
       "                    --jp-layout-color3: #383838;\n",
       "                }\n",
       "\n",
       "                .geemap-colab {\n",
       "                    background-color: var(--colab-primary-surface-color, white);\n",
       "                }\n",
       "\n",
       "                .geemap-colab .jupyter-button {\n",
       "                    --jp-layout-color3: var(--colab-primary-surface-color, white);\n",
       "                }\n",
       "            </style>\n",
       "            "
      ],
      "text/plain": [
       "<IPython.core.display.HTML object>"
      ]
     },
     "metadata": {},
     "output_type": "display_data"
    }
   ],
   "source": [
    "# Calculate time window for imagery using ISO\n",
    "pre_fire_start = ee.Date(region['alarm_date']).advance(-PRE_FIRE_DAYS, 'day')\n",
    "post_fire_end = ee.Date(region['containment_date']).advance(POST_FIRE_DAYS, 'day')"
   ]
  },
  {
   "cell_type": "code",
   "execution_count": 47,
   "id": "f7a9d4b2",
   "metadata": {},
   "outputs": [
    {
     "data": {
      "text/html": [
       "\n",
       "            <style>\n",
       "                .geemap-dark {\n",
       "                    --jp-widgets-color: white;\n",
       "                    --jp-widgets-label-color: white;\n",
       "                    --jp-ui-font-color1: white;\n",
       "                    --jp-layout-color2: #454545;\n",
       "                    background-color: #383838;\n",
       "                }\n",
       "\n",
       "                .geemap-dark .jupyter-button {\n",
       "                    --jp-layout-color3: #383838;\n",
       "                }\n",
       "\n",
       "                .geemap-colab {\n",
       "                    background-color: var(--colab-primary-surface-color, white);\n",
       "                }\n",
       "\n",
       "                .geemap-colab .jupyter-button {\n",
       "                    --jp-layout-color3: var(--colab-primary-surface-color, white);\n",
       "                }\n",
       "            </style>\n",
       "            "
      ],
      "text/plain": [
       "<IPython.core.display.HTML object>"
      ]
     },
     "metadata": {},
     "output_type": "display_data"
    }
   ],
   "source": [
    "# Get Sentinel-2 collection for this region and time period\n",
    "collection = (\n",
    "    ee.ImageCollection('COPERNICUS/S2_SR_HARMONIZED')\n",
    "    .filterBounds(expand_regions)\n",
    "    .filterDate(pre_fire_start, post_fire_end)\n",
    "    .filter(ee.Filter.lt('CLOUDY_PIXEL_PERCENTAGE', CLOUD_THRESHOLD))\n",
    "    .select(['B2', 'B3', 'B4', 'B8', 'B11', 'B12'])\n",
    ")"
   ]
  },
  {
   "cell_type": "code",
   "execution_count": 48,
   "id": "2d702953",
   "metadata": {},
   "outputs": [
    {
     "data": {
      "text/html": [
       "\n",
       "            <style>\n",
       "                .geemap-dark {\n",
       "                    --jp-widgets-color: white;\n",
       "                    --jp-widgets-label-color: white;\n",
       "                    --jp-ui-font-color1: white;\n",
       "                    --jp-layout-color2: #454545;\n",
       "                    background-color: #383838;\n",
       "                }\n",
       "\n",
       "                .geemap-dark .jupyter-button {\n",
       "                    --jp-layout-color3: #383838;\n",
       "                }\n",
       "\n",
       "                .geemap-colab {\n",
       "                    background-color: var(--colab-primary-surface-color, white);\n",
       "                }\n",
       "\n",
       "                .geemap-colab .jupyter-button {\n",
       "                    --jp-layout-color3: var(--colab-primary-surface-color, white);\n",
       "                }\n",
       "            </style>\n",
       "            "
      ],
      "text/plain": [
       "<IPython.core.display.HTML object>"
      ]
     },
     "metadata": {},
     "output_type": "display_data"
    }
   ],
   "source": [
    "# Create pre-/post-fire composites and fire mask\n",
    "pre_fire_img = collection.filterDate(pre_fire_start, ee.Date(region['alarm_date'])).median().clip(expand_regions)\n",
    "post_fire_img = collection.filterDate(ee.Date(region['containment_date']), post_fire_end).median().clip(expand_regions)\n",
    "fire_mask = ee.Image(0).byte().paint(region_geom, 1).rename(\"mask\").clip(expand_regions)\n",
    "\n",
    "# Calculate NBR\n",
    "pre_fire_nbr = pre_fire_img.normalizedDifference(['B8', 'B12']).rename('NBR')\n",
    "post_fire_nbr = post_fire_img.normalizedDifference(['B8', 'B12']).rename('NBR')\n",
    "dnbr = pre_fire_nbr.subtract(post_fire_nbr).rename('dNBR')"
   ]
  },
  {
   "cell_type": "code",
   "execution_count": null,
   "id": "52187f71",
   "metadata": {},
   "outputs": [],
   "source": [
    "# Combine all bands into separate images for smaller exports\n",
    "clean_name = region['name'].replace(' ', '_').replace('/', '_')\n",
    "alarm_date_short = region['alarm_date'][:10].replace('-', '')\n",
    "\n",
    "pre_fire_visual = pre_fire_img.select(['B2', 'B3', 'B4', 'B8', 'B12'])  \n",
    "post_fire_visual = post_fire_img.select(['B2', 'B3', 'B4', 'B8', 'B12'])  "
   ]
  },
  {
   "cell_type": "code",
   "execution_count": null,
   "id": "4d790da6",
   "metadata": {},
   "outputs": [
    {
     "data": {
      "text/html": [
       "\n",
       "            <style>\n",
       "                .geemap-dark {\n",
       "                    --jp-widgets-color: white;\n",
       "                    --jp-widgets-label-color: white;\n",
       "                    --jp-ui-font-color1: white;\n",
       "                    --jp-layout-color2: #454545;\n",
       "                    background-color: #383838;\n",
       "                }\n",
       "\n",
       "                .geemap-dark .jupyter-button {\n",
       "                    --jp-layout-color3: #383838;\n",
       "                }\n",
       "\n",
       "                .geemap-colab {\n",
       "                    background-color: var(--colab-primary-surface-color, white);\n",
       "                }\n",
       "\n",
       "                .geemap-colab .jupyter-button {\n",
       "                    --jp-layout-color3: var(--colab-primary-surface-color, white);\n",
       "                }\n",
       "            </style>\n",
       "            "
      ],
      "text/plain": [
       "<IPython.core.display.HTML object>"
      ]
     },
     "metadata": {},
     "output_type": "display_data"
    },
    {
     "data": {
      "application/vnd.jupyter.widget-view+json": {
       "model_id": "abf22a17b12d4a13ab213277c9ac3952",
       "version_major": 2,
       "version_minor": 0
      },
      "text/plain": [
       "Map(center=[34.17438483513894, -118.68588182266683], controls=(WidgetControl(options=['position', 'transparent…"
      ]
     },
     "execution_count": 50,
     "metadata": {},
     "output_type": "execute_result"
    }
   ],
   "source": [
    "# Create an interactive map\n",
    "Map = geemap.Map()\n",
    "Map.add_basemap('SATELLITE')  # Add satellite basemap\n",
    "\n",
    "# Pre-fire \n",
    "pre_fire_rgb = pre_fire_img.select(['B4', 'B3', 'B2'])  # RGB bands\n",
    "Map.addLayer(pre_fire_rgb, {'min': 0, 'max': 3000}, 'Pre-fire RGB')\n",
    "\n",
    "# Post-fire\n",
    "post_fire_rgb = post_fire_img.select(['B4', 'B3', 'B2'])  # RGB bands\n",
    "Map.addLayer(post_fire_rgb, {'min': 0, 'max': 3000}, 'Post-fire RGB')\n",
    "\n",
    "# Pre-fire false color (for vegetation)\n",
    "pre_fire_false_color = pre_fire_img.select(['B8', 'B4', 'B3'])  # NIR, Red, Green\n",
    "Map.addLayer(pre_fire_false_color, {'min': 0, 'max': 3000}, 'Pre-fire False Color')\n",
    "\n",
    "# Post-fire false color\n",
    "post_fire_false_color = post_fire_img.select(['B8', 'B4', 'B3'])  # NIR, Red, Green\n",
    "Map.addLayer(post_fire_false_color, {'min': 0, 'max': 3000}, 'Post-fire False Color')\n",
    "\n",
    "# NBR difference (dNBR) for fire severity\n",
    "dnbr_vis = {\n",
    "    'min': -1, \n",
    "    'max': 1,\n",
    "    'palette': ['blue', 'green', 'yellow', 'red']  # Blue (unburned) to Red (severely burned)\n",
    "}\n",
    "Map.addLayer(dnbr, dnbr_vis, 'dNBR Fire Severity')\n",
    "\n",
    "# Fire mask\n",
    "fire_mask_vis = {\n",
    "    'min': 0,\n",
    "    'max': 1,\n",
    "    'palette': ['00000000', 'FFFFFF']  # Transparent, White\n",
    "}\n",
    "Map.addLayer(fire_mask, fire_mask_vis, 'Fire Mask')\n",
    "Map.centerObject(expand_regions, 10)\n",
    "Map\n"
   ]
  },
  {
   "cell_type": "code",
   "execution_count": null,
   "id": "f50405e4",
   "metadata": {},
   "outputs": [],
   "source": [
    "### ==============================================================================================\n",
    "### Export image to Googel Drive\n",
    "### ==============================================================================================\n",
    "output_folder = f\"test\"\n",
    "\n",
    "# Export Pre-fire image \n",
    "task1 = ee.batch.Export.image.toDrive(\n",
    "        image=pre_fire_visual,\n",
    "        description=f'{clean_name}_{alarm_date_short}',\n",
    "        folder=f'{output_folder}/pre_fire',\n",
    "        scale=20,\n",
    "        region=expand_regions,\n",
    "        maxPixels=1e10,\n",
    "        fileFormat='GeoTIFF'\n",
    "    )\n",
    "task1.start()\n",
    "\n",
    "# Export Post-fire image \n",
    "task2 = ee.batch.Export.image.toDrive(\n",
    "    image=post_fire_visual,\n",
    "    description=f'{clean_name}_{alarm_date_short}',\n",
    "    folder=f'{output_folder}/post_fire',\n",
    "    scale=20,\n",
    "    region=expand_regions,\n",
    "    maxPixels=1e10,\n",
    "    fileFormat='GeoTIFF'\n",
    ")\n",
    "task2.start()\n",
    "\n",
    "# Export Fire mask\n",
    "task3 = ee.batch.Export.image.toDrive(\n",
    "    image=fire_mask,\n",
    "    description=f'{clean_name}_{alarm_date_short}',\n",
    "    folder=f'{output_folder}/masks',\n",
    "    scale=20,\n",
    "    region=expand_regions,\n",
    "    maxPixels=1e10,\n",
    "    fileFormat='GeoTIFF'\n",
    ")\n",
    "task3.start()\n",
    "\n",
    "# Export dNBR\n",
    "task4 = ee.batch.Export.image.toDrive(\n",
    "    image=dnbr,\n",
    "    description=f'{clean_name}_{alarm_date_short}',\n",
    "    folder=f'{output_folder}/dnbr',\n",
    "    scale=20,\n",
    "    region=expand_regions,\n",
    "    maxPixels=1e10,\n",
    "    fileFormat='GeoTIFF'\n",
    ")\n",
    "task4.start()"
   ]
  }
 ],
 "metadata": {
  "colab": {
   "provenance": []
  },
  "kernelspec": {
   "display_name": "helios_env",
   "language": "python",
   "name": "python3"
  },
  "language_info": {
   "codemirror_mode": {
    "name": "ipython",
    "version": 3
   },
   "file_extension": ".py",
   "mimetype": "text/x-python",
   "name": "python",
   "nbconvert_exporter": "python",
   "pygments_lexer": "ipython3",
   "version": "3.11.11"
  }
 },
 "nbformat": 4,
 "nbformat_minor": 5
}
