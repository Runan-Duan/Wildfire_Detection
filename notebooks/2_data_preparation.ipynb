{
 "cells": [
  {
   "cell_type": "markdown",
   "id": "a7d56c9d",
   "metadata": {},
   "source": [
    "## Data Preparation for Training"
   ]
  },
  {
   "cell_type": "code",
   "execution_count": null,
   "id": "ec213a6e",
   "metadata": {},
   "outputs": [],
   "source": [
    "import numpy as np\n",
    "import matplotlib.pyplot as plt\n",
    "import rasterio as rio\n",
    "from scipy import ndimage"
   ]
  },
  {
   "cell_type": "code",
   "execution_count": null,
   "id": "0274ee2c",
   "metadata": {},
   "outputs": [],
   "source": [
    "in_file = 'KENNETH_20250109_post_fire.tif'\n",
    "out_file = 'KENNETH_20250109_interpolated.tif'\n",
    "mask_file = \"KENNETH_20250109_mask.tif\""
   ]
  },
  {
   "cell_type": "code",
   "execution_count": null,
   "id": "90bdf54e",
   "metadata": {},
   "outputs": [],
   "source": [
    "with rio.open(in_file) as img:\n",
    "    data = img.read().astype(np.float32)\n",
    "    profile = img.profile\n",
    "    data[data == img.nodata] = np.nan\n",
    "\n",
    "filled_data = np.zeros_like(data)\n",
    "\n",
    "for idx in range(data.shape[0]):\n",
    "    band = data[idx,:, :].copy()\n",
    "    mask = np.isnan(band)  # True is nan\n",
    "    if np.any(mask):\n",
    "        # Replace nan with nearest non-nan values\n",
    "        indices = ndimage.distance_transform_edt(mask, return_distances=False, return_indices=True)\n",
    "        band = band[tuple(indices)]\n",
    "    filled_data[idx] = band \n",
    "\n",
    "profile.update(dtype=rio.float32, nodata=np.nan)\n",
    "\n",
    "with rio.open(out_file, 'w', **profile) as out:\n",
    "    out.write(filled_data)"
   ]
  },
  {
   "cell_type": "code",
   "execution_count": null,
   "id": "3b3dd9ab",
   "metadata": {},
   "outputs": [],
   "source": [
    "data.shape\n",
    "filled_data.shape\n",
    "np.isnan(filled_data)"
   ]
  },
  {
   "cell_type": "markdown",
   "id": "35528872",
   "metadata": {},
   "source": [
    "#### Band normlization\n",
    "\n",
    "https://github.com/allenai/satlas/blob/main/Normalization.md"
   ]
  },
  {
   "cell_type": "code",
   "execution_count": null,
   "id": "f059c3fc",
   "metadata": {},
   "outputs": [],
   "source": [
    "with rio.open(out_file) as f:\n",
    "    bands = f.read()\n",
    "    norm_data = np.zeros_like(bands)\n",
    "    for i in range(bands.shape[0]):\n",
    "        print(f\"Max in origin band {i}: {np.max(bands[i])}, Min in origin band {i}: {np.min(bands[i])}\")\n",
    "        # Perform per-band normalization\n",
    "        norm_data[i] = (bands[i] - np.min(bands[i])) / (np.max(bands[i]) - np.min(bands[i]))\n",
    "        print(f\"Max in normalized band {i}: {np.max(norm_data[i])}, Min in normalized band {i}: {np.min(norm_data[i])}\")\n"
   ]
  },
  {
   "cell_type": "code",
   "execution_count": null,
   "id": "a2b96569",
   "metadata": {},
   "outputs": [],
   "source": [
    "with rio.open(mask_file) as m:\n",
    "    mask = m.read()\n",
    "mask.squeeze().shape"
   ]
  },
  {
   "cell_type": "code",
   "execution_count": null,
   "id": "1c6d00ab",
   "metadata": {},
   "outputs": [],
   "source": [
    "fig, ax = plt.subplots(2, 3, figsize=(10, 8))\n",
    "ax[0, 0].imshow(norm_data[0], )\n",
    "ax[0, 0].set_title(\"Blue\")\n",
    "ax[0, 1].imshow(norm_data[1])\n",
    "ax[0, 1].set_title(\"Green\")\n",
    "ax[0, 2].imshow(norm_data[2])\n",
    "ax[0, 2].set_title(\"Red\")\n",
    "ax[1, 0].imshow(norm_data[3])\n",
    "ax[1, 0].set_title(\"Near Infrared\")\n",
    "ax[1, 1].imshow(norm_data[4])\n",
    "ax[1, 1].set_title(\"Short Wave Infrared\")\n",
    "ax[1, 2].imshow(mask[0])\n",
    "ax[1, 2].set_title(\"Mask\")    # 0 is the background\n",
    "plt.show()"
   ]
  }
 ],
 "metadata": {
  "language_info": {
   "name": "python"
  }
 },
 "nbformat": 4,
 "nbformat_minor": 5
}
