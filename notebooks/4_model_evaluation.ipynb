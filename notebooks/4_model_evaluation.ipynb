{
 "cells": [
  {
   "cell_type": "markdown",
   "id": "73d39bc3",
   "metadata": {},
   "source": [
    "## Part 5: Baseline -- dNBR \n",
    "\n",
    "\n",
    "Source: https://docs.digitalearthafrica.org/en/latest/sandbox/notebooks/Real_world_examples/Burnt_area_mapping.html"
   ]
  },
  {
   "cell_type": "code",
   "execution_count": 1,
   "id": "70a266eb",
   "metadata": {},
   "outputs": [],
   "source": [
    "import numpy as np\n",
    "import rasterio as rio\n",
    "import os"
   ]
  },
  {
   "cell_type": "code",
   "execution_count": 2,
   "id": "661fc01a",
   "metadata": {},
   "outputs": [],
   "source": [
    "dnbr_dir = r\"../../data/dataset-dnbr\" \n",
    "fire_mask_dir = r\"../../data/dataset-masks\" "
   ]
  },
  {
   "cell_type": "code",
   "execution_count": null,
   "id": "1e349d63",
   "metadata": {},
   "outputs": [],
   "source": [
    "dnbr = os.listdir(dnbr_dir)\n",
    "dnbr_path = os.path.join(dnbr_dir, dnbr[0])\n",
    "mask = os.listdir(fire_mask_dir)\n",
    "mask_path = os.path.join(fire_mask_dir, mask[0])"
   ]
  },
  {
   "cell_type": "code",
   "execution_count": 22,
   "id": "4b49d9d1",
   "metadata": {},
   "outputs": [
    {
     "data": {
      "text/plain": [
       "'../data_example/masks\\\\APACHE_20240624.tif'"
      ]
     },
     "execution_count": 22,
     "metadata": {},
     "output_type": "execute_result"
    }
   ],
   "source": [
    "dnbr_path\n",
    "mask_path"
   ]
  },
  {
   "cell_type": "code",
   "execution_count": 28,
   "id": "b2244898",
   "metadata": {},
   "outputs": [],
   "source": [
    "with rio.open(dnbr_path) as dnbr:\n",
    "    data_dnbr = dnbr.read().squeeze()\n",
    "\n",
    "with rio.open(mask_path) as mask:\n",
    "    data_mask = mask.read().squeeze()"
   ]
  },
  {
   "cell_type": "code",
   "execution_count": 29,
   "id": "4357c0eb",
   "metadata": {},
   "outputs": [
    {
     "data": {
      "text/plain": [
       "True"
      ]
     },
     "execution_count": 29,
     "metadata": {},
     "output_type": "execute_result"
    }
   ],
   "source": [
    "data_dnbr.shape == data_mask.shape"
   ]
  },
  {
   "cell_type": "code",
   "execution_count": 30,
   "id": "b062aeeb",
   "metadata": {},
   "outputs": [],
   "source": [
    "threshold = 0.1\n",
    "detected_burned = (data_dnbr > threshold).astype(np.uint8)"
   ]
  },
  {
   "cell_type": "code",
   "execution_count": 31,
   "id": "c239b296",
   "metadata": {},
   "outputs": [
    {
     "name": "stdout",
     "output_type": "stream",
     "text": [
      "Burned pixels (dNBR): 15125\n",
      "Unburned pixels (dNBR): 35500\n"
     ]
    }
   ],
   "source": [
    "burned_pixels = np.sum(detected_burned == 1)\n",
    "unburned_pixels = np.sum(detected_burned == 0)\n",
    "\n",
    "print(f\"Burned pixels (dNBR): {burned_pixels}\")\n",
    "print(f\"Unburned pixels (dNBR): {unburned_pixels}\")"
   ]
  },
  {
   "cell_type": "code",
   "execution_count": null,
   "id": "55152459",
   "metadata": {},
   "outputs": [
    {
     "name": "stdout",
     "output_type": "stream",
     "text": [
      "Intersection over Union (IoU): 0.565\n"
     ]
    }
   ],
   "source": [
    "# Flatten arrays\n",
    "y_true = data_mask.flatten()\n",
    "y_pred = detected_burned.flatten()\n",
    "\n",
    "# Compute True Positive (TP), False Positive (FP), False Negative (FN)\n",
    "tp = np.sum((y_true == 1) & (y_pred == 1))\n",
    "fp = np.sum((y_true == 0) & (y_pred == 1))\n",
    "fn = np.sum((y_true == 1) & (y_pred == 0))\n",
    "# IoU calculation\n",
    "iou = tp / (tp + fp + fn) if (tp + fp + fn) > 0 else 0\n",
    "print(f\"Intersection over Union (IoU): {iou:.3f}\")"
   ]
  },
  {
   "cell_type": "code",
   "execution_count": 4,
   "id": "30b768e9",
   "metadata": {},
   "outputs": [
    {
     "name": "stdout",
     "output_type": "stream",
     "text": [
      "Average IoU over 311 images: 0.477\n",
      "Average Dice over 311 images: 0.591\n"
     ]
    }
   ],
   "source": [
    "ious = []\n",
    "dices = []\n",
    "\n",
    "threshold = 0.1\n",
    "\n",
    "# Get sorted lists to match dNBR and mask files\n",
    "dnbr_files = sorted(os.listdir(dnbr_dir))\n",
    "mask_files = sorted(os.listdir(fire_mask_dir))\n",
    "\n",
    "for dnbr_filename, mask_filename in zip(dnbr_files, mask_files):\n",
    "    dnbr_path = os.path.join(dnbr_dir, dnbr_filename)\n",
    "    mask_path = os.path.join(fire_mask_dir, mask_filename)\n",
    "    \n",
    "    # Read dNBR\n",
    "    with rio.open(dnbr_path) as src:\n",
    "        data_dnbr = src.read(1)  # read first band\n",
    "    \n",
    "    # Read fire mask\n",
    "    with rio.open(mask_path) as src:\n",
    "        data_mask = src.read(1)\n",
    "    \n",
    "    # Threshold dNBR to binary burned/unburned\n",
    "    detected_burned = (data_dnbr > threshold).astype(np.uint8)\n",
    "    \n",
    "    # Flatten arrays for IoU computation\n",
    "    y_true = data_mask.flatten()\n",
    "    y_pred = detected_burned.flatten()\n",
    "    \n",
    "    # Compute TP, FP, FN\n",
    "    tp = np.sum((y_true == 1) & (y_pred == 1))\n",
    "    fp = np.sum((y_true == 0) & (y_pred == 1))\n",
    "    fn = np.sum((y_true == 1) & (y_pred == 0))\n",
    "    \n",
    "    # Compute IoU\n",
    "    iou = tp / (tp + fp + fn) if (tp + fp + fn) > 0 else 0\n",
    "    # Compute Dice score\n",
    "    dice = (2 * tp) / (2 * tp + fp + fn) if (2 * tp + fp + fn) > 0 else 0\n",
    "    ious.append(iou)\n",
    "    dices.append(dice)\n",
    "\n",
    "# Compute average IoU over all images\n",
    "average_iou = np.mean(ious)\n",
    "average_dice = np.mean(dices)\n",
    "print(f\"Average IoU over {len(ious)} images: {average_iou:.3f}\")\n",
    "print(f\"Average Dice over {len(dices)} images: {average_dice:.3f}\")"
   ]
  }
 ],
 "metadata": {
  "kernelspec": {
   "display_name": "helios_env",
   "language": "python",
   "name": "python3"
  },
  "language_info": {
   "codemirror_mode": {
    "name": "ipython",
    "version": 3
   },
   "file_extension": ".py",
   "mimetype": "text/x-python",
   "name": "python",
   "nbconvert_exporter": "python",
   "pygments_lexer": "ipython3",
   "version": "3.11.11"
  }
 },
 "nbformat": 4,
 "nbformat_minor": 5
}
