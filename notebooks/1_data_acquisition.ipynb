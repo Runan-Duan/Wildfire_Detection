{
 "cells": [
  {
   "cell_type": "markdown",
   "id": "f189de27",
   "metadata": {},
   "source": [
    "## Part 2: Dataset Acquisition\n",
    "\n",
    "This notebook is a streamlined version of the data exploration in Part 1 and mainly contains the following steps:\n",
    "\n",
    "* Set up parameters for both data acquisition and image exportation.\n",
    "* Filter fire events based on arces calcualted by GIS  (100 ~ 10,000 arces)\n",
    "* Search the region bounds and pad the image to an identical output size of 224 * 224 pixels\n",
    "* Acquire pre- and post-fire event satellite images based on the time window (60 days before fire and 30 days after the fire).\n",
    "* Fill the mask (1 stands for burned area) with fire perimeters using region geometry.\n",
    "* Select bands from the Sentinel-2 collection (RGB, near infrared and short-wavelength infrared).\n",
    "* Compute the Normalized Burn Ratio for the pre- and post-fire dates.\n",
    "* Calculate the NBR difference by subtracting the NBR from the pre-fire state by the post-fire state.\n",
    "* Export the pre- and post-fire satellite imagery with five bands (RGB, near infrared, short-wavelength infrared), the fire mask and te NBR difference."
   ]
  },
  {
   "cell_type": "code",
   "execution_count": 2,
   "id": "9c8e651b",
   "metadata": {},
   "outputs": [],
   "source": [
    "import pandas as pd\n",
    "import geopandas as gpd\n",
    "import ee, geemap"
   ]
  },
  {
   "cell_type": "code",
   "execution_count": 3,
   "id": "1e1357df",
   "metadata": {},
   "outputs": [
    {
     "data": {
      "text/html": [
       "\n",
       "            <style>\n",
       "                .geemap-dark {\n",
       "                    --jp-widgets-color: white;\n",
       "                    --jp-widgets-label-color: white;\n",
       "                    --jp-ui-font-color1: white;\n",
       "                    --jp-layout-color2: #454545;\n",
       "                    background-color: #383838;\n",
       "                }\n",
       "\n",
       "                .geemap-dark .jupyter-button {\n",
       "                    --jp-layout-color3: #383838;\n",
       "                }\n",
       "\n",
       "                .geemap-colab {\n",
       "                    background-color: var(--colab-primary-surface-color, white);\n",
       "                }\n",
       "\n",
       "                .geemap-colab .jupyter-button {\n",
       "                    --jp-layout-color3: var(--colab-primary-surface-color, white);\n",
       "                }\n",
       "            </style>\n",
       "            "
      ],
      "text/plain": [
       "<IPython.core.display.HTML object>"
      ]
     },
     "metadata": {},
     "output_type": "display_data"
    },
    {
     "name": "stderr",
     "output_type": "stream",
     "text": [
      "*** Earth Engine *** Share your feedback by taking our Annual Developer Satisfaction Survey: https://google.qualtrics.com/jfe/form/SV_7TDKVSyKvBdmMqW?ref=4i2o6\n"
     ]
    }
   ],
   "source": [
    "ee.Authenticate()\n",
    "ee.Initialize()"
   ]
  },
  {
   "cell_type": "code",
   "execution_count": 4,
   "id": "9af015c5",
   "metadata": {},
   "outputs": [
    {
     "data": {
      "text/html": [
       "\n",
       "            <style>\n",
       "                .geemap-dark {\n",
       "                    --jp-widgets-color: white;\n",
       "                    --jp-widgets-label-color: white;\n",
       "                    --jp-ui-font-color1: white;\n",
       "                    --jp-layout-color2: #454545;\n",
       "                    background-color: #383838;\n",
       "                }\n",
       "\n",
       "                .geemap-dark .jupyter-button {\n",
       "                    --jp-layout-color3: #383838;\n",
       "                }\n",
       "\n",
       "                .geemap-colab {\n",
       "                    background-color: var(--colab-primary-surface-color, white);\n",
       "                }\n",
       "\n",
       "                .geemap-colab .jupyter-button {\n",
       "                    --jp-layout-color3: var(--colab-primary-surface-color, white);\n",
       "                }\n",
       "            </style>\n",
       "            "
      ],
      "text/plain": [
       "<IPython.core.display.HTML object>"
      ]
     },
     "metadata": {},
     "output_type": "display_data"
    }
   ],
   "source": [
    "### ==============================================================================================\n",
    "### Setup parameters\n",
    "### ==============================================================================================\n",
    "# Parameters for data acquisition\n",
    "CLOUD_THRESHOLD = 20\n",
    "PRE_FIRE_DAYS = 60  # Days before fire to include\n",
    "POST_FIRE_DAYS = 30  # Days after containment to include\n",
    "\n",
    "\n",
    "# Parameters for export\n",
    "TARGET_PIXELS = 224\n",
    "SCALE = 20  # Meters per pixel\n",
    "# Approximate meters per degree at equator\n",
    "# We prefer to large image for cropping\n",
    "METERS_PER_DEGREE = 111320 "
   ]
  },
  {
   "cell_type": "code",
   "execution_count": 5,
   "id": "461dbce2",
   "metadata": {},
   "outputs": [
    {
     "data": {
      "text/html": [
       "\n",
       "            <style>\n",
       "                .geemap-dark {\n",
       "                    --jp-widgets-color: white;\n",
       "                    --jp-widgets-label-color: white;\n",
       "                    --jp-ui-font-color1: white;\n",
       "                    --jp-layout-color2: #454545;\n",
       "                    background-color: #383838;\n",
       "                }\n",
       "\n",
       "                .geemap-dark .jupyter-button {\n",
       "                    --jp-layout-color3: #383838;\n",
       "                }\n",
       "\n",
       "                .geemap-colab {\n",
       "                    background-color: var(--colab-primary-surface-color, white);\n",
       "                }\n",
       "\n",
       "                .geemap-colab .jupyter-button {\n",
       "                    --jp-layout-color3: var(--colab-primary-surface-color, white);\n",
       "                }\n",
       "            </style>\n",
       "            "
      ],
      "text/plain": [
       "<IPython.core.display.HTML object>"
      ]
     },
     "metadata": {},
     "output_type": "display_data"
    }
   ],
   "source": [
    "### ==============================================================================================\n",
    "### Read GeoJSON file and preprocessing\n",
    "### ==============================================================================================\n",
    "in_file = f\"../../data/California_Historic_Fire_Perimeters.geojson\"\n",
    "fire_gdf = gpd.read_file(in_file)\n",
    "fire_df = pd.DataFrame(fire_gdf)\n",
    "fire_df[\"ALARM_DATE_ISO\"] = pd.to_datetime(fire_df.ALARM_DATE, format='%a, %d %b %Y %H:%M:%S %Z').dt.tz_convert('UTC').dt.strftime('%Y-%m-%dT%H:%M:%SZ')\n",
    "fire_df[\"CONT_DATE_ISO\"]  = pd.to_datetime(fire_df.CONT_DATE, format='%a, %d %b %Y %H:%M:%S %Z').dt.tz_convert('UTC').dt.strftime('%Y-%m-%dT%H:%M:%SZ')"
   ]
  },
  {
   "cell_type": "code",
   "execution_count": 6,
   "id": "29a48caa",
   "metadata": {},
   "outputs": [
    {
     "data": {
      "text/html": [
       "\n",
       "            <style>\n",
       "                .geemap-dark {\n",
       "                    --jp-widgets-color: white;\n",
       "                    --jp-widgets-label-color: white;\n",
       "                    --jp-ui-font-color1: white;\n",
       "                    --jp-layout-color2: #454545;\n",
       "                    background-color: #383838;\n",
       "                }\n",
       "\n",
       "                .geemap-dark .jupyter-button {\n",
       "                    --jp-layout-color3: #383838;\n",
       "                }\n",
       "\n",
       "                .geemap-colab {\n",
       "                    background-color: var(--colab-primary-surface-color, white);\n",
       "                }\n",
       "\n",
       "                .geemap-colab .jupyter-button {\n",
       "                    --jp-layout-color3: var(--colab-primary-surface-color, white);\n",
       "                }\n",
       "            </style>\n",
       "            "
      ],
      "text/plain": [
       "<IPython.core.display.HTML object>"
      ]
     },
     "metadata": {},
     "output_type": "display_data"
    }
   ],
   "source": [
    "### ==============================================================================================\n",
    "### Filter fire events\n",
    "### ==============================================================================================\n",
    "medium_fires = fire_df[\n",
    "    (fire_df.GIS_ACRES < 10000) & \n",
    "    (fire_df.GIS_ACRES > 1000) & \n",
    "    (fire_df.DECADES == \"2020-January 2025\") &\n",
    "    (fire_df.ALARM_DATE_ISO.notna()) &\n",
    "    (fire_df.CONT_DATE_ISO.notna()) ]"
   ]
  },
  {
   "cell_type": "code",
   "execution_count": 7,
   "id": "d5484c34",
   "metadata": {},
   "outputs": [
    {
     "data": {
      "text/html": [
       "\n",
       "            <style>\n",
       "                .geemap-dark {\n",
       "                    --jp-widgets-color: white;\n",
       "                    --jp-widgets-label-color: white;\n",
       "                    --jp-ui-font-color1: white;\n",
       "                    --jp-layout-color2: #454545;\n",
       "                    background-color: #383838;\n",
       "                }\n",
       "\n",
       "                .geemap-dark .jupyter-button {\n",
       "                    --jp-layout-color3: #383838;\n",
       "                }\n",
       "\n",
       "                .geemap-colab {\n",
       "                    background-color: var(--colab-primary-surface-color, white);\n",
       "                }\n",
       "\n",
       "                .geemap-colab .jupyter-button {\n",
       "                    --jp-layout-color3: var(--colab-primary-surface-color, white);\n",
       "                }\n",
       "            </style>\n",
       "            "
      ],
      "text/plain": [
       "<IPython.core.display.HTML object>"
      ]
     },
     "metadata": {},
     "output_type": "display_data"
    }
   ],
   "source": [
    "small_fires = fire_df[\n",
    "    (fire_df.GIS_ACRES < 1000) & \n",
    "    (fire_df.GIS_ACRES > 100) & \n",
    "    (fire_df.DECADES == \"2020-January 2025\") &\n",
    "    (fire_df.ALARM_DATE_ISO.notna()) &\n",
    "    (fire_df.CONT_DATE_ISO.notna()) ]"
   ]
  },
  {
   "cell_type": "code",
   "execution_count": 14,
   "id": "55d358ea",
   "metadata": {},
   "outputs": [
    {
     "data": {
      "text/html": [
       "\n",
       "            <style>\n",
       "                .geemap-dark {\n",
       "                    --jp-widgets-color: white;\n",
       "                    --jp-widgets-label-color: white;\n",
       "                    --jp-ui-font-color1: white;\n",
       "                    --jp-layout-color2: #454545;\n",
       "                    background-color: #383838;\n",
       "                }\n",
       "\n",
       "                .geemap-dark .jupyter-button {\n",
       "                    --jp-layout-color3: #383838;\n",
       "                }\n",
       "\n",
       "                .geemap-colab {\n",
       "                    background-color: var(--colab-primary-surface-color, white);\n",
       "                }\n",
       "\n",
       "                .geemap-colab .jupyter-button {\n",
       "                    --jp-layout-color3: var(--colab-primary-surface-color, white);\n",
       "                }\n",
       "            </style>\n",
       "            "
      ],
      "text/plain": [
       "<IPython.core.display.HTML object>"
      ]
     },
     "metadata": {},
     "output_type": "display_data"
    }
   ],
   "source": [
    "very_small_fires = fire_df[\n",
    "    (fire_df.GIS_ACRES < 100) & \n",
    "    (fire_df.GIS_ACRES > 0) & \n",
    "    (fire_df.DECADES == \"2020-January 2025\") &\n",
    "    (fire_df.ALARM_DATE_ISO.notna()) &\n",
    "    (fire_df.CONT_DATE_ISO.notna()) ]"
   ]
  },
  {
   "cell_type": "code",
   "execution_count": 8,
   "id": "6694a2ad",
   "metadata": {},
   "outputs": [
    {
     "data": {
      "text/html": [
       "\n",
       "            <style>\n",
       "                .geemap-dark {\n",
       "                    --jp-widgets-color: white;\n",
       "                    --jp-widgets-label-color: white;\n",
       "                    --jp-ui-font-color1: white;\n",
       "                    --jp-layout-color2: #454545;\n",
       "                    background-color: #383838;\n",
       "                }\n",
       "\n",
       "                .geemap-dark .jupyter-button {\n",
       "                    --jp-layout-color3: #383838;\n",
       "                }\n",
       "\n",
       "                .geemap-colab {\n",
       "                    background-color: var(--colab-primary-surface-color, white);\n",
       "                }\n",
       "\n",
       "                .geemap-colab .jupyter-button {\n",
       "                    --jp-layout-color3: var(--colab-primary-surface-color, white);\n",
       "                }\n",
       "            </style>\n",
       "            "
      ],
      "text/plain": [
       "<IPython.core.display.HTML object>"
      ]
     },
     "metadata": {},
     "output_type": "display_data"
    },
    {
     "data": {
      "text/plain": [
       "494"
      ]
     },
     "execution_count": 8,
     "metadata": {},
     "output_type": "execute_result"
    }
   ],
   "source": [
    "fire_events = pd.concat([small_fires, medium_fires], axis=0)\n",
    "len(fire_events)"
   ]
  },
  {
   "cell_type": "code",
   "execution_count": 15,
   "id": "bdf103f9",
   "metadata": {},
   "outputs": [
    {
     "data": {
      "text/html": [
       "\n",
       "            <style>\n",
       "                .geemap-dark {\n",
       "                    --jp-widgets-color: white;\n",
       "                    --jp-widgets-label-color: white;\n",
       "                    --jp-ui-font-color1: white;\n",
       "                    --jp-layout-color2: #454545;\n",
       "                    background-color: #383838;\n",
       "                }\n",
       "\n",
       "                .geemap-dark .jupyter-button {\n",
       "                    --jp-layout-color3: #383838;\n",
       "                }\n",
       "\n",
       "                .geemap-colab {\n",
       "                    background-color: var(--colab-primary-surface-color, white);\n",
       "                }\n",
       "\n",
       "                .geemap-colab .jupyter-button {\n",
       "                    --jp-layout-color3: var(--colab-primary-surface-color, white);\n",
       "                }\n",
       "            </style>\n",
       "            "
      ],
      "text/plain": [
       "<IPython.core.display.HTML object>"
      ]
     },
     "metadata": {},
     "output_type": "display_data"
    }
   ],
   "source": [
    "### ==============================================================================================\n",
    "### Add metadata for the chosen region\n",
    "### ==============================================================================================\n",
    "analysis_regions = []\n",
    "for idx, fire in very_small_fires.iterrows():\n",
    "    fire_geom = fire.geometry\n",
    "    analysis_regions.append({\n",
    "        'name': fire.FIRE_NAME,\n",
    "        'geometry': fire_geom,\n",
    "        'alarm_date': fire.ALARM_DATE_ISO,\n",
    "        'containment_date': fire.CONT_DATE_ISO,\n",
    "        'acres_burned': fire.GIS_ACRES\n",
    "    })"
   ]
  },
  {
   "cell_type": "code",
   "execution_count": 16,
   "id": "83bd881f",
   "metadata": {},
   "outputs": [
    {
     "data": {
      "text/html": [
       "\n",
       "            <style>\n",
       "                .geemap-dark {\n",
       "                    --jp-widgets-color: white;\n",
       "                    --jp-widgets-label-color: white;\n",
       "                    --jp-ui-font-color1: white;\n",
       "                    --jp-layout-color2: #454545;\n",
       "                    background-color: #383838;\n",
       "                }\n",
       "\n",
       "                .geemap-dark .jupyter-button {\n",
       "                    --jp-layout-color3: #383838;\n",
       "                }\n",
       "\n",
       "                .geemap-colab {\n",
       "                    background-color: var(--colab-primary-surface-color, white);\n",
       "                }\n",
       "\n",
       "                .geemap-colab .jupyter-button {\n",
       "                    --jp-layout-color3: var(--colab-primary-surface-color, white);\n",
       "                }\n",
       "            </style>\n",
       "            "
      ],
      "text/plain": [
       "<IPython.core.display.HTML object>"
      ]
     },
     "metadata": {},
     "output_type": "display_data"
    }
   ],
   "source": [
    "def expand_region(region_geom):\n",
    "    \"\"\"Expand region bounds if smaller than target crop size in meters.\"\"\"\n",
    "    # Extract the coordinates and bounds\n",
    "    bounds = region_geom.bounds()\n",
    "    coord = bounds.coordinates().getInfo()[0]\n",
    "    xmin, ymin = coord[0]\n",
    "    xmax, ymax = coord[2]\n",
    "\n",
    "    # Compute the image size\n",
    "    width_m = (xmax - xmin) * METERS_PER_DEGREE\n",
    "    height_m = (ymax - ymin) * METERS_PER_DEGREE\n",
    "    min_size_m = SCALE * TARGET_PIXELS\n",
    "\n",
    "    # Compute padding if the export image will smaller than target\n",
    "    pad_x = max(0, (min_size_m - width_m) / METERS_PER_DEGREE / 2)\n",
    "    pad_y = max(0, (min_size_m - height_m) / METERS_PER_DEGREE / 2)\n",
    "\n",
    "    # Expand the bounds\n",
    "    new_bounds = ee.Geometry.Rectangle([xmin - pad_x, ymin - pad_y, xmax + pad_x, ymax + pad_y])\n",
    "    return new_bounds"
   ]
  },
  {
   "cell_type": "code",
   "execution_count": 17,
   "id": "541ee0a1",
   "metadata": {},
   "outputs": [
    {
     "data": {
      "text/html": [
       "\n",
       "            <style>\n",
       "                .geemap-dark {\n",
       "                    --jp-widgets-color: white;\n",
       "                    --jp-widgets-label-color: white;\n",
       "                    --jp-ui-font-color1: white;\n",
       "                    --jp-layout-color2: #454545;\n",
       "                    background-color: #383838;\n",
       "                }\n",
       "\n",
       "                .geemap-dark .jupyter-button {\n",
       "                    --jp-layout-color3: #383838;\n",
       "                }\n",
       "\n",
       "                .geemap-colab {\n",
       "                    background-color: var(--colab-primary-surface-color, white);\n",
       "                }\n",
       "\n",
       "                .geemap-colab .jupyter-button {\n",
       "                    --jp-layout-color3: var(--colab-primary-surface-color, white);\n",
       "                }\n",
       "            </style>\n",
       "            "
      ],
      "text/plain": [
       "<IPython.core.display.HTML object>"
      ]
     },
     "metadata": {},
     "output_type": "display_data"
    }
   ],
   "source": [
    "output_folder = f\"very_small\""
   ]
  },
  {
   "cell_type": "code",
   "execution_count": 12,
   "id": "318407d6",
   "metadata": {},
   "outputs": [
    {
     "data": {
      "text/html": [
       "\n",
       "            <style>\n",
       "                .geemap-dark {\n",
       "                    --jp-widgets-color: white;\n",
       "                    --jp-widgets-label-color: white;\n",
       "                    --jp-ui-font-color1: white;\n",
       "                    --jp-layout-color2: #454545;\n",
       "                    background-color: #383838;\n",
       "                }\n",
       "\n",
       "                .geemap-dark .jupyter-button {\n",
       "                    --jp-layout-color3: #383838;\n",
       "                }\n",
       "\n",
       "                .geemap-colab {\n",
       "                    background-color: var(--colab-primary-surface-color, white);\n",
       "                }\n",
       "\n",
       "                .geemap-colab .jupyter-button {\n",
       "                    --jp-layout-color3: var(--colab-primary-surface-color, white);\n",
       "                }\n",
       "            </style>\n",
       "            "
      ],
      "text/plain": [
       "<IPython.core.display.HTML object>"
      ]
     },
     "metadata": {},
     "output_type": "display_data"
    },
    {
     "data": {
      "text/plain": [
       "{'name': '5-6 CASCADE CREEK',\n",
       " 'geometry': <POLYGON ((-121.183 39.692, -121.183 39.691, -121.184 39.691, -121.184 39.69...>,\n",
       " 'alarm_date': '2020-08-17T07:00:00Z',\n",
       " 'containment_date': '2020-09-10T07:00:00Z',\n",
       " 'acres_burned': 260.1756}"
      ]
     },
     "execution_count": 12,
     "metadata": {},
     "output_type": "execute_result"
    }
   ],
   "source": [
    "analysis_regions[310]"
   ]
  },
  {
   "cell_type": "code",
   "execution_count": null,
   "id": "d2508d8a",
   "metadata": {},
   "outputs": [
    {
     "data": {
      "text/html": [
       "\n",
       "            <style>\n",
       "                .geemap-dark {\n",
       "                    --jp-widgets-color: white;\n",
       "                    --jp-widgets-label-color: white;\n",
       "                    --jp-ui-font-color1: white;\n",
       "                    --jp-layout-color2: #454545;\n",
       "                    background-color: #383838;\n",
       "                }\n",
       "\n",
       "                .geemap-dark .jupyter-button {\n",
       "                    --jp-layout-color3: #383838;\n",
       "                }\n",
       "\n",
       "                .geemap-colab {\n",
       "                    background-color: var(--colab-primary-surface-color, white);\n",
       "                }\n",
       "\n",
       "                .geemap-colab .jupyter-button {\n",
       "                    --jp-layout-color3: var(--colab-primary-surface-color, white);\n",
       "                }\n",
       "            </style>\n",
       "            "
      ],
      "text/plain": [
       "<IPython.core.display.HTML object>"
      ]
     },
     "metadata": {},
     "output_type": "display_data"
    },
    {
     "name": "stdout",
     "output_type": "stream",
     "text": [
      "Processing region: R-1 MAPES\n",
      "Processing region: AURORA\n",
      "Processing region: MARTINDALE\n",
      "Processing region: SHEEP\n",
      "Processing region: BRADLEY\n",
      "Processing region: SPRING\n",
      "Processing region: DAM\n",
      "Processing region: SPRINGS\n",
      "Processing region: BASEBALL\n",
      "Processing region: BITTERWATER\n",
      "Processing region: TEXAS\n",
      "Processing region: NORTH WHIZZ DOME\n",
      "Processing region: R-3 SKEDDADLE\n",
      "Processing region: DYER\n",
      "Processing region: HUNTER\n",
      "Processing region: R-3 LITTLE FREDOYNER\n",
      "Processing region: CARRIZO\n",
      "Processing region: BROOK\n",
      "Processing region: BEEGUM\n",
      "Processing region: CASTAIC\n",
      "Processing region: R-6 TUNNISON\n",
      "Processing region: 1-7\n",
      "Processing region: BRUDER\n",
      "Processing region: BAKER\n",
      "Processing region: LAKEVILLE\n",
      "Processing region: ELSMERE\n",
      "Processing region: MINA\n",
      "Processing region: TOPAZ\n",
      "Processing region: HOLLISTER\n",
      "Processing region: GRIZZLY\n",
      "Processing region: SODA\n",
      "Processing region: POWER\n",
      "Processing region: VINEYARD\n",
      "Processing region: HILL\n",
      "Processing region: AVOCADO\n",
      "Processing region: DERSCH\n",
      "Processing region: RAILROAD\n",
      "Processing region: SMOKETREE\n",
      "Processing region: SAN DIMAS\n",
      "Processing region: IRIS\n",
      "Processing region: 166\n",
      "Processing region: PITZER\n",
      "Processing region: FORKS\n",
      "Processing region: BASIC\n",
      "Processing region: NELSON\n",
      "Processing region: CLARK\n",
      "Processing region: NELSON\n",
      "Processing region: ELLIOT\n",
      "Processing region: ANTELOPE\n",
      "Processing region: REDWOOD\n",
      "Processing region: RANCHO\n",
      "Processing region: LONG\n",
      "Processing region: HILL\n",
      "Processing region: WHITE\n",
      "Processing region: AERO\n",
      "Processing region: NIXON\n",
      "Processing region: SHOE\n",
      "Processing region: NORTH\n",
      "Processing region: HORSESHOE\n",
      "Processing region: FRANKLIN\n",
      "Processing region: LOST HILLS\n",
      "Processing region: PEDRO\n",
      "Processing region: THOMPSON\n",
      "Processing region: BEAR\n",
      "Processing region: LOST 3\n",
      "Processing region: MILL\n",
      "Processing region: RIDGE\n",
      "Processing region: CROZIER\n",
      "Processing region: EAGLE\n",
      "Processing region: MCCAIN 4\n",
      "Processing region: WEST\n",
      "Processing region: APACHE\n",
      "Processing region: SCHOOL\n",
      "Processing region: BEAR\n",
      "Processing region: HILL\n",
      "Processing region: OLIVE WEST\n",
      "Processing region: AIRLINE\n",
      "Processing region: RIM 3-6\n",
      "Processing region: POINT\n",
      "Processing region: HESPERIA\n",
      "Processing region: ROAD\n",
      "Processing region: JUNES\n",
      "Processing region: METZ\n",
      "Processing region: QUARRY\n",
      "Processing region: RABBIT\n",
      "Processing region: UFISH\n",
      "Processing region: HEAD\n",
      "Processing region: PLANT\n",
      "Processing region: ALMOND\n",
      "Processing region: DEEP\n",
      "Processing region: RABBIT\n",
      "Processing region: 3-9\n",
      "Processing region: SOUTH\n",
      "Processing region: HURDY GURDY\n",
      "Processing region: HIGHLAND\n",
      "Processing region: BONNY\n",
      "Processing region: REDWOOD\n",
      "Processing region: MARLOW\n",
      "Processing region: SCOTT\n",
      "Processing region: HANCOCK\n",
      "Processing region: LONE PINE\n",
      "Processing region: EAST\n",
      "Processing region: BONE\n",
      "Processing region: NONAME\n",
      "Processing region: CORRAL\n",
      "Processing region: PILOT\n",
      "Processing region: DISTRICT\n",
      "Processing region: GEOLOGY\n",
      "Processing region: RED\n",
      "Processing region: YETI\n",
      "Processing region: LOST LAKE\n",
      "Processing region: BARNES\n",
      "Processing region: ROUTE\n",
      "Processing region: WASHBURN\n",
      "Processing region: ELECTRA\n",
      "Processing region: BORDER 32\n",
      "Processing region: AIRPORT\n",
      "Processing region: MILL\n",
      "Processing region: RODGERS\n",
      "Processing region: THUNDER\n",
      "Processing region: SUMMIT\n",
      "Processing region: RADFORD \n",
      "Processing region: RIVER\n",
      "Processing region: WALKERS\n",
      "Processing region: FAWN\n",
      "Processing region: SOUTHERN\n",
      "Processing region: DEXTER\n",
      "Processing region: WILLOW\n",
      "Processing region: RIVER\n",
      "Processing region: MOJAVE\n",
      "Processing region: KNOB\n",
      "Processing region: TILTILL\n",
      "Processing region: PEAK\n",
      "Processing region: SHELL\n",
      "Processing region: CHAPARRAL\n",
      "Processing region: OWENS\n",
      "Processing region: NETTLE \n",
      "Processing region: PALISADES\n",
      "Processing region: EAST FORK\n",
      "Processing region: SARGENT\n",
      "Processing region: HOG\n",
      "Processing region: NADEAU\n",
      "Processing region: RATTLESNAKE\n",
      "Processing region: STAGECOACH\n",
      "Processing region: CARMEL\n",
      "Processing region: BLUEJAY\n",
      "Processing region: NORTH\n",
      "Processing region: BOND\n",
      "Processing region: SNOW\n",
      "Processing region: CREWS\n",
      "Processing region: GRANT\n",
      "Processing region: WOODWARD\n",
      "Processing region: RANCH2\n",
      "Processing region: BEACH\n",
      "Processing region: CREEK 5\n",
      "Processing region: BRANCH\n",
      "Processing region: BENA\n",
      "Processing region: MOC\n",
      "Processing region: LAURA 2\n",
      "Processing region: MEYERS\n",
      "Processing region: HOLSER\n",
      "Processing region: PASS\n",
      "Processing region: HILLS\n",
      "Processing region: WOLF\n",
      "Processing region: FOX\n",
      "Processing region: POND\n",
      "Processing region: SANDERSON\n",
      "Processing region: QUAIL\n",
      "Processing region: FORK\n",
      "Processing region: SODA\n",
      "Processing region: SALT\n",
      "Processing region: SOLEDAD\n",
      "Processing region: COYOTE\n",
      "Processing region: WALKER\n",
      "Processing region: DALTON \n",
      "Processing region: SCORPION\n",
      "Processing region: MORAINE\n",
      "Processing region: WILLOWS\n",
      "Processing region: OAK\n",
      "Processing region: AIRPORT\n",
      "Processing region: IVANPAH\n",
      "Processing region: GRADE\n",
      "Processing region: ALLEN\n"
     ]
    }
   ],
   "source": [
    "### ==============================================================================================\n",
    "### Run and export image to Googel Drive\n",
    "### ==============================================================================================\n",
    "for region in analysis_regions:\n",
    "    region_gdf = gpd.GeoDataFrame([region], geometry='geometry', crs='EPSG:4326')\n",
    "    region_ee = geemap.geopandas_to_ee(region_gdf)\n",
    "    region_geom = region_ee.geometry()\n",
    "    print(f\"Processing region: {region['name']}\")\n",
    "\n",
    "    # Calculate time window for imagery using ISO\n",
    "    pre_fire_start = ee.Date(region['alarm_date']).advance(-PRE_FIRE_DAYS, 'day')\n",
    "    post_fire_end = ee.Date(region['containment_date']).advance(POST_FIRE_DAYS, 'day')\n",
    "\n",
    "    # Get Sentinel-2 collection for this region and time period\n",
    "    expand_regions = expand_region(region_geom=region_geom)\n",
    "    collection = (\n",
    "        ee.ImageCollection('COPERNICUS/S2_SR_HARMONIZED')\n",
    "        .filterBounds(expand_regions)\n",
    "        .filterDate(pre_fire_start, post_fire_end)\n",
    "        .filter(ee.Filter.lt('CLOUDY_PIXEL_PERCENTAGE', CLOUD_THRESHOLD))\n",
    "        .select(['TCI_R', 'TCI_G', 'TCI_B', 'B8', 'B11', 'B12'])\n",
    "    )\n",
    "    # Create pre-fire and post-fire composites\n",
    "    # Clip to expand regions to ensure the minimum crop size\n",
    "    pre_fire_img = collection.filterDate(pre_fire_start, ee.Date(region['alarm_date'])).median().clip(expand_regions)\n",
    "    post_fire_img = collection.filterDate(ee.Date(region['containment_date']), post_fire_end).median().clip(expand_regions)\n",
    "\n",
    "    # Calculate NBR\n",
    "    pre_fire_nbr = pre_fire_img.normalizedDifference(['B8', 'B12']).rename('NBR')\n",
    "    post_fire_nbr = post_fire_img.normalizedDifference(['B8', 'B12']).rename('NBR')\n",
    "    dnbr = pre_fire_nbr.subtract(post_fire_nbr).rename('dNBR')\n",
    "\n",
    "    # Create fire mask\n",
    "    fire_mask = ee.Image(0).byte().paint(region_geom, 1).rename(\"mask\").clip(expand_regions)\n",
    "\n",
    "    # Combine all bands into separate images for smaller exports\n",
    "    clean_name = region['name'].replace(' ', '_').replace('/', '_')\n",
    "    alarm_date_short = region['alarm_date'][:10].replace('-', '')\n",
    "\n",
    "    # Export Pre-fire image \n",
    "    # pre_fire_visual = pre_fire_img.select(['TCI_R', 'TCI_G', 'TCI_B', 'B8', 'B12'])  \n",
    "    # task1 = ee.batch.Export.image.toDrive(\n",
    "    #     image=pre_fire_visual,\n",
    "    #     description=f'{clean_name}_{alarm_date_short}',\n",
    "    #     folder=f'{output_folder}/pre_fire',\n",
    "    #     scale=20,\n",
    "    #     region=expand_regions,\n",
    "    #     maxPixels=1e10,\n",
    "    #     fileFormat='GeoTIFF'\n",
    "    # )\n",
    "    # task1.start()\n",
    "\n",
    "    # Export Post-fire image \n",
    "    post_fire_visual = post_fire_img.select(['TCI_R', 'TCI_G', 'TCI_B', 'B8', 'B12'])  \n",
    "    task2 = ee.batch.Export.image.toDrive(\n",
    "        image=post_fire_visual,\n",
    "        description=f'{clean_name}_{alarm_date_short}',\n",
    "        folder=f'{output_folder}/post_fire',\n",
    "        scale=20,\n",
    "        region=expand_regions,\n",
    "        maxPixels=1e10,\n",
    "        fileFormat='GeoTIFF'\n",
    "    )\n",
    "    task2.start()\n",
    "\n",
    "    # Export Fire mask\n",
    "    task3 = ee.batch.Export.image.toDrive(\n",
    "        image=fire_mask,\n",
    "        description=f'{clean_name}_{alarm_date_short}',\n",
    "        folder=f'{output_folder}/masks',\n",
    "        scale=20,\n",
    "        region=expand_regions,\n",
    "        maxPixels=1e10,\n",
    "        fileFormat='GeoTIFF'\n",
    "    )\n",
    "    task3.start()\n",
    "\n",
    "    # # Export dNBR\n",
    "    # task4 = ee.batch.Export.image.toDrive(\n",
    "    #     image=dnbr,\n",
    "    #     description=f'{clean_name}_{alarm_date_short}',\n",
    "    #     folder=f'{output_folder}/dnbr',\n",
    "    #     scale=20,\n",
    "    #     region=expand_regions,\n",
    "    #     maxPixels=1e10,\n",
    "    #     fileFormat='GeoTIFF'\n",
    "    # )\n",
    "    # task4.start()"
   ]
  }
 ],
 "metadata": {
  "kernelspec": {
   "display_name": "helios_env",
   "language": "python",
   "name": "python3"
  },
  "language_info": {
   "codemirror_mode": {
    "name": "ipython",
    "version": 3
   },
   "file_extension": ".py",
   "mimetype": "text/x-python",
   "name": "python",
   "nbconvert_exporter": "python",
   "pygments_lexer": "ipython3",
   "version": "3.11.11"
  }
 },
 "nbformat": 4,
 "nbformat_minor": 5
}
