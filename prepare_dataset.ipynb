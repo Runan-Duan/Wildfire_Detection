{
 "cells": [
  {
   "cell_type": "markdown",
   "id": "2b5691e7",
   "metadata": {},
   "source": [
    "### Baseline\n",
    "\n",
    "threshold on the dnbr? "
   ]
  },
  {
   "cell_type": "code",
   "execution_count": 1,
   "id": "6897269a",
   "metadata": {},
   "outputs": [],
   "source": [
    "import rasterio as rio"
   ]
  },
  {
   "cell_type": "code",
   "execution_count": 2,
   "id": "5dccf71a",
   "metadata": {},
   "outputs": [],
   "source": [
    "img = rio.open('KENNETH_20250109.tif')"
   ]
  },
  {
   "cell_type": "code",
   "execution_count": 3,
   "id": "2fb37d18",
   "metadata": {},
   "outputs": [],
   "source": [
    "bands = img.read()"
   ]
  },
  {
   "cell_type": "code",
   "execution_count": 5,
   "id": "d9eda96f",
   "metadata": {},
   "outputs": [
    {
     "data": {
      "text/plain": [
       "(5, 206, 239)"
      ]
     },
     "execution_count": 5,
     "metadata": {},
     "output_type": "execute_result"
    }
   ],
   "source": [
    "bands.shape"
   ]
  },
  {
   "cell_type": "code",
   "execution_count": 1,
   "id": "3c5ca4ab",
   "metadata": {},
   "outputs": [],
   "source": [
    "import os\n",
    "import torch\n",
    "import torch.nn as nn\n",
    "import torchvision.transforms as transforms\n",
    "from torch.utils.data import Dataset, DataLoader\n",
    "import torchvision.models as models\n",
    "import numpy as np"
   ]
  },
  {
   "cell_type": "markdown",
   "id": "9fd09b61",
   "metadata": {},
   "source": [
    "#### Implement a simple U-Net\n",
    "\n",
    "\n",
    "* considering the image resolution\n",
    "* different image size for each event\n",
    "* split the dataset, avoid the leakage (spatially)"
   ]
  },
  {
   "cell_type": "code",
   "execution_count": null,
   "id": "4dd84d92",
   "metadata": {},
   "outputs": [],
   "source": []
  },
  {
   "cell_type": "markdown",
   "id": "fc4f9589",
   "metadata": {},
   "source": [
    "#### Other U-Net variants"
   ]
  },
  {
   "cell_type": "code",
   "execution_count": null,
   "id": "d05d1522",
   "metadata": {},
   "outputs": [],
   "source": []
  },
  {
   "cell_type": "code",
   "execution_count": null,
   "id": "64103395",
   "metadata": {},
   "outputs": [],
   "source": []
  },
  {
   "cell_type": "code",
   "execution_count": null,
   "id": "5546213c",
   "metadata": {},
   "outputs": [],
   "source": []
  },
  {
   "cell_type": "code",
   "execution_count": null,
   "id": "2a32af41",
   "metadata": {},
   "outputs": [],
   "source": []
  }
 ],
 "metadata": {
  "kernelspec": {
   "display_name": "3dcv",
   "language": "python",
   "name": "python3"
  },
  "language_info": {
   "codemirror_mode": {
    "name": "ipython",
    "version": 3
   },
   "file_extension": ".py",
   "mimetype": "text/x-python",
   "name": "python",
   "nbconvert_exporter": "python",
   "pygments_lexer": "ipython3",
   "version": "3.10.16"
  }
 },
 "nbformat": 4,
 "nbformat_minor": 5
}
