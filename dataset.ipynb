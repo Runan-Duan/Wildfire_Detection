{
 "cells": [
  {
   "cell_type": "markdown",
   "id": "QwQOwilviy9a",
   "metadata": {
    "id": "QwQOwilviy9a"
   },
   "source": [
    "#### Import libraries and packages"
   ]
  },
  {
   "cell_type": "code",
   "execution_count": 2,
   "id": "fe316d16",
   "metadata": {
    "executionInfo": {
     "elapsed": 3408,
     "status": "ok",
     "timestamp": 1756909646246,
     "user": {
      "displayName": "Runan",
      "userId": "04913747045734941455"
     },
     "user_tz": -120
    },
    "id": "fe316d16"
   },
   "outputs": [],
   "source": [
    "import pandas as pd\n",
    "import geopandas as gpd\n",
    "import rasterio as rio\n",
    "import shapely\n",
    "import ee, geemap, eemont\n",
    "import json"
   ]
  },
  {
   "cell_type": "code",
   "execution_count": 3,
   "id": "4f9527db",
   "metadata": {
    "colab": {
     "base_uri": "https://localhost:8080/",
     "height": 17
    },
    "executionInfo": {
     "elapsed": 1386,
     "status": "ok",
     "timestamp": 1756909647636,
     "user": {
      "displayName": "Runan",
      "userId": "04913747045734941455"
     },
     "user_tz": -120
    },
    "id": "4f9527db",
    "outputId": "943d3c30-ebe2-4955-fdcd-942b0262cf6c"
   },
   "outputs": [
    {
     "data": {
      "text/html": [
       "\n",
       "            <style>\n",
       "                .geemap-dark {\n",
       "                    --jp-widgets-color: white;\n",
       "                    --jp-widgets-label-color: white;\n",
       "                    --jp-ui-font-color1: white;\n",
       "                    --jp-layout-color2: #454545;\n",
       "                    background-color: #383838;\n",
       "                }\n",
       "\n",
       "                .geemap-dark .jupyter-button {\n",
       "                    --jp-layout-color3: #383838;\n",
       "                }\n",
       "\n",
       "                .geemap-colab {\n",
       "                    background-color: var(--colab-primary-surface-color, white);\n",
       "                }\n",
       "\n",
       "                .geemap-colab .jupyter-button {\n",
       "                    --jp-layout-color3: var(--colab-primary-surface-color, white);\n",
       "                }\n",
       "            </style>\n",
       "            "
      ],
      "text/plain": [
       "<IPython.core.display.HTML object>"
      ]
     },
     "metadata": {},
     "output_type": "display_data"
    }
   ],
   "source": [
    "ee.Authenticate()\n",
    "ee.Initialize()"
   ]
  },
  {
   "cell_type": "markdown",
   "id": "94b4835b",
   "metadata": {
    "id": "94b4835b"
   },
   "source": [
    "#### Load satellite dataset and fire preimeter\n",
    "\n",
    "Copernicus Sentinel-2 (COPERNICUS/S2_SR_HARMONIZED) data involves using the surface reflectance information in the data to calculate spectral indices like the Normalized Burn Ratio (NBR) or specialized indices like BADI, or employing machine learning algorithms with spectral and textural features to distinguish burned areas from other land cover changes.\n",
    "\n",
    "\n",
    "\n",
    "data source: https://gis.data.ca.gov/datasets/CALFIRE-Forestry::california-fire-perimeters-all/explore?location=37.187645%2C-120.227660%2C5.95\n",
    "\n",
    "tutorials: https://www.un-spider.org/advisory-support/recommended-practices/recommended-practice-burn-severity/burn-severity-earth-engine"
   ]
  },
  {
   "cell_type": "code",
   "execution_count": 4,
   "id": "7a2148a7",
   "metadata": {
    "colab": {
     "base_uri": "https://localhost:8080/",
     "height": 17
    },
    "executionInfo": {
     "elapsed": 27,
     "status": "ok",
     "timestamp": 1756909651724,
     "user": {
      "displayName": "Runan",
      "userId": "04913747045734941455"
     },
     "user_tz": -120
    },
    "id": "7a2148a7",
    "outputId": "2ad6657d-043d-468d-8024-3482c914087c"
   },
   "outputs": [
    {
     "data": {
      "text/html": [
       "\n",
       "            <style>\n",
       "                .geemap-dark {\n",
       "                    --jp-widgets-color: white;\n",
       "                    --jp-widgets-label-color: white;\n",
       "                    --jp-ui-font-color1: white;\n",
       "                    --jp-layout-color2: #454545;\n",
       "                    background-color: #383838;\n",
       "                }\n",
       "\n",
       "                .geemap-dark .jupyter-button {\n",
       "                    --jp-layout-color3: #383838;\n",
       "                }\n",
       "\n",
       "                .geemap-colab {\n",
       "                    background-color: var(--colab-primary-surface-color, white);\n",
       "                }\n",
       "\n",
       "                .geemap-colab .jupyter-button {\n",
       "                    --jp-layout-color3: var(--colab-primary-surface-color, white);\n",
       "                }\n",
       "            </style>\n",
       "            "
      ],
      "text/plain": [
       "<IPython.core.display.HTML object>"
      ]
     },
     "metadata": {},
     "output_type": "display_data"
    }
   ],
   "source": [
    "in_file = f\"../data/California_Historic_Fire_Perimeters.geojson\""
   ]
  },
  {
   "cell_type": "code",
   "execution_count": 5,
   "id": "MECbouvwWdZU",
   "metadata": {
    "colab": {
     "base_uri": "https://localhost:8080/",
     "height": 486
    },
    "executionInfo": {
     "elapsed": 16605,
     "status": "ok",
     "timestamp": 1756909670923,
     "user": {
      "displayName": "Runan",
      "userId": "04913747045734941455"
     },
     "user_tz": -120
    },
    "id": "MECbouvwWdZU",
    "outputId": "586a0a4f-d737-40a4-bce5-6ddc407d76f8"
   },
   "outputs": [
    {
     "data": {
      "text/html": [
       "\n",
       "            <style>\n",
       "                .geemap-dark {\n",
       "                    --jp-widgets-color: white;\n",
       "                    --jp-widgets-label-color: white;\n",
       "                    --jp-ui-font-color1: white;\n",
       "                    --jp-layout-color2: #454545;\n",
       "                    background-color: #383838;\n",
       "                }\n",
       "\n",
       "                .geemap-dark .jupyter-button {\n",
       "                    --jp-layout-color3: #383838;\n",
       "                }\n",
       "\n",
       "                .geemap-colab {\n",
       "                    background-color: var(--colab-primary-surface-color, white);\n",
       "                }\n",
       "\n",
       "                .geemap-colab .jupyter-button {\n",
       "                    --jp-layout-color3: var(--colab-primary-surface-color, white);\n",
       "                }\n",
       "            </style>\n",
       "            "
      ],
      "text/plain": [
       "<IPython.core.display.HTML object>"
      ]
     },
     "metadata": {},
     "output_type": "display_data"
    },
    {
     "name": "stdout",
     "output_type": "stream",
     "text": [
      "<class 'geopandas.geodataframe.GeoDataFrame'>\n",
      "RangeIndex: 22810 entries, 0 to 22809\n",
      "Data columns (total 20 columns):\n",
      " #   Column        Non-Null Count  Dtype   \n",
      "---  ------        --------------  -----   \n",
      " 0   OBJECTID      22810 non-null  int32   \n",
      " 1   YEAR_         22733 non-null  float64 \n",
      " 2   STATE         22810 non-null  object  \n",
      " 3   AGENCY        22761 non-null  object  \n",
      " 4   UNIT_ID       22749 non-null  object  \n",
      " 5   FIRE_NAME     22748 non-null  object  \n",
      " 6   INC_NUM       21839 non-null  object  \n",
      " 7   ALARM_DATE    17414 non-null  object  \n",
      " 8   CONT_DATE     10180 non-null  object  \n",
      " 9   CAUSE         22810 non-null  int32   \n",
      " 10  C_METHOD      10708 non-null  float64 \n",
      " 11  OBJECTIVE     22539 non-null  float64 \n",
      " 12  GIS_ACRES     22810 non-null  float64 \n",
      " 13  COMMENTS      2835 non-null   object  \n",
      " 14  COMPLEX_NAME  611 non-null    object  \n",
      " 15  IRWINID       3736 non-null   object  \n",
      " 16  FIRE_NUM      17642 non-null  object  \n",
      " 17  COMPLEX_ID    567 non-null    object  \n",
      " 18  DECADES       22733 non-null  object  \n",
      " 19  geometry      22810 non-null  geometry\n",
      "dtypes: float64(4), geometry(1), int32(2), object(13)\n",
      "memory usage: 3.3+ MB\n"
     ]
    }
   ],
   "source": [
    "fire_gdf = gpd.read_file(in_file)\n",
    "fire_gdf.info()"
   ]
  },
  {
   "cell_type": "code",
   "execution_count": null,
   "id": "566e0e4c",
   "metadata": {
    "colab": {
     "base_uri": "https://localhost:8080/",
     "height": 293
    },
    "executionInfo": {
     "elapsed": 52,
     "status": "ok",
     "timestamp": 1756907995314,
     "user": {
      "displayName": "Runan",
      "userId": "04913747045734941455"
     },
     "user_tz": -120
    },
    "id": "566e0e4c",
    "outputId": "f1eb6cfe-0605-4801-f0fd-dcb8a1619b13"
   },
   "outputs": [
    {
     "data": {
      "text/html": [
       "\n",
       "            <style>\n",
       "                .geemap-dark {\n",
       "                    --jp-widgets-color: white;\n",
       "                    --jp-widgets-label-color: white;\n",
       "                    --jp-ui-font-color1: white;\n",
       "                    --jp-layout-color2: #454545;\n",
       "                    background-color: #383838;\n",
       "                }\n",
       "\n",
       "                .geemap-dark .jupyter-button {\n",
       "                    --jp-layout-color3: #383838;\n",
       "                }\n",
       "\n",
       "                .geemap-colab {\n",
       "                    background-color: var(--colab-primary-surface-color, white);\n",
       "                }\n",
       "\n",
       "                .geemap-colab .jupyter-button {\n",
       "                    --jp-layout-color3: var(--colab-primary-surface-color, white);\n",
       "                }\n",
       "            </style>\n",
       "            "
      ],
      "text/plain": [
       "<IPython.core.display.HTML object>"
      ]
     },
     "metadata": {},
     "output_type": "display_data"
    },
    {
     "data": {
      "text/html": [
       "<div>\n",
       "<style scoped>\n",
       "    .dataframe tbody tr th:only-of-type {\n",
       "        vertical-align: middle;\n",
       "    }\n",
       "\n",
       "    .dataframe tbody tr th {\n",
       "        vertical-align: top;\n",
       "    }\n",
       "\n",
       "    .dataframe thead th {\n",
       "        text-align: right;\n",
       "    }\n",
       "</style>\n",
       "<table border=\"1\" class=\"dataframe\">\n",
       "  <thead>\n",
       "    <tr style=\"text-align: right;\">\n",
       "      <th></th>\n",
       "      <th>OBJECTID</th>\n",
       "      <th>YEAR_</th>\n",
       "      <th>STATE</th>\n",
       "      <th>AGENCY</th>\n",
       "      <th>UNIT_ID</th>\n",
       "      <th>FIRE_NAME</th>\n",
       "      <th>INC_NUM</th>\n",
       "      <th>ALARM_DATE</th>\n",
       "      <th>CONT_DATE</th>\n",
       "      <th>CAUSE</th>\n",
       "      <th>C_METHOD</th>\n",
       "      <th>OBJECTIVE</th>\n",
       "      <th>GIS_ACRES</th>\n",
       "      <th>COMMENTS</th>\n",
       "      <th>COMPLEX_NAME</th>\n",
       "      <th>IRWINID</th>\n",
       "      <th>FIRE_NUM</th>\n",
       "      <th>COMPLEX_ID</th>\n",
       "      <th>DECADES</th>\n",
       "      <th>geometry</th>\n",
       "    </tr>\n",
       "  </thead>\n",
       "  <tbody>\n",
       "    <tr>\n",
       "      <th>0</th>\n",
       "      <td>1</td>\n",
       "      <td>2025.0</td>\n",
       "      <td>CA</td>\n",
       "      <td>CDF</td>\n",
       "      <td>LDF</td>\n",
       "      <td>PALISADES</td>\n",
       "      <td>00000738</td>\n",
       "      <td>Tue, 07 Jan 2025 08:00:00 GMT</td>\n",
       "      <td>Fri, 31 Jan 2025 08:00:00 GMT</td>\n",
       "      <td>14</td>\n",
       "      <td>7.0</td>\n",
       "      <td>1.0</td>\n",
       "      <td>23448.8800</td>\n",
       "      <td>None</td>\n",
       "      <td>None</td>\n",
       "      <td>{A7EA5D21-F882-44B8-BF64-44AB11059DC1}</td>\n",
       "      <td>None</td>\n",
       "      <td>None</td>\n",
       "      <td>2020-January 2025</td>\n",
       "      <td>MULTIPOLYGON (((-118.51975 34.02997, -118.5198...</td>\n",
       "    </tr>\n",
       "    <tr>\n",
       "      <th>1</th>\n",
       "      <td>2</td>\n",
       "      <td>2025.0</td>\n",
       "      <td>CA</td>\n",
       "      <td>CDF</td>\n",
       "      <td>LAC</td>\n",
       "      <td>EATON</td>\n",
       "      <td>00009087</td>\n",
       "      <td>Wed, 08 Jan 2025 08:00:00 GMT</td>\n",
       "      <td>Fri, 31 Jan 2025 08:00:00 GMT</td>\n",
       "      <td>14</td>\n",
       "      <td>7.0</td>\n",
       "      <td>1.0</td>\n",
       "      <td>14056.2600</td>\n",
       "      <td>None</td>\n",
       "      <td>None</td>\n",
       "      <td>{72660ADC-B5EF-4D96-A33F-B4EA3740A4E3}</td>\n",
       "      <td>None</td>\n",
       "      <td>None</td>\n",
       "      <td>2020-January 2025</td>\n",
       "      <td>MULTIPOLYGON (((-118.10094 34.16681, -118.1009...</td>\n",
       "    </tr>\n",
       "    <tr>\n",
       "      <th>2</th>\n",
       "      <td>3</td>\n",
       "      <td>2025.0</td>\n",
       "      <td>CA</td>\n",
       "      <td>CDF</td>\n",
       "      <td>ANF</td>\n",
       "      <td>HUGHES</td>\n",
       "      <td>00250270</td>\n",
       "      <td>Wed, 22 Jan 2025 08:00:00 GMT</td>\n",
       "      <td>Tue, 28 Jan 2025 08:00:00 GMT</td>\n",
       "      <td>14</td>\n",
       "      <td>7.0</td>\n",
       "      <td>1.0</td>\n",
       "      <td>10396.8000</td>\n",
       "      <td>None</td>\n",
       "      <td>None</td>\n",
       "      <td>{994072D2-E154-434A-BB95-6F6C94C40829}</td>\n",
       "      <td>None</td>\n",
       "      <td>None</td>\n",
       "      <td>2020-January 2025</td>\n",
       "      <td>MULTIPOLYGON (((-118.55862 34.58099, -118.5585...</td>\n",
       "    </tr>\n",
       "    <tr>\n",
       "      <th>3</th>\n",
       "      <td>4</td>\n",
       "      <td>2025.0</td>\n",
       "      <td>CA</td>\n",
       "      <td>CCO</td>\n",
       "      <td>VNC</td>\n",
       "      <td>KENNETH</td>\n",
       "      <td>00003155</td>\n",
       "      <td>Thu, 09 Jan 2025 08:00:00 GMT</td>\n",
       "      <td>Tue, 04 Feb 2025 08:00:00 GMT</td>\n",
       "      <td>14</td>\n",
       "      <td>2.0</td>\n",
       "      <td>1.0</td>\n",
       "      <td>998.7378</td>\n",
       "      <td>from OES Intel 24</td>\n",
       "      <td>None</td>\n",
       "      <td>{842FB37B-7AC8-4700-BB9C-028BF753D149}</td>\n",
       "      <td>None</td>\n",
       "      <td>None</td>\n",
       "      <td>2020-January 2025</td>\n",
       "      <td>POLYGON ((-118.67692 34.16894, -118.6769 34.16...</td>\n",
       "    </tr>\n",
       "    <tr>\n",
       "      <th>4</th>\n",
       "      <td>5</td>\n",
       "      <td>2025.0</td>\n",
       "      <td>CA</td>\n",
       "      <td>CDF</td>\n",
       "      <td>LDF</td>\n",
       "      <td>HURST</td>\n",
       "      <td>00003294</td>\n",
       "      <td>Tue, 07 Jan 2025 08:00:00 GMT</td>\n",
       "      <td>Thu, 09 Jan 2025 08:00:00 GMT</td>\n",
       "      <td>14</td>\n",
       "      <td>7.0</td>\n",
       "      <td>1.0</td>\n",
       "      <td>831.3855</td>\n",
       "      <td>None</td>\n",
       "      <td>None</td>\n",
       "      <td>{F4E810AD-CDF3-4ED4-B63F-03D43785BA7B}</td>\n",
       "      <td>None</td>\n",
       "      <td>None</td>\n",
       "      <td>2020-January 2025</td>\n",
       "      <td>POLYGON ((-118.46974 34.33079, -118.46964 34.3...</td>\n",
       "    </tr>\n",
       "  </tbody>\n",
       "</table>\n",
       "</div>"
      ],
      "text/plain": [
       "   OBJECTID   YEAR_ STATE AGENCY UNIT_ID  FIRE_NAME   INC_NUM  \\\n",
       "0         1  2025.0    CA    CDF     LDF  PALISADES  00000738   \n",
       "1         2  2025.0    CA    CDF     LAC      EATON  00009087   \n",
       "2         3  2025.0    CA    CDF     ANF     HUGHES  00250270   \n",
       "3         4  2025.0    CA    CCO     VNC    KENNETH  00003155   \n",
       "4         5  2025.0    CA    CDF     LDF      HURST  00003294   \n",
       "\n",
       "                      ALARM_DATE                      CONT_DATE  CAUSE  \\\n",
       "0  Tue, 07 Jan 2025 08:00:00 GMT  Fri, 31 Jan 2025 08:00:00 GMT     14   \n",
       "1  Wed, 08 Jan 2025 08:00:00 GMT  Fri, 31 Jan 2025 08:00:00 GMT     14   \n",
       "2  Wed, 22 Jan 2025 08:00:00 GMT  Tue, 28 Jan 2025 08:00:00 GMT     14   \n",
       "3  Thu, 09 Jan 2025 08:00:00 GMT  Tue, 04 Feb 2025 08:00:00 GMT     14   \n",
       "4  Tue, 07 Jan 2025 08:00:00 GMT  Thu, 09 Jan 2025 08:00:00 GMT     14   \n",
       "\n",
       "   C_METHOD  OBJECTIVE   GIS_ACRES           COMMENTS COMPLEX_NAME  \\\n",
       "0       7.0        1.0  23448.8800               None         None   \n",
       "1       7.0        1.0  14056.2600               None         None   \n",
       "2       7.0        1.0  10396.8000               None         None   \n",
       "3       2.0        1.0    998.7378  from OES Intel 24         None   \n",
       "4       7.0        1.0    831.3855               None         None   \n",
       "\n",
       "                                  IRWINID FIRE_NUM COMPLEX_ID  \\\n",
       "0  {A7EA5D21-F882-44B8-BF64-44AB11059DC1}     None       None   \n",
       "1  {72660ADC-B5EF-4D96-A33F-B4EA3740A4E3}     None       None   \n",
       "2  {994072D2-E154-434A-BB95-6F6C94C40829}     None       None   \n",
       "3  {842FB37B-7AC8-4700-BB9C-028BF753D149}     None       None   \n",
       "4  {F4E810AD-CDF3-4ED4-B63F-03D43785BA7B}     None       None   \n",
       "\n",
       "             DECADES                                           geometry  \n",
       "0  2020-January 2025  MULTIPOLYGON (((-118.51975 34.02997, -118.5198...  \n",
       "1  2020-January 2025  MULTIPOLYGON (((-118.10094 34.16681, -118.1009...  \n",
       "2  2020-January 2025  MULTIPOLYGON (((-118.55862 34.58099, -118.5585...  \n",
       "3  2020-January 2025  POLYGON ((-118.67692 34.16894, -118.6769 34.16...  \n",
       "4  2020-January 2025  POLYGON ((-118.46974 34.33079, -118.46964 34.3...  "
      ]
     },
     "execution_count": 6,
     "metadata": {},
     "output_type": "execute_result"
    }
   ],
   "source": [
    "fire_gdf.head(5)"
   ]
  },
  {
   "cell_type": "markdown",
   "id": "ttJkIlX6lypS",
   "metadata": {
    "id": "ttJkIlX6lypS"
   },
   "source": [
    "The dataset includes the year of fires, the occurance place, fire name, alarm and containment date\n",
    "\n",
    "\n",
    "\n",
    "We chose the fires that occured during 2024-2025, perform statistical analysis to find the time window within each year\n",
    "\n",
    "Prepare the ground truth for fire area detection on the satellite imagery, by comparing the pre and post fire (before the time window and after the window)\n",
    "\n",
    "2020\n",
    "2021\n",
    "2022\n",
    "2023\n",
    "2024\n",
    "2025"
   ]
  },
  {
   "cell_type": "code",
   "execution_count": 6,
   "id": "p9F1OwbP3bTS",
   "metadata": {
    "colab": {
     "base_uri": "https://localhost:8080/",
     "height": 17
    },
    "executionInfo": {
     "elapsed": 1158,
     "status": "ok",
     "timestamp": 1756909672133,
     "user": {
      "displayName": "Runan",
      "userId": "04913747045734941455"
     },
     "user_tz": -120
    },
    "id": "p9F1OwbP3bTS",
    "outputId": "9e6a73b6-d92c-44d0-d75e-090bfc240b06"
   },
   "outputs": [
    {
     "data": {
      "text/html": [
       "\n",
       "            <style>\n",
       "                .geemap-dark {\n",
       "                    --jp-widgets-color: white;\n",
       "                    --jp-widgets-label-color: white;\n",
       "                    --jp-ui-font-color1: white;\n",
       "                    --jp-layout-color2: #454545;\n",
       "                    background-color: #383838;\n",
       "                }\n",
       "\n",
       "                .geemap-dark .jupyter-button {\n",
       "                    --jp-layout-color3: #383838;\n",
       "                }\n",
       "\n",
       "                .geemap-colab {\n",
       "                    background-color: var(--colab-primary-surface-color, white);\n",
       "                }\n",
       "\n",
       "                .geemap-colab .jupyter-button {\n",
       "                    --jp-layout-color3: var(--colab-primary-surface-color, white);\n",
       "                }\n",
       "            </style>\n",
       "            "
      ],
      "text/plain": [
       "<IPython.core.display.HTML object>"
      ]
     },
     "metadata": {},
     "output_type": "display_data"
    }
   ],
   "source": [
    "fire_df = pd.DataFrame(fire_gdf)\n",
    "fire_df[\"ALARM_DATE_ISO\"] = pd.to_datetime(fire_df.ALARM_DATE, format='%a, %d %b %Y %H:%M:%S %Z').dt.tz_convert('UTC').dt.strftime('%Y-%m-%dT%H:%M:%SZ')\n",
    "fire_df[\"CONT_DATE_ISO\"]  = pd.to_datetime(fire_df.CONT_DATE, format='%a, %d %b %Y %H:%M:%S %Z').dt.tz_convert('UTC').dt.strftime('%Y-%m-%dT%H:%M:%SZ')"
   ]
  },
  {
   "cell_type": "code",
   "execution_count": 7,
   "id": "L5iy6tVdC6Pl",
   "metadata": {
    "colab": {
     "base_uri": "https://localhost:8080/",
     "height": 409
    },
    "executionInfo": {
     "elapsed": 83,
     "status": "ok",
     "timestamp": 1756909675610,
     "user": {
      "displayName": "Runan",
      "userId": "04913747045734941455"
     },
     "user_tz": -120
    },
    "id": "L5iy6tVdC6Pl",
    "outputId": "c00f9414-6d25-4f37-f49e-5386b5659c8a"
   },
   "outputs": [
    {
     "data": {
      "text/html": [
       "\n",
       "            <style>\n",
       "                .geemap-dark {\n",
       "                    --jp-widgets-color: white;\n",
       "                    --jp-widgets-label-color: white;\n",
       "                    --jp-ui-font-color1: white;\n",
       "                    --jp-layout-color2: #454545;\n",
       "                    background-color: #383838;\n",
       "                }\n",
       "\n",
       "                .geemap-dark .jupyter-button {\n",
       "                    --jp-layout-color3: #383838;\n",
       "                }\n",
       "\n",
       "                .geemap-colab {\n",
       "                    background-color: var(--colab-primary-surface-color, white);\n",
       "                }\n",
       "\n",
       "                .geemap-colab .jupyter-button {\n",
       "                    --jp-layout-color3: var(--colab-primary-surface-color, white);\n",
       "                }\n",
       "            </style>\n",
       "            "
      ],
      "text/plain": [
       "<IPython.core.display.HTML object>"
      ]
     },
     "metadata": {},
     "output_type": "display_data"
    },
    {
     "data": {
      "text/html": [
       "<div>\n",
       "<style scoped>\n",
       "    .dataframe tbody tr th:only-of-type {\n",
       "        vertical-align: middle;\n",
       "    }\n",
       "\n",
       "    .dataframe tbody tr th {\n",
       "        vertical-align: top;\n",
       "    }\n",
       "\n",
       "    .dataframe thead th {\n",
       "        text-align: right;\n",
       "    }\n",
       "</style>\n",
       "<table border=\"1\" class=\"dataframe\">\n",
       "  <thead>\n",
       "    <tr style=\"text-align: right;\">\n",
       "      <th></th>\n",
       "      <th>OBJECTID</th>\n",
       "      <th>YEAR_</th>\n",
       "      <th>STATE</th>\n",
       "      <th>AGENCY</th>\n",
       "      <th>UNIT_ID</th>\n",
       "      <th>FIRE_NAME</th>\n",
       "      <th>INC_NUM</th>\n",
       "      <th>ALARM_DATE</th>\n",
       "      <th>CONT_DATE</th>\n",
       "      <th>CAUSE</th>\n",
       "      <th>...</th>\n",
       "      <th>GIS_ACRES</th>\n",
       "      <th>COMMENTS</th>\n",
       "      <th>COMPLEX_NAME</th>\n",
       "      <th>IRWINID</th>\n",
       "      <th>FIRE_NUM</th>\n",
       "      <th>COMPLEX_ID</th>\n",
       "      <th>DECADES</th>\n",
       "      <th>geometry</th>\n",
       "      <th>ALARM_DATE_ISO</th>\n",
       "      <th>CONT_DATE_ISO</th>\n",
       "    </tr>\n",
       "  </thead>\n",
       "  <tbody>\n",
       "    <tr>\n",
       "      <th>0</th>\n",
       "      <td>1</td>\n",
       "      <td>2025.0</td>\n",
       "      <td>CA</td>\n",
       "      <td>CDF</td>\n",
       "      <td>LDF</td>\n",
       "      <td>PALISADES</td>\n",
       "      <td>00000738</td>\n",
       "      <td>Tue, 07 Jan 2025 08:00:00 GMT</td>\n",
       "      <td>Fri, 31 Jan 2025 08:00:00 GMT</td>\n",
       "      <td>14</td>\n",
       "      <td>...</td>\n",
       "      <td>23448.8800</td>\n",
       "      <td>None</td>\n",
       "      <td>None</td>\n",
       "      <td>{A7EA5D21-F882-44B8-BF64-44AB11059DC1}</td>\n",
       "      <td>None</td>\n",
       "      <td>None</td>\n",
       "      <td>2020-January 2025</td>\n",
       "      <td>MULTIPOLYGON (((-118.51975 34.02997, -118.5198...</td>\n",
       "      <td>2025-01-07T08:00:00Z</td>\n",
       "      <td>2025-01-31T08:00:00Z</td>\n",
       "    </tr>\n",
       "    <tr>\n",
       "      <th>1</th>\n",
       "      <td>2</td>\n",
       "      <td>2025.0</td>\n",
       "      <td>CA</td>\n",
       "      <td>CDF</td>\n",
       "      <td>LAC</td>\n",
       "      <td>EATON</td>\n",
       "      <td>00009087</td>\n",
       "      <td>Wed, 08 Jan 2025 08:00:00 GMT</td>\n",
       "      <td>Fri, 31 Jan 2025 08:00:00 GMT</td>\n",
       "      <td>14</td>\n",
       "      <td>...</td>\n",
       "      <td>14056.2600</td>\n",
       "      <td>None</td>\n",
       "      <td>None</td>\n",
       "      <td>{72660ADC-B5EF-4D96-A33F-B4EA3740A4E3}</td>\n",
       "      <td>None</td>\n",
       "      <td>None</td>\n",
       "      <td>2020-January 2025</td>\n",
       "      <td>MULTIPOLYGON (((-118.10094 34.16681, -118.1009...</td>\n",
       "      <td>2025-01-08T08:00:00Z</td>\n",
       "      <td>2025-01-31T08:00:00Z</td>\n",
       "    </tr>\n",
       "    <tr>\n",
       "      <th>2</th>\n",
       "      <td>3</td>\n",
       "      <td>2025.0</td>\n",
       "      <td>CA</td>\n",
       "      <td>CDF</td>\n",
       "      <td>ANF</td>\n",
       "      <td>HUGHES</td>\n",
       "      <td>00250270</td>\n",
       "      <td>Wed, 22 Jan 2025 08:00:00 GMT</td>\n",
       "      <td>Tue, 28 Jan 2025 08:00:00 GMT</td>\n",
       "      <td>14</td>\n",
       "      <td>...</td>\n",
       "      <td>10396.8000</td>\n",
       "      <td>None</td>\n",
       "      <td>None</td>\n",
       "      <td>{994072D2-E154-434A-BB95-6F6C94C40829}</td>\n",
       "      <td>None</td>\n",
       "      <td>None</td>\n",
       "      <td>2020-January 2025</td>\n",
       "      <td>MULTIPOLYGON (((-118.55862 34.58099, -118.5585...</td>\n",
       "      <td>2025-01-22T08:00:00Z</td>\n",
       "      <td>2025-01-28T08:00:00Z</td>\n",
       "    </tr>\n",
       "    <tr>\n",
       "      <th>3</th>\n",
       "      <td>4</td>\n",
       "      <td>2025.0</td>\n",
       "      <td>CA</td>\n",
       "      <td>CCO</td>\n",
       "      <td>VNC</td>\n",
       "      <td>KENNETH</td>\n",
       "      <td>00003155</td>\n",
       "      <td>Thu, 09 Jan 2025 08:00:00 GMT</td>\n",
       "      <td>Tue, 04 Feb 2025 08:00:00 GMT</td>\n",
       "      <td>14</td>\n",
       "      <td>...</td>\n",
       "      <td>998.7378</td>\n",
       "      <td>from OES Intel 24</td>\n",
       "      <td>None</td>\n",
       "      <td>{842FB37B-7AC8-4700-BB9C-028BF753D149}</td>\n",
       "      <td>None</td>\n",
       "      <td>None</td>\n",
       "      <td>2020-January 2025</td>\n",
       "      <td>POLYGON ((-118.67692 34.16894, -118.6769 34.16...</td>\n",
       "      <td>2025-01-09T08:00:00Z</td>\n",
       "      <td>2025-02-04T08:00:00Z</td>\n",
       "    </tr>\n",
       "    <tr>\n",
       "      <th>4</th>\n",
       "      <td>5</td>\n",
       "      <td>2025.0</td>\n",
       "      <td>CA</td>\n",
       "      <td>CDF</td>\n",
       "      <td>LDF</td>\n",
       "      <td>HURST</td>\n",
       "      <td>00003294</td>\n",
       "      <td>Tue, 07 Jan 2025 08:00:00 GMT</td>\n",
       "      <td>Thu, 09 Jan 2025 08:00:00 GMT</td>\n",
       "      <td>14</td>\n",
       "      <td>...</td>\n",
       "      <td>831.3855</td>\n",
       "      <td>None</td>\n",
       "      <td>None</td>\n",
       "      <td>{F4E810AD-CDF3-4ED4-B63F-03D43785BA7B}</td>\n",
       "      <td>None</td>\n",
       "      <td>None</td>\n",
       "      <td>2020-January 2025</td>\n",
       "      <td>POLYGON ((-118.46974 34.33079, -118.46964 34.3...</td>\n",
       "      <td>2025-01-07T08:00:00Z</td>\n",
       "      <td>2025-01-09T08:00:00Z</td>\n",
       "    </tr>\n",
       "  </tbody>\n",
       "</table>\n",
       "<p>5 rows × 22 columns</p>\n",
       "</div>"
      ],
      "text/plain": [
       "   OBJECTID   YEAR_ STATE AGENCY UNIT_ID  FIRE_NAME   INC_NUM  \\\n",
       "0         1  2025.0    CA    CDF     LDF  PALISADES  00000738   \n",
       "1         2  2025.0    CA    CDF     LAC      EATON  00009087   \n",
       "2         3  2025.0    CA    CDF     ANF     HUGHES  00250270   \n",
       "3         4  2025.0    CA    CCO     VNC    KENNETH  00003155   \n",
       "4         5  2025.0    CA    CDF     LDF      HURST  00003294   \n",
       "\n",
       "                      ALARM_DATE                      CONT_DATE  CAUSE  ...  \\\n",
       "0  Tue, 07 Jan 2025 08:00:00 GMT  Fri, 31 Jan 2025 08:00:00 GMT     14  ...   \n",
       "1  Wed, 08 Jan 2025 08:00:00 GMT  Fri, 31 Jan 2025 08:00:00 GMT     14  ...   \n",
       "2  Wed, 22 Jan 2025 08:00:00 GMT  Tue, 28 Jan 2025 08:00:00 GMT     14  ...   \n",
       "3  Thu, 09 Jan 2025 08:00:00 GMT  Tue, 04 Feb 2025 08:00:00 GMT     14  ...   \n",
       "4  Tue, 07 Jan 2025 08:00:00 GMT  Thu, 09 Jan 2025 08:00:00 GMT     14  ...   \n",
       "\n",
       "    GIS_ACRES           COMMENTS  COMPLEX_NAME  \\\n",
       "0  23448.8800               None          None   \n",
       "1  14056.2600               None          None   \n",
       "2  10396.8000               None          None   \n",
       "3    998.7378  from OES Intel 24          None   \n",
       "4    831.3855               None          None   \n",
       "\n",
       "                                  IRWINID FIRE_NUM COMPLEX_ID  \\\n",
       "0  {A7EA5D21-F882-44B8-BF64-44AB11059DC1}     None       None   \n",
       "1  {72660ADC-B5EF-4D96-A33F-B4EA3740A4E3}     None       None   \n",
       "2  {994072D2-E154-434A-BB95-6F6C94C40829}     None       None   \n",
       "3  {842FB37B-7AC8-4700-BB9C-028BF753D149}     None       None   \n",
       "4  {F4E810AD-CDF3-4ED4-B63F-03D43785BA7B}     None       None   \n",
       "\n",
       "             DECADES                                           geometry  \\\n",
       "0  2020-January 2025  MULTIPOLYGON (((-118.51975 34.02997, -118.5198...   \n",
       "1  2020-January 2025  MULTIPOLYGON (((-118.10094 34.16681, -118.1009...   \n",
       "2  2020-January 2025  MULTIPOLYGON (((-118.55862 34.58099, -118.5585...   \n",
       "3  2020-January 2025  POLYGON ((-118.67692 34.16894, -118.6769 34.16...   \n",
       "4  2020-January 2025  POLYGON ((-118.46974 34.33079, -118.46964 34.3...   \n",
       "\n",
       "         ALARM_DATE_ISO         CONT_DATE_ISO  \n",
       "0  2025-01-07T08:00:00Z  2025-01-31T08:00:00Z  \n",
       "1  2025-01-08T08:00:00Z  2025-01-31T08:00:00Z  \n",
       "2  2025-01-22T08:00:00Z  2025-01-28T08:00:00Z  \n",
       "3  2025-01-09T08:00:00Z  2025-02-04T08:00:00Z  \n",
       "4  2025-01-07T08:00:00Z  2025-01-09T08:00:00Z  \n",
       "\n",
       "[5 rows x 22 columns]"
      ]
     },
     "execution_count": 7,
     "metadata": {},
     "output_type": "execute_result"
    }
   ],
   "source": [
    "fire_df.head(5)"
   ]
  },
  {
   "cell_type": "code",
   "execution_count": null,
   "id": "9ZpM9rMGPk56",
   "metadata": {
    "colab": {
     "base_uri": "https://localhost:8080/",
     "height": 447
    },
    "collapsed": true,
    "executionInfo": {
     "elapsed": 172,
     "status": "ok",
     "timestamp": 1756830573629,
     "user": {
      "displayName": "Runan",
      "userId": "04913747045734941455"
     },
     "user_tz": -120
    },
    "id": "9ZpM9rMGPk56",
    "outputId": "612e8349-8095-4c2c-ef26-4aa41de86500"
   },
   "outputs": [
    {
     "data": {
      "text/html": [
       "\n",
       "            <style>\n",
       "                .geemap-dark {\n",
       "                    --jp-widgets-color: white;\n",
       "                    --jp-widgets-label-color: white;\n",
       "                    --jp-ui-font-color1: white;\n",
       "                    --jp-layout-color2: #454545;\n",
       "                    background-color: #383838;\n",
       "                }\n",
       "\n",
       "                .geemap-dark .jupyter-button {\n",
       "                    --jp-layout-color3: #383838;\n",
       "                }\n",
       "\n",
       "                .geemap-colab {\n",
       "                    background-color: var(--colab-primary-surface-color, white);\n",
       "                }\n",
       "\n",
       "                .geemap-colab .jupyter-button {\n",
       "                    --jp-layout-color3: var(--colab-primary-surface-color, white);\n",
       "                }\n",
       "            </style>\n",
       "            "
      ],
      "text/plain": [
       "<IPython.core.display.HTML object>"
      ]
     },
     "metadata": {},
     "output_type": "display_data"
    },
    {
     "data": {
      "text/plain": [
       "<AxesSubplot: >"
      ]
     },
     "execution_count": 233,
     "metadata": {},
     "output_type": "execute_result"
    },
    {
     "data": {
      "image/png": "[encoded data removed]",
      "text/plain": [
       "<Figure size 640x480 with 1 Axes>"
      ]
     },
     "metadata": {},
     "output_type": "display_data"
    }
   ],
   "source": [
    "fire_df.query(\"DECADES == '2020-January 2025'\").CONT_DATE_NEW.dt.month.hist(bins=12)"
   ]
  },
  {
   "cell_type": "code",
   "execution_count": null,
   "id": "H4JSByYWNzXq",
   "metadata": {
    "colab": {
     "base_uri": "https://localhost:8080/",
     "height": 447
    },
    "collapsed": true,
    "executionInfo": {
     "elapsed": 996,
     "status": "ok",
     "timestamp": 1756908019014,
     "user": {
      "displayName": "Runan",
      "userId": "04913747045734941455"
     },
     "user_tz": -120
    },
    "id": "H4JSByYWNzXq",
    "outputId": "f2b8bbeb-3361-41c9-df55-c27d8a474311"
   },
   "outputs": [
    {
     "data": {
      "text/html": [
       "\n",
       "            <style>\n",
       "                .geemap-dark {\n",
       "                    --jp-widgets-color: white;\n",
       "                    --jp-widgets-label-color: white;\n",
       "                    --jp-ui-font-color1: white;\n",
       "                    --jp-layout-color2: #454545;\n",
       "                    background-color: #383838;\n",
       "                }\n",
       "\n",
       "                .geemap-dark .jupyter-button {\n",
       "                    --jp-layout-color3: #383838;\n",
       "                }\n",
       "\n",
       "                .geemap-colab {\n",
       "                    background-color: var(--colab-primary-surface-color, white);\n",
       "                }\n",
       "\n",
       "                .geemap-colab .jupyter-button {\n",
       "                    --jp-layout-color3: var(--colab-primary-surface-color, white);\n",
       "                }\n",
       "            </style>\n",
       "            "
      ],
      "text/plain": [
       "<IPython.core.display.HTML object>"
      ]
     },
     "metadata": {},
     "output_type": "display_data"
    },
    {
     "data": {
      "text/plain": [
       "<AxesSubplot: >"
      ]
     },
     "execution_count": 8,
     "metadata": {},
     "output_type": "execute_result"
    },
    {
     "data": {
      "image/png": "[encoded data removed]",
      "text/plain": [
       "<Figure size 640x480 with 1 Axes>"
      ]
     },
     "metadata": {},
     "output_type": "display_data"
    }
   ],
   "source": [
    "fire_df.query(\"DECADES == '2020-January 2025'\").ALARM_DATE_NEW.dt.month.hist(bins=12)"
   ]
  },
  {
   "cell_type": "markdown",
   "id": "5ZqutuOljVfC",
   "metadata": {
    "id": "5ZqutuOljVfC"
   },
   "source": [
    "#### Select study area, time frame and create cloud mask"
   ]
  },
  {
   "cell_type": "code",
   "execution_count": null,
   "id": "PhURpYDh2Khg",
   "metadata": {
    "colab": {
     "base_uri": "https://localhost:8080/",
     "height": 69
    },
    "executionInfo": {
     "elapsed": 56,
     "status": "ok",
     "timestamp": 1756823687358,
     "user": {
      "displayName": "Runan",
      "userId": "04913747045734941455"
     },
     "user_tz": -120
    },
    "id": "PhURpYDh2Khg",
    "outputId": "09d87e5d-2c10-40c5-b8ac-18afbfa56b94"
   },
   "outputs": [
    {
     "data": {
      "text/html": [
       "\n",
       "            <style>\n",
       "                .geemap-dark {\n",
       "                    --jp-widgets-color: white;\n",
       "                    --jp-widgets-label-color: white;\n",
       "                    --jp-ui-font-color1: white;\n",
       "                    --jp-layout-color2: #454545;\n",
       "                    background-color: #383838;\n",
       "                }\n",
       "\n",
       "                .geemap-dark .jupyter-button {\n",
       "                    --jp-layout-color3: #383838;\n",
       "                }\n",
       "\n",
       "                .geemap-colab {\n",
       "                    background-color: var(--colab-primary-surface-color, white);\n",
       "                }\n",
       "\n",
       "                .geemap-colab .jupyter-button {\n",
       "                    --jp-layout-color3: var(--colab-primary-surface-color, white);\n",
       "                }\n",
       "            </style>\n",
       "            "
      ],
      "text/plain": [
       "<IPython.core.display.HTML object>"
      ]
     },
     "metadata": {},
     "output_type": "display_data"
    },
    {
     "data": {
      "text/plain": [
       "array(['2020-January 2025', '2010-2019', '2000-2009', '1990-1999',\n",
       "       '1980-1989', '1970-1979', '1960-1969', '1950-1959', None],\n",
       "      dtype=object)"
      ]
     },
     "execution_count": 96,
     "metadata": {},
     "output_type": "execute_result"
    }
   ],
   "source": [
    "fire_gdf.DECADES.unique()"
   ]
  },
  {
   "cell_type": "markdown",
   "id": "zDlPULoH4zTQ",
   "metadata": {
    "id": "zDlPULoH4zTQ"
   },
   "source": [
    "### Filter recently five years"
   ]
  },
  {
   "cell_type": "code",
   "execution_count": 8,
   "id": "QJM5QQbj4oVX",
   "metadata": {
    "colab": {
     "base_uri": "https://localhost:8080/",
     "height": 17
    },
    "executionInfo": {
     "elapsed": 35,
     "status": "ok",
     "timestamp": 1756909682318,
     "user": {
      "displayName": "Runan",
      "userId": "04913747045734941455"
     },
     "user_tz": -120
    },
    "id": "QJM5QQbj4oVX",
    "outputId": "30152c9c-daa9-4840-b810-8bdea1c8a455"
   },
   "outputs": [
    {
     "data": {
      "text/html": [
       "\n",
       "            <style>\n",
       "                .geemap-dark {\n",
       "                    --jp-widgets-color: white;\n",
       "                    --jp-widgets-label-color: white;\n",
       "                    --jp-ui-font-color1: white;\n",
       "                    --jp-layout-color2: #454545;\n",
       "                    background-color: #383838;\n",
       "                }\n",
       "\n",
       "                .geemap-dark .jupyter-button {\n",
       "                    --jp-layout-color3: #383838;\n",
       "                }\n",
       "\n",
       "                .geemap-colab {\n",
       "                    background-color: var(--colab-primary-surface-color, white);\n",
       "                }\n",
       "\n",
       "                .geemap-colab .jupyter-button {\n",
       "                    --jp-layout-color3: var(--colab-primary-surface-color, white);\n",
       "                }\n",
       "            </style>\n",
       "            "
      ],
      "text/plain": [
       "<IPython.core.display.HTML object>"
      ]
     },
     "metadata": {},
     "output_type": "display_data"
    }
   ],
   "source": [
    "aoi = fire_gdf[fire_gdf.DECADES == \"2020-January 2025\"]"
   ]
  },
  {
   "cell_type": "code",
   "execution_count": 9,
   "id": "jdFD0cIDKHqq",
   "metadata": {
    "colab": {
     "base_uri": "https://localhost:8080/",
     "height": 17
    },
    "executionInfo": {
     "elapsed": 16,
     "status": "ok",
     "timestamp": 1756909684608,
     "user": {
      "displayName": "Runan",
      "userId": "04913747045734941455"
     },
     "user_tz": -120
    },
    "id": "jdFD0cIDKHqq",
    "outputId": "4157a824-91bf-4975-e97d-562cc8f1e247"
   },
   "outputs": [
    {
     "data": {
      "text/html": [
       "\n",
       "            <style>\n",
       "                .geemap-dark {\n",
       "                    --jp-widgets-color: white;\n",
       "                    --jp-widgets-label-color: white;\n",
       "                    --jp-ui-font-color1: white;\n",
       "                    --jp-layout-color2: #454545;\n",
       "                    background-color: #383838;\n",
       "                }\n",
       "\n",
       "                .geemap-dark .jupyter-button {\n",
       "                    --jp-layout-color3: #383838;\n",
       "                }\n",
       "\n",
       "                .geemap-colab {\n",
       "                    background-color: var(--colab-primary-surface-color, white);\n",
       "                }\n",
       "\n",
       "                .geemap-colab .jupyter-button {\n",
       "                    --jp-layout-color3: var(--colab-primary-surface-color, white);\n",
       "                }\n",
       "            </style>\n",
       "            "
      ],
      "text/plain": [
       "<IPython.core.display.HTML object>"
      ]
     },
     "metadata": {},
     "output_type": "display_data"
    }
   ],
   "source": [
    "aoi = gpd.GeoDataFrame(aoi)"
   ]
  },
  {
   "cell_type": "code",
   "execution_count": null,
   "id": "UbvAjJDkAIez",
   "metadata": {
    "colab": {
     "base_uri": "https://localhost:8080/",
     "height": 486
    },
    "executionInfo": {
     "elapsed": 48,
     "status": "ok",
     "timestamp": 1756908996344,
     "user": {
      "displayName": "Runan",
      "userId": "04913747045734941455"
     },
     "user_tz": -120
    },
    "id": "UbvAjJDkAIez",
    "outputId": "3d8ef743-2203-44ff-fe11-da401e77a398"
   },
   "outputs": [
    {
     "data": {
      "text/html": [
       "\n",
       "            <style>\n",
       "                .geemap-dark {\n",
       "                    --jp-widgets-color: white;\n",
       "                    --jp-widgets-label-color: white;\n",
       "                    --jp-ui-font-color1: white;\n",
       "                    --jp-layout-color2: #454545;\n",
       "                    background-color: #383838;\n",
       "                }\n",
       "\n",
       "                .geemap-dark .jupyter-button {\n",
       "                    --jp-layout-color3: #383838;\n",
       "                }\n",
       "\n",
       "                .geemap-colab {\n",
       "                    background-color: var(--colab-primary-surface-color, white);\n",
       "                }\n",
       "\n",
       "                .geemap-colab .jupyter-button {\n",
       "                    --jp-layout-color3: var(--colab-primary-surface-color, white);\n",
       "                }\n",
       "            </style>\n",
       "            "
      ],
      "text/plain": [
       "<IPython.core.display.HTML object>"
      ]
     },
     "metadata": {},
     "output_type": "display_data"
    },
    {
     "name": "stdout",
     "output_type": "stream",
     "text": [
      "<class 'geopandas.geodataframe.GeoDataFrame'>\n",
      "Index: 2036 entries, 0 to 2035\n",
      "Data columns (total 20 columns):\n",
      " #   Column        Non-Null Count  Dtype   \n",
      "---  ------        --------------  -----   \n",
      " 0   OBJECTID      2036 non-null   int32   \n",
      " 1   YEAR_         2036 non-null   float64 \n",
      " 2   STATE         2036 non-null   object  \n",
      " 3   AGENCY        2036 non-null   object  \n",
      " 4   UNIT_ID       2035 non-null   object  \n",
      " 5   FIRE_NAME     2036 non-null   object  \n",
      " 6   INC_NUM       2031 non-null   object  \n",
      " 7   ALARM_DATE    2036 non-null   object  \n",
      " 8   CONT_DATE     2022 non-null   object  \n",
      " 9   CAUSE         2036 non-null   int32   \n",
      " 10  C_METHOD      2036 non-null   float64 \n",
      " 11  OBJECTIVE     2003 non-null   float64 \n",
      " 12  GIS_ACRES     2036 non-null   float64 \n",
      " 13  COMMENTS      409 non-null    object  \n",
      " 14  COMPLEX_NAME  59 non-null     object  \n",
      " 15  IRWINID       1901 non-null   object  \n",
      " 16  FIRE_NUM      0 non-null      object  \n",
      " 17  COMPLEX_ID    55 non-null     object  \n",
      " 18  DECADES       2036 non-null   object  \n",
      " 19  geometry      2036 non-null   geometry\n",
      "dtypes: float64(4), geometry(1), int32(2), object(13)\n",
      "memory usage: 318.1+ KB\n"
     ]
    }
   ],
   "source": [
    "aoi.info()"
   ]
  },
  {
   "cell_type": "code",
   "execution_count": 10,
   "id": "vkgdN42T2kgM",
   "metadata": {
    "colab": {
     "base_uri": "https://localhost:8080/",
     "height": 17
    },
    "executionInfo": {
     "elapsed": 18620,
     "status": "ok",
     "timestamp": 1756909733181,
     "user": {
      "displayName": "Runan",
      "userId": "04913747045734941455"
     },
     "user_tz": -120
    },
    "id": "vkgdN42T2kgM",
    "outputId": "72482c1f-3129-4539-f9a8-b098362a9429"
   },
   "outputs": [
    {
     "data": {
      "text/html": [
       "\n",
       "            <style>\n",
       "                .geemap-dark {\n",
       "                    --jp-widgets-color: white;\n",
       "                    --jp-widgets-label-color: white;\n",
       "                    --jp-ui-font-color1: white;\n",
       "                    --jp-layout-color2: #454545;\n",
       "                    background-color: #383838;\n",
       "                }\n",
       "\n",
       "                .geemap-dark .jupyter-button {\n",
       "                    --jp-layout-color3: #383838;\n",
       "                }\n",
       "\n",
       "                .geemap-colab {\n",
       "                    background-color: var(--colab-primary-surface-color, white);\n",
       "                }\n",
       "\n",
       "                .geemap-colab .jupyter-button {\n",
       "                    --jp-layout-color3: var(--colab-primary-surface-color, white);\n",
       "                }\n",
       "            </style>\n",
       "            "
      ],
      "text/plain": [
       "<IPython.core.display.HTML object>"
      ]
     },
     "metadata": {},
     "output_type": "display_data"
    }
   ],
   "source": [
    "geojson = json.loads(aoi.to_json())"
   ]
  },
  {
   "cell_type": "code",
   "execution_count": 11,
   "id": "8WbPbC3J3ApH",
   "metadata": {
    "colab": {
     "base_uri": "https://localhost:8080/",
     "height": 447
    },
    "executionInfo": {
     "elapsed": 2669,
     "status": "ok",
     "timestamp": 1756909775274,
     "user": {
      "displayName": "Runan",
      "userId": "04913747045734941455"
     },
     "user_tz": -120
    },
    "id": "8WbPbC3J3ApH",
    "outputId": "520b77bf-1b96-44d5-e5fa-ec5edd3d806e"
   },
   "outputs": [
    {
     "data": {
      "text/html": [
       "\n",
       "            <style>\n",
       "                .geemap-dark {\n",
       "                    --jp-widgets-color: white;\n",
       "                    --jp-widgets-label-color: white;\n",
       "                    --jp-ui-font-color1: white;\n",
       "                    --jp-layout-color2: #454545;\n",
       "                    background-color: #383838;\n",
       "                }\n",
       "\n",
       "                .geemap-dark .jupyter-button {\n",
       "                    --jp-layout-color3: #383838;\n",
       "                }\n",
       "\n",
       "                .geemap-colab {\n",
       "                    background-color: var(--colab-primary-surface-color, white);\n",
       "                }\n",
       "\n",
       "                .geemap-colab .jupyter-button {\n",
       "                    --jp-layout-color3: var(--colab-primary-surface-color, white);\n",
       "                }\n",
       "            </style>\n",
       "            "
      ],
      "text/plain": [
       "<IPython.core.display.HTML object>"
      ]
     },
     "metadata": {},
     "output_type": "display_data"
    },
    {
     "data": {
      "text/plain": [
       "<Axes: >"
      ]
     },
     "execution_count": 11,
     "metadata": {},
     "output_type": "execute_result"
    },
    {
     "data": {
      "image/png": "[encoded data removed]",
      "text/plain": [
       "<Figure size 640x480 with 1 Axes>"
      ]
     },
     "metadata": {},
     "output_type": "display_data"
    }
   ],
   "source": [
    "aoi.geometry.plot()   ## 2020-2025"
   ]
  },
  {
   "cell_type": "markdown",
   "id": "c8638270",
   "metadata": {},
   "source": [
    "#### Analysis based on major fire events"
   ]
  },
  {
   "cell_type": "code",
   "execution_count": 7,
   "id": "948aabf7",
   "metadata": {},
   "outputs": [
    {
     "data": {
      "text/html": [
       "\n",
       "            <style>\n",
       "                .geemap-dark {\n",
       "                    --jp-widgets-color: white;\n",
       "                    --jp-widgets-label-color: white;\n",
       "                    --jp-ui-font-color1: white;\n",
       "                    --jp-layout-color2: #454545;\n",
       "                    background-color: #383838;\n",
       "                }\n",
       "\n",
       "                .geemap-dark .jupyter-button {\n",
       "                    --jp-layout-color3: #383838;\n",
       "                }\n",
       "\n",
       "                .geemap-colab {\n",
       "                    background-color: var(--colab-primary-surface-color, white);\n",
       "                }\n",
       "\n",
       "                .geemap-colab .jupyter-button {\n",
       "                    --jp-layout-color3: var(--colab-primary-surface-color, white);\n",
       "                }\n",
       "            </style>\n",
       "            "
      ],
      "text/plain": [
       "<IPython.core.display.HTML object>"
      ]
     },
     "metadata": {},
     "output_type": "display_data"
    }
   ],
   "source": [
    "major_fires = fire_df[\n",
    "    (fire_df.GIS_ACRES > 10000) &\n",
    "    (fire_df.DECADES == \"2020-January 2025\") &\n",
    "    (fire_df.YEAR_ > 2020.0)\n",
    "    ].sort_values('GIS_ACRES', ascending=False)"
   ]
  },
  {
   "cell_type": "code",
   "execution_count": 8,
   "id": "5acb46eb",
   "metadata": {},
   "outputs": [
    {
     "data": {
      "text/html": [
       "\n",
       "            <style>\n",
       "                .geemap-dark {\n",
       "                    --jp-widgets-color: white;\n",
       "                    --jp-widgets-label-color: white;\n",
       "                    --jp-ui-font-color1: white;\n",
       "                    --jp-layout-color2: #454545;\n",
       "                    background-color: #383838;\n",
       "                }\n",
       "\n",
       "                .geemap-dark .jupyter-button {\n",
       "                    --jp-layout-color3: #383838;\n",
       "                }\n",
       "\n",
       "                .geemap-colab {\n",
       "                    background-color: var(--colab-primary-surface-color, white);\n",
       "                }\n",
       "\n",
       "                .geemap-colab .jupyter-button {\n",
       "                    --jp-layout-color3: var(--colab-primary-surface-color, white);\n",
       "                }\n",
       "            </style>\n",
       "            "
      ],
      "text/plain": [
       "<IPython.core.display.HTML object>"
      ]
     },
     "metadata": {},
     "output_type": "display_data"
    }
   ],
   "source": [
    "top_fires = major_fires.head(10)"
   ]
  },
  {
   "cell_type": "code",
   "execution_count": null,
   "id": "14069dde",
   "metadata": {},
   "outputs": [
    {
     "data": {
      "text/html": [
       "\n",
       "            <style>\n",
       "                .geemap-dark {\n",
       "                    --jp-widgets-color: white;\n",
       "                    --jp-widgets-label-color: white;\n",
       "                    --jp-ui-font-color1: white;\n",
       "                    --jp-layout-color2: #454545;\n",
       "                    background-color: #383838;\n",
       "                }\n",
       "\n",
       "                .geemap-dark .jupyter-button {\n",
       "                    --jp-layout-color3: #383838;\n",
       "                }\n",
       "\n",
       "                .geemap-colab {\n",
       "                    background-color: var(--colab-primary-surface-color, white);\n",
       "                }\n",
       "\n",
       "                .geemap-colab .jupyter-button {\n",
       "                    --jp-layout-color3: var(--colab-primary-surface-color, white);\n",
       "                }\n",
       "            </style>\n",
       "            "
      ],
      "text/plain": [
       "<IPython.core.display.HTML object>"
      ]
     },
     "metadata": {},
     "output_type": "display_data"
    }
   ],
   "source": [
    "analysis_regions = []\n",
    "for idx, fire in top_fires.iterrows():\n",
    "    fire_geom = fire.geometry\n",
    "    buffered_geom = fire_geom.buffer(0.01)  # ~5km buffer around fire\n",
    "    analysis_regions.append({\n",
    "        'name': fire.FIRE_NAME,\n",
    "        'geometry': buffered_geom,\n",
    "        'alarm_date': fire.ALARM_DATE_ISO,\n",
    "        'containment_date': fire.CONT_DATE_ISO\n",
    "    })"
   ]
  },
  {
   "cell_type": "code",
   "execution_count": 45,
   "id": "d0cd12c0",
   "metadata": {},
   "outputs": [
    {
     "data": {
      "text/html": [
       "\n",
       "            <style>\n",
       "                .geemap-dark {\n",
       "                    --jp-widgets-color: white;\n",
       "                    --jp-widgets-label-color: white;\n",
       "                    --jp-ui-font-color1: white;\n",
       "                    --jp-layout-color2: #454545;\n",
       "                    background-color: #383838;\n",
       "                }\n",
       "\n",
       "                .geemap-dark .jupyter-button {\n",
       "                    --jp-layout-color3: #383838;\n",
       "                }\n",
       "\n",
       "                .geemap-colab {\n",
       "                    background-color: var(--colab-primary-surface-color, white);\n",
       "                }\n",
       "\n",
       "                .geemap-colab .jupyter-button {\n",
       "                    --jp-layout-color3: var(--colab-primary-surface-color, white);\n",
       "                }\n",
       "            </style>\n",
       "            "
      ],
      "text/plain": [
       "<IPython.core.display.HTML object>"
      ]
     },
     "metadata": {},
     "output_type": "display_data"
    },
    {
     "data": {
      "text/plain": [
       "{'name': 'DIXIE',\n",
       " 'geometry': <POLYGON ((-121.467 40.004, -121.469 40.003, -121.47 40.002, -121.471 40.002...>,\n",
       " 'alarm_date': '2021-07-14T07:00:00Z',\n",
       " 'containment_date': '2021-10-25T07:00:00Z'}"
      ]
     },
     "execution_count": 45,
     "metadata": {},
     "output_type": "execute_result"
    }
   ],
   "source": [
    "analysis_regions[0]"
   ]
  },
  {
   "cell_type": "code",
   "execution_count": 40,
   "id": "93289c07",
   "metadata": {},
   "outputs": [
    {
     "data": {
      "text/html": [
       "\n",
       "            <style>\n",
       "                .geemap-dark {\n",
       "                    --jp-widgets-color: white;\n",
       "                    --jp-widgets-label-color: white;\n",
       "                    --jp-ui-font-color1: white;\n",
       "                    --jp-layout-color2: #454545;\n",
       "                    background-color: #383838;\n",
       "                }\n",
       "\n",
       "                .geemap-dark .jupyter-button {\n",
       "                    --jp-layout-color3: #383838;\n",
       "                }\n",
       "\n",
       "                .geemap-colab {\n",
       "                    background-color: var(--colab-primary-surface-color, white);\n",
       "                }\n",
       "\n",
       "                .geemap-colab .jupyter-button {\n",
       "                    --jp-layout-color3: var(--colab-primary-surface-color, white);\n",
       "                }\n",
       "            </style>\n",
       "            "
      ],
      "text/plain": [
       "<IPython.core.display.HTML object>"
      ]
     },
     "metadata": {},
     "output_type": "display_data"
    },
    {
     "name": "stdout",
     "output_type": "stream",
     "text": [
      "Processing region: DIXIE\n"
     ]
    }
   ],
   "source": [
    "region = analysis_regions[0]\n",
    "region_gdf = gpd.GeoDataFrame([region], geometry='geometry', crs='EPSG:4326')\n",
    "region_ee = geemap.geopandas_to_ee(region_gdf)\n",
    "region_geom = region_ee.geometry()\n",
    "print(f\"Processing region: {region['name']}\")"
   ]
  },
  {
   "cell_type": "code",
   "execution_count": 41,
   "id": "ef1e1ffc",
   "metadata": {},
   "outputs": [
    {
     "data": {
      "text/html": [
       "\n",
       "            <style>\n",
       "                .geemap-dark {\n",
       "                    --jp-widgets-color: white;\n",
       "                    --jp-widgets-label-color: white;\n",
       "                    --jp-ui-font-color1: white;\n",
       "                    --jp-layout-color2: #454545;\n",
       "                    background-color: #383838;\n",
       "                }\n",
       "\n",
       "                .geemap-dark .jupyter-button {\n",
       "                    --jp-layout-color3: #383838;\n",
       "                }\n",
       "\n",
       "                .geemap-colab {\n",
       "                    background-color: var(--colab-primary-surface-color, white);\n",
       "                }\n",
       "\n",
       "                .geemap-colab .jupyter-button {\n",
       "                    --jp-layout-color3: var(--colab-primary-surface-color, white);\n",
       "                }\n",
       "            </style>\n",
       "            "
      ],
      "text/plain": [
       "<IPython.core.display.HTML object>"
      ]
     },
     "metadata": {},
     "output_type": "display_data"
    }
   ],
   "source": [
    "CLOUD_THRESHOLD = 20\n",
    "PRE_FIRE_DAYS = 30  # Days before fire to include\n",
    "POST_FIRE_DAYS = 60  # Days after containment to include"
   ]
  },
  {
   "cell_type": "code",
   "execution_count": 42,
   "id": "4f6634ea",
   "metadata": {},
   "outputs": [
    {
     "data": {
      "text/html": [
       "\n",
       "            <style>\n",
       "                .geemap-dark {\n",
       "                    --jp-widgets-color: white;\n",
       "                    --jp-widgets-label-color: white;\n",
       "                    --jp-ui-font-color1: white;\n",
       "                    --jp-layout-color2: #454545;\n",
       "                    background-color: #383838;\n",
       "                }\n",
       "\n",
       "                .geemap-dark .jupyter-button {\n",
       "                    --jp-layout-color3: #383838;\n",
       "                }\n",
       "\n",
       "                .geemap-colab {\n",
       "                    background-color: var(--colab-primary-surface-color, white);\n",
       "                }\n",
       "\n",
       "                .geemap-colab .jupyter-button {\n",
       "                    --jp-layout-color3: var(--colab-primary-surface-color, white);\n",
       "                }\n",
       "            </style>\n",
       "            "
      ],
      "text/plain": [
       "<IPython.core.display.HTML object>"
      ]
     },
     "metadata": {},
     "output_type": "display_data"
    }
   ],
   "source": [
    "# Calculate time window for imagery using ISO\n",
    "pre_fire_start = ee.Date(region['alarm_date']).advance(-PRE_FIRE_DAYS, 'day')\n",
    "post_fire_end = ee.Date(region['containment_date']).advance(POST_FIRE_DAYS, 'day')"
   ]
  },
  {
   "cell_type": "code",
   "execution_count": 59,
   "id": "f7a9d4b2",
   "metadata": {},
   "outputs": [
    {
     "data": {
      "text/html": [
       "\n",
       "            <style>\n",
       "                .geemap-dark {\n",
       "                    --jp-widgets-color: white;\n",
       "                    --jp-widgets-label-color: white;\n",
       "                    --jp-ui-font-color1: white;\n",
       "                    --jp-layout-color2: #454545;\n",
       "                    background-color: #383838;\n",
       "                }\n",
       "\n",
       "                .geemap-dark .jupyter-button {\n",
       "                    --jp-layout-color3: #383838;\n",
       "                }\n",
       "\n",
       "                .geemap-colab {\n",
       "                    background-color: var(--colab-primary-surface-color, white);\n",
       "                }\n",
       "\n",
       "                .geemap-colab .jupyter-button {\n",
       "                    --jp-layout-color3: var(--colab-primary-surface-color, white);\n",
       "                }\n",
       "            </style>\n",
       "            "
      ],
      "text/plain": [
       "<IPython.core.display.HTML object>"
      ]
     },
     "metadata": {},
     "output_type": "display_data"
    }
   ],
   "source": [
    "# Get Sentinel-2 collection for this region and time period\n",
    "collection = (\n",
    "    ee.ImageCollection('COPERNICUS/S2_SR_HARMONIZED')\n",
    "    .filterBounds(region_geom)\n",
    "    .filterDate(pre_fire_start, post_fire_end)\n",
    "    .filter(ee.Filter.lt('CLOUDY_PIXEL_PERCENTAGE', CLOUD_THRESHOLD))\n",
    "    .select(['B2', 'B3', 'B4', 'B8', 'B11', 'B12'])\n",
    ")"
   ]
  },
  {
   "cell_type": "code",
   "execution_count": 53,
   "id": "2d702953",
   "metadata": {},
   "outputs": [
    {
     "data": {
      "text/html": [
       "\n",
       "            <style>\n",
       "                .geemap-dark {\n",
       "                    --jp-widgets-color: white;\n",
       "                    --jp-widgets-label-color: white;\n",
       "                    --jp-ui-font-color1: white;\n",
       "                    --jp-layout-color2: #454545;\n",
       "                    background-color: #383838;\n",
       "                }\n",
       "\n",
       "                .geemap-dark .jupyter-button {\n",
       "                    --jp-layout-color3: #383838;\n",
       "                }\n",
       "\n",
       "                .geemap-colab {\n",
       "                    background-color: var(--colab-primary-surface-color, white);\n",
       "                }\n",
       "\n",
       "                .geemap-colab .jupyter-button {\n",
       "                    --jp-layout-color3: var(--colab-primary-surface-color, white);\n",
       "                }\n",
       "            </style>\n",
       "            "
      ],
      "text/plain": [
       "<IPython.core.display.HTML object>"
      ]
     },
     "metadata": {},
     "output_type": "display_data"
    }
   ],
   "source": [
    "# Create pre-fire and post-fire composites\n",
    "pre_fire_img = collection.filterDate(pre_fire_start, ee.Date(region['alarm_date'])).median().clip(region_geom)\n",
    "post_fire_img = collection.filterDate(ee.Date(region['containment_date']), post_fire_end).median().clip(region_geom)"
   ]
  },
  {
   "cell_type": "code",
   "execution_count": 54,
   "id": "4e36beb0",
   "metadata": {},
   "outputs": [
    {
     "data": {
      "text/html": [
       "\n",
       "            <style>\n",
       "                .geemap-dark {\n",
       "                    --jp-widgets-color: white;\n",
       "                    --jp-widgets-label-color: white;\n",
       "                    --jp-ui-font-color1: white;\n",
       "                    --jp-layout-color2: #454545;\n",
       "                    background-color: #383838;\n",
       "                }\n",
       "\n",
       "                .geemap-dark .jupyter-button {\n",
       "                    --jp-layout-color3: #383838;\n",
       "                }\n",
       "\n",
       "                .geemap-colab {\n",
       "                    background-color: var(--colab-primary-surface-color, white);\n",
       "                }\n",
       "\n",
       "                .geemap-colab .jupyter-button {\n",
       "                    --jp-layout-color3: var(--colab-primary-surface-color, white);\n",
       "                }\n",
       "            </style>\n",
       "            "
      ],
      "text/plain": [
       "<IPython.core.display.HTML object>"
      ]
     },
     "metadata": {},
     "output_type": "display_data"
    }
   ],
   "source": [
    "# Create fire mask - need to get the original fire geometry\n",
    "# First get the original fire geometry (without buffer)\n",
    "original_fire_gdf = fire_gdf[fire_gdf.FIRE_NAME == region['name']].iloc[0:1]\n",
    "original_fire_fc = geemap.geopandas_to_ee(original_fire_gdf)\n",
    "original_fire_geom = original_fire_fc.geometry()"
   ]
  },
  {
   "cell_type": "code",
   "execution_count": 55,
   "id": "fa7403c0",
   "metadata": {},
   "outputs": [
    {
     "data": {
      "text/html": [
       "\n",
       "            <style>\n",
       "                .geemap-dark {\n",
       "                    --jp-widgets-color: white;\n",
       "                    --jp-widgets-label-color: white;\n",
       "                    --jp-ui-font-color1: white;\n",
       "                    --jp-layout-color2: #454545;\n",
       "                    background-color: #383838;\n",
       "                }\n",
       "\n",
       "                .geemap-dark .jupyter-button {\n",
       "                    --jp-layout-color3: #383838;\n",
       "                }\n",
       "\n",
       "                .geemap-colab {\n",
       "                    background-color: var(--colab-primary-surface-color, white);\n",
       "                }\n",
       "\n",
       "                .geemap-colab .jupyter-button {\n",
       "                    --jp-layout-color3: var(--colab-primary-surface-color, white);\n",
       "                }\n",
       "            </style>\n",
       "            "
      ],
      "text/plain": [
       "<IPython.core.display.HTML object>"
      ]
     },
     "metadata": {},
     "output_type": "display_data"
    }
   ],
   "source": [
    "fire_mask = ee.Image(0).byte().paint(original_fire_fc, 1).rename(\"mask\").clip(region_geom)"
   ]
  },
  {
   "cell_type": "code",
   "execution_count": 56,
   "id": "6ee8cd57",
   "metadata": {},
   "outputs": [
    {
     "data": {
      "text/html": [
       "\n",
       "            <style>\n",
       "                .geemap-dark {\n",
       "                    --jp-widgets-color: white;\n",
       "                    --jp-widgets-label-color: white;\n",
       "                    --jp-ui-font-color1: white;\n",
       "                    --jp-layout-color2: #454545;\n",
       "                    background-color: #383838;\n",
       "                }\n",
       "\n",
       "                .geemap-dark .jupyter-button {\n",
       "                    --jp-layout-color3: #383838;\n",
       "                }\n",
       "\n",
       "                .geemap-colab {\n",
       "                    background-color: var(--colab-primary-surface-color, white);\n",
       "                }\n",
       "\n",
       "                .geemap-colab .jupyter-button {\n",
       "                    --jp-layout-color3: var(--colab-primary-surface-color, white);\n",
       "                }\n",
       "            </style>\n",
       "            "
      ],
      "text/plain": [
       "<IPython.core.display.HTML object>"
      ]
     },
     "metadata": {},
     "output_type": "display_data"
    }
   ],
   "source": [
    "# Calculate NBR\n",
    "pre_fire_nbr = pre_fire_img.normalizedDifference(['B8', 'B12']).rename('NBR')\n",
    "post_fire_nbr = post_fire_img.normalizedDifference(['B8', 'B12']).rename('NBR')\n",
    "dnbr = pre_fire_nbr.subtract(post_fire_nbr).rename('dNBR')"
   ]
  },
  {
   "cell_type": "code",
   "execution_count": 57,
   "id": "ca6df612",
   "metadata": {},
   "outputs": [
    {
     "data": {
      "text/html": [
       "\n",
       "            <style>\n",
       "                .geemap-dark {\n",
       "                    --jp-widgets-color: white;\n",
       "                    --jp-widgets-label-color: white;\n",
       "                    --jp-ui-font-color1: white;\n",
       "                    --jp-layout-color2: #454545;\n",
       "                    background-color: #383838;\n",
       "                }\n",
       "\n",
       "                .geemap-dark .jupyter-button {\n",
       "                    --jp-layout-color3: #383838;\n",
       "                }\n",
       "\n",
       "                .geemap-colab {\n",
       "                    background-color: var(--colab-primary-surface-color, white);\n",
       "                }\n",
       "\n",
       "                .geemap-colab .jupyter-button {\n",
       "                    --jp-layout-color3: var(--colab-primary-surface-color, white);\n",
       "                }\n",
       "            </style>\n",
       "            "
      ],
      "text/plain": [
       "<IPython.core.display.HTML object>"
      ]
     },
     "metadata": {},
     "output_type": "display_data"
    }
   ],
   "source": [
    "result_img = ee.Image.cat([\n",
    "        pre_fire_img.select(['B2', 'B3', 'B4', 'B8', 'B11', 'B12']),\n",
    "        post_fire_img.select(['B2', 'B3', 'B4', 'B8', 'B11', 'B12']),\n",
    "        pre_fire_nbr,\n",
    "        post_fire_nbr,\n",
    "        dnbr,\n",
    "        fire_mask\n",
    "    ])"
   ]
  },
  {
   "cell_type": "code",
   "execution_count": 60,
   "id": "571d3665",
   "metadata": {},
   "outputs": [
    {
     "data": {
      "text/html": [
       "\n",
       "            <style>\n",
       "                .geemap-dark {\n",
       "                    --jp-widgets-color: white;\n",
       "                    --jp-widgets-label-color: white;\n",
       "                    --jp-ui-font-color1: white;\n",
       "                    --jp-layout-color2: #454545;\n",
       "                    background-color: #383838;\n",
       "                }\n",
       "\n",
       "                .geemap-dark .jupyter-button {\n",
       "                    --jp-layout-color3: #383838;\n",
       "                }\n",
       "\n",
       "                .geemap-colab {\n",
       "                    background-color: var(--colab-primary-surface-color, white);\n",
       "                }\n",
       "\n",
       "                .geemap-colab .jupyter-button {\n",
       "                    --jp-layout-color3: var(--colab-primary-surface-color, white);\n",
       "                }\n",
       "            </style>\n",
       "            "
      ],
      "text/plain": [
       "<IPython.core.display.HTML object>"
      ]
     },
     "metadata": {},
     "output_type": "display_data"
    }
   ],
   "source": [
    "# Combine all bands into separate images for smaller exports\n",
    "clean_name = region['name'].replace(' ', '_').replace('/', '_')\n",
    "alarm_date_short = region['alarm_date'][:10].replace('-', '')\n",
    "\n",
    "# Export 1: Pre-fire image (only visual bands)\n",
    "pre_fire_visual = pre_fire_img.select(['B2', 'B3', 'B4'])  # RGB only\n",
    "task1 = ee.batch.Export.image.toDrive(\n",
    "    image=pre_fire_visual,\n",
    "    description=f'pre_fire_{clean_name}_{alarm_date_short}',\n",
    "    folder='fire_events',\n",
    "    scale=20,\n",
    "    region=region_geom,\n",
    "    maxPixels=1e10,\n",
    "    fileFormat='GeoTIFF'\n",
    ")\n",
    "task1.start()\n",
    "\n",
    "# Export 2: Post-fire image (only visual bands)\n",
    "post_fire_visual = post_fire_img.select(['B2', 'B3', 'B4'])  # RGB only\n",
    "task2 = ee.batch.Export.image.toDrive(\n",
    "    image=post_fire_visual,\n",
    "    description=f'post_fire_{clean_name}_{alarm_date_short}',\n",
    "    folder='fire_events',\n",
    "    scale=20,\n",
    "    region=region_geom,\n",
    "    maxPixels=1e10,\n",
    "    fileFormat='GeoTIFF'\n",
    ")\n",
    "task2.start()\n",
    "\n",
    "# Export 3: Spectral indices and mask (smaller file)\n",
    "indices_mask = ee.Image.cat([pre_fire_nbr, post_fire_nbr, dnbr, fire_mask])\n",
    "task3 = ee.batch.Export.image.toDrive(\n",
    "    image=indices_mask,\n",
    "    description=f'indices_{clean_name}_{alarm_date_short}',\n",
    "    folder='fire_events',\n",
    "    scale=20,\n",
    "    region=region_geom,\n",
    "    maxPixels=1e10,\n",
    "    fileFormat='GeoTIFF'\n",
    ")\n",
    "task3.start()"
   ]
  },
  {
   "cell_type": "code",
   "execution_count": 71,
   "id": "4d790da6",
   "metadata": {},
   "outputs": [
    {
     "data": {
      "text/html": [
       "\n",
       "            <style>\n",
       "                .geemap-dark {\n",
       "                    --jp-widgets-color: white;\n",
       "                    --jp-widgets-label-color: white;\n",
       "                    --jp-ui-font-color1: white;\n",
       "                    --jp-layout-color2: #454545;\n",
       "                    background-color: #383838;\n",
       "                }\n",
       "\n",
       "                .geemap-dark .jupyter-button {\n",
       "                    --jp-layout-color3: #383838;\n",
       "                }\n",
       "\n",
       "                .geemap-colab {\n",
       "                    background-color: var(--colab-primary-surface-color, white);\n",
       "                }\n",
       "\n",
       "                .geemap-colab .jupyter-button {\n",
       "                    --jp-layout-color3: var(--colab-primary-surface-color, white);\n",
       "                }\n",
       "            </style>\n",
       "            "
      ],
      "text/plain": [
       "<IPython.core.display.HTML object>"
      ]
     },
     "metadata": {},
     "output_type": "display_data"
    },
    {
     "data": {
      "application/vnd.jupyter.widget-view+json": {
       "model_id": "1d2d00c038d74530a78cb9c09e301240",
       "version_major": 2,
       "version_minor": 0
      },
      "text/plain": [
       "Map(center=[40.21378330713899, -121.00376980791079], controls=(WidgetControl(options=['position', 'transparent…"
      ]
     },
     "execution_count": 71,
     "metadata": {},
     "output_type": "execute_result"
    }
   ],
   "source": [
    "# Create an interactive map\n",
    "Map = geemap.Map()\n",
    "Map.add_basemap('SATELLITE')  # Add satellite basemap\n",
    "\n",
    "# Pre-fire natural color (RGB)\n",
    "pre_fire_rgb = pre_fire_img.select(['B4', 'B3', 'B2'])  # RGB bands\n",
    "Map.addLayer(pre_fire_rgb, {'min': 0, 'max': 3000}, 'Pre-fire RGB')\n",
    "\n",
    "# Post-fire natural color (RGB)\n",
    "post_fire_rgb = post_fire_img.select(['B4', 'B3', 'B2'])  # RGB bands\n",
    "Map.addLayer(post_fire_rgb, {'min': 0, 'max': 3000}, 'Post-fire RGB')\n",
    "\n",
    "# Pre-fire false color (for vegetation)\n",
    "pre_fire_false_color = pre_fire_img.select(['B8', 'B4', 'B3'])  # NIR, Red, Green\n",
    "Map.addLayer(pre_fire_false_color, {'min': 0, 'max': 3000}, 'Pre-fire False Color')\n",
    "\n",
    "# Post-fire false color\n",
    "post_fire_false_color = post_fire_img.select(['B8', 'B4', 'B3'])  # NIR, Red, Green\n",
    "Map.addLayer(post_fire_false_color, {'min': 0, 'max': 3000}, 'Post-fire False Color')\n",
    "\n",
    "# NBR difference (dNBR) - fire severity\n",
    "dnbr_vis = {\n",
    "    'min': -1, \n",
    "    'max': 1,\n",
    "    'palette': ['blue', 'green', 'yellow', 'red']  # Blue (unburned) to Red (severely burned)\n",
    "}\n",
    "Map.addLayer(dnbr, dnbr_vis, 'dNBR Fire Severity')\n",
    "\n",
    "# Fire mask\n",
    "fire_mask_vis = {\n",
    "    'min': 0,\n",
    "    'max': 1,\n",
    "    'palette': ['00000000', 'FF0000']  # Transparent, Red\n",
    "}\n",
    "Map.addLayer(fire_mask, fire_mask_vis, 'Fire Mask')\n",
    "Map.centerObject(region_geom, 10)\n",
    "Map\n"
   ]
  },
  {
   "cell_type": "markdown",
   "id": "DM4vkWQ3TeLF",
   "metadata": {
    "id": "DM4vkWQ3TeLF"
   },
   "source": [
    "#### Query ad filter image collections"
   ]
  },
  {
   "cell_type": "code",
   "execution_count": null,
   "id": "qCfwOMH2Ty-b",
   "metadata": {
    "colab": {
     "base_uri": "https://localhost:8080/",
     "height": 17
    },
    "executionInfo": {
     "elapsed": 25,
     "status": "ok",
     "timestamp": 1756911069609,
     "user": {
      "displayName": "Runan",
      "userId": "04913747045734941455"
     },
     "user_tz": -120
    },
    "id": "qCfwOMH2Ty-b",
    "outputId": "b9daec4f-d29b-41b5-ffbf-aa4713eba00b"
   },
   "outputs": [
    {
     "data": {
      "text/html": [
       "\n",
       "            <style>\n",
       "                .geemap-dark {\n",
       "                    --jp-widgets-color: white;\n",
       "                    --jp-widgets-label-color: white;\n",
       "                    --jp-ui-font-color1: white;\n",
       "                    --jp-layout-color2: #454545;\n",
       "                    background-color: #383838;\n",
       "                }\n",
       "\n",
       "                .geemap-dark .jupyter-button {\n",
       "                    --jp-layout-color3: #383838;\n",
       "                }\n",
       "\n",
       "                .geemap-colab {\n",
       "                    background-color: var(--colab-primary-surface-color, white);\n",
       "                }\n",
       "\n",
       "                .geemap-colab .jupyter-button {\n",
       "                    --jp-layout-color3: var(--colab-primary-surface-color, white);\n",
       "                }\n",
       "            </style>\n",
       "            "
      ],
      "text/plain": [
       "<IPython.core.display.HTML object>"
      ]
     },
     "metadata": {},
     "output_type": "display_data"
    }
   ],
   "source": [
    "CLOUD_THRESHOLD = 10"
   ]
  },
  {
   "cell_type": "code",
   "execution_count": 14,
   "id": "O69GfOLHVLUa",
   "metadata": {
    "colab": {
     "base_uri": "https://localhost:8080/",
     "height": 17
    },
    "executionInfo": {
     "elapsed": 66,
     "status": "ok",
     "timestamp": 1756911077449,
     "user": {
      "displayName": "Runan",
      "userId": "04913747045734941455"
     },
     "user_tz": -120
    },
    "id": "O69GfOLHVLUa",
    "outputId": "31936d31-5e5e-4a42-ff87-64e27cda2a49"
   },
   "outputs": [
    {
     "data": {
      "text/html": [
       "\n",
       "            <style>\n",
       "                .geemap-dark {\n",
       "                    --jp-widgets-color: white;\n",
       "                    --jp-widgets-label-color: white;\n",
       "                    --jp-ui-font-color1: white;\n",
       "                    --jp-layout-color2: #454545;\n",
       "                    background-color: #383838;\n",
       "                }\n",
       "\n",
       "                .geemap-dark .jupyter-button {\n",
       "                    --jp-layout-color3: #383838;\n",
       "                }\n",
       "\n",
       "                .geemap-colab {\n",
       "                    background-color: var(--colab-primary-surface-color, white);\n",
       "                }\n",
       "\n",
       "                .geemap-colab .jupyter-button {\n",
       "                    --jp-layout-color3: var(--colab-primary-surface-color, white);\n",
       "                }\n",
       "            </style>\n",
       "            "
      ],
      "text/plain": [
       "<IPython.core.display.HTML object>"
      ]
     },
     "metadata": {},
     "output_type": "display_data"
    }
   ],
   "source": [
    "def mask_s2_clouds(image):\n",
    "  \"\"\"Masks clouds in a Sentinel-2 image using the QA band.\n",
    "\n",
    "  Args:\n",
    "      image (ee.Image): A Sentinel-2 image.\n",
    "\n",
    "  Returns:\n",
    "      ee.Image: A cloud-masked Sentinel-2 image.\n",
    "  \"\"\"\n",
    "  qa = image.select('QA60')\n",
    "\n",
    "  # Bits 10 and 11 are clouds and cirrus, respectively.\n",
    "  cloud_bit_mask = 1 << 10\n",
    "  cirrus_bit_mask = 1 << 11\n",
    "\n",
    "  # Both flags should be set to zero, indicating clear conditions.\n",
    "  mask = (\n",
    "      qa.bitwiseAnd(cloud_bit_mask)\n",
    "      .eq(0)\n",
    "      .And(qa.bitwiseAnd(cirrus_bit_mask).eq(0))\n",
    "  )\n",
    "\n",
    "  return image.updateMask(mask).divide(10000)"
   ]
  },
  {
   "cell_type": "code",
   "execution_count": 15,
   "id": "8cSEtF1eoU43",
   "metadata": {
    "colab": {
     "base_uri": "https://localhost:8080/",
     "height": 17
    },
    "executionInfo": {
     "elapsed": 11,
     "status": "ok",
     "timestamp": 1756911080837,
     "user": {
      "displayName": "Runan",
      "userId": "04913747045734941455"
     },
     "user_tz": -120
    },
    "id": "8cSEtF1eoU43",
    "outputId": "69a97495-ab15-42e1-9140-8d4a90c58bdf"
   },
   "outputs": [
    {
     "data": {
      "text/html": [
       "\n",
       "            <style>\n",
       "                .geemap-dark {\n",
       "                    --jp-widgets-color: white;\n",
       "                    --jp-widgets-label-color: white;\n",
       "                    --jp-ui-font-color1: white;\n",
       "                    --jp-layout-color2: #454545;\n",
       "                    background-color: #383838;\n",
       "                }\n",
       "\n",
       "                .geemap-dark .jupyter-button {\n",
       "                    --jp-layout-color3: #383838;\n",
       "                }\n",
       "\n",
       "                .geemap-colab {\n",
       "                    background-color: var(--colab-primary-surface-color, white);\n",
       "                }\n",
       "\n",
       "                .geemap-colab .jupyter-button {\n",
       "                    --jp-layout-color3: var(--colab-primary-surface-color, white);\n",
       "                }\n",
       "            </style>\n",
       "            "
      ],
      "text/plain": [
       "<IPython.core.display.HTML object>"
      ]
     },
     "metadata": {},
     "output_type": "display_data"
    }
   ],
   "source": [
    "START_DATE = \"2024-01-01\"\n",
    "END_DATE = \"2025-09-01\"\n",
    "start = ee.Date(START_DATE)\n",
    "end = ee.Date(END_DATE)"
   ]
  },
  {
   "cell_type": "code",
   "execution_count": 30,
   "id": "2fd1ecbd",
   "metadata": {},
   "outputs": [
    {
     "data": {
      "text/html": [
       "\n",
       "            <style>\n",
       "                .geemap-dark {\n",
       "                    --jp-widgets-color: white;\n",
       "                    --jp-widgets-label-color: white;\n",
       "                    --jp-ui-font-color1: white;\n",
       "                    --jp-layout-color2: #454545;\n",
       "                    background-color: #383838;\n",
       "                }\n",
       "\n",
       "                .geemap-dark .jupyter-button {\n",
       "                    --jp-layout-color3: #383838;\n",
       "                }\n",
       "\n",
       "                .geemap-colab {\n",
       "                    background-color: var(--colab-primary-surface-color, white);\n",
       "                }\n",
       "\n",
       "                .geemap-colab .jupyter-button {\n",
       "                    --jp-layout-color3: var(--colab-primary-surface-color, white);\n",
       "                }\n",
       "            </style>\n",
       "            "
      ],
      "text/plain": [
       "<IPython.core.display.HTML object>"
      ]
     },
     "metadata": {},
     "output_type": "display_data"
    }
   ],
   "source": [
    "perims = geemap.geopandas_to_ee(aoi)"
   ]
  },
  {
   "cell_type": "code",
   "execution_count": 32,
   "id": "549c1a54",
   "metadata": {},
   "outputs": [
    {
     "data": {
      "text/html": [
       "\n",
       "            <style>\n",
       "                .geemap-dark {\n",
       "                    --jp-widgets-color: white;\n",
       "                    --jp-widgets-label-color: white;\n",
       "                    --jp-ui-font-color1: white;\n",
       "                    --jp-layout-color2: #454545;\n",
       "                    background-color: #383838;\n",
       "                }\n",
       "\n",
       "                .geemap-dark .jupyter-button {\n",
       "                    --jp-layout-color3: #383838;\n",
       "                }\n",
       "\n",
       "                .geemap-colab {\n",
       "                    background-color: var(--colab-primary-surface-color, white);\n",
       "                }\n",
       "\n",
       "                .geemap-colab .jupyter-button {\n",
       "                    --jp-layout-color3: var(--colab-primary-surface-color, white);\n",
       "                }\n",
       "            </style>\n",
       "            "
      ],
      "text/plain": [
       "<IPython.core.display.HTML object>"
      ]
     },
     "metadata": {},
     "output_type": "display_data"
    }
   ],
   "source": [
    "perims = perims.filter(ee.Filter.And(\n",
    "    ee.Filter.gte('CONT_DATE_ISO', START_DATE),\n",
    "    ee.Filter.lte('CONT_DATE_ISO', END_DATE)\n",
    "))"
   ]
  },
  {
   "cell_type": "code",
   "execution_count": 20,
   "id": "aqRJ1wdCDm8u",
   "metadata": {
    "colab": {
     "base_uri": "https://localhost:8080/",
     "height": 17
    },
    "executionInfo": {
     "elapsed": 921,
     "status": "ok",
     "timestamp": 1756911086014,
     "user": {
      "displayName": "Runan",
      "userId": "04913747045734941455"
     },
     "user_tz": -120
    },
    "id": "aqRJ1wdCDm8u",
    "outputId": "521d39e7-3811-4b68-ebb2-b0698e265369"
   },
   "outputs": [
    {
     "data": {
      "text/html": [
       "\n",
       "            <style>\n",
       "                .geemap-dark {\n",
       "                    --jp-widgets-color: white;\n",
       "                    --jp-widgets-label-color: white;\n",
       "                    --jp-ui-font-color1: white;\n",
       "                    --jp-layout-color2: #454545;\n",
       "                    background-color: #383838;\n",
       "                }\n",
       "\n",
       "                .geemap-dark .jupyter-button {\n",
       "                    --jp-layout-color3: #383838;\n",
       "                }\n",
       "\n",
       "                .geemap-colab {\n",
       "                    background-color: var(--colab-primary-surface-color, white);\n",
       "                }\n",
       "\n",
       "                .geemap-colab .jupyter-button {\n",
       "                    --jp-layout-color3: var(--colab-primary-surface-color, white);\n",
       "                }\n",
       "            </style>\n",
       "            "
      ],
      "text/plain": [
       "<IPython.core.display.HTML object>"
      ]
     },
     "metadata": {},
     "output_type": "display_data"
    }
   ],
   "source": [
    "AOI = ee.Geometry.BBoxFromQuery(\"California, United States\", user_agent = \"RS_course\")"
   ]
  },
  {
   "cell_type": "code",
   "execution_count": 33,
   "id": "zf6QPcoQVVXb",
   "metadata": {
    "colab": {
     "base_uri": "https://localhost:8080/",
     "height": 17
    },
    "executionInfo": {
     "elapsed": 60,
     "status": "ok",
     "timestamp": 1756911137386,
     "user": {
      "displayName": "Runan",
      "userId": "04913747045734941455"
     },
     "user_tz": -120
    },
    "id": "zf6QPcoQVVXb",
    "outputId": "6fdddf3e-cb36-4b6a-8932-3f62a9d6517f"
   },
   "outputs": [
    {
     "data": {
      "text/html": [
       "\n",
       "            <style>\n",
       "                .geemap-dark {\n",
       "                    --jp-widgets-color: white;\n",
       "                    --jp-widgets-label-color: white;\n",
       "                    --jp-ui-font-color1: white;\n",
       "                    --jp-layout-color2: #454545;\n",
       "                    background-color: #383838;\n",
       "                }\n",
       "\n",
       "                .geemap-dark .jupyter-button {\n",
       "                    --jp-layout-color3: #383838;\n",
       "                }\n",
       "\n",
       "                .geemap-colab {\n",
       "                    background-color: var(--colab-primary-surface-color, white);\n",
       "                }\n",
       "\n",
       "                .geemap-colab .jupyter-button {\n",
       "                    --jp-layout-color3: var(--colab-primary-surface-color, white);\n",
       "                }\n",
       "            </style>\n",
       "            "
      ],
      "text/plain": [
       "<IPython.core.display.HTML object>"
      ]
     },
     "metadata": {},
     "output_type": "display_data"
    }
   ],
   "source": [
    "collection = (\n",
    "    ee.ImageCollection('COPERNICUS/S2_SR_HARMONIZED')\n",
    "    .filterBounds(AOI)\n",
    "    .filterDate(start, end)\n",
    "    # Pre-filter to get less cloudy granules.\n",
    "    .filter(ee.Filter.lt('CLOUDY_PIXEL_PERCENTAGE', CLOUD_THRESHOLD))\n",
    "    .map(mask_s2_clouds)\n",
    ")"
   ]
  },
  {
   "cell_type": "code",
   "execution_count": 38,
   "id": "iW4MKfM1E5BP",
   "metadata": {
    "colab": {
     "base_uri": "https://localhost:8080/",
     "height": 17
    },
    "executionInfo": {
     "elapsed": 59,
     "status": "ok",
     "timestamp": 1756911347246,
     "user": {
      "displayName": "Runan",
      "userId": "04913747045734941455"
     },
     "user_tz": -120
    },
    "id": "iW4MKfM1E5BP",
    "outputId": "c4592a00-3547-4747-983f-01e0e40c057a"
   },
   "outputs": [
    {
     "data": {
      "text/html": [
       "\n",
       "            <style>\n",
       "                .geemap-dark {\n",
       "                    --jp-widgets-color: white;\n",
       "                    --jp-widgets-label-color: white;\n",
       "                    --jp-ui-font-color1: white;\n",
       "                    --jp-layout-color2: #454545;\n",
       "                    background-color: #383838;\n",
       "                }\n",
       "\n",
       "                .geemap-dark .jupyter-button {\n",
       "                    --jp-layout-color3: #383838;\n",
       "                }\n",
       "\n",
       "                .geemap-colab {\n",
       "                    background-color: var(--colab-primary-surface-color, white);\n",
       "                }\n",
       "\n",
       "                .geemap-colab .jupyter-button {\n",
       "                    --jp-layout-color3: var(--colab-primary-surface-color, white);\n",
       "                }\n",
       "            </style>\n",
       "            "
      ],
      "text/plain": [
       "<IPython.core.display.HTML object>"
      ]
     },
     "metadata": {},
     "output_type": "display_data"
    }
   ],
   "source": [
    "def get_monthly_composite(year, month):\n",
    "    start = ee.Date.fromYMD(year, month, 1)\n",
    "    end = start.advance(1, 'month')\n",
    "    \n",
    "    # Filter collection for this month\n",
    "    monthly_col = collection.filterDate(start, end)\n",
    "    \n",
    "    # Check if we have any images for this month\n",
    "    count = monthly_col.size()\n",
    "    has_images = count.gt(0)\n",
    "    \n",
    "    # Create a base image with zeros for when no data exists\n",
    "    base_img = ee.Image(0).selfMask().clip(AOI)\n",
    "    \n",
    "    # Process if we have images\n",
    "    monthly_img = ee.Algorithms.If(\n",
    "        has_images,\n",
    "        monthly_col.median().clip(AOI),\n",
    "        base_img\n",
    "    )\n",
    "    \n",
    "    # Convert to image (needed for ee.Algorithms.If)\n",
    "    monthly_img = ee.Image(monthly_img)\n",
    "    \n",
    "    # Fire mask: fires contained this month\n",
    "    fires_in_month = perims.filter(\n",
    "        ee.Filter.And(\n",
    "            ee.Filter.gte('CONT_DATE_ISO', start),\n",
    "            ee.Filter.lt('CONT_DATE_ISO', end)\n",
    "        )\n",
    "    )\n",
    "    \n",
    "    # Create mask - check if any fires in this month\n",
    "    has_fires = fires_in_month.size().gt(0)\n",
    "    mask = ee.Algorithms.If(\n",
    "        has_fires,\n",
    "        ee.Image(0).byte().paint(fires_in_month, 1).rename(\"mask\").clip(AOI),\n",
    "        ee.Image(0).byte().rename(\"mask\").clip(AOI)\n",
    "    )\n",
    "    mask = ee.Image(mask)\n",
    "    \n",
    "    # Add NBR if we have the required bands\n",
    "    has_bands = monthly_img.bandNames().size().gt(0)\n",
    "    nbr = ee.Algorithms.If(\n",
    "        has_bands.And(has_images),\n",
    "        monthly_img.normalizedDifference(['B8', 'B12']).rename('NBR'),\n",
    "        ee.Image(0).rename('NBR').clip(AOI)\n",
    "    )\n",
    "    nbr = ee.Image(nbr)\n",
    "    \n",
    "    # Combine all bands\n",
    "    result = ee.Image.cat([monthly_img, mask, nbr]).set({\n",
    "        'year': year,\n",
    "        'month': month,\n",
    "        'system:time_start': start.millis(),\n",
    "        'system:index': ee.String(str(year)).cat(\"_\").cat(ee.String(str(month)))\n",
    "    })\n",
    "    \n",
    "    return result"
   ]
  },
  {
   "cell_type": "code",
   "execution_count": 39,
   "id": "dwY5gGojE7fC",
   "metadata": {
    "colab": {
     "base_uri": "https://localhost:8080/",
     "height": 17
    },
    "executionInfo": {
     "elapsed": 56,
     "status": "ok",
     "timestamp": 1756911828626,
     "user": {
      "displayName": "Runan",
      "userId": "04913747045734941455"
     },
     "user_tz": -120
    },
    "id": "dwY5gGojE7fC",
    "outputId": "bb09888b-f484-4ec5-9fb1-b66db0e788c9"
   },
   "outputs": [
    {
     "data": {
      "text/html": [
       "\n",
       "            <style>\n",
       "                .geemap-dark {\n",
       "                    --jp-widgets-color: white;\n",
       "                    --jp-widgets-label-color: white;\n",
       "                    --jp-ui-font-color1: white;\n",
       "                    --jp-layout-color2: #454545;\n",
       "                    background-color: #383838;\n",
       "                }\n",
       "\n",
       "                .geemap-dark .jupyter-button {\n",
       "                    --jp-layout-color3: #383838;\n",
       "                }\n",
       "\n",
       "                .geemap-colab {\n",
       "                    background-color: var(--colab-primary-surface-color, white);\n",
       "                }\n",
       "\n",
       "                .geemap-colab .jupyter-button {\n",
       "                    --jp-layout-color3: var(--colab-primary-surface-color, white);\n",
       "                }\n",
       "            </style>\n",
       "            "
      ],
      "text/plain": [
       "<IPython.core.display.HTML object>"
      ]
     },
     "metadata": {},
     "output_type": "display_data"
    }
   ],
   "source": [
    "# Create list of months to process\n",
    "years = list(range(2024, 2026))\n",
    "months_list = []\n",
    "for y in years:\n",
    "    max_m = 12 if y < 2025 else 8  # Stop at August 2025\n",
    "    for m in range(1, max_m + 1):\n",
    "        months_list.append((y, m))"
   ]
  },
  {
   "cell_type": "code",
   "execution_count": 41,
   "id": "aUOSi93wFxTt",
   "metadata": {
    "colab": {
     "base_uri": "https://localhost:8080/",
     "height": 17
    },
    "executionInfo": {
     "elapsed": 28,
     "status": "ok",
     "timestamp": 1756911830077,
     "user": {
      "displayName": "Runan",
      "userId": "04913747045734941455"
     },
     "user_tz": -120
    },
    "id": "aUOSi93wFxTt",
    "outputId": "c0feccca-4f58-4e3d-fe8d-12089773d0f4"
   },
   "outputs": [
    {
     "data": {
      "text/html": [
       "\n",
       "            <style>\n",
       "                .geemap-dark {\n",
       "                    --jp-widgets-color: white;\n",
       "                    --jp-widgets-label-color: white;\n",
       "                    --jp-ui-font-color1: white;\n",
       "                    --jp-layout-color2: #454545;\n",
       "                    background-color: #383838;\n",
       "                }\n",
       "\n",
       "                .geemap-dark .jupyter-button {\n",
       "                    --jp-layout-color3: #383838;\n",
       "                }\n",
       "\n",
       "                .geemap-colab {\n",
       "                    background-color: var(--colab-primary-surface-color, white);\n",
       "                }\n",
       "\n",
       "                .geemap-colab .jupyter-button {\n",
       "                    --jp-layout-color3: var(--colab-primary-surface-color, white);\n",
       "                }\n",
       "            </style>\n",
       "            "
      ],
      "text/plain": [
       "<IPython.core.display.HTML object>"
      ]
     },
     "metadata": {},
     "output_type": "display_data"
    },
    {
     "name": "stdout",
     "output_type": "stream",
     "text": [
      "Processing 2024-01\n",
      "Generating URL ...\n",
      "An error occurred while downloading.\n",
      "Request payload size exceeds the limit: 10485760 bytes.\n",
      "Successfully exported s2_2024_01.tif\n",
      "Processing 2024-02\n",
      "Generating URL ...\n"
     ]
    },
    {
     "ename": "KeyboardInterrupt",
     "evalue": "",
     "output_type": "error",
     "traceback": [
      "\u001b[1;31m---------------------------------------------------------------------------\u001b[0m",
      "\u001b[1;31mKeyboardInterrupt\u001b[0m                         Traceback (most recent call last)",
      "Cell \u001b[1;32mIn[41], line 15\u001b[0m\n\u001b[0;32m     13\u001b[0m \u001b[38;5;66;03m# Export the image\u001b[39;00m\n\u001b[0;32m     14\u001b[0m \u001b[38;5;28;01mtry\u001b[39;00m:\n\u001b[1;32m---> 15\u001b[0m     \u001b[43mgeemap\u001b[49m\u001b[38;5;241;43m.\u001b[39;49m\u001b[43mee_export_image\u001b[49m\u001b[43m(\u001b[49m\n\u001b[0;32m     16\u001b[0m \u001b[43m        \u001b[49m\u001b[43mmonthly_img\u001b[49m\u001b[43m,\u001b[49m\n\u001b[0;32m     17\u001b[0m \u001b[43m        \u001b[49m\u001b[43mfilename\u001b[49m\u001b[38;5;241;43m=\u001b[39;49m\u001b[43mfilename\u001b[49m\u001b[43m,\u001b[49m\n\u001b[0;32m     18\u001b[0m \u001b[43m        \u001b[49m\u001b[43mscale\u001b[49m\u001b[38;5;241;43m=\u001b[39;49m\u001b[38;5;241;43m20\u001b[39;49m\u001b[43m,\u001b[49m\n\u001b[0;32m     19\u001b[0m \u001b[43m        \u001b[49m\u001b[43mregion\u001b[49m\u001b[38;5;241;43m=\u001b[39;49m\u001b[43mAOI\u001b[49m\u001b[43m,\u001b[49m\n\u001b[0;32m     20\u001b[0m \u001b[43m        \u001b[49m\u001b[43mfile_per_band\u001b[49m\u001b[38;5;241;43m=\u001b[39;49m\u001b[38;5;28;43;01mFalse\u001b[39;49;00m\n\u001b[0;32m     21\u001b[0m \u001b[43m    \u001b[49m\u001b[43m)\u001b[49m\n\u001b[0;32m     22\u001b[0m     \u001b[38;5;28mprint\u001b[39m(\u001b[38;5;124mf\u001b[39m\u001b[38;5;124m\"\u001b[39m\u001b[38;5;124mSuccessfully exported \u001b[39m\u001b[38;5;132;01m{\u001b[39;00mfilename\u001b[38;5;132;01m}\u001b[39;00m\u001b[38;5;124m\"\u001b[39m)\n\u001b[0;32m     23\u001b[0m \u001b[38;5;28;01mexcept\u001b[39;00m \u001b[38;5;167;01mException\u001b[39;00m \u001b[38;5;28;01mas\u001b[39;00m e:\n",
      "File \u001b[1;32md:\\conda\\anaconda3\\envs\\helios_env\\Lib\\site-packages\\geemap\\common.py:115\u001b[0m, in \u001b[0;36mee_export_image\u001b[1;34m(ee_object, filename, scale, crs, crs_transform, region, dimensions, file_per_band, format, unzip, unmask_value, timeout, proxies, verbose)\u001b[0m\n\u001b[0;32m    112\u001b[0m     params[\u001b[38;5;124m\"\u001b[39m\u001b[38;5;124mformat\u001b[39m\u001b[38;5;124m\"\u001b[39m] \u001b[38;5;241m=\u001b[39m \u001b[38;5;28mformat\u001b[39m\n\u001b[0;32m    114\u001b[0m \u001b[38;5;28;01mtry\u001b[39;00m:\n\u001b[1;32m--> 115\u001b[0m     url \u001b[38;5;241m=\u001b[39m \u001b[43mee_object\u001b[49m\u001b[38;5;241;43m.\u001b[39;49m\u001b[43mgetDownloadURL\u001b[49m\u001b[43m(\u001b[49m\u001b[43mparams\u001b[49m\u001b[43m)\u001b[49m\n\u001b[0;32m    116\u001b[0m \u001b[38;5;28;01mexcept\u001b[39;00m \u001b[38;5;167;01mException\u001b[39;00m \u001b[38;5;28;01mas\u001b[39;00m e:\n\u001b[0;32m    117\u001b[0m     \u001b[38;5;28mprint\u001b[39m(\u001b[38;5;124m\"\u001b[39m\u001b[38;5;124mAn error occurred while downloading.\u001b[39m\u001b[38;5;124m\"\u001b[39m)\n",
      "File \u001b[1;32md:\\conda\\anaconda3\\envs\\helios_env\\Lib\\site-packages\\ee\\image.py:517\u001b[0m, in \u001b[0;36mImage.getDownloadURL\u001b[1;34m(self, params)\u001b[0m\n\u001b[0;32m    515\u001b[0m request \u001b[38;5;241m=\u001b[39m params \u001b[38;5;129;01mor\u001b[39;00m {}\n\u001b[0;32m    516\u001b[0m request[\u001b[38;5;124m'\u001b[39m\u001b[38;5;124mimage\u001b[39m\u001b[38;5;124m'\u001b[39m] \u001b[38;5;241m=\u001b[39m \u001b[38;5;28mself\u001b[39m\n\u001b[1;32m--> 517\u001b[0m \u001b[38;5;28;01mreturn\u001b[39;00m data\u001b[38;5;241m.\u001b[39mmakeDownloadUrl(\u001b[43mdata\u001b[49m\u001b[38;5;241;43m.\u001b[39;49m\u001b[43mgetDownloadId\u001b[49m\u001b[43m(\u001b[49m\u001b[43mrequest\u001b[49m\u001b[43m)\u001b[49m)\n",
      "File \u001b[1;32md:\\conda\\anaconda3\\envs\\helios_env\\Lib\\site-packages\\ee\\data.py:1364\u001b[0m, in \u001b[0;36mgetDownloadId\u001b[1;34m(params)\u001b[0m\n\u001b[0;32m   1360\u001b[0m     \u001b[38;5;28;01mraise\u001b[39;00m ee_exception\u001b[38;5;241m.\u001b[39mEEException(\u001b[38;5;124m'\u001b[39m\u001b[38;5;124mEach band dictionary must have an id.\u001b[39m\u001b[38;5;124m'\u001b[39m)\n\u001b[0;32m   1361\u001b[0m   params[\u001b[38;5;124m'\u001b[39m\u001b[38;5;124mbands\u001b[39m\u001b[38;5;124m'\u001b[39m] \u001b[38;5;241m=\u001b[39m bands\n\u001b[0;32m   1362\u001b[0m request \u001b[38;5;241m=\u001b[39m {\n\u001b[0;32m   1363\u001b[0m     \u001b[38;5;124m'\u001b[39m\u001b[38;5;124mexpression\u001b[39m\u001b[38;5;124m'\u001b[39m:\n\u001b[1;32m-> 1364\u001b[0m         \u001b[43mserializer\u001b[49m\u001b[38;5;241;43m.\u001b[39;49m\u001b[43mencode\u001b[49m\u001b[43m(\u001b[49m\n\u001b[0;32m   1365\u001b[0m \u001b[43m            \u001b[49m\u001b[43mparams\u001b[49m\u001b[43m[\u001b[49m\u001b[38;5;124;43m'\u001b[39;49m\u001b[38;5;124;43mimage\u001b[39;49m\u001b[38;5;124;43m'\u001b[39;49m\u001b[43m]\u001b[49m\u001b[38;5;241;43m.\u001b[39;49m\u001b[43m_build_download_id_image\u001b[49m\u001b[43m(\u001b[49m\u001b[43mparams\u001b[49m\u001b[43m)\u001b[49m\u001b[43m,\u001b[49m\u001b[43m  \u001b[49m\u001b[38;5;66;43;03m# pylint: disable=protected-access\u001b[39;49;00m\n\u001b[0;32m   1366\u001b[0m \u001b[43m            \u001b[49m\u001b[43mfor_cloud_api\u001b[49m\u001b[38;5;241;43m=\u001b[39;49m\u001b[38;5;28;43;01mTrue\u001b[39;49;00m\u001b[43m)\u001b[49m,\n\u001b[0;32m   1367\u001b[0m     \u001b[38;5;124m'\u001b[39m\u001b[38;5;124mfileFormat\u001b[39m\u001b[38;5;124m'\u001b[39m:\n\u001b[0;32m   1368\u001b[0m         _cloud_api_utils\u001b[38;5;241m.\u001b[39mconvert_to_image_file_format(params\u001b[38;5;241m.\u001b[39mget(\u001b[38;5;124m'\u001b[39m\u001b[38;5;124mformat\u001b[39m\u001b[38;5;124m'\u001b[39m)),\n\u001b[0;32m   1369\u001b[0m }\n\u001b[0;32m   1370\u001b[0m request[\u001b[38;5;124m'\u001b[39m\u001b[38;5;124mfilenamePrefix\u001b[39m\u001b[38;5;124m'\u001b[39m] \u001b[38;5;241m=\u001b[39m params\u001b[38;5;241m.\u001b[39mget(\u001b[38;5;124m'\u001b[39m\u001b[38;5;124mname\u001b[39m\u001b[38;5;124m'\u001b[39m)\n\u001b[0;32m   1371\u001b[0m \u001b[38;5;28;01mif\u001b[39;00m bands:\n",
      "File \u001b[1;32md:\\conda\\anaconda3\\envs\\helios_env\\Lib\\site-packages\\ee\\serializer.py:301\u001b[0m, in \u001b[0;36mencode\u001b[1;34m(obj, is_compound, for_cloud_api, unbound_name)\u001b[0m\n\u001b[0;32m    285\u001b[0m \u001b[38;5;250m\u001b[39m\u001b[38;5;124;03m\"\"\"Serialize an object to a JSON-compatible structure for API calls.\u001b[39;00m\n\u001b[0;32m    286\u001b[0m \n\u001b[0;32m    287\u001b[0m \u001b[38;5;124;03mArgs:\u001b[39;00m\n\u001b[1;32m   (...)\u001b[0m\n\u001b[0;32m    297\u001b[0m \u001b[38;5;124;03m  A JSON-compatible structure representing the input.\u001b[39;00m\n\u001b[0;32m    298\u001b[0m \u001b[38;5;124;03m\"\"\"\u001b[39;00m\n\u001b[0;32m    299\u001b[0m serializer \u001b[38;5;241m=\u001b[39m Serializer(\n\u001b[0;32m    300\u001b[0m     is_compound, for_cloud_api\u001b[38;5;241m=\u001b[39mfor_cloud_api, unbound_name\u001b[38;5;241m=\u001b[39munbound_name)\n\u001b[1;32m--> 301\u001b[0m \u001b[38;5;28;01mreturn\u001b[39;00m \u001b[43mserializer\u001b[49m\u001b[38;5;241;43m.\u001b[39;49m\u001b[43m_encode\u001b[49m\u001b[43m(\u001b[49m\u001b[43mobj\u001b[49m\u001b[43m)\u001b[49m\n",
      "File \u001b[1;32md:\\conda\\anaconda3\\envs\\helios_env\\Lib\\site-packages\\ee\\serializer.py:79\u001b[0m, in \u001b[0;36mSerializer._encode\u001b[1;34m(self, obj)\u001b[0m\n\u001b[0;32m     70\u001b[0m \u001b[38;5;250m\u001b[39m\u001b[38;5;124;03m\"\"\"Encodes a top level object to be executed server-side.\u001b[39;00m\n\u001b[0;32m     71\u001b[0m \n\u001b[0;32m     72\u001b[0m \u001b[38;5;124;03mArgs:\u001b[39;00m\n\u001b[1;32m   (...)\u001b[0m\n\u001b[0;32m     76\u001b[0m \u001b[38;5;124;03m  An encoded object ready for JSON serialization.\u001b[39;00m\n\u001b[0;32m     77\u001b[0m \u001b[38;5;124;03m\"\"\"\u001b[39;00m\n\u001b[0;32m     78\u001b[0m \u001b[38;5;28;01mif\u001b[39;00m \u001b[38;5;28mself\u001b[39m\u001b[38;5;241m.\u001b[39m_for_cloud_api:\n\u001b[1;32m---> 79\u001b[0m   \u001b[38;5;28;01mreturn\u001b[39;00m \u001b[38;5;28;43mself\u001b[39;49m\u001b[38;5;241;43m.\u001b[39;49m\u001b[43m_encode_for_cloud_api\u001b[49m\u001b[43m(\u001b[49m\u001b[43mobj\u001b[49m\u001b[43m)\u001b[49m\n\u001b[0;32m     80\u001b[0m value \u001b[38;5;241m=\u001b[39m \u001b[38;5;28mself\u001b[39m\u001b[38;5;241m.\u001b[39m_encode_value(obj)\n\u001b[0;32m     81\u001b[0m \u001b[38;5;28;01mif\u001b[39;00m \u001b[38;5;28mself\u001b[39m\u001b[38;5;241m.\u001b[39m_is_compound:\n",
      "File \u001b[1;32md:\\conda\\anaconda3\\envs\\helios_env\\Lib\\site-packages\\ee\\serializer.py:97\u001b[0m, in \u001b[0;36mSerializer._encode_for_cloud_api\u001b[1;34m(self, obj)\u001b[0m\n\u001b[0;32m     95\u001b[0m \u001b[38;5;28;01mdef\u001b[39;00m \u001b[38;5;21m_encode_for_cloud_api\u001b[39m(\u001b[38;5;28mself\u001b[39m, obj: Any) \u001b[38;5;241m-\u001b[39m\u001b[38;5;241m>\u001b[39m Any:\n\u001b[0;32m     96\u001b[0m \u001b[38;5;250m  \u001b[39m\u001b[38;5;124;03m\"\"\"Encodes an object as an Expression or quasi-Expression.\"\"\"\u001b[39;00m\n\u001b[1;32m---> 97\u001b[0m   value \u001b[38;5;241m=\u001b[39m \u001b[38;5;28;43mself\u001b[39;49m\u001b[38;5;241;43m.\u001b[39;49m\u001b[43m_encode_cloud_object\u001b[49m\u001b[43m(\u001b[49m\u001b[43mobj\u001b[49m\u001b[43m)\u001b[49m\n\u001b[0;32m     98\u001b[0m   \u001b[38;5;28;01mif\u001b[39;00m \u001b[38;5;28mself\u001b[39m\u001b[38;5;241m.\u001b[39m_is_compound:\n\u001b[0;32m     99\u001b[0m     \u001b[38;5;66;03m# Wrap the scopes and final value into an Expression.\u001b[39;00m\n\u001b[0;32m    100\u001b[0m     value \u001b[38;5;241m=\u001b[39m _ExpressionOptimizer(value, \u001b[38;5;28mself\u001b[39m\u001b[38;5;241m.\u001b[39m_scope)\u001b[38;5;241m.\u001b[39moptimize()\n",
      "File \u001b[1;32md:\\conda\\anaconda3\\envs\\helios_env\\Lib\\site-packages\\ee\\serializer.py:219\u001b[0m, in \u001b[0;36mSerializer._encode_cloud_object\u001b[1;34m(self, obj)\u001b[0m\n\u001b[0;32m    207\u001b[0m   result \u001b[38;5;241m=\u001b[39m {\n\u001b[0;32m    208\u001b[0m       \u001b[38;5;124m'\u001b[39m\u001b[38;5;124mfunctionInvocationValue\u001b[39m\u001b[38;5;124m'\u001b[39m: {\n\u001b[0;32m    209\u001b[0m           \u001b[38;5;124m'\u001b[39m\u001b[38;5;124mfunctionName\u001b[39m\u001b[38;5;124m'\u001b[39m: \u001b[38;5;124m'\u001b[39m\u001b[38;5;124mDate\u001b[39m\u001b[38;5;124m'\u001b[39m,\n\u001b[1;32m   (...)\u001b[0m\n\u001b[0;32m    215\u001b[0m       }\n\u001b[0;32m    216\u001b[0m   }\n\u001b[0;32m    217\u001b[0m \u001b[38;5;28;01melif\u001b[39;00m \u001b[38;5;28misinstance\u001b[39m(obj, encodable\u001b[38;5;241m.\u001b[39mEncodable):\n\u001b[0;32m    218\u001b[0m   \u001b[38;5;66;03m# Some objects know how to encode themselves.\u001b[39;00m\n\u001b[1;32m--> 219\u001b[0m   result \u001b[38;5;241m=\u001b[39m \u001b[43mobj\u001b[49m\u001b[38;5;241;43m.\u001b[39;49m\u001b[43mencode_cloud_value\u001b[49m\u001b[43m(\u001b[49m\u001b[38;5;28;43mself\u001b[39;49m\u001b[38;5;241;43m.\u001b[39;49m\u001b[43m_encode_cloud_object\u001b[49m\u001b[43m)\u001b[49m\n\u001b[0;32m    220\u001b[0m \u001b[38;5;28;01melif\u001b[39;00m \u001b[38;5;28misinstance\u001b[39m(obj, (\u001b[38;5;28mlist\u001b[39m, \u001b[38;5;28mtuple\u001b[39m)):\n\u001b[0;32m    221\u001b[0m   \u001b[38;5;66;03m# Lists are encoded recursively.\u001b[39;00m\n\u001b[0;32m    222\u001b[0m   \u001b[38;5;28;01mif\u001b[39;00m \u001b[38;5;28mself\u001b[39m\u001b[38;5;241m.\u001b[39m_is_compound:\n",
      "File \u001b[1;32md:\\conda\\anaconda3\\envs\\helios_env\\Lib\\site-packages\\ee\\computedobject.py:167\u001b[0m, in \u001b[0;36mComputedObject.encode_cloud_value\u001b[1;34m(self, encoder)\u001b[0m\n\u001b[0;32m    165\u001b[0m   value \u001b[38;5;241m=\u001b[39m \u001b[38;5;28mself\u001b[39m\u001b[38;5;241m.\u001b[39margs[name]\n\u001b[0;32m    166\u001b[0m   \u001b[38;5;28;01mif\u001b[39;00m value \u001b[38;5;129;01mis\u001b[39;00m \u001b[38;5;129;01mnot\u001b[39;00m \u001b[38;5;28;01mNone\u001b[39;00m:\n\u001b[1;32m--> 167\u001b[0m     encoded_args[name] \u001b[38;5;241m=\u001b[39m {\u001b[38;5;124m'\u001b[39m\u001b[38;5;124mvalueReference\u001b[39m\u001b[38;5;124m'\u001b[39m: \u001b[43mencoder\u001b[49m\u001b[43m(\u001b[49m\u001b[43mvalue\u001b[49m\u001b[43m)\u001b[49m}\n\u001b[0;32m    168\u001b[0m invocation[\u001b[38;5;124m'\u001b[39m\u001b[38;5;124marguments\u001b[39m\u001b[38;5;124m'\u001b[39m] \u001b[38;5;241m=\u001b[39m encoded_args\n\u001b[0;32m    169\u001b[0m \u001b[38;5;28;01mreturn\u001b[39;00m {\u001b[38;5;124m'\u001b[39m\u001b[38;5;124mfunctionInvocationValue\u001b[39m\u001b[38;5;124m'\u001b[39m: invocation}\n",
      "File \u001b[1;32md:\\conda\\anaconda3\\envs\\helios_env\\Lib\\site-packages\\ee\\serializer.py:219\u001b[0m, in \u001b[0;36mSerializer._encode_cloud_object\u001b[1;34m(self, obj)\u001b[0m\n\u001b[0;32m    207\u001b[0m   result \u001b[38;5;241m=\u001b[39m {\n\u001b[0;32m    208\u001b[0m       \u001b[38;5;124m'\u001b[39m\u001b[38;5;124mfunctionInvocationValue\u001b[39m\u001b[38;5;124m'\u001b[39m: {\n\u001b[0;32m    209\u001b[0m           \u001b[38;5;124m'\u001b[39m\u001b[38;5;124mfunctionName\u001b[39m\u001b[38;5;124m'\u001b[39m: \u001b[38;5;124m'\u001b[39m\u001b[38;5;124mDate\u001b[39m\u001b[38;5;124m'\u001b[39m,\n\u001b[1;32m   (...)\u001b[0m\n\u001b[0;32m    215\u001b[0m       }\n\u001b[0;32m    216\u001b[0m   }\n\u001b[0;32m    217\u001b[0m \u001b[38;5;28;01melif\u001b[39;00m \u001b[38;5;28misinstance\u001b[39m(obj, encodable\u001b[38;5;241m.\u001b[39mEncodable):\n\u001b[0;32m    218\u001b[0m   \u001b[38;5;66;03m# Some objects know how to encode themselves.\u001b[39;00m\n\u001b[1;32m--> 219\u001b[0m   result \u001b[38;5;241m=\u001b[39m \u001b[43mobj\u001b[49m\u001b[38;5;241;43m.\u001b[39;49m\u001b[43mencode_cloud_value\u001b[49m\u001b[43m(\u001b[49m\u001b[38;5;28;43mself\u001b[39;49m\u001b[38;5;241;43m.\u001b[39;49m\u001b[43m_encode_cloud_object\u001b[49m\u001b[43m)\u001b[49m\n\u001b[0;32m    220\u001b[0m \u001b[38;5;28;01melif\u001b[39;00m \u001b[38;5;28misinstance\u001b[39m(obj, (\u001b[38;5;28mlist\u001b[39m, \u001b[38;5;28mtuple\u001b[39m)):\n\u001b[0;32m    221\u001b[0m   \u001b[38;5;66;03m# Lists are encoded recursively.\u001b[39;00m\n\u001b[0;32m    222\u001b[0m   \u001b[38;5;28;01mif\u001b[39;00m \u001b[38;5;28mself\u001b[39m\u001b[38;5;241m.\u001b[39m_is_compound:\n",
      "File \u001b[1;32md:\\conda\\anaconda3\\envs\\helios_env\\Lib\\site-packages\\ee\\computedobject.py:167\u001b[0m, in \u001b[0;36mComputedObject.encode_cloud_value\u001b[1;34m(self, encoder)\u001b[0m\n\u001b[0;32m    165\u001b[0m   value \u001b[38;5;241m=\u001b[39m \u001b[38;5;28mself\u001b[39m\u001b[38;5;241m.\u001b[39margs[name]\n\u001b[0;32m    166\u001b[0m   \u001b[38;5;28;01mif\u001b[39;00m value \u001b[38;5;129;01mis\u001b[39;00m \u001b[38;5;129;01mnot\u001b[39;00m \u001b[38;5;28;01mNone\u001b[39;00m:\n\u001b[1;32m--> 167\u001b[0m     encoded_args[name] \u001b[38;5;241m=\u001b[39m {\u001b[38;5;124m'\u001b[39m\u001b[38;5;124mvalueReference\u001b[39m\u001b[38;5;124m'\u001b[39m: \u001b[43mencoder\u001b[49m\u001b[43m(\u001b[49m\u001b[43mvalue\u001b[49m\u001b[43m)\u001b[49m}\n\u001b[0;32m    168\u001b[0m invocation[\u001b[38;5;124m'\u001b[39m\u001b[38;5;124marguments\u001b[39m\u001b[38;5;124m'\u001b[39m] \u001b[38;5;241m=\u001b[39m encoded_args\n\u001b[0;32m    169\u001b[0m \u001b[38;5;28;01mreturn\u001b[39;00m {\u001b[38;5;124m'\u001b[39m\u001b[38;5;124mfunctionInvocationValue\u001b[39m\u001b[38;5;124m'\u001b[39m: invocation}\n",
      "    \u001b[1;31m[... skipping similar frames: Serializer._encode_cloud_object at line 219 (6 times), ComputedObject.encode_cloud_value at line 167 (5 times)]\u001b[0m\n",
      "File \u001b[1;32md:\\conda\\anaconda3\\envs\\helios_env\\Lib\\site-packages\\ee\\computedobject.py:167\u001b[0m, in \u001b[0;36mComputedObject.encode_cloud_value\u001b[1;34m(self, encoder)\u001b[0m\n\u001b[0;32m    165\u001b[0m   value \u001b[38;5;241m=\u001b[39m \u001b[38;5;28mself\u001b[39m\u001b[38;5;241m.\u001b[39margs[name]\n\u001b[0;32m    166\u001b[0m   \u001b[38;5;28;01mif\u001b[39;00m value \u001b[38;5;129;01mis\u001b[39;00m \u001b[38;5;129;01mnot\u001b[39;00m \u001b[38;5;28;01mNone\u001b[39;00m:\n\u001b[1;32m--> 167\u001b[0m     encoded_args[name] \u001b[38;5;241m=\u001b[39m {\u001b[38;5;124m'\u001b[39m\u001b[38;5;124mvalueReference\u001b[39m\u001b[38;5;124m'\u001b[39m: \u001b[43mencoder\u001b[49m\u001b[43m(\u001b[49m\u001b[43mvalue\u001b[49m\u001b[43m)\u001b[49m}\n\u001b[0;32m    168\u001b[0m invocation[\u001b[38;5;124m'\u001b[39m\u001b[38;5;124marguments\u001b[39m\u001b[38;5;124m'\u001b[39m] \u001b[38;5;241m=\u001b[39m encoded_args\n\u001b[0;32m    169\u001b[0m \u001b[38;5;28;01mreturn\u001b[39;00m {\u001b[38;5;124m'\u001b[39m\u001b[38;5;124mfunctionInvocationValue\u001b[39m\u001b[38;5;124m'\u001b[39m: invocation}\n",
      "File \u001b[1;32md:\\conda\\anaconda3\\envs\\helios_env\\Lib\\site-packages\\ee\\serializer.py:219\u001b[0m, in \u001b[0;36mSerializer._encode_cloud_object\u001b[1;34m(self, obj)\u001b[0m\n\u001b[0;32m    207\u001b[0m   result \u001b[38;5;241m=\u001b[39m {\n\u001b[0;32m    208\u001b[0m       \u001b[38;5;124m'\u001b[39m\u001b[38;5;124mfunctionInvocationValue\u001b[39m\u001b[38;5;124m'\u001b[39m: {\n\u001b[0;32m    209\u001b[0m           \u001b[38;5;124m'\u001b[39m\u001b[38;5;124mfunctionName\u001b[39m\u001b[38;5;124m'\u001b[39m: \u001b[38;5;124m'\u001b[39m\u001b[38;5;124mDate\u001b[39m\u001b[38;5;124m'\u001b[39m,\n\u001b[1;32m   (...)\u001b[0m\n\u001b[0;32m    215\u001b[0m       }\n\u001b[0;32m    216\u001b[0m   }\n\u001b[0;32m    217\u001b[0m \u001b[38;5;28;01melif\u001b[39;00m \u001b[38;5;28misinstance\u001b[39m(obj, encodable\u001b[38;5;241m.\u001b[39mEncodable):\n\u001b[0;32m    218\u001b[0m   \u001b[38;5;66;03m# Some objects know how to encode themselves.\u001b[39;00m\n\u001b[1;32m--> 219\u001b[0m   result \u001b[38;5;241m=\u001b[39m \u001b[43mobj\u001b[49m\u001b[38;5;241;43m.\u001b[39;49m\u001b[43mencode_cloud_value\u001b[49m\u001b[43m(\u001b[49m\u001b[38;5;28;43mself\u001b[39;49m\u001b[38;5;241;43m.\u001b[39;49m\u001b[43m_encode_cloud_object\u001b[49m\u001b[43m)\u001b[49m\n\u001b[0;32m    220\u001b[0m \u001b[38;5;28;01melif\u001b[39;00m \u001b[38;5;28misinstance\u001b[39m(obj, (\u001b[38;5;28mlist\u001b[39m, \u001b[38;5;28mtuple\u001b[39m)):\n\u001b[0;32m    221\u001b[0m   \u001b[38;5;66;03m# Lists are encoded recursively.\u001b[39;00m\n\u001b[0;32m    222\u001b[0m   \u001b[38;5;28;01mif\u001b[39;00m \u001b[38;5;28mself\u001b[39m\u001b[38;5;241m.\u001b[39m_is_compound:\n",
      "File \u001b[1;32md:\\conda\\anaconda3\\envs\\helios_env\\Lib\\site-packages\\ee\\_utils.py:38\u001b[0m, in \u001b[0;36maccept_opt_prefix.<locals>.opt_fixed.<locals>.wrapper\u001b[1;34m(*args, **kwargs)\u001b[0m\n\u001b[0;32m     36\u001b[0m     \u001b[38;5;28;01mif\u001b[39;00m new_key \u001b[38;5;129;01mnot\u001b[39;00m \u001b[38;5;129;01min\u001b[39;00m kwargs:\n\u001b[0;32m     37\u001b[0m       kwargs[new_key] \u001b[38;5;241m=\u001b[39m old_key_val\n\u001b[1;32m---> 38\u001b[0m \u001b[38;5;28;01mreturn\u001b[39;00m \u001b[43mfunc\u001b[49m\u001b[43m(\u001b[49m\u001b[38;5;241;43m*\u001b[39;49m\u001b[43margs\u001b[49m\u001b[43m,\u001b[49m\u001b[43m \u001b[49m\u001b[38;5;241;43m*\u001b[39;49m\u001b[38;5;241;43m*\u001b[39;49m\u001b[43mkwargs\u001b[49m\u001b[43m)\u001b[49m\n",
      "File \u001b[1;32md:\\conda\\anaconda3\\envs\\helios_env\\Lib\\site-packages\\ee\\ee_number.py:76\u001b[0m, in \u001b[0;36mNumber.encode_cloud_value\u001b[1;34m(self, encoder)\u001b[0m\n\u001b[0;32m     74\u001b[0m   \u001b[38;5;28;01mreturn\u001b[39;00m _cloud_api_utils\u001b[38;5;241m.\u001b[39mencode_number_as_cloud_value(\u001b[38;5;28mself\u001b[39m\u001b[38;5;241m.\u001b[39m_number)\n\u001b[0;32m     75\u001b[0m \u001b[38;5;28;01melse\u001b[39;00m:\n\u001b[1;32m---> 76\u001b[0m   \u001b[38;5;28;01mreturn\u001b[39;00m \u001b[38;5;28;43msuper\u001b[39;49m\u001b[43m(\u001b[49m\u001b[43m)\u001b[49m\u001b[38;5;241;43m.\u001b[39;49m\u001b[43mencode_cloud_value\u001b[49m\u001b[43m(\u001b[49m\u001b[43mencoder\u001b[49m\u001b[43m)\u001b[49m\n",
      "File \u001b[1;32md:\\conda\\anaconda3\\envs\\helios_env\\Lib\\site-packages\\ee\\computedobject.py:167\u001b[0m, in \u001b[0;36mComputedObject.encode_cloud_value\u001b[1;34m(self, encoder)\u001b[0m\n\u001b[0;32m    165\u001b[0m   value \u001b[38;5;241m=\u001b[39m \u001b[38;5;28mself\u001b[39m\u001b[38;5;241m.\u001b[39margs[name]\n\u001b[0;32m    166\u001b[0m   \u001b[38;5;28;01mif\u001b[39;00m value \u001b[38;5;129;01mis\u001b[39;00m \u001b[38;5;129;01mnot\u001b[39;00m \u001b[38;5;28;01mNone\u001b[39;00m:\n\u001b[1;32m--> 167\u001b[0m     encoded_args[name] \u001b[38;5;241m=\u001b[39m {\u001b[38;5;124m'\u001b[39m\u001b[38;5;124mvalueReference\u001b[39m\u001b[38;5;124m'\u001b[39m: \u001b[43mencoder\u001b[49m\u001b[43m(\u001b[49m\u001b[43mvalue\u001b[49m\u001b[43m)\u001b[49m}\n\u001b[0;32m    168\u001b[0m invocation[\u001b[38;5;124m'\u001b[39m\u001b[38;5;124marguments\u001b[39m\u001b[38;5;124m'\u001b[39m] \u001b[38;5;241m=\u001b[39m encoded_args\n\u001b[0;32m    169\u001b[0m \u001b[38;5;28;01mreturn\u001b[39;00m {\u001b[38;5;124m'\u001b[39m\u001b[38;5;124mfunctionInvocationValue\u001b[39m\u001b[38;5;124m'\u001b[39m: invocation}\n",
      "File \u001b[1;32md:\\conda\\anaconda3\\envs\\helios_env\\Lib\\site-packages\\ee\\serializer.py:219\u001b[0m, in \u001b[0;36mSerializer._encode_cloud_object\u001b[1;34m(self, obj)\u001b[0m\n\u001b[0;32m    207\u001b[0m   result \u001b[38;5;241m=\u001b[39m {\n\u001b[0;32m    208\u001b[0m       \u001b[38;5;124m'\u001b[39m\u001b[38;5;124mfunctionInvocationValue\u001b[39m\u001b[38;5;124m'\u001b[39m: {\n\u001b[0;32m    209\u001b[0m           \u001b[38;5;124m'\u001b[39m\u001b[38;5;124mfunctionName\u001b[39m\u001b[38;5;124m'\u001b[39m: \u001b[38;5;124m'\u001b[39m\u001b[38;5;124mDate\u001b[39m\u001b[38;5;124m'\u001b[39m,\n\u001b[1;32m   (...)\u001b[0m\n\u001b[0;32m    215\u001b[0m       }\n\u001b[0;32m    216\u001b[0m   }\n\u001b[0;32m    217\u001b[0m \u001b[38;5;28;01melif\u001b[39;00m \u001b[38;5;28misinstance\u001b[39m(obj, encodable\u001b[38;5;241m.\u001b[39mEncodable):\n\u001b[0;32m    218\u001b[0m   \u001b[38;5;66;03m# Some objects know how to encode themselves.\u001b[39;00m\n\u001b[1;32m--> 219\u001b[0m   result \u001b[38;5;241m=\u001b[39m \u001b[43mobj\u001b[49m\u001b[38;5;241;43m.\u001b[39;49m\u001b[43mencode_cloud_value\u001b[49m\u001b[43m(\u001b[49m\u001b[38;5;28;43mself\u001b[39;49m\u001b[38;5;241;43m.\u001b[39;49m\u001b[43m_encode_cloud_object\u001b[49m\u001b[43m)\u001b[49m\n\u001b[0;32m    220\u001b[0m \u001b[38;5;28;01melif\u001b[39;00m \u001b[38;5;28misinstance\u001b[39m(obj, (\u001b[38;5;28mlist\u001b[39m, \u001b[38;5;28mtuple\u001b[39m)):\n\u001b[0;32m    221\u001b[0m   \u001b[38;5;66;03m# Lists are encoded recursively.\u001b[39;00m\n\u001b[0;32m    222\u001b[0m   \u001b[38;5;28;01mif\u001b[39;00m \u001b[38;5;28mself\u001b[39m\u001b[38;5;241m.\u001b[39m_is_compound:\n",
      "File \u001b[1;32md:\\conda\\anaconda3\\envs\\helios_env\\Lib\\site-packages\\ee\\_utils.py:38\u001b[0m, in \u001b[0;36maccept_opt_prefix.<locals>.opt_fixed.<locals>.wrapper\u001b[1;34m(*args, **kwargs)\u001b[0m\n\u001b[0;32m     36\u001b[0m     \u001b[38;5;28;01mif\u001b[39;00m new_key \u001b[38;5;129;01mnot\u001b[39;00m \u001b[38;5;129;01min\u001b[39;00m kwargs:\n\u001b[0;32m     37\u001b[0m       kwargs[new_key] \u001b[38;5;241m=\u001b[39m old_key_val\n\u001b[1;32m---> 38\u001b[0m \u001b[38;5;28;01mreturn\u001b[39;00m \u001b[43mfunc\u001b[49m\u001b[43m(\u001b[49m\u001b[38;5;241;43m*\u001b[39;49m\u001b[43margs\u001b[49m\u001b[43m,\u001b[49m\u001b[43m \u001b[49m\u001b[38;5;241;43m*\u001b[39;49m\u001b[38;5;241;43m*\u001b[39;49m\u001b[43mkwargs\u001b[49m\u001b[43m)\u001b[49m\n",
      "File \u001b[1;32md:\\conda\\anaconda3\\envs\\helios_env\\Lib\\site-packages\\ee\\ee_number.py:76\u001b[0m, in \u001b[0;36mNumber.encode_cloud_value\u001b[1;34m(self, encoder)\u001b[0m\n\u001b[0;32m     74\u001b[0m   \u001b[38;5;28;01mreturn\u001b[39;00m _cloud_api_utils\u001b[38;5;241m.\u001b[39mencode_number_as_cloud_value(\u001b[38;5;28mself\u001b[39m\u001b[38;5;241m.\u001b[39m_number)\n\u001b[0;32m     75\u001b[0m \u001b[38;5;28;01melse\u001b[39;00m:\n\u001b[1;32m---> 76\u001b[0m   \u001b[38;5;28;01mreturn\u001b[39;00m \u001b[38;5;28;43msuper\u001b[39;49m\u001b[43m(\u001b[49m\u001b[43m)\u001b[49m\u001b[38;5;241;43m.\u001b[39;49m\u001b[43mencode_cloud_value\u001b[49m\u001b[43m(\u001b[49m\u001b[43mencoder\u001b[49m\u001b[43m)\u001b[49m\n",
      "File \u001b[1;32md:\\conda\\anaconda3\\envs\\helios_env\\Lib\\site-packages\\ee\\computedobject.py:167\u001b[0m, in \u001b[0;36mComputedObject.encode_cloud_value\u001b[1;34m(self, encoder)\u001b[0m\n\u001b[0;32m    165\u001b[0m   value \u001b[38;5;241m=\u001b[39m \u001b[38;5;28mself\u001b[39m\u001b[38;5;241m.\u001b[39margs[name]\n\u001b[0;32m    166\u001b[0m   \u001b[38;5;28;01mif\u001b[39;00m value \u001b[38;5;129;01mis\u001b[39;00m \u001b[38;5;129;01mnot\u001b[39;00m \u001b[38;5;28;01mNone\u001b[39;00m:\n\u001b[1;32m--> 167\u001b[0m     encoded_args[name] \u001b[38;5;241m=\u001b[39m {\u001b[38;5;124m'\u001b[39m\u001b[38;5;124mvalueReference\u001b[39m\u001b[38;5;124m'\u001b[39m: \u001b[43mencoder\u001b[49m\u001b[43m(\u001b[49m\u001b[43mvalue\u001b[49m\u001b[43m)\u001b[49m}\n\u001b[0;32m    168\u001b[0m invocation[\u001b[38;5;124m'\u001b[39m\u001b[38;5;124marguments\u001b[39m\u001b[38;5;124m'\u001b[39m] \u001b[38;5;241m=\u001b[39m encoded_args\n\u001b[0;32m    169\u001b[0m \u001b[38;5;28;01mreturn\u001b[39;00m {\u001b[38;5;124m'\u001b[39m\u001b[38;5;124mfunctionInvocationValue\u001b[39m\u001b[38;5;124m'\u001b[39m: invocation}\n",
      "File \u001b[1;32md:\\conda\\anaconda3\\envs\\helios_env\\Lib\\site-packages\\ee\\serializer.py:219\u001b[0m, in \u001b[0;36mSerializer._encode_cloud_object\u001b[1;34m(self, obj)\u001b[0m\n\u001b[0;32m    207\u001b[0m   result \u001b[38;5;241m=\u001b[39m {\n\u001b[0;32m    208\u001b[0m       \u001b[38;5;124m'\u001b[39m\u001b[38;5;124mfunctionInvocationValue\u001b[39m\u001b[38;5;124m'\u001b[39m: {\n\u001b[0;32m    209\u001b[0m           \u001b[38;5;124m'\u001b[39m\u001b[38;5;124mfunctionName\u001b[39m\u001b[38;5;124m'\u001b[39m: \u001b[38;5;124m'\u001b[39m\u001b[38;5;124mDate\u001b[39m\u001b[38;5;124m'\u001b[39m,\n\u001b[1;32m   (...)\u001b[0m\n\u001b[0;32m    215\u001b[0m       }\n\u001b[0;32m    216\u001b[0m   }\n\u001b[0;32m    217\u001b[0m \u001b[38;5;28;01melif\u001b[39;00m \u001b[38;5;28misinstance\u001b[39m(obj, encodable\u001b[38;5;241m.\u001b[39mEncodable):\n\u001b[0;32m    218\u001b[0m   \u001b[38;5;66;03m# Some objects know how to encode themselves.\u001b[39;00m\n\u001b[1;32m--> 219\u001b[0m   result \u001b[38;5;241m=\u001b[39m \u001b[43mobj\u001b[49m\u001b[38;5;241;43m.\u001b[39;49m\u001b[43mencode_cloud_value\u001b[49m\u001b[43m(\u001b[49m\u001b[38;5;28;43mself\u001b[39;49m\u001b[38;5;241;43m.\u001b[39;49m\u001b[43m_encode_cloud_object\u001b[49m\u001b[43m)\u001b[49m\n\u001b[0;32m    220\u001b[0m \u001b[38;5;28;01melif\u001b[39;00m \u001b[38;5;28misinstance\u001b[39m(obj, (\u001b[38;5;28mlist\u001b[39m, \u001b[38;5;28mtuple\u001b[39m)):\n\u001b[0;32m    221\u001b[0m   \u001b[38;5;66;03m# Lists are encoded recursively.\u001b[39;00m\n\u001b[0;32m    222\u001b[0m   \u001b[38;5;28;01mif\u001b[39;00m \u001b[38;5;28mself\u001b[39m\u001b[38;5;241m.\u001b[39m_is_compound:\n",
      "File \u001b[1;32md:\\conda\\anaconda3\\envs\\helios_env\\Lib\\site-packages\\ee\\computedobject.py:167\u001b[0m, in \u001b[0;36mComputedObject.encode_cloud_value\u001b[1;34m(self, encoder)\u001b[0m\n\u001b[0;32m    165\u001b[0m   value \u001b[38;5;241m=\u001b[39m \u001b[38;5;28mself\u001b[39m\u001b[38;5;241m.\u001b[39margs[name]\n\u001b[0;32m    166\u001b[0m   \u001b[38;5;28;01mif\u001b[39;00m value \u001b[38;5;129;01mis\u001b[39;00m \u001b[38;5;129;01mnot\u001b[39;00m \u001b[38;5;28;01mNone\u001b[39;00m:\n\u001b[1;32m--> 167\u001b[0m     encoded_args[name] \u001b[38;5;241m=\u001b[39m {\u001b[38;5;124m'\u001b[39m\u001b[38;5;124mvalueReference\u001b[39m\u001b[38;5;124m'\u001b[39m: \u001b[43mencoder\u001b[49m\u001b[43m(\u001b[49m\u001b[43mvalue\u001b[49m\u001b[43m)\u001b[49m}\n\u001b[0;32m    168\u001b[0m invocation[\u001b[38;5;124m'\u001b[39m\u001b[38;5;124marguments\u001b[39m\u001b[38;5;124m'\u001b[39m] \u001b[38;5;241m=\u001b[39m encoded_args\n\u001b[0;32m    169\u001b[0m \u001b[38;5;28;01mreturn\u001b[39;00m {\u001b[38;5;124m'\u001b[39m\u001b[38;5;124mfunctionInvocationValue\u001b[39m\u001b[38;5;124m'\u001b[39m: invocation}\n",
      "File \u001b[1;32md:\\conda\\anaconda3\\envs\\helios_env\\Lib\\site-packages\\ee\\serializer.py:219\u001b[0m, in \u001b[0;36mSerializer._encode_cloud_object\u001b[1;34m(self, obj)\u001b[0m\n\u001b[0;32m    207\u001b[0m   result \u001b[38;5;241m=\u001b[39m {\n\u001b[0;32m    208\u001b[0m       \u001b[38;5;124m'\u001b[39m\u001b[38;5;124mfunctionInvocationValue\u001b[39m\u001b[38;5;124m'\u001b[39m: {\n\u001b[0;32m    209\u001b[0m           \u001b[38;5;124m'\u001b[39m\u001b[38;5;124mfunctionName\u001b[39m\u001b[38;5;124m'\u001b[39m: \u001b[38;5;124m'\u001b[39m\u001b[38;5;124mDate\u001b[39m\u001b[38;5;124m'\u001b[39m,\n\u001b[1;32m   (...)\u001b[0m\n\u001b[0;32m    215\u001b[0m       }\n\u001b[0;32m    216\u001b[0m   }\n\u001b[0;32m    217\u001b[0m \u001b[38;5;28;01melif\u001b[39;00m \u001b[38;5;28misinstance\u001b[39m(obj, encodable\u001b[38;5;241m.\u001b[39mEncodable):\n\u001b[0;32m    218\u001b[0m   \u001b[38;5;66;03m# Some objects know how to encode themselves.\u001b[39;00m\n\u001b[1;32m--> 219\u001b[0m   result \u001b[38;5;241m=\u001b[39m \u001b[43mobj\u001b[49m\u001b[38;5;241;43m.\u001b[39;49m\u001b[43mencode_cloud_value\u001b[49m\u001b[43m(\u001b[49m\u001b[38;5;28;43mself\u001b[39;49m\u001b[38;5;241;43m.\u001b[39;49m\u001b[43m_encode_cloud_object\u001b[49m\u001b[43m)\u001b[49m\n\u001b[0;32m    220\u001b[0m \u001b[38;5;28;01melif\u001b[39;00m \u001b[38;5;28misinstance\u001b[39m(obj, (\u001b[38;5;28mlist\u001b[39m, \u001b[38;5;28mtuple\u001b[39m)):\n\u001b[0;32m    221\u001b[0m   \u001b[38;5;66;03m# Lists are encoded recursively.\u001b[39;00m\n\u001b[0;32m    222\u001b[0m   \u001b[38;5;28;01mif\u001b[39;00m \u001b[38;5;28mself\u001b[39m\u001b[38;5;241m.\u001b[39m_is_compound:\n",
      "    \u001b[1;31m[... skipping similar frames: ComputedObject.encode_cloud_value at line 167 (2 times), Serializer._encode_cloud_object at line 219 (1 times)]\u001b[0m\n",
      "File \u001b[1;32md:\\conda\\anaconda3\\envs\\helios_env\\Lib\\site-packages\\ee\\serializer.py:225\u001b[0m, in \u001b[0;36mSerializer._encode_cloud_object\u001b[1;34m(self, obj)\u001b[0m\n\u001b[0;32m    220\u001b[0m \u001b[38;5;28;01melif\u001b[39;00m \u001b[38;5;28misinstance\u001b[39m(obj, (\u001b[38;5;28mlist\u001b[39m, \u001b[38;5;28mtuple\u001b[39m)):\n\u001b[0;32m    221\u001b[0m   \u001b[38;5;66;03m# Lists are encoded recursively.\u001b[39;00m\n\u001b[0;32m    222\u001b[0m   \u001b[38;5;28;01mif\u001b[39;00m \u001b[38;5;28mself\u001b[39m\u001b[38;5;241m.\u001b[39m_is_compound:\n\u001b[0;32m    223\u001b[0m     result \u001b[38;5;241m=\u001b[39m {\n\u001b[0;32m    224\u001b[0m         \u001b[38;5;124m'\u001b[39m\u001b[38;5;124marrayValue\u001b[39m\u001b[38;5;124m'\u001b[39m: {\n\u001b[1;32m--> 225\u001b[0m             \u001b[38;5;124m'\u001b[39m\u001b[38;5;124mvalues\u001b[39m\u001b[38;5;124m'\u001b[39m: \u001b[43m[\u001b[49m\u001b[43m{\u001b[49m\n\u001b[0;32m    226\u001b[0m \u001b[43m                \u001b[49m\u001b[38;5;124;43m'\u001b[39;49m\u001b[38;5;124;43mvalueReference\u001b[39;49m\u001b[38;5;124;43m'\u001b[39;49m\u001b[43m:\u001b[49m\u001b[43m \u001b[49m\u001b[38;5;28;43mself\u001b[39;49m\u001b[38;5;241;43m.\u001b[39;49m\u001b[43m_encode_cloud_object\u001b[49m\u001b[43m(\u001b[49m\u001b[43mi\u001b[49m\u001b[43m)\u001b[49m\n\u001b[0;32m    227\u001b[0m \u001b[43m            \u001b[49m\u001b[43m}\u001b[49m\u001b[43m \u001b[49m\u001b[38;5;28;43;01mfor\u001b[39;49;00m\u001b[43m \u001b[49m\u001b[43mi\u001b[49m\u001b[43m \u001b[49m\u001b[38;5;129;43;01min\u001b[39;49;00m\u001b[43m \u001b[49m\u001b[43mobj\u001b[49m\u001b[43m]\u001b[49m\n\u001b[0;32m    228\u001b[0m         }\n\u001b[0;32m    229\u001b[0m     }\n\u001b[0;32m    230\u001b[0m   \u001b[38;5;28;01melse\u001b[39;00m:\n\u001b[0;32m    231\u001b[0m     result \u001b[38;5;241m=\u001b[39m {\n\u001b[0;32m    232\u001b[0m         \u001b[38;5;124m'\u001b[39m\u001b[38;5;124marrayValue\u001b[39m\u001b[38;5;124m'\u001b[39m: {\n\u001b[0;32m    233\u001b[0m             \u001b[38;5;124m'\u001b[39m\u001b[38;5;124mvalues\u001b[39m\u001b[38;5;124m'\u001b[39m: [\u001b[38;5;28mself\u001b[39m\u001b[38;5;241m.\u001b[39m_encode_cloud_object(i) \u001b[38;5;28;01mfor\u001b[39;00m i \u001b[38;5;129;01min\u001b[39;00m obj]\n\u001b[0;32m    234\u001b[0m         }\n\u001b[0;32m    235\u001b[0m     }\n",
      "File \u001b[1;32md:\\conda\\anaconda3\\envs\\helios_env\\Lib\\site-packages\\ee\\serializer.py:226\u001b[0m, in \u001b[0;36m<listcomp>\u001b[1;34m(.0)\u001b[0m\n\u001b[0;32m    220\u001b[0m \u001b[38;5;28;01melif\u001b[39;00m \u001b[38;5;28misinstance\u001b[39m(obj, (\u001b[38;5;28mlist\u001b[39m, \u001b[38;5;28mtuple\u001b[39m)):\n\u001b[0;32m    221\u001b[0m   \u001b[38;5;66;03m# Lists are encoded recursively.\u001b[39;00m\n\u001b[0;32m    222\u001b[0m   \u001b[38;5;28;01mif\u001b[39;00m \u001b[38;5;28mself\u001b[39m\u001b[38;5;241m.\u001b[39m_is_compound:\n\u001b[0;32m    223\u001b[0m     result \u001b[38;5;241m=\u001b[39m {\n\u001b[0;32m    224\u001b[0m         \u001b[38;5;124m'\u001b[39m\u001b[38;5;124marrayValue\u001b[39m\u001b[38;5;124m'\u001b[39m: {\n\u001b[0;32m    225\u001b[0m             \u001b[38;5;124m'\u001b[39m\u001b[38;5;124mvalues\u001b[39m\u001b[38;5;124m'\u001b[39m: [{\n\u001b[1;32m--> 226\u001b[0m                 \u001b[38;5;124m'\u001b[39m\u001b[38;5;124mvalueReference\u001b[39m\u001b[38;5;124m'\u001b[39m: \u001b[38;5;28;43mself\u001b[39;49m\u001b[38;5;241;43m.\u001b[39;49m\u001b[43m_encode_cloud_object\u001b[49m\u001b[43m(\u001b[49m\u001b[43mi\u001b[49m\u001b[43m)\u001b[49m\n\u001b[0;32m    227\u001b[0m             } \u001b[38;5;28;01mfor\u001b[39;00m i \u001b[38;5;129;01min\u001b[39;00m obj]\n\u001b[0;32m    228\u001b[0m         }\n\u001b[0;32m    229\u001b[0m     }\n\u001b[0;32m    230\u001b[0m   \u001b[38;5;28;01melse\u001b[39;00m:\n\u001b[0;32m    231\u001b[0m     result \u001b[38;5;241m=\u001b[39m {\n\u001b[0;32m    232\u001b[0m         \u001b[38;5;124m'\u001b[39m\u001b[38;5;124marrayValue\u001b[39m\u001b[38;5;124m'\u001b[39m: {\n\u001b[0;32m    233\u001b[0m             \u001b[38;5;124m'\u001b[39m\u001b[38;5;124mvalues\u001b[39m\u001b[38;5;124m'\u001b[39m: [\u001b[38;5;28mself\u001b[39m\u001b[38;5;241m.\u001b[39m_encode_cloud_object(i) \u001b[38;5;28;01mfor\u001b[39;00m i \u001b[38;5;129;01min\u001b[39;00m obj]\n\u001b[0;32m    234\u001b[0m         }\n\u001b[0;32m    235\u001b[0m     }\n",
      "    \u001b[1;31m[... skipping similar frames: Serializer._encode_cloud_object at line 219 (1 times)]\u001b[0m\n",
      "File \u001b[1;32md:\\conda\\anaconda3\\envs\\helios_env\\Lib\\site-packages\\ee\\computedobject.py:167\u001b[0m, in \u001b[0;36mComputedObject.encode_cloud_value\u001b[1;34m(self, encoder)\u001b[0m\n\u001b[0;32m    165\u001b[0m   value \u001b[38;5;241m=\u001b[39m \u001b[38;5;28mself\u001b[39m\u001b[38;5;241m.\u001b[39margs[name]\n\u001b[0;32m    166\u001b[0m   \u001b[38;5;28;01mif\u001b[39;00m value \u001b[38;5;129;01mis\u001b[39;00m \u001b[38;5;129;01mnot\u001b[39;00m \u001b[38;5;28;01mNone\u001b[39;00m:\n\u001b[1;32m--> 167\u001b[0m     encoded_args[name] \u001b[38;5;241m=\u001b[39m {\u001b[38;5;124m'\u001b[39m\u001b[38;5;124mvalueReference\u001b[39m\u001b[38;5;124m'\u001b[39m: \u001b[43mencoder\u001b[49m\u001b[43m(\u001b[49m\u001b[43mvalue\u001b[49m\u001b[43m)\u001b[49m}\n\u001b[0;32m    168\u001b[0m invocation[\u001b[38;5;124m'\u001b[39m\u001b[38;5;124marguments\u001b[39m\u001b[38;5;124m'\u001b[39m] \u001b[38;5;241m=\u001b[39m encoded_args\n\u001b[0;32m    169\u001b[0m \u001b[38;5;28;01mreturn\u001b[39;00m {\u001b[38;5;124m'\u001b[39m\u001b[38;5;124mfunctionInvocationValue\u001b[39m\u001b[38;5;124m'\u001b[39m: invocation}\n",
      "File \u001b[1;32md:\\conda\\anaconda3\\envs\\helios_env\\Lib\\site-packages\\ee\\serializer.py:219\u001b[0m, in \u001b[0;36mSerializer._encode_cloud_object\u001b[1;34m(self, obj)\u001b[0m\n\u001b[0;32m    207\u001b[0m   result \u001b[38;5;241m=\u001b[39m {\n\u001b[0;32m    208\u001b[0m       \u001b[38;5;124m'\u001b[39m\u001b[38;5;124mfunctionInvocationValue\u001b[39m\u001b[38;5;124m'\u001b[39m: {\n\u001b[0;32m    209\u001b[0m           \u001b[38;5;124m'\u001b[39m\u001b[38;5;124mfunctionName\u001b[39m\u001b[38;5;124m'\u001b[39m: \u001b[38;5;124m'\u001b[39m\u001b[38;5;124mDate\u001b[39m\u001b[38;5;124m'\u001b[39m,\n\u001b[1;32m   (...)\u001b[0m\n\u001b[0;32m    215\u001b[0m       }\n\u001b[0;32m    216\u001b[0m   }\n\u001b[0;32m    217\u001b[0m \u001b[38;5;28;01melif\u001b[39;00m \u001b[38;5;28misinstance\u001b[39m(obj, encodable\u001b[38;5;241m.\u001b[39mEncodable):\n\u001b[0;32m    218\u001b[0m   \u001b[38;5;66;03m# Some objects know how to encode themselves.\u001b[39;00m\n\u001b[1;32m--> 219\u001b[0m   result \u001b[38;5;241m=\u001b[39m \u001b[43mobj\u001b[49m\u001b[38;5;241;43m.\u001b[39;49m\u001b[43mencode_cloud_value\u001b[49m\u001b[43m(\u001b[49m\u001b[38;5;28;43mself\u001b[39;49m\u001b[38;5;241;43m.\u001b[39;49m\u001b[43m_encode_cloud_object\u001b[49m\u001b[43m)\u001b[49m\n\u001b[0;32m    220\u001b[0m \u001b[38;5;28;01melif\u001b[39;00m \u001b[38;5;28misinstance\u001b[39m(obj, (\u001b[38;5;28mlist\u001b[39m, \u001b[38;5;28mtuple\u001b[39m)):\n\u001b[0;32m    221\u001b[0m   \u001b[38;5;66;03m# Lists are encoded recursively.\u001b[39;00m\n\u001b[0;32m    222\u001b[0m   \u001b[38;5;28;01mif\u001b[39;00m \u001b[38;5;28mself\u001b[39m\u001b[38;5;241m.\u001b[39m_is_compound:\n",
      "File \u001b[1;32md:\\conda\\anaconda3\\envs\\helios_env\\Lib\\site-packages\\ee\\geometry.py:629\u001b[0m, in \u001b[0;36mGeometry.encode_cloud_value\u001b[1;34m(self, encoder)\u001b[0m\n\u001b[0;32m    626\u001b[0m \u001b[38;5;28;01mif\u001b[39;00m \u001b[38;5;129;01mnot\u001b[39;00m \u001b[38;5;28mgetattr\u001b[39m(\u001b[38;5;28mself\u001b[39m, \u001b[38;5;124m'\u001b[39m\u001b[38;5;124m_type\u001b[39m\u001b[38;5;124m'\u001b[39m, \u001b[38;5;28;01mNone\u001b[39;00m):\n\u001b[0;32m    627\u001b[0m   \u001b[38;5;28;01mreturn\u001b[39;00m \u001b[38;5;28msuper\u001b[39m()\u001b[38;5;241m.\u001b[39mencode_cloud_value(encoder)\n\u001b[1;32m--> 629\u001b[0m \u001b[38;5;28;01mreturn\u001b[39;00m \u001b[38;5;28;43mself\u001b[39;49m\u001b[38;5;241;43m.\u001b[39;49m\u001b[43m_computed_equivalent\u001b[49m\u001b[38;5;241;43m.\u001b[39;49m\u001b[43mencode_cloud_value\u001b[49m\u001b[43m(\u001b[49m\u001b[43mencoder\u001b[49m\u001b[43m)\u001b[49m\n",
      "File \u001b[1;32md:\\conda\\anaconda3\\envs\\helios_env\\Lib\\site-packages\\ee\\geometry.py:627\u001b[0m, in \u001b[0;36mGeometry.encode_cloud_value\u001b[1;34m(self, encoder)\u001b[0m\n\u001b[0;32m    625\u001b[0m \u001b[38;5;250m\u001b[39m\u001b[38;5;124;03m\"\"\"Returns a server-side invocation of the appropriate constructor.\"\"\"\u001b[39;00m\n\u001b[0;32m    626\u001b[0m \u001b[38;5;28;01mif\u001b[39;00m \u001b[38;5;129;01mnot\u001b[39;00m \u001b[38;5;28mgetattr\u001b[39m(\u001b[38;5;28mself\u001b[39m, \u001b[38;5;124m'\u001b[39m\u001b[38;5;124m_type\u001b[39m\u001b[38;5;124m'\u001b[39m, \u001b[38;5;28;01mNone\u001b[39;00m):\n\u001b[1;32m--> 627\u001b[0m   \u001b[38;5;28;01mreturn\u001b[39;00m \u001b[38;5;28;43msuper\u001b[39;49m\u001b[43m(\u001b[49m\u001b[43m)\u001b[49m\u001b[38;5;241;43m.\u001b[39;49m\u001b[43mencode_cloud_value\u001b[49m\u001b[43m(\u001b[49m\u001b[43mencoder\u001b[49m\u001b[43m)\u001b[49m\n\u001b[0;32m    629\u001b[0m \u001b[38;5;28;01mreturn\u001b[39;00m \u001b[38;5;28mself\u001b[39m\u001b[38;5;241m.\u001b[39m_computed_equivalent\u001b[38;5;241m.\u001b[39mencode_cloud_value(encoder)\n",
      "File \u001b[1;32md:\\conda\\anaconda3\\envs\\helios_env\\Lib\\site-packages\\ee\\computedobject.py:167\u001b[0m, in \u001b[0;36mComputedObject.encode_cloud_value\u001b[1;34m(self, encoder)\u001b[0m\n\u001b[0;32m    165\u001b[0m   value \u001b[38;5;241m=\u001b[39m \u001b[38;5;28mself\u001b[39m\u001b[38;5;241m.\u001b[39margs[name]\n\u001b[0;32m    166\u001b[0m   \u001b[38;5;28;01mif\u001b[39;00m value \u001b[38;5;129;01mis\u001b[39;00m \u001b[38;5;129;01mnot\u001b[39;00m \u001b[38;5;28;01mNone\u001b[39;00m:\n\u001b[1;32m--> 167\u001b[0m     encoded_args[name] \u001b[38;5;241m=\u001b[39m {\u001b[38;5;124m'\u001b[39m\u001b[38;5;124mvalueReference\u001b[39m\u001b[38;5;124m'\u001b[39m: \u001b[43mencoder\u001b[49m\u001b[43m(\u001b[49m\u001b[43mvalue\u001b[49m\u001b[43m)\u001b[49m}\n\u001b[0;32m    168\u001b[0m invocation[\u001b[38;5;124m'\u001b[39m\u001b[38;5;124marguments\u001b[39m\u001b[38;5;124m'\u001b[39m] \u001b[38;5;241m=\u001b[39m encoded_args\n\u001b[0;32m    169\u001b[0m \u001b[38;5;28;01mreturn\u001b[39;00m {\u001b[38;5;124m'\u001b[39m\u001b[38;5;124mfunctionInvocationValue\u001b[39m\u001b[38;5;124m'\u001b[39m: invocation}\n",
      "File \u001b[1;32md:\\conda\\anaconda3\\envs\\helios_env\\Lib\\site-packages\\ee\\serializer.py:219\u001b[0m, in \u001b[0;36mSerializer._encode_cloud_object\u001b[1;34m(self, obj)\u001b[0m\n\u001b[0;32m    207\u001b[0m   result \u001b[38;5;241m=\u001b[39m {\n\u001b[0;32m    208\u001b[0m       \u001b[38;5;124m'\u001b[39m\u001b[38;5;124mfunctionInvocationValue\u001b[39m\u001b[38;5;124m'\u001b[39m: {\n\u001b[0;32m    209\u001b[0m           \u001b[38;5;124m'\u001b[39m\u001b[38;5;124mfunctionName\u001b[39m\u001b[38;5;124m'\u001b[39m: \u001b[38;5;124m'\u001b[39m\u001b[38;5;124mDate\u001b[39m\u001b[38;5;124m'\u001b[39m,\n\u001b[1;32m   (...)\u001b[0m\n\u001b[0;32m    215\u001b[0m       }\n\u001b[0;32m    216\u001b[0m   }\n\u001b[0;32m    217\u001b[0m \u001b[38;5;28;01melif\u001b[39;00m \u001b[38;5;28misinstance\u001b[39m(obj, encodable\u001b[38;5;241m.\u001b[39mEncodable):\n\u001b[0;32m    218\u001b[0m   \u001b[38;5;66;03m# Some objects know how to encode themselves.\u001b[39;00m\n\u001b[1;32m--> 219\u001b[0m   result \u001b[38;5;241m=\u001b[39m \u001b[43mobj\u001b[49m\u001b[38;5;241;43m.\u001b[39;49m\u001b[43mencode_cloud_value\u001b[49m\u001b[43m(\u001b[49m\u001b[38;5;28;43mself\u001b[39;49m\u001b[38;5;241;43m.\u001b[39;49m\u001b[43m_encode_cloud_object\u001b[49m\u001b[43m)\u001b[49m\n\u001b[0;32m    220\u001b[0m \u001b[38;5;28;01melif\u001b[39;00m \u001b[38;5;28misinstance\u001b[39m(obj, (\u001b[38;5;28mlist\u001b[39m, \u001b[38;5;28mtuple\u001b[39m)):\n\u001b[0;32m    221\u001b[0m   \u001b[38;5;66;03m# Lists are encoded recursively.\u001b[39;00m\n\u001b[0;32m    222\u001b[0m   \u001b[38;5;28;01mif\u001b[39;00m \u001b[38;5;28mself\u001b[39m\u001b[38;5;241m.\u001b[39m_is_compound:\n",
      "File \u001b[1;32md:\\conda\\anaconda3\\envs\\helios_env\\Lib\\site-packages\\ee\\_utils.py:38\u001b[0m, in \u001b[0;36maccept_opt_prefix.<locals>.opt_fixed.<locals>.wrapper\u001b[1;34m(*args, **kwargs)\u001b[0m\n\u001b[0;32m     36\u001b[0m     \u001b[38;5;28;01mif\u001b[39;00m new_key \u001b[38;5;129;01mnot\u001b[39;00m \u001b[38;5;129;01min\u001b[39;00m kwargs:\n\u001b[0;32m     37\u001b[0m       kwargs[new_key] \u001b[38;5;241m=\u001b[39m old_key_val\n\u001b[1;32m---> 38\u001b[0m \u001b[38;5;28;01mreturn\u001b[39;00m \u001b[43mfunc\u001b[49m\u001b[43m(\u001b[49m\u001b[38;5;241;43m*\u001b[39;49m\u001b[43margs\u001b[49m\u001b[43m,\u001b[49m\u001b[43m \u001b[49m\u001b[38;5;241;43m*\u001b[39;49m\u001b[38;5;241;43m*\u001b[39;49m\u001b[43mkwargs\u001b[49m\u001b[43m)\u001b[49m\n",
      "File \u001b[1;32md:\\conda\\anaconda3\\envs\\helios_env\\Lib\\site-packages\\ee\\ee_list.py:117\u001b[0m, in \u001b[0;36mList.encode_cloud_value\u001b[1;34m(self, encoder)\u001b[0m\n\u001b[0;32m    114\u001b[0m \u001b[38;5;129m@_utils\u001b[39m\u001b[38;5;241m.\u001b[39maccept_opt_prefix(\u001b[38;5;124m'\u001b[39m\u001b[38;5;124mopt_encoder\u001b[39m\u001b[38;5;124m'\u001b[39m)\n\u001b[0;32m    115\u001b[0m \u001b[38;5;28;01mdef\u001b[39;00m \u001b[38;5;21mencode_cloud_value\u001b[39m(\u001b[38;5;28mself\u001b[39m, encoder: Any \u001b[38;5;241m|\u001b[39m \u001b[38;5;28;01mNone\u001b[39;00m \u001b[38;5;241m=\u001b[39m \u001b[38;5;28;01mNone\u001b[39;00m) \u001b[38;5;241m-\u001b[39m\u001b[38;5;241m>\u001b[39m Any:\n\u001b[0;32m    116\u001b[0m   \u001b[38;5;28;01mif\u001b[39;00m \u001b[38;5;28misinstance\u001b[39m(\u001b[38;5;28mself\u001b[39m\u001b[38;5;241m.\u001b[39m_list, (\u001b[38;5;28mlist\u001b[39m, \u001b[38;5;28mtuple\u001b[39m)):\n\u001b[1;32m--> 117\u001b[0m     \u001b[38;5;28;01mreturn\u001b[39;00m {\u001b[38;5;124m'\u001b[39m\u001b[38;5;124mvalueReference\u001b[39m\u001b[38;5;124m'\u001b[39m: \u001b[43mencoder\u001b[49m\u001b[43m(\u001b[49m\u001b[38;5;28;43mself\u001b[39;49m\u001b[38;5;241;43m.\u001b[39;49m\u001b[43m_list\u001b[49m\u001b[43m)\u001b[49m}\n\u001b[0;32m    118\u001b[0m   \u001b[38;5;28;01melse\u001b[39;00m:\n\u001b[0;32m    119\u001b[0m     \u001b[38;5;28;01mreturn\u001b[39;00m \u001b[38;5;28msuper\u001b[39m()\u001b[38;5;241m.\u001b[39mencode_cloud_value(encoder)\n",
      "File \u001b[1;32md:\\conda\\anaconda3\\envs\\helios_env\\Lib\\site-packages\\ee\\serializer.py:225\u001b[0m, in \u001b[0;36mSerializer._encode_cloud_object\u001b[1;34m(self, obj)\u001b[0m\n\u001b[0;32m    220\u001b[0m \u001b[38;5;28;01melif\u001b[39;00m \u001b[38;5;28misinstance\u001b[39m(obj, (\u001b[38;5;28mlist\u001b[39m, \u001b[38;5;28mtuple\u001b[39m)):\n\u001b[0;32m    221\u001b[0m   \u001b[38;5;66;03m# Lists are encoded recursively.\u001b[39;00m\n\u001b[0;32m    222\u001b[0m   \u001b[38;5;28;01mif\u001b[39;00m \u001b[38;5;28mself\u001b[39m\u001b[38;5;241m.\u001b[39m_is_compound:\n\u001b[0;32m    223\u001b[0m     result \u001b[38;5;241m=\u001b[39m {\n\u001b[0;32m    224\u001b[0m         \u001b[38;5;124m'\u001b[39m\u001b[38;5;124marrayValue\u001b[39m\u001b[38;5;124m'\u001b[39m: {\n\u001b[1;32m--> 225\u001b[0m             \u001b[38;5;124m'\u001b[39m\u001b[38;5;124mvalues\u001b[39m\u001b[38;5;124m'\u001b[39m: \u001b[43m[\u001b[49m\u001b[43m{\u001b[49m\n\u001b[0;32m    226\u001b[0m \u001b[43m                \u001b[49m\u001b[38;5;124;43m'\u001b[39;49m\u001b[38;5;124;43mvalueReference\u001b[39;49m\u001b[38;5;124;43m'\u001b[39;49m\u001b[43m:\u001b[49m\u001b[43m \u001b[49m\u001b[38;5;28;43mself\u001b[39;49m\u001b[38;5;241;43m.\u001b[39;49m\u001b[43m_encode_cloud_object\u001b[49m\u001b[43m(\u001b[49m\u001b[43mi\u001b[49m\u001b[43m)\u001b[49m\n\u001b[0;32m    227\u001b[0m \u001b[43m            \u001b[49m\u001b[43m}\u001b[49m\u001b[43m \u001b[49m\u001b[38;5;28;43;01mfor\u001b[39;49;00m\u001b[43m \u001b[49m\u001b[43mi\u001b[49m\u001b[43m \u001b[49m\u001b[38;5;129;43;01min\u001b[39;49;00m\u001b[43m \u001b[49m\u001b[43mobj\u001b[49m\u001b[43m]\u001b[49m\n\u001b[0;32m    228\u001b[0m         }\n\u001b[0;32m    229\u001b[0m     }\n\u001b[0;32m    230\u001b[0m   \u001b[38;5;28;01melse\u001b[39;00m:\n\u001b[0;32m    231\u001b[0m     result \u001b[38;5;241m=\u001b[39m {\n\u001b[0;32m    232\u001b[0m         \u001b[38;5;124m'\u001b[39m\u001b[38;5;124marrayValue\u001b[39m\u001b[38;5;124m'\u001b[39m: {\n\u001b[0;32m    233\u001b[0m             \u001b[38;5;124m'\u001b[39m\u001b[38;5;124mvalues\u001b[39m\u001b[38;5;124m'\u001b[39m: [\u001b[38;5;28mself\u001b[39m\u001b[38;5;241m.\u001b[39m_encode_cloud_object(i) \u001b[38;5;28;01mfor\u001b[39;00m i \u001b[38;5;129;01min\u001b[39;00m obj]\n\u001b[0;32m    234\u001b[0m         }\n\u001b[0;32m    235\u001b[0m     }\n",
      "File \u001b[1;32md:\\conda\\anaconda3\\envs\\helios_env\\Lib\\site-packages\\ee\\serializer.py:226\u001b[0m, in \u001b[0;36m<listcomp>\u001b[1;34m(.0)\u001b[0m\n\u001b[0;32m    220\u001b[0m \u001b[38;5;28;01melif\u001b[39;00m \u001b[38;5;28misinstance\u001b[39m(obj, (\u001b[38;5;28mlist\u001b[39m, \u001b[38;5;28mtuple\u001b[39m)):\n\u001b[0;32m    221\u001b[0m   \u001b[38;5;66;03m# Lists are encoded recursively.\u001b[39;00m\n\u001b[0;32m    222\u001b[0m   \u001b[38;5;28;01mif\u001b[39;00m \u001b[38;5;28mself\u001b[39m\u001b[38;5;241m.\u001b[39m_is_compound:\n\u001b[0;32m    223\u001b[0m     result \u001b[38;5;241m=\u001b[39m {\n\u001b[0;32m    224\u001b[0m         \u001b[38;5;124m'\u001b[39m\u001b[38;5;124marrayValue\u001b[39m\u001b[38;5;124m'\u001b[39m: {\n\u001b[0;32m    225\u001b[0m             \u001b[38;5;124m'\u001b[39m\u001b[38;5;124mvalues\u001b[39m\u001b[38;5;124m'\u001b[39m: [{\n\u001b[1;32m--> 226\u001b[0m                 \u001b[38;5;124m'\u001b[39m\u001b[38;5;124mvalueReference\u001b[39m\u001b[38;5;124m'\u001b[39m: \u001b[38;5;28;43mself\u001b[39;49m\u001b[38;5;241;43m.\u001b[39;49m\u001b[43m_encode_cloud_object\u001b[49m\u001b[43m(\u001b[49m\u001b[43mi\u001b[49m\u001b[43m)\u001b[49m\n\u001b[0;32m    227\u001b[0m             } \u001b[38;5;28;01mfor\u001b[39;00m i \u001b[38;5;129;01min\u001b[39;00m obj]\n\u001b[0;32m    228\u001b[0m         }\n\u001b[0;32m    229\u001b[0m     }\n\u001b[0;32m    230\u001b[0m   \u001b[38;5;28;01melse\u001b[39;00m:\n\u001b[0;32m    231\u001b[0m     result \u001b[38;5;241m=\u001b[39m {\n\u001b[0;32m    232\u001b[0m         \u001b[38;5;124m'\u001b[39m\u001b[38;5;124marrayValue\u001b[39m\u001b[38;5;124m'\u001b[39m: {\n\u001b[0;32m    233\u001b[0m             \u001b[38;5;124m'\u001b[39m\u001b[38;5;124mvalues\u001b[39m\u001b[38;5;124m'\u001b[39m: [\u001b[38;5;28mself\u001b[39m\u001b[38;5;241m.\u001b[39m_encode_cloud_object(i) \u001b[38;5;28;01mfor\u001b[39;00m i \u001b[38;5;129;01min\u001b[39;00m obj]\n\u001b[0;32m    234\u001b[0m         }\n\u001b[0;32m    235\u001b[0m     }\n",
      "File \u001b[1;32md:\\conda\\anaconda3\\envs\\helios_env\\Lib\\site-packages\\ee\\serializer.py:225\u001b[0m, in \u001b[0;36mSerializer._encode_cloud_object\u001b[1;34m(self, obj)\u001b[0m\n\u001b[0;32m    220\u001b[0m \u001b[38;5;28;01melif\u001b[39;00m \u001b[38;5;28misinstance\u001b[39m(obj, (\u001b[38;5;28mlist\u001b[39m, \u001b[38;5;28mtuple\u001b[39m)):\n\u001b[0;32m    221\u001b[0m   \u001b[38;5;66;03m# Lists are encoded recursively.\u001b[39;00m\n\u001b[0;32m    222\u001b[0m   \u001b[38;5;28;01mif\u001b[39;00m \u001b[38;5;28mself\u001b[39m\u001b[38;5;241m.\u001b[39m_is_compound:\n\u001b[0;32m    223\u001b[0m     result \u001b[38;5;241m=\u001b[39m {\n\u001b[0;32m    224\u001b[0m         \u001b[38;5;124m'\u001b[39m\u001b[38;5;124marrayValue\u001b[39m\u001b[38;5;124m'\u001b[39m: {\n\u001b[1;32m--> 225\u001b[0m             \u001b[38;5;124m'\u001b[39m\u001b[38;5;124mvalues\u001b[39m\u001b[38;5;124m'\u001b[39m: \u001b[43m[\u001b[49m\u001b[43m{\u001b[49m\n\u001b[0;32m    226\u001b[0m \u001b[43m                \u001b[49m\u001b[38;5;124;43m'\u001b[39;49m\u001b[38;5;124;43mvalueReference\u001b[39;49m\u001b[38;5;124;43m'\u001b[39;49m\u001b[43m:\u001b[49m\u001b[43m \u001b[49m\u001b[38;5;28;43mself\u001b[39;49m\u001b[38;5;241;43m.\u001b[39;49m\u001b[43m_encode_cloud_object\u001b[49m\u001b[43m(\u001b[49m\u001b[43mi\u001b[49m\u001b[43m)\u001b[49m\n\u001b[0;32m    227\u001b[0m \u001b[43m            \u001b[49m\u001b[43m}\u001b[49m\u001b[43m \u001b[49m\u001b[38;5;28;43;01mfor\u001b[39;49;00m\u001b[43m \u001b[49m\u001b[43mi\u001b[49m\u001b[43m \u001b[49m\u001b[38;5;129;43;01min\u001b[39;49;00m\u001b[43m \u001b[49m\u001b[43mobj\u001b[49m\u001b[43m]\u001b[49m\n\u001b[0;32m    228\u001b[0m         }\n\u001b[0;32m    229\u001b[0m     }\n\u001b[0;32m    230\u001b[0m   \u001b[38;5;28;01melse\u001b[39;00m:\n\u001b[0;32m    231\u001b[0m     result \u001b[38;5;241m=\u001b[39m {\n\u001b[0;32m    232\u001b[0m         \u001b[38;5;124m'\u001b[39m\u001b[38;5;124marrayValue\u001b[39m\u001b[38;5;124m'\u001b[39m: {\n\u001b[0;32m    233\u001b[0m             \u001b[38;5;124m'\u001b[39m\u001b[38;5;124mvalues\u001b[39m\u001b[38;5;124m'\u001b[39m: [\u001b[38;5;28mself\u001b[39m\u001b[38;5;241m.\u001b[39m_encode_cloud_object(i) \u001b[38;5;28;01mfor\u001b[39;00m i \u001b[38;5;129;01min\u001b[39;00m obj]\n\u001b[0;32m    234\u001b[0m         }\n\u001b[0;32m    235\u001b[0m     }\n",
      "File \u001b[1;32md:\\conda\\anaconda3\\envs\\helios_env\\Lib\\site-packages\\ee\\serializer.py:226\u001b[0m, in \u001b[0;36m<listcomp>\u001b[1;34m(.0)\u001b[0m\n\u001b[0;32m    220\u001b[0m \u001b[38;5;28;01melif\u001b[39;00m \u001b[38;5;28misinstance\u001b[39m(obj, (\u001b[38;5;28mlist\u001b[39m, \u001b[38;5;28mtuple\u001b[39m)):\n\u001b[0;32m    221\u001b[0m   \u001b[38;5;66;03m# Lists are encoded recursively.\u001b[39;00m\n\u001b[0;32m    222\u001b[0m   \u001b[38;5;28;01mif\u001b[39;00m \u001b[38;5;28mself\u001b[39m\u001b[38;5;241m.\u001b[39m_is_compound:\n\u001b[0;32m    223\u001b[0m     result \u001b[38;5;241m=\u001b[39m {\n\u001b[0;32m    224\u001b[0m         \u001b[38;5;124m'\u001b[39m\u001b[38;5;124marrayValue\u001b[39m\u001b[38;5;124m'\u001b[39m: {\n\u001b[0;32m    225\u001b[0m             \u001b[38;5;124m'\u001b[39m\u001b[38;5;124mvalues\u001b[39m\u001b[38;5;124m'\u001b[39m: [{\n\u001b[1;32m--> 226\u001b[0m                 \u001b[38;5;124m'\u001b[39m\u001b[38;5;124mvalueReference\u001b[39m\u001b[38;5;124m'\u001b[39m: \u001b[38;5;28;43mself\u001b[39;49m\u001b[38;5;241;43m.\u001b[39;49m\u001b[43m_encode_cloud_object\u001b[49m\u001b[43m(\u001b[49m\u001b[43mi\u001b[49m\u001b[43m)\u001b[49m\n\u001b[0;32m    227\u001b[0m             } \u001b[38;5;28;01mfor\u001b[39;00m i \u001b[38;5;129;01min\u001b[39;00m obj]\n\u001b[0;32m    228\u001b[0m         }\n\u001b[0;32m    229\u001b[0m     }\n\u001b[0;32m    230\u001b[0m   \u001b[38;5;28;01melse\u001b[39;00m:\n\u001b[0;32m    231\u001b[0m     result \u001b[38;5;241m=\u001b[39m {\n\u001b[0;32m    232\u001b[0m         \u001b[38;5;124m'\u001b[39m\u001b[38;5;124marrayValue\u001b[39m\u001b[38;5;124m'\u001b[39m: {\n\u001b[0;32m    233\u001b[0m             \u001b[38;5;124m'\u001b[39m\u001b[38;5;124mvalues\u001b[39m\u001b[38;5;124m'\u001b[39m: [\u001b[38;5;28mself\u001b[39m\u001b[38;5;241m.\u001b[39m_encode_cloud_object(i) \u001b[38;5;28;01mfor\u001b[39;00m i \u001b[38;5;129;01min\u001b[39;00m obj]\n\u001b[0;32m    234\u001b[0m         }\n\u001b[0;32m    235\u001b[0m     }\n",
      "    \u001b[1;31m[... skipping similar frames: <listcomp> at line 226 (1 times), Serializer._encode_cloud_object at line 225 (1 times)]\u001b[0m\n",
      "File \u001b[1;32md:\\conda\\anaconda3\\envs\\helios_env\\Lib\\site-packages\\ee\\serializer.py:225\u001b[0m, in \u001b[0;36mSerializer._encode_cloud_object\u001b[1;34m(self, obj)\u001b[0m\n\u001b[0;32m    220\u001b[0m \u001b[38;5;28;01melif\u001b[39;00m \u001b[38;5;28misinstance\u001b[39m(obj, (\u001b[38;5;28mlist\u001b[39m, \u001b[38;5;28mtuple\u001b[39m)):\n\u001b[0;32m    221\u001b[0m   \u001b[38;5;66;03m# Lists are encoded recursively.\u001b[39;00m\n\u001b[0;32m    222\u001b[0m   \u001b[38;5;28;01mif\u001b[39;00m \u001b[38;5;28mself\u001b[39m\u001b[38;5;241m.\u001b[39m_is_compound:\n\u001b[0;32m    223\u001b[0m     result \u001b[38;5;241m=\u001b[39m {\n\u001b[0;32m    224\u001b[0m         \u001b[38;5;124m'\u001b[39m\u001b[38;5;124marrayValue\u001b[39m\u001b[38;5;124m'\u001b[39m: {\n\u001b[1;32m--> 225\u001b[0m             \u001b[38;5;124m'\u001b[39m\u001b[38;5;124mvalues\u001b[39m\u001b[38;5;124m'\u001b[39m: \u001b[43m[\u001b[49m\u001b[43m{\u001b[49m\n\u001b[0;32m    226\u001b[0m \u001b[43m                \u001b[49m\u001b[38;5;124;43m'\u001b[39;49m\u001b[38;5;124;43mvalueReference\u001b[39;49m\u001b[38;5;124;43m'\u001b[39;49m\u001b[43m:\u001b[49m\u001b[43m \u001b[49m\u001b[38;5;28;43mself\u001b[39;49m\u001b[38;5;241;43m.\u001b[39;49m\u001b[43m_encode_cloud_object\u001b[49m\u001b[43m(\u001b[49m\u001b[43mi\u001b[49m\u001b[43m)\u001b[49m\n\u001b[0;32m    227\u001b[0m \u001b[43m            \u001b[49m\u001b[43m}\u001b[49m\u001b[43m \u001b[49m\u001b[38;5;28;43;01mfor\u001b[39;49;00m\u001b[43m \u001b[49m\u001b[43mi\u001b[49m\u001b[43m \u001b[49m\u001b[38;5;129;43;01min\u001b[39;49;00m\u001b[43m \u001b[49m\u001b[43mobj\u001b[49m\u001b[43m]\u001b[49m\n\u001b[0;32m    228\u001b[0m         }\n\u001b[0;32m    229\u001b[0m     }\n\u001b[0;32m    230\u001b[0m   \u001b[38;5;28;01melse\u001b[39;00m:\n\u001b[0;32m    231\u001b[0m     result \u001b[38;5;241m=\u001b[39m {\n\u001b[0;32m    232\u001b[0m         \u001b[38;5;124m'\u001b[39m\u001b[38;5;124marrayValue\u001b[39m\u001b[38;5;124m'\u001b[39m: {\n\u001b[0;32m    233\u001b[0m             \u001b[38;5;124m'\u001b[39m\u001b[38;5;124mvalues\u001b[39m\u001b[38;5;124m'\u001b[39m: [\u001b[38;5;28mself\u001b[39m\u001b[38;5;241m.\u001b[39m_encode_cloud_object(i) \u001b[38;5;28;01mfor\u001b[39;00m i \u001b[38;5;129;01min\u001b[39;00m obj]\n\u001b[0;32m    234\u001b[0m         }\n\u001b[0;32m    235\u001b[0m     }\n",
      "File \u001b[1;32md:\\conda\\anaconda3\\envs\\helios_env\\Lib\\site-packages\\ee\\serializer.py:226\u001b[0m, in \u001b[0;36m<listcomp>\u001b[1;34m(.0)\u001b[0m\n\u001b[0;32m    220\u001b[0m \u001b[38;5;28;01melif\u001b[39;00m \u001b[38;5;28misinstance\u001b[39m(obj, (\u001b[38;5;28mlist\u001b[39m, \u001b[38;5;28mtuple\u001b[39m)):\n\u001b[0;32m    221\u001b[0m   \u001b[38;5;66;03m# Lists are encoded recursively.\u001b[39;00m\n\u001b[0;32m    222\u001b[0m   \u001b[38;5;28;01mif\u001b[39;00m \u001b[38;5;28mself\u001b[39m\u001b[38;5;241m.\u001b[39m_is_compound:\n\u001b[0;32m    223\u001b[0m     result \u001b[38;5;241m=\u001b[39m {\n\u001b[0;32m    224\u001b[0m         \u001b[38;5;124m'\u001b[39m\u001b[38;5;124marrayValue\u001b[39m\u001b[38;5;124m'\u001b[39m: {\n\u001b[0;32m    225\u001b[0m             \u001b[38;5;124m'\u001b[39m\u001b[38;5;124mvalues\u001b[39m\u001b[38;5;124m'\u001b[39m: [{\n\u001b[1;32m--> 226\u001b[0m                 \u001b[38;5;124m'\u001b[39m\u001b[38;5;124mvalueReference\u001b[39m\u001b[38;5;124m'\u001b[39m: \u001b[38;5;28;43mself\u001b[39;49m\u001b[38;5;241;43m.\u001b[39;49m\u001b[43m_encode_cloud_object\u001b[49m\u001b[43m(\u001b[49m\u001b[43mi\u001b[49m\u001b[43m)\u001b[49m\n\u001b[0;32m    227\u001b[0m             } \u001b[38;5;28;01mfor\u001b[39;00m i \u001b[38;5;129;01min\u001b[39;00m obj]\n\u001b[0;32m    228\u001b[0m         }\n\u001b[0;32m    229\u001b[0m     }\n\u001b[0;32m    230\u001b[0m   \u001b[38;5;28;01melse\u001b[39;00m:\n\u001b[0;32m    231\u001b[0m     result \u001b[38;5;241m=\u001b[39m {\n\u001b[0;32m    232\u001b[0m         \u001b[38;5;124m'\u001b[39m\u001b[38;5;124marrayValue\u001b[39m\u001b[38;5;124m'\u001b[39m: {\n\u001b[0;32m    233\u001b[0m             \u001b[38;5;124m'\u001b[39m\u001b[38;5;124mvalues\u001b[39m\u001b[38;5;124m'\u001b[39m: [\u001b[38;5;28mself\u001b[39m\u001b[38;5;241m.\u001b[39m_encode_cloud_object(i) \u001b[38;5;28;01mfor\u001b[39;00m i \u001b[38;5;129;01min\u001b[39;00m obj]\n\u001b[0;32m    234\u001b[0m         }\n\u001b[0;32m    235\u001b[0m     }\n",
      "File \u001b[1;32md:\\conda\\anaconda3\\envs\\helios_env\\Lib\\site-packages\\ee\\serializer.py:267\u001b[0m, in \u001b[0;36mSerializer._encode_cloud_object\u001b[1;34m(self, obj)\u001b[0m\n\u001b[0;32m    263\u001b[0m   \u001b[38;5;28;01mraise\u001b[39;00m ee_exception\u001b[38;5;241m.\u001b[39mEEException(\u001b[38;5;124m'\u001b[39m\u001b[38;5;124mCannot encode object: \u001b[39m\u001b[38;5;132;01m%s\u001b[39;00m\u001b[38;5;124m'\u001b[39m \u001b[38;5;241m%\u001b[39m obj)\n\u001b[0;32m    265\u001b[0m \u001b[38;5;28;01mif\u001b[39;00m \u001b[38;5;28mself\u001b[39m\u001b[38;5;241m.\u001b[39m_is_compound:\n\u001b[0;32m    266\u001b[0m   \u001b[38;5;66;03m# Save the new object and return a ValueRef.\u001b[39;00m\n\u001b[1;32m--> 267\u001b[0m   hashval \u001b[38;5;241m=\u001b[39m hashlib\u001b[38;5;241m.\u001b[39mmd5(\u001b[43mjson\u001b[49m\u001b[38;5;241;43m.\u001b[39;49m\u001b[43mdumps\u001b[49m\u001b[43m(\u001b[49m\u001b[43mresult\u001b[49m\u001b[43m)\u001b[49m\u001b[38;5;241m.\u001b[39mencode())\u001b[38;5;241m.\u001b[39mdigest()\n\u001b[0;32m    268\u001b[0m   \u001b[38;5;28mself\u001b[39m\u001b[38;5;241m.\u001b[39m_hashcache[obj_id] \u001b[38;5;241m=\u001b[39m hashval\n\u001b[0;32m    269\u001b[0m   name \u001b[38;5;241m=\u001b[39m \u001b[38;5;28mself\u001b[39m\u001b[38;5;241m.\u001b[39m_encoded\u001b[38;5;241m.\u001b[39mget(hashval, \u001b[38;5;28;01mNone\u001b[39;00m)\n",
      "File \u001b[1;32md:\\conda\\anaconda3\\envs\\helios_env\\Lib\\json\\__init__.py:231\u001b[0m, in \u001b[0;36mdumps\u001b[1;34m(obj, skipkeys, ensure_ascii, check_circular, allow_nan, cls, indent, separators, default, sort_keys, **kw)\u001b[0m\n\u001b[0;32m    226\u001b[0m \u001b[38;5;66;03m# cached encoder\u001b[39;00m\n\u001b[0;32m    227\u001b[0m \u001b[38;5;28;01mif\u001b[39;00m (\u001b[38;5;129;01mnot\u001b[39;00m skipkeys \u001b[38;5;129;01mand\u001b[39;00m ensure_ascii \u001b[38;5;129;01mand\u001b[39;00m\n\u001b[0;32m    228\u001b[0m     check_circular \u001b[38;5;129;01mand\u001b[39;00m allow_nan \u001b[38;5;129;01mand\u001b[39;00m\n\u001b[0;32m    229\u001b[0m     \u001b[38;5;28mcls\u001b[39m \u001b[38;5;129;01mis\u001b[39;00m \u001b[38;5;28;01mNone\u001b[39;00m \u001b[38;5;129;01mand\u001b[39;00m indent \u001b[38;5;129;01mis\u001b[39;00m \u001b[38;5;28;01mNone\u001b[39;00m \u001b[38;5;129;01mand\u001b[39;00m separators \u001b[38;5;129;01mis\u001b[39;00m \u001b[38;5;28;01mNone\u001b[39;00m \u001b[38;5;129;01mand\u001b[39;00m\n\u001b[0;32m    230\u001b[0m     default \u001b[38;5;129;01mis\u001b[39;00m \u001b[38;5;28;01mNone\u001b[39;00m \u001b[38;5;129;01mand\u001b[39;00m \u001b[38;5;129;01mnot\u001b[39;00m sort_keys \u001b[38;5;129;01mand\u001b[39;00m \u001b[38;5;129;01mnot\u001b[39;00m kw):\n\u001b[1;32m--> 231\u001b[0m     \u001b[38;5;28;01mreturn\u001b[39;00m \u001b[43m_default_encoder\u001b[49m\u001b[38;5;241;43m.\u001b[39;49m\u001b[43mencode\u001b[49m\u001b[43m(\u001b[49m\u001b[43mobj\u001b[49m\u001b[43m)\u001b[49m\n\u001b[0;32m    232\u001b[0m \u001b[38;5;28;01mif\u001b[39;00m \u001b[38;5;28mcls\u001b[39m \u001b[38;5;129;01mis\u001b[39;00m \u001b[38;5;28;01mNone\u001b[39;00m:\n\u001b[0;32m    233\u001b[0m     \u001b[38;5;28mcls\u001b[39m \u001b[38;5;241m=\u001b[39m JSONEncoder\n",
      "File \u001b[1;32md:\\conda\\anaconda3\\envs\\helios_env\\Lib\\json\\encoder.py:200\u001b[0m, in \u001b[0;36mJSONEncoder.encode\u001b[1;34m(self, o)\u001b[0m\n\u001b[0;32m    196\u001b[0m         \u001b[38;5;28;01mreturn\u001b[39;00m encode_basestring(o)\n\u001b[0;32m    197\u001b[0m \u001b[38;5;66;03m# This doesn't pass the iterator directly to ''.join() because the\u001b[39;00m\n\u001b[0;32m    198\u001b[0m \u001b[38;5;66;03m# exceptions aren't as detailed.  The list call should be roughly\u001b[39;00m\n\u001b[0;32m    199\u001b[0m \u001b[38;5;66;03m# equivalent to the PySequence_Fast that ''.join() would do.\u001b[39;00m\n\u001b[1;32m--> 200\u001b[0m chunks \u001b[38;5;241m=\u001b[39m \u001b[38;5;28;43mself\u001b[39;49m\u001b[38;5;241;43m.\u001b[39;49m\u001b[43miterencode\u001b[49m\u001b[43m(\u001b[49m\u001b[43mo\u001b[49m\u001b[43m,\u001b[49m\u001b[43m \u001b[49m\u001b[43m_one_shot\u001b[49m\u001b[38;5;241;43m=\u001b[39;49m\u001b[38;5;28;43;01mTrue\u001b[39;49;00m\u001b[43m)\u001b[49m\n\u001b[0;32m    201\u001b[0m \u001b[38;5;28;01mif\u001b[39;00m \u001b[38;5;129;01mnot\u001b[39;00m \u001b[38;5;28misinstance\u001b[39m(chunks, (\u001b[38;5;28mlist\u001b[39m, \u001b[38;5;28mtuple\u001b[39m)):\n\u001b[0;32m    202\u001b[0m     chunks \u001b[38;5;241m=\u001b[39m \u001b[38;5;28mlist\u001b[39m(chunks)\n",
      "File \u001b[1;32md:\\conda\\anaconda3\\envs\\helios_env\\Lib\\json\\encoder.py:249\u001b[0m, in \u001b[0;36mJSONEncoder.iterencode\u001b[1;34m(self, o, _one_shot)\u001b[0m\n\u001b[0;32m    244\u001b[0m     \u001b[38;5;28;01mreturn\u001b[39;00m text\n\u001b[0;32m    247\u001b[0m \u001b[38;5;28;01mif\u001b[39;00m (_one_shot \u001b[38;5;129;01mand\u001b[39;00m c_make_encoder \u001b[38;5;129;01mis\u001b[39;00m \u001b[38;5;129;01mnot\u001b[39;00m \u001b[38;5;28;01mNone\u001b[39;00m\n\u001b[0;32m    248\u001b[0m         \u001b[38;5;129;01mand\u001b[39;00m \u001b[38;5;28mself\u001b[39m\u001b[38;5;241m.\u001b[39mindent \u001b[38;5;129;01mis\u001b[39;00m \u001b[38;5;28;01mNone\u001b[39;00m):\n\u001b[1;32m--> 249\u001b[0m     _iterencode \u001b[38;5;241m=\u001b[39m \u001b[43mc_make_encoder\u001b[49m\u001b[43m(\u001b[49m\n\u001b[0;32m    250\u001b[0m \u001b[43m        \u001b[49m\u001b[43mmarkers\u001b[49m\u001b[43m,\u001b[49m\u001b[43m \u001b[49m\u001b[38;5;28;43mself\u001b[39;49m\u001b[38;5;241;43m.\u001b[39;49m\u001b[43mdefault\u001b[49m\u001b[43m,\u001b[49m\u001b[43m \u001b[49m\u001b[43m_encoder\u001b[49m\u001b[43m,\u001b[49m\u001b[43m \u001b[49m\u001b[38;5;28;43mself\u001b[39;49m\u001b[38;5;241;43m.\u001b[39;49m\u001b[43mindent\u001b[49m\u001b[43m,\u001b[49m\n\u001b[0;32m    251\u001b[0m \u001b[43m        \u001b[49m\u001b[38;5;28;43mself\u001b[39;49m\u001b[38;5;241;43m.\u001b[39;49m\u001b[43mkey_separator\u001b[49m\u001b[43m,\u001b[49m\u001b[43m \u001b[49m\u001b[38;5;28;43mself\u001b[39;49m\u001b[38;5;241;43m.\u001b[39;49m\u001b[43mitem_separator\u001b[49m\u001b[43m,\u001b[49m\u001b[43m \u001b[49m\u001b[38;5;28;43mself\u001b[39;49m\u001b[38;5;241;43m.\u001b[39;49m\u001b[43msort_keys\u001b[49m\u001b[43m,\u001b[49m\n\u001b[0;32m    252\u001b[0m \u001b[43m        \u001b[49m\u001b[38;5;28;43mself\u001b[39;49m\u001b[38;5;241;43m.\u001b[39;49m\u001b[43mskipkeys\u001b[49m\u001b[43m,\u001b[49m\u001b[43m \u001b[49m\u001b[38;5;28;43mself\u001b[39;49m\u001b[38;5;241;43m.\u001b[39;49m\u001b[43mallow_nan\u001b[49m\u001b[43m)\u001b[49m\n\u001b[0;32m    253\u001b[0m \u001b[38;5;28;01melse\u001b[39;00m:\n\u001b[0;32m    254\u001b[0m     _iterencode \u001b[38;5;241m=\u001b[39m _make_iterencode(\n\u001b[0;32m    255\u001b[0m         markers, \u001b[38;5;28mself\u001b[39m\u001b[38;5;241m.\u001b[39mdefault, _encoder, \u001b[38;5;28mself\u001b[39m\u001b[38;5;241m.\u001b[39mindent, floatstr,\n\u001b[0;32m    256\u001b[0m         \u001b[38;5;28mself\u001b[39m\u001b[38;5;241m.\u001b[39mkey_separator, \u001b[38;5;28mself\u001b[39m\u001b[38;5;241m.\u001b[39mitem_separator, \u001b[38;5;28mself\u001b[39m\u001b[38;5;241m.\u001b[39msort_keys,\n\u001b[0;32m    257\u001b[0m         \u001b[38;5;28mself\u001b[39m\u001b[38;5;241m.\u001b[39mskipkeys, _one_shot)\n",
      "\u001b[1;31mKeyboardInterrupt\u001b[0m: "
     ]
    }
   ],
   "source": [
    "# Process and export each month separately to avoid payload size issues\n",
    "out_dir = \"../data/img/\"\n",
    "\n",
    "for year, month in months_list:\n",
    "    print(f\"Processing {year}-{month:02d}\")\n",
    "    \n",
    "    # Get the monthly composite\n",
    "    monthly_img = get_monthly_composite(year, month)\n",
    "    \n",
    "    # Define filename\n",
    "    filename = f\"s2_{year}_{month:02d}.tif\"\n",
    "    \n",
    "    # Export the image\n",
    "    try:\n",
    "        geemap.ee_export_image(\n",
    "            monthly_img,\n",
    "            filename=filename,\n",
    "            scale=20,\n",
    "            region=AOI,\n",
    "            file_per_band=False\n",
    "        )\n",
    "        print(f\"Successfully exported {filename}\")\n",
    "    except Exception as e:\n",
    "        print(f\"Error exporting {filename}: {str(e)}\")"
   ]
  }
 ],
 "metadata": {
  "colab": {
   "provenance": []
  },
  "kernelspec": {
   "display_name": "helios_env",
   "language": "python",
   "name": "python3"
  },
  "language_info": {
   "codemirror_mode": {
    "name": "ipython",
    "version": 3
   },
   "file_extension": ".py",
   "mimetype": "text/x-python",
   "name": "python",
   "nbconvert_exporter": "python",
   "pygments_lexer": "ipython3",
   "version": "3.11.11"
  }
 },
 "nbformat": 4,
 "nbformat_minor": 5
}
