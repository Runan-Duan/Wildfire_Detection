{
 "cells": [
  {
   "cell_type": "markdown",
   "id": "QwQOwilviy9a",
   "metadata": {
    "id": "QwQOwilviy9a"
   },
   "source": [
    "#### Import libraries and packages"
   ]
  },
  {
   "cell_type": "code",
   "execution_count": null,
   "id": "fe316d16",
   "metadata": {
    "executionInfo": {
     "elapsed": 3408,
     "status": "ok",
     "timestamp": 1756909646246,
     "user": {
      "displayName": "Runan",
      "userId": "04913747045734941455"
     },
     "user_tz": -120
    },
    "id": "fe316d16"
   },
   "outputs": [],
   "source": [
    "import pandas as pd\n",
    "import geopandas as gpd\n",
    "import rasterio as rio\n",
    "import shapely\n",
    "import ee, geemap, eemont\n",
    "import json\n",
    "import geojson"
   ]
  },
  {
   "cell_type": "code",
   "execution_count": 2,
   "id": "4f9527db",
   "metadata": {
    "colab": {
     "base_uri": "https://localhost:8080/",
     "height": 17
    },
    "executionInfo": {
     "elapsed": 1386,
     "status": "ok",
     "timestamp": 1756909647636,
     "user": {
      "displayName": "Runan",
      "userId": "04913747045734941455"
     },
     "user_tz": -120
    },
    "id": "4f9527db",
    "outputId": "943d3c30-ebe2-4955-fdcd-942b0262cf6c"
   },
   "outputs": [
    {
     "data": {
      "text/html": [
       "\n",
       "            <style>\n",
       "                .geemap-dark {\n",
       "                    --jp-widgets-color: white;\n",
       "                    --jp-widgets-label-color: white;\n",
       "                    --jp-ui-font-color1: white;\n",
       "                    --jp-layout-color2: #454545;\n",
       "                    background-color: #383838;\n",
       "                }\n",
       "\n",
       "                .geemap-dark .jupyter-button {\n",
       "                    --jp-layout-color3: #383838;\n",
       "                }\n",
       "\n",
       "                .geemap-colab {\n",
       "                    background-color: var(--colab-primary-surface-color, white);\n",
       "                }\n",
       "\n",
       "                .geemap-colab .jupyter-button {\n",
       "                    --jp-layout-color3: var(--colab-primary-surface-color, white);\n",
       "                }\n",
       "            </style>\n",
       "            "
      ],
      "text/plain": [
       "<IPython.core.display.HTML object>"
      ]
     },
     "metadata": {},
     "output_type": "display_data"
    }
   ],
   "source": [
    "ee.Authenticate()\n",
    "ee.Initialize()"
   ]
  },
  {
   "cell_type": "markdown",
   "id": "94b4835b",
   "metadata": {
    "id": "94b4835b"
   },
   "source": [
    "#### Load satellite dataset and fire preimeter\n",
    "\n",
    "Copernicus Sentinel-2 (COPERNICUS/S2_SR_HARMONIZED) data involves using the surface reflectance information in the data to calculate spectral indices like the Normalized Burn Ratio (NBR) or specialized indices like BADI, or employing machine learning algorithms with spectral and textural features to distinguish burned areas from other land cover changes.\n",
    "\n",
    "\n",
    "\n",
    "data source: https://gis.data.ca.gov/datasets/CALFIRE-Forestry::california-fire-perimeters-all/explore?location=37.187645%2C-120.227660%2C5.95\n",
    "\n",
    "tutorials: https://www.un-spider.org/advisory-support/recommended-practices/recommended-practice-burn-severity/burn-severity-earth-engine"
   ]
  },
  {
   "cell_type": "code",
   "execution_count": 3,
   "id": "iKVR587mWUpt",
   "metadata": {
    "colab": {
     "base_uri": "https://localhost:8080/",
     "height": 34
    },
    "executionInfo": {
     "elapsed": 81,
     "status": "ok",
     "timestamp": 1756909648714,
     "user": {
      "displayName": "Runan",
      "userId": "04913747045734941455"
     },
     "user_tz": -120
    },
    "id": "iKVR587mWUpt",
    "outputId": "8b0a7962-d7ca-4f4c-97c9-a6d925206913"
   },
   "outputs": [
    {
     "data": {
      "text/html": [
       "\n",
       "            <style>\n",
       "                .geemap-dark {\n",
       "                    --jp-widgets-color: white;\n",
       "                    --jp-widgets-label-color: white;\n",
       "                    --jp-ui-font-color1: white;\n",
       "                    --jp-layout-color2: #454545;\n",
       "                    background-color: #383838;\n",
       "                }\n",
       "\n",
       "                .geemap-dark .jupyter-button {\n",
       "                    --jp-layout-color3: #383838;\n",
       "                }\n",
       "\n",
       "                .geemap-colab {\n",
       "                    background-color: var(--colab-primary-surface-color, white);\n",
       "                }\n",
       "\n",
       "                .geemap-colab .jupyter-button {\n",
       "                    --jp-layout-color3: var(--colab-primary-surface-color, white);\n",
       "                }\n",
       "            </style>\n",
       "            "
      ],
      "text/plain": [
       "<IPython.core.display.HTML object>"
      ]
     },
     "metadata": {},
     "output_type": "display_data"
    },
    {
     "name": "stdout",
     "output_type": "stream",
     "text": [
      "/csghome/sm330/pc\n"
     ]
    }
   ],
   "source": [
    "%cd pc"
   ]
  },
  {
   "cell_type": "code",
   "execution_count": 4,
   "id": "7a2148a7",
   "metadata": {
    "colab": {
     "base_uri": "https://localhost:8080/",
     "height": 17
    },
    "executionInfo": {
     "elapsed": 27,
     "status": "ok",
     "timestamp": 1756909651724,
     "user": {
      "displayName": "Runan",
      "userId": "04913747045734941455"
     },
     "user_tz": -120
    },
    "id": "7a2148a7",
    "outputId": "2ad6657d-043d-468d-8024-3482c914087c"
   },
   "outputs": [
    {
     "data": {
      "text/html": [
       "\n",
       "            <style>\n",
       "                .geemap-dark {\n",
       "                    --jp-widgets-color: white;\n",
       "                    --jp-widgets-label-color: white;\n",
       "                    --jp-ui-font-color1: white;\n",
       "                    --jp-layout-color2: #454545;\n",
       "                    background-color: #383838;\n",
       "                }\n",
       "\n",
       "                .geemap-dark .jupyter-button {\n",
       "                    --jp-layout-color3: #383838;\n",
       "                }\n",
       "\n",
       "                .geemap-colab {\n",
       "                    background-color: var(--colab-primary-surface-color, white);\n",
       "                }\n",
       "\n",
       "                .geemap-colab .jupyter-button {\n",
       "                    --jp-layout-color3: var(--colab-primary-surface-color, white);\n",
       "                }\n",
       "            </style>\n",
       "            "
      ],
      "text/plain": [
       "<IPython.core.display.HTML object>"
      ]
     },
     "metadata": {},
     "output_type": "display_data"
    }
   ],
   "source": [
    "in_file = f\"data/California_Historic_Fire_Perimeters.geojson\""
   ]
  },
  {
   "cell_type": "code",
   "execution_count": 5,
   "id": "MECbouvwWdZU",
   "metadata": {
    "colab": {
     "base_uri": "https://localhost:8080/",
     "height": 486
    },
    "executionInfo": {
     "elapsed": 16605,
     "status": "ok",
     "timestamp": 1756909670923,
     "user": {
      "displayName": "Runan",
      "userId": "04913747045734941455"
     },
     "user_tz": -120
    },
    "id": "MECbouvwWdZU",
    "outputId": "586a0a4f-d737-40a4-bce5-6ddc407d76f8"
   },
   "outputs": [
    {
     "data": {
      "text/html": [
       "\n",
       "            <style>\n",
       "                .geemap-dark {\n",
       "                    --jp-widgets-color: white;\n",
       "                    --jp-widgets-label-color: white;\n",
       "                    --jp-ui-font-color1: white;\n",
       "                    --jp-layout-color2: #454545;\n",
       "                    background-color: #383838;\n",
       "                }\n",
       "\n",
       "                .geemap-dark .jupyter-button {\n",
       "                    --jp-layout-color3: #383838;\n",
       "                }\n",
       "\n",
       "                .geemap-colab {\n",
       "                    background-color: var(--colab-primary-surface-color, white);\n",
       "                }\n",
       "\n",
       "                .geemap-colab .jupyter-button {\n",
       "                    --jp-layout-color3: var(--colab-primary-surface-color, white);\n",
       "                }\n",
       "            </style>\n",
       "            "
      ],
      "text/plain": [
       "<IPython.core.display.HTML object>"
      ]
     },
     "metadata": {},
     "output_type": "display_data"
    },
    {
     "name": "stdout",
     "output_type": "stream",
     "text": [
      "<class 'geopandas.geodataframe.GeoDataFrame'>\n",
      "RangeIndex: 22810 entries, 0 to 22809\n",
      "Data columns (total 20 columns):\n",
      " #   Column        Non-Null Count  Dtype   \n",
      "---  ------        --------------  -----   \n",
      " 0   OBJECTID      22810 non-null  int32   \n",
      " 1   YEAR_         22733 non-null  float64 \n",
      " 2   STATE         22810 non-null  object  \n",
      " 3   AGENCY        22761 non-null  object  \n",
      " 4   UNIT_ID       22749 non-null  object  \n",
      " 5   FIRE_NAME     22748 non-null  object  \n",
      " 6   INC_NUM       21839 non-null  object  \n",
      " 7   ALARM_DATE    17414 non-null  object  \n",
      " 8   CONT_DATE     10180 non-null  object  \n",
      " 9   CAUSE         22810 non-null  int32   \n",
      " 10  C_METHOD      10708 non-null  float64 \n",
      " 11  OBJECTIVE     22539 non-null  float64 \n",
      " 12  GIS_ACRES     22810 non-null  float64 \n",
      " 13  COMMENTS      2835 non-null   object  \n",
      " 14  COMPLEX_NAME  611 non-null    object  \n",
      " 15  IRWINID       3736 non-null   object  \n",
      " 16  FIRE_NUM      17642 non-null  object  \n",
      " 17  COMPLEX_ID    567 non-null    object  \n",
      " 18  DECADES       22733 non-null  object  \n",
      " 19  geometry      22810 non-null  geometry\n",
      "dtypes: float64(4), geometry(1), int32(2), object(13)\n",
      "memory usage: 3.3+ MB\n"
     ]
    }
   ],
   "source": [
    "fire_gdf = gpd.read_file(in_file)\n",
    "fire_gdf.info()"
   ]
  },
  {
   "cell_type": "code",
   "execution_count": null,
   "id": "566e0e4c",
   "metadata": {
    "colab": {
     "base_uri": "https://localhost:8080/",
     "height": 293
    },
    "executionInfo": {
     "elapsed": 52,
     "status": "ok",
     "timestamp": 1756907995314,
     "user": {
      "displayName": "Runan",
      "userId": "04913747045734941455"
     },
     "user_tz": -120
    },
    "id": "566e0e4c",
    "outputId": "f1eb6cfe-0605-4801-f0fd-dcb8a1619b13"
   },
   "outputs": [
    {
     "data": {
      "text/html": [
       "\n",
       "            <style>\n",
       "                .geemap-dark {\n",
       "                    --jp-widgets-color: white;\n",
       "                    --jp-widgets-label-color: white;\n",
       "                    --jp-ui-font-color1: white;\n",
       "                    --jp-layout-color2: #454545;\n",
       "                    background-color: #383838;\n",
       "                }\n",
       "\n",
       "                .geemap-dark .jupyter-button {\n",
       "                    --jp-layout-color3: #383838;\n",
       "                }\n",
       "\n",
       "                .geemap-colab {\n",
       "                    background-color: var(--colab-primary-surface-color, white);\n",
       "                }\n",
       "\n",
       "                .geemap-colab .jupyter-button {\n",
       "                    --jp-layout-color3: var(--colab-primary-surface-color, white);\n",
       "                }\n",
       "            </style>\n",
       "            "
      ],
      "text/plain": [
       "<IPython.core.display.HTML object>"
      ]
     },
     "metadata": {},
     "output_type": "display_data"
    },
    {
     "data": {
      "text/html": [
       "<div>\n",
       "<style scoped>\n",
       "    .dataframe tbody tr th:only-of-type {\n",
       "        vertical-align: middle;\n",
       "    }\n",
       "\n",
       "    .dataframe tbody tr th {\n",
       "        vertical-align: top;\n",
       "    }\n",
       "\n",
       "    .dataframe thead th {\n",
       "        text-align: right;\n",
       "    }\n",
       "</style>\n",
       "<table border=\"1\" class=\"dataframe\">\n",
       "  <thead>\n",
       "    <tr style=\"text-align: right;\">\n",
       "      <th></th>\n",
       "      <th>OBJECTID</th>\n",
       "      <th>YEAR_</th>\n",
       "      <th>STATE</th>\n",
       "      <th>AGENCY</th>\n",
       "      <th>UNIT_ID</th>\n",
       "      <th>FIRE_NAME</th>\n",
       "      <th>INC_NUM</th>\n",
       "      <th>ALARM_DATE</th>\n",
       "      <th>CONT_DATE</th>\n",
       "      <th>CAUSE</th>\n",
       "      <th>C_METHOD</th>\n",
       "      <th>OBJECTIVE</th>\n",
       "      <th>GIS_ACRES</th>\n",
       "      <th>COMMENTS</th>\n",
       "      <th>COMPLEX_NAME</th>\n",
       "      <th>IRWINID</th>\n",
       "      <th>FIRE_NUM</th>\n",
       "      <th>COMPLEX_ID</th>\n",
       "      <th>DECADES</th>\n",
       "      <th>geometry</th>\n",
       "    </tr>\n",
       "  </thead>\n",
       "  <tbody>\n",
       "    <tr>\n",
       "      <th>0</th>\n",
       "      <td>1</td>\n",
       "      <td>2025.0</td>\n",
       "      <td>CA</td>\n",
       "      <td>CDF</td>\n",
       "      <td>LDF</td>\n",
       "      <td>PALISADES</td>\n",
       "      <td>00000738</td>\n",
       "      <td>Tue, 07 Jan 2025 08:00:00 GMT</td>\n",
       "      <td>Fri, 31 Jan 2025 08:00:00 GMT</td>\n",
       "      <td>14</td>\n",
       "      <td>7.0</td>\n",
       "      <td>1.0</td>\n",
       "      <td>23448.8800</td>\n",
       "      <td>None</td>\n",
       "      <td>None</td>\n",
       "      <td>{A7EA5D21-F882-44B8-BF64-44AB11059DC1}</td>\n",
       "      <td>None</td>\n",
       "      <td>None</td>\n",
       "      <td>2020-January 2025</td>\n",
       "      <td>MULTIPOLYGON (((-118.51975 34.02997, -118.5198...</td>\n",
       "    </tr>\n",
       "    <tr>\n",
       "      <th>1</th>\n",
       "      <td>2</td>\n",
       "      <td>2025.0</td>\n",
       "      <td>CA</td>\n",
       "      <td>CDF</td>\n",
       "      <td>LAC</td>\n",
       "      <td>EATON</td>\n",
       "      <td>00009087</td>\n",
       "      <td>Wed, 08 Jan 2025 08:00:00 GMT</td>\n",
       "      <td>Fri, 31 Jan 2025 08:00:00 GMT</td>\n",
       "      <td>14</td>\n",
       "      <td>7.0</td>\n",
       "      <td>1.0</td>\n",
       "      <td>14056.2600</td>\n",
       "      <td>None</td>\n",
       "      <td>None</td>\n",
       "      <td>{72660ADC-B5EF-4D96-A33F-B4EA3740A4E3}</td>\n",
       "      <td>None</td>\n",
       "      <td>None</td>\n",
       "      <td>2020-January 2025</td>\n",
       "      <td>MULTIPOLYGON (((-118.10094 34.16681, -118.1009...</td>\n",
       "    </tr>\n",
       "    <tr>\n",
       "      <th>2</th>\n",
       "      <td>3</td>\n",
       "      <td>2025.0</td>\n",
       "      <td>CA</td>\n",
       "      <td>CDF</td>\n",
       "      <td>ANF</td>\n",
       "      <td>HUGHES</td>\n",
       "      <td>00250270</td>\n",
       "      <td>Wed, 22 Jan 2025 08:00:00 GMT</td>\n",
       "      <td>Tue, 28 Jan 2025 08:00:00 GMT</td>\n",
       "      <td>14</td>\n",
       "      <td>7.0</td>\n",
       "      <td>1.0</td>\n",
       "      <td>10396.8000</td>\n",
       "      <td>None</td>\n",
       "      <td>None</td>\n",
       "      <td>{994072D2-E154-434A-BB95-6F6C94C40829}</td>\n",
       "      <td>None</td>\n",
       "      <td>None</td>\n",
       "      <td>2020-January 2025</td>\n",
       "      <td>MULTIPOLYGON (((-118.55862 34.58099, -118.5585...</td>\n",
       "    </tr>\n",
       "    <tr>\n",
       "      <th>3</th>\n",
       "      <td>4</td>\n",
       "      <td>2025.0</td>\n",
       "      <td>CA</td>\n",
       "      <td>CCO</td>\n",
       "      <td>VNC</td>\n",
       "      <td>KENNETH</td>\n",
       "      <td>00003155</td>\n",
       "      <td>Thu, 09 Jan 2025 08:00:00 GMT</td>\n",
       "      <td>Tue, 04 Feb 2025 08:00:00 GMT</td>\n",
       "      <td>14</td>\n",
       "      <td>2.0</td>\n",
       "      <td>1.0</td>\n",
       "      <td>998.7378</td>\n",
       "      <td>from OES Intel 24</td>\n",
       "      <td>None</td>\n",
       "      <td>{842FB37B-7AC8-4700-BB9C-028BF753D149}</td>\n",
       "      <td>None</td>\n",
       "      <td>None</td>\n",
       "      <td>2020-January 2025</td>\n",
       "      <td>POLYGON ((-118.67692 34.16894, -118.6769 34.16...</td>\n",
       "    </tr>\n",
       "    <tr>\n",
       "      <th>4</th>\n",
       "      <td>5</td>\n",
       "      <td>2025.0</td>\n",
       "      <td>CA</td>\n",
       "      <td>CDF</td>\n",
       "      <td>LDF</td>\n",
       "      <td>HURST</td>\n",
       "      <td>00003294</td>\n",
       "      <td>Tue, 07 Jan 2025 08:00:00 GMT</td>\n",
       "      <td>Thu, 09 Jan 2025 08:00:00 GMT</td>\n",
       "      <td>14</td>\n",
       "      <td>7.0</td>\n",
       "      <td>1.0</td>\n",
       "      <td>831.3855</td>\n",
       "      <td>None</td>\n",
       "      <td>None</td>\n",
       "      <td>{F4E810AD-CDF3-4ED4-B63F-03D43785BA7B}</td>\n",
       "      <td>None</td>\n",
       "      <td>None</td>\n",
       "      <td>2020-January 2025</td>\n",
       "      <td>POLYGON ((-118.46974 34.33079, -118.46964 34.3...</td>\n",
       "    </tr>\n",
       "  </tbody>\n",
       "</table>\n",
       "</div>"
      ],
      "text/plain": [
       "   OBJECTID   YEAR_ STATE AGENCY UNIT_ID  FIRE_NAME   INC_NUM  \\\n",
       "0         1  2025.0    CA    CDF     LDF  PALISADES  00000738   \n",
       "1         2  2025.0    CA    CDF     LAC      EATON  00009087   \n",
       "2         3  2025.0    CA    CDF     ANF     HUGHES  00250270   \n",
       "3         4  2025.0    CA    CCO     VNC    KENNETH  00003155   \n",
       "4         5  2025.0    CA    CDF     LDF      HURST  00003294   \n",
       "\n",
       "                      ALARM_DATE                      CONT_DATE  CAUSE  \\\n",
       "0  Tue, 07 Jan 2025 08:00:00 GMT  Fri, 31 Jan 2025 08:00:00 GMT     14   \n",
       "1  Wed, 08 Jan 2025 08:00:00 GMT  Fri, 31 Jan 2025 08:00:00 GMT     14   \n",
       "2  Wed, 22 Jan 2025 08:00:00 GMT  Tue, 28 Jan 2025 08:00:00 GMT     14   \n",
       "3  Thu, 09 Jan 2025 08:00:00 GMT  Tue, 04 Feb 2025 08:00:00 GMT     14   \n",
       "4  Tue, 07 Jan 2025 08:00:00 GMT  Thu, 09 Jan 2025 08:00:00 GMT     14   \n",
       "\n",
       "   C_METHOD  OBJECTIVE   GIS_ACRES           COMMENTS COMPLEX_NAME  \\\n",
       "0       7.0        1.0  23448.8800               None         None   \n",
       "1       7.0        1.0  14056.2600               None         None   \n",
       "2       7.0        1.0  10396.8000               None         None   \n",
       "3       2.0        1.0    998.7378  from OES Intel 24         None   \n",
       "4       7.0        1.0    831.3855               None         None   \n",
       "\n",
       "                                  IRWINID FIRE_NUM COMPLEX_ID  \\\n",
       "0  {A7EA5D21-F882-44B8-BF64-44AB11059DC1}     None       None   \n",
       "1  {72660ADC-B5EF-4D96-A33F-B4EA3740A4E3}     None       None   \n",
       "2  {994072D2-E154-434A-BB95-6F6C94C40829}     None       None   \n",
       "3  {842FB37B-7AC8-4700-BB9C-028BF753D149}     None       None   \n",
       "4  {F4E810AD-CDF3-4ED4-B63F-03D43785BA7B}     None       None   \n",
       "\n",
       "             DECADES                                           geometry  \n",
       "0  2020-January 2025  MULTIPOLYGON (((-118.51975 34.02997, -118.5198...  \n",
       "1  2020-January 2025  MULTIPOLYGON (((-118.10094 34.16681, -118.1009...  \n",
       "2  2020-January 2025  MULTIPOLYGON (((-118.55862 34.58099, -118.5585...  \n",
       "3  2020-January 2025  POLYGON ((-118.67692 34.16894, -118.6769 34.16...  \n",
       "4  2020-January 2025  POLYGON ((-118.46974 34.33079, -118.46964 34.3...  "
      ]
     },
     "execution_count": 6,
     "metadata": {},
     "output_type": "execute_result"
    }
   ],
   "source": [
    "fire_gdf.head(5)"
   ]
  },
  {
   "cell_type": "markdown",
   "id": "ttJkIlX6lypS",
   "metadata": {
    "id": "ttJkIlX6lypS"
   },
   "source": [
    "The dataset includes the year of fires, the occurance place, fire name, alarm and containment date\n",
    "\n",
    "\n",
    "\n",
    "We chose the fires that occured during 2024-2025, perform statistical analysis to find the time window within each year\n",
    "\n",
    "Prepare the ground truth for fire area detection on the satellite imagery, by comparing the pre and post fire (before the time window and after the window)\n",
    "\n",
    "2020\n",
    "2021\n",
    "2022\n",
    "2023\n",
    "2024\n",
    "2025"
   ]
  },
  {
   "cell_type": "code",
   "execution_count": 6,
   "id": "p9F1OwbP3bTS",
   "metadata": {
    "colab": {
     "base_uri": "https://localhost:8080/",
     "height": 17
    },
    "executionInfo": {
     "elapsed": 1158,
     "status": "ok",
     "timestamp": 1756909672133,
     "user": {
      "displayName": "Runan",
      "userId": "04913747045734941455"
     },
     "user_tz": -120
    },
    "id": "p9F1OwbP3bTS",
    "outputId": "9e6a73b6-d92c-44d0-d75e-090bfc240b06"
   },
   "outputs": [
    {
     "data": {
      "text/html": [
       "\n",
       "            <style>\n",
       "                .geemap-dark {\n",
       "                    --jp-widgets-color: white;\n",
       "                    --jp-widgets-label-color: white;\n",
       "                    --jp-ui-font-color1: white;\n",
       "                    --jp-layout-color2: #454545;\n",
       "                    background-color: #383838;\n",
       "                }\n",
       "\n",
       "                .geemap-dark .jupyter-button {\n",
       "                    --jp-layout-color3: #383838;\n",
       "                }\n",
       "\n",
       "                .geemap-colab {\n",
       "                    background-color: var(--colab-primary-surface-color, white);\n",
       "                }\n",
       "\n",
       "                .geemap-colab .jupyter-button {\n",
       "                    --jp-layout-color3: var(--colab-primary-surface-color, white);\n",
       "                }\n",
       "            </style>\n",
       "            "
      ],
      "text/plain": [
       "<IPython.core.display.HTML object>"
      ]
     },
     "metadata": {},
     "output_type": "display_data"
    }
   ],
   "source": [
    "fire_df = pd.DataFrame(fire_gdf)\n",
    "fire_df[\"ALARM_DATE_ISO\"] = pd.to_datetime(fire_df.ALARM_DATE, format='%a, %d %b %Y %H:%M:%S %Z').dt.tz_convert('UTC').dt.strftime('%Y-%m-%dT%H:%M:%SZ')\n",
    "fire_df[\"CONT_DATE_ISO\"]  = pd.to_datetime(fire_df.CONT_DATE, format='%a, %d %b %Y %H:%M:%S %Z').dt.tz_convert('UTC').dt.strftime('%Y-%m-%dT%H:%M:%SZ')"
   ]
  },
  {
   "cell_type": "code",
   "execution_count": 7,
   "id": "L5iy6tVdC6Pl",
   "metadata": {
    "colab": {
     "base_uri": "https://localhost:8080/",
     "height": 409
    },
    "executionInfo": {
     "elapsed": 83,
     "status": "ok",
     "timestamp": 1756909675610,
     "user": {
      "displayName": "Runan",
      "userId": "04913747045734941455"
     },
     "user_tz": -120
    },
    "id": "L5iy6tVdC6Pl",
    "outputId": "c00f9414-6d25-4f37-f49e-5386b5659c8a"
   },
   "outputs": [
    {
     "data": {
      "text/html": [
       "\n",
       "            <style>\n",
       "                .geemap-dark {\n",
       "                    --jp-widgets-color: white;\n",
       "                    --jp-widgets-label-color: white;\n",
       "                    --jp-ui-font-color1: white;\n",
       "                    --jp-layout-color2: #454545;\n",
       "                    background-color: #383838;\n",
       "                }\n",
       "\n",
       "                .geemap-dark .jupyter-button {\n",
       "                    --jp-layout-color3: #383838;\n",
       "                }\n",
       "\n",
       "                .geemap-colab {\n",
       "                    background-color: var(--colab-primary-surface-color, white);\n",
       "                }\n",
       "\n",
       "                .geemap-colab .jupyter-button {\n",
       "                    --jp-layout-color3: var(--colab-primary-surface-color, white);\n",
       "                }\n",
       "            </style>\n",
       "            "
      ],
      "text/plain": [
       "<IPython.core.display.HTML object>"
      ]
     },
     "metadata": {},
     "output_type": "display_data"
    },
    {
     "data": {
      "text/html": [
       "<div>\n",
       "<style scoped>\n",
       "    .dataframe tbody tr th:only-of-type {\n",
       "        vertical-align: middle;\n",
       "    }\n",
       "\n",
       "    .dataframe tbody tr th {\n",
       "        vertical-align: top;\n",
       "    }\n",
       "\n",
       "    .dataframe thead th {\n",
       "        text-align: right;\n",
       "    }\n",
       "</style>\n",
       "<table border=\"1\" class=\"dataframe\">\n",
       "  <thead>\n",
       "    <tr style=\"text-align: right;\">\n",
       "      <th></th>\n",
       "      <th>OBJECTID</th>\n",
       "      <th>YEAR_</th>\n",
       "      <th>STATE</th>\n",
       "      <th>AGENCY</th>\n",
       "      <th>UNIT_ID</th>\n",
       "      <th>FIRE_NAME</th>\n",
       "      <th>INC_NUM</th>\n",
       "      <th>ALARM_DATE</th>\n",
       "      <th>CONT_DATE</th>\n",
       "      <th>CAUSE</th>\n",
       "      <th>...</th>\n",
       "      <th>GIS_ACRES</th>\n",
       "      <th>COMMENTS</th>\n",
       "      <th>COMPLEX_NAME</th>\n",
       "      <th>IRWINID</th>\n",
       "      <th>FIRE_NUM</th>\n",
       "      <th>COMPLEX_ID</th>\n",
       "      <th>DECADES</th>\n",
       "      <th>geometry</th>\n",
       "      <th>ALARM_DATE_ISO</th>\n",
       "      <th>CONT_DATE_ISO</th>\n",
       "    </tr>\n",
       "  </thead>\n",
       "  <tbody>\n",
       "    <tr>\n",
       "      <th>0</th>\n",
       "      <td>1</td>\n",
       "      <td>2025.0</td>\n",
       "      <td>CA</td>\n",
       "      <td>CDF</td>\n",
       "      <td>LDF</td>\n",
       "      <td>PALISADES</td>\n",
       "      <td>00000738</td>\n",
       "      <td>Tue, 07 Jan 2025 08:00:00 GMT</td>\n",
       "      <td>Fri, 31 Jan 2025 08:00:00 GMT</td>\n",
       "      <td>14</td>\n",
       "      <td>...</td>\n",
       "      <td>23448.8800</td>\n",
       "      <td>None</td>\n",
       "      <td>None</td>\n",
       "      <td>{A7EA5D21-F882-44B8-BF64-44AB11059DC1}</td>\n",
       "      <td>None</td>\n",
       "      <td>None</td>\n",
       "      <td>2020-January 2025</td>\n",
       "      <td>MULTIPOLYGON (((-118.51975 34.02997, -118.5198...</td>\n",
       "      <td>2025-01-07T08:00:00Z</td>\n",
       "      <td>2025-01-31T08:00:00Z</td>\n",
       "    </tr>\n",
       "    <tr>\n",
       "      <th>1</th>\n",
       "      <td>2</td>\n",
       "      <td>2025.0</td>\n",
       "      <td>CA</td>\n",
       "      <td>CDF</td>\n",
       "      <td>LAC</td>\n",
       "      <td>EATON</td>\n",
       "      <td>00009087</td>\n",
       "      <td>Wed, 08 Jan 2025 08:00:00 GMT</td>\n",
       "      <td>Fri, 31 Jan 2025 08:00:00 GMT</td>\n",
       "      <td>14</td>\n",
       "      <td>...</td>\n",
       "      <td>14056.2600</td>\n",
       "      <td>None</td>\n",
       "      <td>None</td>\n",
       "      <td>{72660ADC-B5EF-4D96-A33F-B4EA3740A4E3}</td>\n",
       "      <td>None</td>\n",
       "      <td>None</td>\n",
       "      <td>2020-January 2025</td>\n",
       "      <td>MULTIPOLYGON (((-118.10094 34.16681, -118.1009...</td>\n",
       "      <td>2025-01-08T08:00:00Z</td>\n",
       "      <td>2025-01-31T08:00:00Z</td>\n",
       "    </tr>\n",
       "    <tr>\n",
       "      <th>2</th>\n",
       "      <td>3</td>\n",
       "      <td>2025.0</td>\n",
       "      <td>CA</td>\n",
       "      <td>CDF</td>\n",
       "      <td>ANF</td>\n",
       "      <td>HUGHES</td>\n",
       "      <td>00250270</td>\n",
       "      <td>Wed, 22 Jan 2025 08:00:00 GMT</td>\n",
       "      <td>Tue, 28 Jan 2025 08:00:00 GMT</td>\n",
       "      <td>14</td>\n",
       "      <td>...</td>\n",
       "      <td>10396.8000</td>\n",
       "      <td>None</td>\n",
       "      <td>None</td>\n",
       "      <td>{994072D2-E154-434A-BB95-6F6C94C40829}</td>\n",
       "      <td>None</td>\n",
       "      <td>None</td>\n",
       "      <td>2020-January 2025</td>\n",
       "      <td>MULTIPOLYGON (((-118.55862 34.58099, -118.5585...</td>\n",
       "      <td>2025-01-22T08:00:00Z</td>\n",
       "      <td>2025-01-28T08:00:00Z</td>\n",
       "    </tr>\n",
       "    <tr>\n",
       "      <th>3</th>\n",
       "      <td>4</td>\n",
       "      <td>2025.0</td>\n",
       "      <td>CA</td>\n",
       "      <td>CCO</td>\n",
       "      <td>VNC</td>\n",
       "      <td>KENNETH</td>\n",
       "      <td>00003155</td>\n",
       "      <td>Thu, 09 Jan 2025 08:00:00 GMT</td>\n",
       "      <td>Tue, 04 Feb 2025 08:00:00 GMT</td>\n",
       "      <td>14</td>\n",
       "      <td>...</td>\n",
       "      <td>998.7378</td>\n",
       "      <td>from OES Intel 24</td>\n",
       "      <td>None</td>\n",
       "      <td>{842FB37B-7AC8-4700-BB9C-028BF753D149}</td>\n",
       "      <td>None</td>\n",
       "      <td>None</td>\n",
       "      <td>2020-January 2025</td>\n",
       "      <td>POLYGON ((-118.67692 34.16894, -118.6769 34.16...</td>\n",
       "      <td>2025-01-09T08:00:00Z</td>\n",
       "      <td>2025-02-04T08:00:00Z</td>\n",
       "    </tr>\n",
       "    <tr>\n",
       "      <th>4</th>\n",
       "      <td>5</td>\n",
       "      <td>2025.0</td>\n",
       "      <td>CA</td>\n",
       "      <td>CDF</td>\n",
       "      <td>LDF</td>\n",
       "      <td>HURST</td>\n",
       "      <td>00003294</td>\n",
       "      <td>Tue, 07 Jan 2025 08:00:00 GMT</td>\n",
       "      <td>Thu, 09 Jan 2025 08:00:00 GMT</td>\n",
       "      <td>14</td>\n",
       "      <td>...</td>\n",
       "      <td>831.3855</td>\n",
       "      <td>None</td>\n",
       "      <td>None</td>\n",
       "      <td>{F4E810AD-CDF3-4ED4-B63F-03D43785BA7B}</td>\n",
       "      <td>None</td>\n",
       "      <td>None</td>\n",
       "      <td>2020-January 2025</td>\n",
       "      <td>POLYGON ((-118.46974 34.33079, -118.46964 34.3...</td>\n",
       "      <td>2025-01-07T08:00:00Z</td>\n",
       "      <td>2025-01-09T08:00:00Z</td>\n",
       "    </tr>\n",
       "  </tbody>\n",
       "</table>\n",
       "<p>5 rows × 22 columns</p>\n",
       "</div>"
      ],
      "text/plain": [
       "   OBJECTID   YEAR_ STATE AGENCY UNIT_ID  FIRE_NAME   INC_NUM  \\\n",
       "0         1  2025.0    CA    CDF     LDF  PALISADES  00000738   \n",
       "1         2  2025.0    CA    CDF     LAC      EATON  00009087   \n",
       "2         3  2025.0    CA    CDF     ANF     HUGHES  00250270   \n",
       "3         4  2025.0    CA    CCO     VNC    KENNETH  00003155   \n",
       "4         5  2025.0    CA    CDF     LDF      HURST  00003294   \n",
       "\n",
       "                      ALARM_DATE                      CONT_DATE  CAUSE  ...  \\\n",
       "0  Tue, 07 Jan 2025 08:00:00 GMT  Fri, 31 Jan 2025 08:00:00 GMT     14  ...   \n",
       "1  Wed, 08 Jan 2025 08:00:00 GMT  Fri, 31 Jan 2025 08:00:00 GMT     14  ...   \n",
       "2  Wed, 22 Jan 2025 08:00:00 GMT  Tue, 28 Jan 2025 08:00:00 GMT     14  ...   \n",
       "3  Thu, 09 Jan 2025 08:00:00 GMT  Tue, 04 Feb 2025 08:00:00 GMT     14  ...   \n",
       "4  Tue, 07 Jan 2025 08:00:00 GMT  Thu, 09 Jan 2025 08:00:00 GMT     14  ...   \n",
       "\n",
       "    GIS_ACRES           COMMENTS  COMPLEX_NAME  \\\n",
       "0  23448.8800               None          None   \n",
       "1  14056.2600               None          None   \n",
       "2  10396.8000               None          None   \n",
       "3    998.7378  from OES Intel 24          None   \n",
       "4    831.3855               None          None   \n",
       "\n",
       "                                  IRWINID FIRE_NUM COMPLEX_ID  \\\n",
       "0  {A7EA5D21-F882-44B8-BF64-44AB11059DC1}     None       None   \n",
       "1  {72660ADC-B5EF-4D96-A33F-B4EA3740A4E3}     None       None   \n",
       "2  {994072D2-E154-434A-BB95-6F6C94C40829}     None       None   \n",
       "3  {842FB37B-7AC8-4700-BB9C-028BF753D149}     None       None   \n",
       "4  {F4E810AD-CDF3-4ED4-B63F-03D43785BA7B}     None       None   \n",
       "\n",
       "             DECADES                                           geometry  \\\n",
       "0  2020-January 2025  MULTIPOLYGON (((-118.51975 34.02997, -118.5198...   \n",
       "1  2020-January 2025  MULTIPOLYGON (((-118.10094 34.16681, -118.1009...   \n",
       "2  2020-January 2025  MULTIPOLYGON (((-118.55862 34.58099, -118.5585...   \n",
       "3  2020-January 2025  POLYGON ((-118.67692 34.16894, -118.6769 34.16...   \n",
       "4  2020-January 2025  POLYGON ((-118.46974 34.33079, -118.46964 34.3...   \n",
       "\n",
       "         ALARM_DATE_ISO         CONT_DATE_ISO  \n",
       "0  2025-01-07T08:00:00Z  2025-01-31T08:00:00Z  \n",
       "1  2025-01-08T08:00:00Z  2025-01-31T08:00:00Z  \n",
       "2  2025-01-22T08:00:00Z  2025-01-28T08:00:00Z  \n",
       "3  2025-01-09T08:00:00Z  2025-02-04T08:00:00Z  \n",
       "4  2025-01-07T08:00:00Z  2025-01-09T08:00:00Z  \n",
       "\n",
       "[5 rows x 22 columns]"
      ]
     },
     "execution_count": 7,
     "metadata": {},
     "output_type": "execute_result"
    }
   ],
   "source": [
    "fire_df.head(5)"
   ]
  },
  {
   "cell_type": "code",
   "execution_count": null,
   "id": "9ZpM9rMGPk56",
   "metadata": {
    "colab": {
     "base_uri": "https://localhost:8080/",
     "height": 447
    },
    "collapsed": true,
    "executionInfo": {
     "elapsed": 172,
     "status": "ok",
     "timestamp": 1756830573629,
     "user": {
      "displayName": "Runan",
      "userId": "04913747045734941455"
     },
     "user_tz": -120
    },
    "id": "9ZpM9rMGPk56",
    "outputId": "612e8349-8095-4c2c-ef26-4aa41de86500"
   },
   "outputs": [
    {
     "data": {
      "text/html": [
       "\n",
       "            <style>\n",
       "                .geemap-dark {\n",
       "                    --jp-widgets-color: white;\n",
       "                    --jp-widgets-label-color: white;\n",
       "                    --jp-ui-font-color1: white;\n",
       "                    --jp-layout-color2: #454545;\n",
       "                    background-color: #383838;\n",
       "                }\n",
       "\n",
       "                .geemap-dark .jupyter-button {\n",
       "                    --jp-layout-color3: #383838;\n",
       "                }\n",
       "\n",
       "                .geemap-colab {\n",
       "                    background-color: var(--colab-primary-surface-color, white);\n",
       "                }\n",
       "\n",
       "                .geemap-colab .jupyter-button {\n",
       "                    --jp-layout-color3: var(--colab-primary-surface-color, white);\n",
       "                }\n",
       "            </style>\n",
       "            "
      ],
      "text/plain": [
       "<IPython.core.display.HTML object>"
      ]
     },
     "metadata": {},
     "output_type": "display_data"
    },
    {
     "data": {
      "text/plain": [
       "<AxesSubplot: >"
      ]
     },
     "execution_count": 233,
     "metadata": {},
     "output_type": "execute_result"
    },
    {
     "data": {
      "image/png": "[encoded data removed]",
      "text/plain": [
       "<Figure size 640x480 with 1 Axes>"
      ]
     },
     "metadata": {},
     "output_type": "display_data"
    }
   ],
   "source": [
    "fire_df.query(\"DECADES == '2020-January 2025'\").CONT_DATE_NEW.dt.month.hist(bins=12)"
   ]
  },
  {
   "cell_type": "code",
   "execution_count": null,
   "id": "H4JSByYWNzXq",
   "metadata": {
    "colab": {
     "base_uri": "https://localhost:8080/",
     "height": 447
    },
    "collapsed": true,
    "executionInfo": {
     "elapsed": 996,
     "status": "ok",
     "timestamp": 1756908019014,
     "user": {
      "displayName": "Runan",
      "userId": "04913747045734941455"
     },
     "user_tz": -120
    },
    "id": "H4JSByYWNzXq",
    "outputId": "f2b8bbeb-3361-41c9-df55-c27d8a474311"
   },
   "outputs": [
    {
     "data": {
      "text/html": [
       "\n",
       "            <style>\n",
       "                .geemap-dark {\n",
       "                    --jp-widgets-color: white;\n",
       "                    --jp-widgets-label-color: white;\n",
       "                    --jp-ui-font-color1: white;\n",
       "                    --jp-layout-color2: #454545;\n",
       "                    background-color: #383838;\n",
       "                }\n",
       "\n",
       "                .geemap-dark .jupyter-button {\n",
       "                    --jp-layout-color3: #383838;\n",
       "                }\n",
       "\n",
       "                .geemap-colab {\n",
       "                    background-color: var(--colab-primary-surface-color, white);\n",
       "                }\n",
       "\n",
       "                .geemap-colab .jupyter-button {\n",
       "                    --jp-layout-color3: var(--colab-primary-surface-color, white);\n",
       "                }\n",
       "            </style>\n",
       "            "
      ],
      "text/plain": [
       "<IPython.core.display.HTML object>"
      ]
     },
     "metadata": {},
     "output_type": "display_data"
    },
    {
     "data": {
      "text/plain": [
       "<AxesSubplot: >"
      ]
     },
     "execution_count": 8,
     "metadata": {},
     "output_type": "execute_result"
    },
    {
     "data": {
      "image/png": "[encoded data removed]",
      "text/plain": [
       "<Figure size 640x480 with 1 Axes>"
      ]
     },
     "metadata": {},
     "output_type": "display_data"
    }
   ],
   "source": [
    "fire_df.query(\"DECADES == '2020-January 2025'\").ALARM_DATE_NEW.dt.month.hist(bins=12)"
   ]
  },
  {
   "cell_type": "markdown",
   "id": "5ZqutuOljVfC",
   "metadata": {
    "id": "5ZqutuOljVfC"
   },
   "source": [
    "#### Select study area, time frame and create cloud mask"
   ]
  },
  {
   "cell_type": "code",
   "execution_count": null,
   "id": "PhURpYDh2Khg",
   "metadata": {
    "colab": {
     "base_uri": "https://localhost:8080/",
     "height": 69
    },
    "executionInfo": {
     "elapsed": 56,
     "status": "ok",
     "timestamp": 1756823687358,
     "user": {
      "displayName": "Runan",
      "userId": "04913747045734941455"
     },
     "user_tz": -120
    },
    "id": "PhURpYDh2Khg",
    "outputId": "09d87e5d-2c10-40c5-b8ac-18afbfa56b94"
   },
   "outputs": [
    {
     "data": {
      "text/html": [
       "\n",
       "            <style>\n",
       "                .geemap-dark {\n",
       "                    --jp-widgets-color: white;\n",
       "                    --jp-widgets-label-color: white;\n",
       "                    --jp-ui-font-color1: white;\n",
       "                    --jp-layout-color2: #454545;\n",
       "                    background-color: #383838;\n",
       "                }\n",
       "\n",
       "                .geemap-dark .jupyter-button {\n",
       "                    --jp-layout-color3: #383838;\n",
       "                }\n",
       "\n",
       "                .geemap-colab {\n",
       "                    background-color: var(--colab-primary-surface-color, white);\n",
       "                }\n",
       "\n",
       "                .geemap-colab .jupyter-button {\n",
       "                    --jp-layout-color3: var(--colab-primary-surface-color, white);\n",
       "                }\n",
       "            </style>\n",
       "            "
      ],
      "text/plain": [
       "<IPython.core.display.HTML object>"
      ]
     },
     "metadata": {},
     "output_type": "display_data"
    },
    {
     "data": {
      "text/plain": [
       "array(['2020-January 2025', '2010-2019', '2000-2009', '1990-1999',\n",
       "       '1980-1989', '1970-1979', '1960-1969', '1950-1959', None],\n",
       "      dtype=object)"
      ]
     },
     "execution_count": 96,
     "metadata": {},
     "output_type": "execute_result"
    }
   ],
   "source": [
    "fire_gdf.DECADES.unique()"
   ]
  },
  {
   "cell_type": "markdown",
   "id": "zDlPULoH4zTQ",
   "metadata": {
    "id": "zDlPULoH4zTQ"
   },
   "source": [
    "### Filter recently five years"
   ]
  },
  {
   "cell_type": "code",
   "execution_count": 8,
   "id": "QJM5QQbj4oVX",
   "metadata": {
    "colab": {
     "base_uri": "https://localhost:8080/",
     "height": 17
    },
    "executionInfo": {
     "elapsed": 35,
     "status": "ok",
     "timestamp": 1756909682318,
     "user": {
      "displayName": "Runan",
      "userId": "04913747045734941455"
     },
     "user_tz": -120
    },
    "id": "QJM5QQbj4oVX",
    "outputId": "30152c9c-daa9-4840-b810-8bdea1c8a455"
   },
   "outputs": [
    {
     "data": {
      "text/html": [
       "\n",
       "            <style>\n",
       "                .geemap-dark {\n",
       "                    --jp-widgets-color: white;\n",
       "                    --jp-widgets-label-color: white;\n",
       "                    --jp-ui-font-color1: white;\n",
       "                    --jp-layout-color2: #454545;\n",
       "                    background-color: #383838;\n",
       "                }\n",
       "\n",
       "                .geemap-dark .jupyter-button {\n",
       "                    --jp-layout-color3: #383838;\n",
       "                }\n",
       "\n",
       "                .geemap-colab {\n",
       "                    background-color: var(--colab-primary-surface-color, white);\n",
       "                }\n",
       "\n",
       "                .geemap-colab .jupyter-button {\n",
       "                    --jp-layout-color3: var(--colab-primary-surface-color, white);\n",
       "                }\n",
       "            </style>\n",
       "            "
      ],
      "text/plain": [
       "<IPython.core.display.HTML object>"
      ]
     },
     "metadata": {},
     "output_type": "display_data"
    }
   ],
   "source": [
    "aoi = fire_gdf[fire_gdf.DECADES == \"2020-January 2025\"]"
   ]
  },
  {
   "cell_type": "code",
   "execution_count": 9,
   "id": "jdFD0cIDKHqq",
   "metadata": {
    "colab": {
     "base_uri": "https://localhost:8080/",
     "height": 17
    },
    "executionInfo": {
     "elapsed": 16,
     "status": "ok",
     "timestamp": 1756909684608,
     "user": {
      "displayName": "Runan",
      "userId": "04913747045734941455"
     },
     "user_tz": -120
    },
    "id": "jdFD0cIDKHqq",
    "outputId": "4157a824-91bf-4975-e97d-562cc8f1e247"
   },
   "outputs": [
    {
     "data": {
      "text/html": [
       "\n",
       "            <style>\n",
       "                .geemap-dark {\n",
       "                    --jp-widgets-color: white;\n",
       "                    --jp-widgets-label-color: white;\n",
       "                    --jp-ui-font-color1: white;\n",
       "                    --jp-layout-color2: #454545;\n",
       "                    background-color: #383838;\n",
       "                }\n",
       "\n",
       "                .geemap-dark .jupyter-button {\n",
       "                    --jp-layout-color3: #383838;\n",
       "                }\n",
       "\n",
       "                .geemap-colab {\n",
       "                    background-color: var(--colab-primary-surface-color, white);\n",
       "                }\n",
       "\n",
       "                .geemap-colab .jupyter-button {\n",
       "                    --jp-layout-color3: var(--colab-primary-surface-color, white);\n",
       "                }\n",
       "            </style>\n",
       "            "
      ],
      "text/plain": [
       "<IPython.core.display.HTML object>"
      ]
     },
     "metadata": {},
     "output_type": "display_data"
    }
   ],
   "source": [
    "aoi = gpd.GeoDataFrame(aoi)"
   ]
  },
  {
   "cell_type": "code",
   "execution_count": null,
   "id": "UbvAjJDkAIez",
   "metadata": {
    "colab": {
     "base_uri": "https://localhost:8080/",
     "height": 486
    },
    "executionInfo": {
     "elapsed": 48,
     "status": "ok",
     "timestamp": 1756908996344,
     "user": {
      "displayName": "Runan",
      "userId": "04913747045734941455"
     },
     "user_tz": -120
    },
    "id": "UbvAjJDkAIez",
    "outputId": "3d8ef743-2203-44ff-fe11-da401e77a398"
   },
   "outputs": [
    {
     "data": {
      "text/html": [
       "\n",
       "            <style>\n",
       "                .geemap-dark {\n",
       "                    --jp-widgets-color: white;\n",
       "                    --jp-widgets-label-color: white;\n",
       "                    --jp-ui-font-color1: white;\n",
       "                    --jp-layout-color2: #454545;\n",
       "                    background-color: #383838;\n",
       "                }\n",
       "\n",
       "                .geemap-dark .jupyter-button {\n",
       "                    --jp-layout-color3: #383838;\n",
       "                }\n",
       "\n",
       "                .geemap-colab {\n",
       "                    background-color: var(--colab-primary-surface-color, white);\n",
       "                }\n",
       "\n",
       "                .geemap-colab .jupyter-button {\n",
       "                    --jp-layout-color3: var(--colab-primary-surface-color, white);\n",
       "                }\n",
       "            </style>\n",
       "            "
      ],
      "text/plain": [
       "<IPython.core.display.HTML object>"
      ]
     },
     "metadata": {},
     "output_type": "display_data"
    },
    {
     "name": "stdout",
     "output_type": "stream",
     "text": [
      "<class 'geopandas.geodataframe.GeoDataFrame'>\n",
      "Index: 2036 entries, 0 to 2035\n",
      "Data columns (total 20 columns):\n",
      " #   Column        Non-Null Count  Dtype   \n",
      "---  ------        --------------  -----   \n",
      " 0   OBJECTID      2036 non-null   int32   \n",
      " 1   YEAR_         2036 non-null   float64 \n",
      " 2   STATE         2036 non-null   object  \n",
      " 3   AGENCY        2036 non-null   object  \n",
      " 4   UNIT_ID       2035 non-null   object  \n",
      " 5   FIRE_NAME     2036 non-null   object  \n",
      " 6   INC_NUM       2031 non-null   object  \n",
      " 7   ALARM_DATE    2036 non-null   object  \n",
      " 8   CONT_DATE     2022 non-null   object  \n",
      " 9   CAUSE         2036 non-null   int32   \n",
      " 10  C_METHOD      2036 non-null   float64 \n",
      " 11  OBJECTIVE     2003 non-null   float64 \n",
      " 12  GIS_ACRES     2036 non-null   float64 \n",
      " 13  COMMENTS      409 non-null    object  \n",
      " 14  COMPLEX_NAME  59 non-null     object  \n",
      " 15  IRWINID       1901 non-null   object  \n",
      " 16  FIRE_NUM      0 non-null      object  \n",
      " 17  COMPLEX_ID    55 non-null     object  \n",
      " 18  DECADES       2036 non-null   object  \n",
      " 19  geometry      2036 non-null   geometry\n",
      "dtypes: float64(4), geometry(1), int32(2), object(13)\n",
      "memory usage: 318.1+ KB\n"
     ]
    }
   ],
   "source": [
    "aoi.info()"
   ]
  },
  {
   "cell_type": "code",
   "execution_count": 10,
   "id": "vkgdN42T2kgM",
   "metadata": {
    "colab": {
     "base_uri": "https://localhost:8080/",
     "height": 17
    },
    "executionInfo": {
     "elapsed": 18620,
     "status": "ok",
     "timestamp": 1756909733181,
     "user": {
      "displayName": "Runan",
      "userId": "04913747045734941455"
     },
     "user_tz": -120
    },
    "id": "vkgdN42T2kgM",
    "outputId": "72482c1f-3129-4539-f9a8-b098362a9429"
   },
   "outputs": [
    {
     "data": {
      "text/html": [
       "\n",
       "            <style>\n",
       "                .geemap-dark {\n",
       "                    --jp-widgets-color: white;\n",
       "                    --jp-widgets-label-color: white;\n",
       "                    --jp-ui-font-color1: white;\n",
       "                    --jp-layout-color2: #454545;\n",
       "                    background-color: #383838;\n",
       "                }\n",
       "\n",
       "                .geemap-dark .jupyter-button {\n",
       "                    --jp-layout-color3: #383838;\n",
       "                }\n",
       "\n",
       "                .geemap-colab {\n",
       "                    background-color: var(--colab-primary-surface-color, white);\n",
       "                }\n",
       "\n",
       "                .geemap-colab .jupyter-button {\n",
       "                    --jp-layout-color3: var(--colab-primary-surface-color, white);\n",
       "                }\n",
       "            </style>\n",
       "            "
      ],
      "text/plain": [
       "<IPython.core.display.HTML object>"
      ]
     },
     "metadata": {},
     "output_type": "display_data"
    }
   ],
   "source": [
    "geojson = geojson.loads(aoi.to_json())"
   ]
  },
  {
   "cell_type": "code",
   "execution_count": 11,
   "id": "8WbPbC3J3ApH",
   "metadata": {
    "colab": {
     "base_uri": "https://localhost:8080/",
     "height": 447
    },
    "executionInfo": {
     "elapsed": 2669,
     "status": "ok",
     "timestamp": 1756909775274,
     "user": {
      "displayName": "Runan",
      "userId": "04913747045734941455"
     },
     "user_tz": -120
    },
    "id": "8WbPbC3J3ApH",
    "outputId": "520b77bf-1b96-44d5-e5fa-ec5edd3d806e"
   },
   "outputs": [
    {
     "data": {
      "text/html": [
       "\n",
       "            <style>\n",
       "                .geemap-dark {\n",
       "                    --jp-widgets-color: white;\n",
       "                    --jp-widgets-label-color: white;\n",
       "                    --jp-ui-font-color1: white;\n",
       "                    --jp-layout-color2: #454545;\n",
       "                    background-color: #383838;\n",
       "                }\n",
       "\n",
       "                .geemap-dark .jupyter-button {\n",
       "                    --jp-layout-color3: #383838;\n",
       "                }\n",
       "\n",
       "                .geemap-colab {\n",
       "                    background-color: var(--colab-primary-surface-color, white);\n",
       "                }\n",
       "\n",
       "                .geemap-colab .jupyter-button {\n",
       "                    --jp-layout-color3: var(--colab-primary-surface-color, white);\n",
       "                }\n",
       "            </style>\n",
       "            "
      ],
      "text/plain": [
       "<IPython.core.display.HTML object>"
      ]
     },
     "metadata": {},
     "output_type": "display_data"
    },
    {
     "data": {
      "text/plain": [
       "<AxesSubplot: >"
      ]
     },
     "execution_count": 11,
     "metadata": {},
     "output_type": "execute_result"
    },
    {
     "data": {
      "image/png": "[encoded data removed]",
      "text/plain": [
       "<Figure size 640x480 with 1 Axes>"
      ]
     },
     "metadata": {},
     "output_type": "display_data"
    }
   ],
   "source": [
    "aoi.geometry.plot()   ## 2020-2025"
   ]
  },
  {
   "cell_type": "code",
   "execution_count": 12,
   "id": "Ypjb7KGc7CAP",
   "metadata": {
    "colab": {
     "base_uri": "https://localhost:8080/",
     "height": 17
    },
    "executionInfo": {
     "elapsed": 26098,
     "status": "ok",
     "timestamp": 1756909904699,
     "user": {
      "displayName": "Runan",
      "userId": "04913747045734941455"
     },
     "user_tz": -120
    },
    "id": "Ypjb7KGc7CAP",
    "outputId": "edf41b1c-c1f7-4b9a-be6b-623c6d14e914"
   },
   "outputs": [
    {
     "data": {
      "text/html": [
       "\n",
       "            <style>\n",
       "                .geemap-dark {\n",
       "                    --jp-widgets-color: white;\n",
       "                    --jp-widgets-label-color: white;\n",
       "                    --jp-ui-font-color1: white;\n",
       "                    --jp-layout-color2: #454545;\n",
       "                    background-color: #383838;\n",
       "                }\n",
       "\n",
       "                .geemap-dark .jupyter-button {\n",
       "                    --jp-layout-color3: #383838;\n",
       "                }\n",
       "\n",
       "                .geemap-colab {\n",
       "                    background-color: var(--colab-primary-surface-color, white);\n",
       "                }\n",
       "\n",
       "                .geemap-colab .jupyter-button {\n",
       "                    --jp-layout-color3: var(--colab-primary-surface-color, white);\n",
       "                }\n",
       "            </style>\n",
       "            "
      ],
      "text/plain": [
       "<IPython.core.display.HTML object>"
      ]
     },
     "metadata": {},
     "output_type": "display_data"
    }
   ],
   "source": [
    "geom = geemap.geopandas_to_ee(aoi)"
   ]
  },
  {
   "cell_type": "markdown",
   "id": "DM4vkWQ3TeLF",
   "metadata": {
    "id": "DM4vkWQ3TeLF"
   },
   "source": [
    "#### Query ad filter image collections"
   ]
  },
  {
   "cell_type": "code",
   "execution_count": 24,
   "id": "qCfwOMH2Ty-b",
   "metadata": {
    "colab": {
     "base_uri": "https://localhost:8080/",
     "height": 17
    },
    "executionInfo": {
     "elapsed": 25,
     "status": "ok",
     "timestamp": 1756911069609,
     "user": {
      "displayName": "Runan",
      "userId": "04913747045734941455"
     },
     "user_tz": -120
    },
    "id": "qCfwOMH2Ty-b",
    "outputId": "b9daec4f-d29b-41b5-ffbf-aa4713eba00b"
   },
   "outputs": [
    {
     "data": {
      "text/html": [
       "\n",
       "            <style>\n",
       "                .geemap-dark {\n",
       "                    --jp-widgets-color: white;\n",
       "                    --jp-widgets-label-color: white;\n",
       "                    --jp-ui-font-color1: white;\n",
       "                    --jp-layout-color2: #454545;\n",
       "                    background-color: #383838;\n",
       "                }\n",
       "\n",
       "                .geemap-dark .jupyter-button {\n",
       "                    --jp-layout-color3: #383838;\n",
       "                }\n",
       "\n",
       "                .geemap-colab {\n",
       "                    background-color: var(--colab-primary-surface-color, white);\n",
       "                }\n",
       "\n",
       "                .geemap-colab .jupyter-button {\n",
       "                    --jp-layout-color3: var(--colab-primary-surface-color, white);\n",
       "                }\n",
       "            </style>\n",
       "            "
      ],
      "text/plain": [
       "<IPython.core.display.HTML object>"
      ]
     },
     "metadata": {},
     "output_type": "display_data"
    }
   ],
   "source": [
    "OUT_FOLDER = \"earthengine\"\n",
    "SCALE = 20\n",
    "MAX_PIXELS = 1e13\n",
    "PRE_DAYS_MIN = 30\n",
    "PRE_DAYS_MAX = 120\n",
    "POST_DAYS_AFTER_CONTAIN = 30\n",
    "CLOUD_THRESHOLD = 10"
   ]
  },
  {
   "cell_type": "code",
   "execution_count": 25,
   "id": "O69GfOLHVLUa",
   "metadata": {
    "colab": {
     "base_uri": "https://localhost:8080/",
     "height": 17
    },
    "executionInfo": {
     "elapsed": 66,
     "status": "ok",
     "timestamp": 1756911077449,
     "user": {
      "displayName": "Runan",
      "userId": "04913747045734941455"
     },
     "user_tz": -120
    },
    "id": "O69GfOLHVLUa",
    "outputId": "31936d31-5e5e-4a42-ff87-64e27cda2a49"
   },
   "outputs": [
    {
     "data": {
      "text/html": [
       "\n",
       "            <style>\n",
       "                .geemap-dark {\n",
       "                    --jp-widgets-color: white;\n",
       "                    --jp-widgets-label-color: white;\n",
       "                    --jp-ui-font-color1: white;\n",
       "                    --jp-layout-color2: #454545;\n",
       "                    background-color: #383838;\n",
       "                }\n",
       "\n",
       "                .geemap-dark .jupyter-button {\n",
       "                    --jp-layout-color3: #383838;\n",
       "                }\n",
       "\n",
       "                .geemap-colab {\n",
       "                    background-color: var(--colab-primary-surface-color, white);\n",
       "                }\n",
       "\n",
       "                .geemap-colab .jupyter-button {\n",
       "                    --jp-layout-color3: var(--colab-primary-surface-color, white);\n",
       "                }\n",
       "            </style>\n",
       "            "
      ],
      "text/plain": [
       "<IPython.core.display.HTML object>"
      ]
     },
     "metadata": {},
     "output_type": "display_data"
    }
   ],
   "source": [
    "def mask_s2_clouds(image):\n",
    "  \"\"\"Masks clouds in a Sentinel-2 image using the QA band.\n",
    "\n",
    "  Args:\n",
    "      image (ee.Image): A Sentinel-2 image.\n",
    "\n",
    "  Returns:\n",
    "      ee.Image: A cloud-masked Sentinel-2 image.\n",
    "  \"\"\"\n",
    "  qa = image.select('QA60')\n",
    "\n",
    "  # Bits 10 and 11 are clouds and cirrus, respectively.\n",
    "  cloud_bit_mask = 1 << 10\n",
    "  cirrus_bit_mask = 1 << 11\n",
    "\n",
    "  # Both flags should be set to zero, indicating clear conditions.\n",
    "  mask = (\n",
    "      qa.bitwiseAnd(cloud_bit_mask)\n",
    "      .eq(0)\n",
    "      .And(qa.bitwiseAnd(cirrus_bit_mask).eq(0))\n",
    "  )\n",
    "\n",
    "  return image.updateMask(mask).divide(10000)"
   ]
  },
  {
   "cell_type": "code",
   "execution_count": 26,
   "id": "8cSEtF1eoU43",
   "metadata": {
    "colab": {
     "base_uri": "https://localhost:8080/",
     "height": 17
    },
    "executionInfo": {
     "elapsed": 11,
     "status": "ok",
     "timestamp": 1756911080837,
     "user": {
      "displayName": "Runan",
      "userId": "04913747045734941455"
     },
     "user_tz": -120
    },
    "id": "8cSEtF1eoU43",
    "outputId": "69a97495-ab15-42e1-9140-8d4a90c58bdf"
   },
   "outputs": [
    {
     "data": {
      "text/html": [
       "\n",
       "            <style>\n",
       "                .geemap-dark {\n",
       "                    --jp-widgets-color: white;\n",
       "                    --jp-widgets-label-color: white;\n",
       "                    --jp-ui-font-color1: white;\n",
       "                    --jp-layout-color2: #454545;\n",
       "                    background-color: #383838;\n",
       "                }\n",
       "\n",
       "                .geemap-dark .jupyter-button {\n",
       "                    --jp-layout-color3: #383838;\n",
       "                }\n",
       "\n",
       "                .geemap-colab {\n",
       "                    background-color: var(--colab-primary-surface-color, white);\n",
       "                }\n",
       "\n",
       "                .geemap-colab .jupyter-button {\n",
       "                    --jp-layout-color3: var(--colab-primary-surface-color, white);\n",
       "                }\n",
       "            </style>\n",
       "            "
      ],
      "text/plain": [
       "<IPython.core.display.HTML object>"
      ]
     },
     "metadata": {},
     "output_type": "display_data"
    }
   ],
   "source": [
    "START_DATE = \"2024-01-01\"\n",
    "END_DATE = \"2025-09-01\"\n",
    "start = ee.Date(START_DATE)\n",
    "end = ee.Date(END_DATE)"
   ]
  },
  {
   "cell_type": "code",
   "execution_count": 31,
   "id": "OMr9wYD2Fkbz",
   "metadata": {
    "colab": {
     "base_uri": "https://localhost:8080/",
     "height": 17
    },
    "executionInfo": {
     "elapsed": 2874,
     "status": "ok",
     "timestamp": 1756911551439,
     "user": {
      "displayName": "Runan",
      "userId": "04913747045734941455"
     },
     "user_tz": -120
    },
    "id": "OMr9wYD2Fkbz",
    "outputId": "2ae137cb-0639-49e1-c1dc-b5db962d3ee8"
   },
   "outputs": [
    {
     "data": {
      "text/html": [
       "\n",
       "            <style>\n",
       "                .geemap-dark {\n",
       "                    --jp-widgets-color: white;\n",
       "                    --jp-widgets-label-color: white;\n",
       "                    --jp-ui-font-color1: white;\n",
       "                    --jp-layout-color2: #454545;\n",
       "                    background-color: #383838;\n",
       "                }\n",
       "\n",
       "                .geemap-dark .jupyter-button {\n",
       "                    --jp-layout-color3: #383838;\n",
       "                }\n",
       "\n",
       "                .geemap-colab {\n",
       "                    background-color: var(--colab-primary-surface-color, white);\n",
       "                }\n",
       "\n",
       "                .geemap-colab .jupyter-button {\n",
       "                    --jp-layout-color3: var(--colab-primary-surface-color, white);\n",
       "                }\n",
       "            </style>\n",
       "            "
      ],
      "text/plain": [
       "<IPython.core.display.HTML object>"
      ]
     },
     "metadata": {},
     "output_type": "display_data"
    }
   ],
   "source": [
    "perims = ee.FeatureCollection(geojson)"
   ]
  },
  {
   "cell_type": "code",
   "execution_count": 27,
   "id": "aqRJ1wdCDm8u",
   "metadata": {
    "colab": {
     "base_uri": "https://localhost:8080/",
     "height": 17
    },
    "executionInfo": {
     "elapsed": 921,
     "status": "ok",
     "timestamp": 1756911086014,
     "user": {
      "displayName": "Runan",
      "userId": "04913747045734941455"
     },
     "user_tz": -120
    },
    "id": "aqRJ1wdCDm8u",
    "outputId": "521d39e7-3811-4b68-ebb2-b0698e265369"
   },
   "outputs": [
    {
     "data": {
      "text/html": [
       "\n",
       "            <style>\n",
       "                .geemap-dark {\n",
       "                    --jp-widgets-color: white;\n",
       "                    --jp-widgets-label-color: white;\n",
       "                    --jp-ui-font-color1: white;\n",
       "                    --jp-layout-color2: #454545;\n",
       "                    background-color: #383838;\n",
       "                }\n",
       "\n",
       "                .geemap-dark .jupyter-button {\n",
       "                    --jp-layout-color3: #383838;\n",
       "                }\n",
       "\n",
       "                .geemap-colab {\n",
       "                    background-color: var(--colab-primary-surface-color, white);\n",
       "                }\n",
       "\n",
       "                .geemap-colab .jupyter-button {\n",
       "                    --jp-layout-color3: var(--colab-primary-surface-color, white);\n",
       "                }\n",
       "            </style>\n",
       "            "
      ],
      "text/plain": [
       "<IPython.core.display.HTML object>"
      ]
     },
     "metadata": {},
     "output_type": "display_data"
    }
   ],
   "source": [
    "AOI = ee.Geometry.BBoxFromQuery(\"California, United States\", user_agent = \"RS_course\")"
   ]
  },
  {
   "cell_type": "code",
   "execution_count": 29,
   "id": "zf6QPcoQVVXb",
   "metadata": {
    "colab": {
     "base_uri": "https://localhost:8080/",
     "height": 17
    },
    "executionInfo": {
     "elapsed": 60,
     "status": "ok",
     "timestamp": 1756911137386,
     "user": {
      "displayName": "Runan",
      "userId": "04913747045734941455"
     },
     "user_tz": -120
    },
    "id": "zf6QPcoQVVXb",
    "outputId": "6fdddf3e-cb36-4b6a-8932-3f62a9d6517f"
   },
   "outputs": [
    {
     "data": {
      "text/html": [
       "\n",
       "            <style>\n",
       "                .geemap-dark {\n",
       "                    --jp-widgets-color: white;\n",
       "                    --jp-widgets-label-color: white;\n",
       "                    --jp-ui-font-color1: white;\n",
       "                    --jp-layout-color2: #454545;\n",
       "                    background-color: #383838;\n",
       "                }\n",
       "\n",
       "                .geemap-dark .jupyter-button {\n",
       "                    --jp-layout-color3: #383838;\n",
       "                }\n",
       "\n",
       "                .geemap-colab {\n",
       "                    background-color: var(--colab-primary-surface-color, white);\n",
       "                }\n",
       "\n",
       "                .geemap-colab .jupyter-button {\n",
       "                    --jp-layout-color3: var(--colab-primary-surface-color, white);\n",
       "                }\n",
       "            </style>\n",
       "            "
      ],
      "text/plain": [
       "<IPython.core.display.HTML object>"
      ]
     },
     "metadata": {},
     "output_type": "display_data"
    }
   ],
   "source": [
    "collection = (\n",
    "    ee.ImageCollection('COPERNICUS/S2_SR_HARMONIZED')\n",
    "    .filterBounds(AOI)\n",
    "    .filterDate(start, end)\n",
    "    # Pre-filter to get less cloudy granules.\n",
    "    .filter(ee.Filter.lt('CLOUDY_PIXEL_PERCENTAGE', CLOUD_THRESHOLD))\n",
    "    .map(mask_s2_clouds)\n",
    ")"
   ]
  },
  {
   "cell_type": "code",
   "execution_count": 30,
   "id": "iW4MKfM1E5BP",
   "metadata": {
    "colab": {
     "base_uri": "https://localhost:8080/",
     "height": 17
    },
    "executionInfo": {
     "elapsed": 59,
     "status": "ok",
     "timestamp": 1756911347246,
     "user": {
      "displayName": "Runan",
      "userId": "04913747045734941455"
     },
     "user_tz": -120
    },
    "id": "iW4MKfM1E5BP",
    "outputId": "c4592a00-3547-4747-983f-01e0e40c057a"
   },
   "outputs": [
    {
     "data": {
      "text/html": [
       "\n",
       "            <style>\n",
       "                .geemap-dark {\n",
       "                    --jp-widgets-color: white;\n",
       "                    --jp-widgets-label-color: white;\n",
       "                    --jp-ui-font-color1: white;\n",
       "                    --jp-layout-color2: #454545;\n",
       "                    background-color: #383838;\n",
       "                }\n",
       "\n",
       "                .geemap-dark .jupyter-button {\n",
       "                    --jp-layout-color3: #383838;\n",
       "                }\n",
       "\n",
       "                .geemap-colab {\n",
       "                    background-color: var(--colab-primary-surface-color, white);\n",
       "                }\n",
       "\n",
       "                .geemap-colab .jupyter-button {\n",
       "                    --jp-layout-color3: var(--colab-primary-surface-color, white);\n",
       "                }\n",
       "            </style>\n",
       "            "
      ],
      "text/plain": [
       "<IPython.core.display.HTML object>"
      ]
     },
     "metadata": {},
     "output_type": "display_data"
    }
   ],
   "source": [
    "def get_monthly_composite(year, month, collection, AOI):\n",
    "    start = ee.Date.fromYMD(year, month, 1)\n",
    "    end = start.advance(1, 'month')\n",
    "\n",
    "    monthly_col = collection.filterDate(start, end)\n",
    "\n",
    "    # Take median to reduce cloud/shadow effects\n",
    "    monthly_img = monthly_col.median().clip(AOI)\n",
    "\n",
    "    return monthly_img"
   ]
  },
  {
   "cell_type": "code",
   "execution_count": 35,
   "id": "dwY5gGojE7fC",
   "metadata": {
    "colab": {
     "base_uri": "https://localhost:8080/",
     "height": 17
    },
    "executionInfo": {
     "elapsed": 56,
     "status": "ok",
     "timestamp": 1756911828626,
     "user": {
      "displayName": "Runan",
      "userId": "04913747045734941455"
     },
     "user_tz": -120
    },
    "id": "dwY5gGojE7fC",
    "outputId": "bb09888b-f484-4ec5-9fb1-b66db0e788c9"
   },
   "outputs": [
    {
     "data": {
      "text/html": [
       "\n",
       "            <style>\n",
       "                .geemap-dark {\n",
       "                    --jp-widgets-color: white;\n",
       "                    --jp-widgets-label-color: white;\n",
       "                    --jp-ui-font-color1: white;\n",
       "                    --jp-layout-color2: #454545;\n",
       "                    background-color: #383838;\n",
       "                }\n",
       "\n",
       "                .geemap-dark .jupyter-button {\n",
       "                    --jp-layout-color3: #383838;\n",
       "                }\n",
       "\n",
       "                .geemap-colab {\n",
       "                    background-color: var(--colab-primary-surface-color, white);\n",
       "                }\n",
       "\n",
       "                .geemap-colab .jupyter-button {\n",
       "                    --jp-layout-color3: var(--colab-primary-surface-color, white);\n",
       "                }\n",
       "            </style>\n",
       "            "
      ],
      "text/plain": [
       "<IPython.core.display.HTML object>"
      ]
     },
     "metadata": {},
     "output_type": "display_data"
    }
   ],
   "source": [
    "def get_month_mask(perims, start, end, AOI):\n",
    "    fires_in_month = perims.filter(\n",
    "        ee.Filter.And(\n",
    "            ee.Filter.gte('CONT_DATE_ISO', start),\n",
    "            ee.Filter.lt('CONT_DATE_ISO', end)\n",
    "        )\n",
    "    )\n",
    "    mask = ee.Image(0).byte().paint(fires_in_month, 1).clip(AOI)\n",
    "    return mask.rename('mask')"
   ]
  },
  {
   "cell_type": "code",
   "execution_count": 36,
   "id": "aUOSi93wFxTt",
   "metadata": {
    "colab": {
     "base_uri": "https://localhost:8080/",
     "height": 17
    },
    "executionInfo": {
     "elapsed": 28,
     "status": "ok",
     "timestamp": 1756911830077,
     "user": {
      "displayName": "Runan",
      "userId": "04913747045734941455"
     },
     "user_tz": -120
    },
    "id": "aUOSi93wFxTt",
    "outputId": "c0feccca-4f58-4e3d-fe8d-12089773d0f4"
   },
   "outputs": [
    {
     "data": {
      "text/html": [
       "\n",
       "            <style>\n",
       "                .geemap-dark {\n",
       "                    --jp-widgets-color: white;\n",
       "                    --jp-widgets-label-color: white;\n",
       "                    --jp-ui-font-color1: white;\n",
       "                    --jp-layout-color2: #454545;\n",
       "                    background-color: #383838;\n",
       "                }\n",
       "\n",
       "                .geemap-dark .jupyter-button {\n",
       "                    --jp-layout-color3: #383838;\n",
       "                }\n",
       "\n",
       "                .geemap-colab {\n",
       "                    background-color: var(--colab-primary-surface-color, white);\n",
       "                }\n",
       "\n",
       "                .geemap-colab .jupyter-button {\n",
       "                    --jp-layout-color3: var(--colab-primary-surface-color, white);\n",
       "                }\n",
       "            </style>\n",
       "            "
      ],
      "text/plain": [
       "<IPython.core.display.HTML object>"
      ]
     },
     "metadata": {},
     "output_type": "display_data"
    }
   ],
   "source": [
    "start = ee.Date('2024-01-01')\n",
    "end   = start.advance(1, 'month')\n",
    "\n",
    "monthly_img = get_monthly_composite(2024, 1, collection, AOI)\n",
    "mask = get_month_mask(perims, start, end, AOI)\n",
    "\n",
    "stack = monthly_img.addBands(mask)"
   ]
  },
  {
   "cell_type": "code",
   "execution_count": 37,
   "id": "kfZqUd0wGyuf",
   "metadata": {
    "colab": {
     "base_uri": "https://localhost:8080/",
     "height": 17
    },
    "executionInfo": {
     "elapsed": 77,
     "status": "ok",
     "timestamp": 1756911843922,
     "user": {
      "displayName": "Runan",
      "userId": "04913747045734941455"
     },
     "user_tz": -120
    },
    "id": "kfZqUd0wGyuf",
    "outputId": "24ef52a6-133e-41d9-8dae-ae34523d8bc0"
   },
   "outputs": [
    {
     "data": {
      "text/html": [
       "\n",
       "            <style>\n",
       "                .geemap-dark {\n",
       "                    --jp-widgets-color: white;\n",
       "                    --jp-widgets-label-color: white;\n",
       "                    --jp-ui-font-color1: white;\n",
       "                    --jp-layout-color2: #454545;\n",
       "                    background-color: #383838;\n",
       "                }\n",
       "\n",
       "                .geemap-dark .jupyter-button {\n",
       "                    --jp-layout-color3: #383838;\n",
       "                }\n",
       "\n",
       "                .geemap-colab {\n",
       "                    background-color: var(--colab-primary-surface-color, white);\n",
       "                }\n",
       "\n",
       "                .geemap-colab .jupyter-button {\n",
       "                    --jp-layout-color3: var(--colab-primary-surface-color, white);\n",
       "                }\n",
       "            </style>\n",
       "            "
      ],
      "text/plain": [
       "<IPython.core.display.HTML object>"
      ]
     },
     "metadata": {},
     "output_type": "display_data"
    }
   ],
   "source": [
    "nbr = monthly_img.normalizedDifference(['B8', 'B12']).rename('NBR')\n",
    "stack = stack.addBands(nbr)"
   ]
  },
  {
   "cell_type": "code",
   "execution_count": null,
   "id": "CfjT1_bPG2P-",
   "metadata": {
    "colab": {
     "base_uri": "https://localhost:8080/",
     "height": 17
    },
    "id": "CfjT1_bPG2P-",
    "outputId": "0f8b5a26-a10c-4f2c-b563-c0b334f832ab"
   },
   "outputs": [
    {
     "data": {
      "text/html": [
       "\n",
       "            <style>\n",
       "                .geemap-dark {\n",
       "                    --jp-widgets-color: white;\n",
       "                    --jp-widgets-label-color: white;\n",
       "                    --jp-ui-font-color1: white;\n",
       "                    --jp-layout-color2: #454545;\n",
       "                    background-color: #383838;\n",
       "                }\n",
       "\n",
       "                .geemap-dark .jupyter-button {\n",
       "                    --jp-layout-color3: #383838;\n",
       "                }\n",
       "\n",
       "                .geemap-colab {\n",
       "                    background-color: var(--colab-primary-surface-color, white);\n",
       "                }\n",
       "\n",
       "                .geemap-colab .jupyter-button {\n",
       "                    --jp-layout-color3: var(--colab-primary-surface-color, white);\n",
       "                }\n",
       "            </style>\n",
       "            "
      ],
      "text/plain": [
       "<IPython.core.display.HTML object>"
      ]
     },
     "metadata": {},
     "output_type": "display_data"
    }
   ],
   "source": [
    "task = ee.batch.Export.image.toDrive(\n",
    "    image=stack.toFloat(),\n",
    "    description='fire_segmentation_Jan2025',\n",
    "    folder='earthengine',\n",
    "    fileNamePrefix='fire_Jan2025',\n",
    "    region=AOI.bounds(),\n",
    "    scale=20,\n",
    "    maxPixels=1e13\n",
    ")\n",
    "task.start()\n"
   ]
  }
 ],
 "metadata": {
  "colab": {
   "provenance": []
  },
  "kernelspec": {
   "display_name": "helios_env",
   "language": "python",
   "name": "python3"
  },
  "language_info": {
   "codemirror_mode": {
    "name": "ipython",
    "version": 3
   },
   "file_extension": ".py",
   "mimetype": "text/x-python",
   "name": "python",
   "nbconvert_exporter": "python",
   "pygments_lexer": "ipython3",
   "version": "3.11.11"
  }
 },
 "nbformat": 4,
 "nbformat_minor": 5
}
